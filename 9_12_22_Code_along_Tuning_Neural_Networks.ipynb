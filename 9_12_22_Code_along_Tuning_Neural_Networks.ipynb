{
  "nbformat": 4,
  "nbformat_minor": 0,
  "metadata": {
    "colab": {
      "provenance": [],
      "include_colab_link": true
    },
    "kernelspec": {
      "name": "python3",
      "display_name": "Python 3"
    },
    "language_info": {
      "name": "python"
    }
  },
  "cells": [
    {
      "cell_type": "markdown",
      "metadata": {
        "id": "view-in-github",
        "colab_type": "text"
      },
      "source": [
        "<a href=\"https://colab.research.google.com/github/dmburns1729/Class-Files/blob/main/9_12_22_Code_along_Tuning_Neural_Networks.ipynb\" target=\"_parent\"><img src=\"https://colab.research.google.com/assets/colab-badge.svg\" alt=\"Open In Colab\"/></a>"
      ]
    },
    {
      "cell_type": "markdown",
      "metadata": {
        "id": "AGKAZlCh02cl"
      },
      "source": [
        "# Tuning Neural Networking in Keras"
      ]
    },
    {
      "cell_type": "markdown",
      "metadata": {
        "id": "OStduN-207_9"
      },
      "source": [
        "We will use the version of Keras that comes in the Tensorflow package, as it has the most up to date tools.\n",
        "\n",
        "Keras works as weapper for deep learning model to be used as classification or regression estimators in sklearn"
      ]
    },
    {
      "cell_type": "code",
      "metadata": {
        "id": "Zw6CH1mp0zR4"
      },
      "source": [
        "import pandas as pd\n",
        "import numpy as np\n",
        "\n",
        "import matplotlib.pyplot as plt\n",
        "from seaborn import heatmap\n",
        "\n",
        "from sklearn.metrics import mean_squared_error, mean_absolute_error, r2_score, \\\n",
        "classification_report, ConfusionMatrixDisplay\n",
        "from sklearn.preprocessing import MinMaxScaler\n",
        "from sklearn.model_selection import train_test_split\n",
        "\n",
        "# new libraries\n",
        "import tensorflow.keras as keras\n",
        "from keras.models import Sequential\n",
        "from keras.layers import Dense, Dropout"
      ],
      "execution_count": null,
      "outputs": []
    },
    {
      "cell_type": "markdown",
      "metadata": {
        "id": "e5pga5rHChPu"
      },
      "source": [
        "### Plot History\n",
        "\n",
        "Since we will be plotting histories for all of our models, lets create a function to do it quickly."
      ]
    },
    {
      "cell_type": "code",
      "source": [
        "def plot_history(history):\n",
        "  \"\"\"Takes a keras model learning history and plots each metric\"\"\"\n",
        "\n",
        "  metrics = history.history.keys()\n",
        "\n",
        "  for metric in metrics:\n",
        "      if not 'val' in metric:\n",
        "        plt.plot(history.history[f'{metric}'], label=f'{metric}')\n",
        "        if f'val_{metric}' in metrics:\n",
        "          plt.plot(history.history[f'val_{metric}'], label=f'val_{metric}')\n",
        "        plt.legend()\n",
        "        plt.title(f'{metric}')\n",
        "        plt.show()"
      ],
      "metadata": {
        "id": "4Vj7CBZJKJVh"
      },
      "execution_count": null,
      "outputs": []
    },
    {
      "cell_type": "markdown",
      "metadata": {
        "id": "RAUUTWm93ojP"
      },
      "source": [
        "# Data\n",
        "\n",
        "We will be working with 2 different datasets in this project, 1 is a regression dataset and the other is a classification dataset.  This way you can practice doing both using deep learning.\n",
        "\n",
        "**NOTE**\n",
        "\n",
        "These datasets are very small for deep learning.  Deep learning models usually work best with very large datasets with at least 10,000 or more samples.  They work best on even larger datasets than that.  But, for demonstration we will use these smaller datasets.\n",
        "\n",
        "## Regression\n",
        "This is a dataset of housing prices in Boston from 1978.  Each row is a house and the dataset includes several features regarding each house.  Our target today will be the price of the home.\n",
        "\n"
      ]
    },
    {
      "cell_type": "code",
      "metadata": {
        "id": "8_PM7Bt81FKh"
      },
      "source": [
        "regression_df = pd.read_csv('https://raw.githubusercontent.com/ninja-josh/image-storage/main/Boston_Housing_from_Sklearn.csv')"
      ],
      "execution_count": null,
      "outputs": []
    },
    {
      "cell_type": "markdown",
      "metadata": {
        "id": "1YPAPvdG6Sqy"
      },
      "source": [
        "# Regression\n",
        "\n",
        "Let's start with modeling the regression dataset"
      ]
    },
    {
      "cell_type": "code",
      "metadata": {
        "id": "3STtBugN3fp1",
        "colab": {
          "base_uri": "https://localhost:8080/",
          "height": 423
        },
        "outputId": "09b66a11-81ba-4c79-d844-d5d2dda8cdf0"
      },
      "source": [
        "regression_df"
      ],
      "execution_count": null,
      "outputs": [
        {
          "output_type": "execute_result",
          "data": {
            "text/plain": [
              "        CRIM    NOX     RM   AGE  PTRATIO  LSTAT  PRICE\n",
              "0    0.00632  0.538  6.575  65.2     15.3   4.98   24.0\n",
              "1    0.02731  0.469  6.421  78.9     17.8   9.14   21.6\n",
              "2    0.02729  0.469  7.185  61.1     17.8   4.03   34.7\n",
              "3    0.03237  0.458  6.998  45.8     18.7   2.94   33.4\n",
              "4    0.06905  0.458  7.147  54.2     18.7   5.33   36.2\n",
              "..       ...    ...    ...   ...      ...    ...    ...\n",
              "501  0.06263  0.573  6.593  69.1     21.0   9.67   22.4\n",
              "502  0.04527  0.573  6.120  76.7     21.0   9.08   20.6\n",
              "503  0.06076  0.573  6.976  91.0     21.0   5.64   23.9\n",
              "504  0.10959  0.573  6.794  89.3     21.0   6.48   22.0\n",
              "505  0.04741  0.573  6.030  80.8     21.0   7.88   11.9\n",
              "\n",
              "[506 rows x 7 columns]"
            ],
            "text/html": [
              "\n",
              "  <div id=\"df-c8d0049b-4912-4b8c-9c10-1ff1f893b1f4\">\n",
              "    <div class=\"colab-df-container\">\n",
              "      <div>\n",
              "<style scoped>\n",
              "    .dataframe tbody tr th:only-of-type {\n",
              "        vertical-align: middle;\n",
              "    }\n",
              "\n",
              "    .dataframe tbody tr th {\n",
              "        vertical-align: top;\n",
              "    }\n",
              "\n",
              "    .dataframe thead th {\n",
              "        text-align: right;\n",
              "    }\n",
              "</style>\n",
              "<table border=\"1\" class=\"dataframe\">\n",
              "  <thead>\n",
              "    <tr style=\"text-align: right;\">\n",
              "      <th></th>\n",
              "      <th>CRIM</th>\n",
              "      <th>NOX</th>\n",
              "      <th>RM</th>\n",
              "      <th>AGE</th>\n",
              "      <th>PTRATIO</th>\n",
              "      <th>LSTAT</th>\n",
              "      <th>PRICE</th>\n",
              "    </tr>\n",
              "  </thead>\n",
              "  <tbody>\n",
              "    <tr>\n",
              "      <th>0</th>\n",
              "      <td>0.00632</td>\n",
              "      <td>0.538</td>\n",
              "      <td>6.575</td>\n",
              "      <td>65.2</td>\n",
              "      <td>15.3</td>\n",
              "      <td>4.98</td>\n",
              "      <td>24.0</td>\n",
              "    </tr>\n",
              "    <tr>\n",
              "      <th>1</th>\n",
              "      <td>0.02731</td>\n",
              "      <td>0.469</td>\n",
              "      <td>6.421</td>\n",
              "      <td>78.9</td>\n",
              "      <td>17.8</td>\n",
              "      <td>9.14</td>\n",
              "      <td>21.6</td>\n",
              "    </tr>\n",
              "    <tr>\n",
              "      <th>2</th>\n",
              "      <td>0.02729</td>\n",
              "      <td>0.469</td>\n",
              "      <td>7.185</td>\n",
              "      <td>61.1</td>\n",
              "      <td>17.8</td>\n",
              "      <td>4.03</td>\n",
              "      <td>34.7</td>\n",
              "    </tr>\n",
              "    <tr>\n",
              "      <th>3</th>\n",
              "      <td>0.03237</td>\n",
              "      <td>0.458</td>\n",
              "      <td>6.998</td>\n",
              "      <td>45.8</td>\n",
              "      <td>18.7</td>\n",
              "      <td>2.94</td>\n",
              "      <td>33.4</td>\n",
              "    </tr>\n",
              "    <tr>\n",
              "      <th>4</th>\n",
              "      <td>0.06905</td>\n",
              "      <td>0.458</td>\n",
              "      <td>7.147</td>\n",
              "      <td>54.2</td>\n",
              "      <td>18.7</td>\n",
              "      <td>5.33</td>\n",
              "      <td>36.2</td>\n",
              "    </tr>\n",
              "    <tr>\n",
              "      <th>...</th>\n",
              "      <td>...</td>\n",
              "      <td>...</td>\n",
              "      <td>...</td>\n",
              "      <td>...</td>\n",
              "      <td>...</td>\n",
              "      <td>...</td>\n",
              "      <td>...</td>\n",
              "    </tr>\n",
              "    <tr>\n",
              "      <th>501</th>\n",
              "      <td>0.06263</td>\n",
              "      <td>0.573</td>\n",
              "      <td>6.593</td>\n",
              "      <td>69.1</td>\n",
              "      <td>21.0</td>\n",
              "      <td>9.67</td>\n",
              "      <td>22.4</td>\n",
              "    </tr>\n",
              "    <tr>\n",
              "      <th>502</th>\n",
              "      <td>0.04527</td>\n",
              "      <td>0.573</td>\n",
              "      <td>6.120</td>\n",
              "      <td>76.7</td>\n",
              "      <td>21.0</td>\n",
              "      <td>9.08</td>\n",
              "      <td>20.6</td>\n",
              "    </tr>\n",
              "    <tr>\n",
              "      <th>503</th>\n",
              "      <td>0.06076</td>\n",
              "      <td>0.573</td>\n",
              "      <td>6.976</td>\n",
              "      <td>91.0</td>\n",
              "      <td>21.0</td>\n",
              "      <td>5.64</td>\n",
              "      <td>23.9</td>\n",
              "    </tr>\n",
              "    <tr>\n",
              "      <th>504</th>\n",
              "      <td>0.10959</td>\n",
              "      <td>0.573</td>\n",
              "      <td>6.794</td>\n",
              "      <td>89.3</td>\n",
              "      <td>21.0</td>\n",
              "      <td>6.48</td>\n",
              "      <td>22.0</td>\n",
              "    </tr>\n",
              "    <tr>\n",
              "      <th>505</th>\n",
              "      <td>0.04741</td>\n",
              "      <td>0.573</td>\n",
              "      <td>6.030</td>\n",
              "      <td>80.8</td>\n",
              "      <td>21.0</td>\n",
              "      <td>7.88</td>\n",
              "      <td>11.9</td>\n",
              "    </tr>\n",
              "  </tbody>\n",
              "</table>\n",
              "<p>506 rows × 7 columns</p>\n",
              "</div>\n",
              "      <button class=\"colab-df-convert\" onclick=\"convertToInteractive('df-c8d0049b-4912-4b8c-9c10-1ff1f893b1f4')\"\n",
              "              title=\"Convert this dataframe to an interactive table.\"\n",
              "              style=\"display:none;\">\n",
              "        \n",
              "  <svg xmlns=\"http://www.w3.org/2000/svg\" height=\"24px\"viewBox=\"0 0 24 24\"\n",
              "       width=\"24px\">\n",
              "    <path d=\"M0 0h24v24H0V0z\" fill=\"none\"/>\n",
              "    <path d=\"M18.56 5.44l.94 2.06.94-2.06 2.06-.94-2.06-.94-.94-2.06-.94 2.06-2.06.94zm-11 1L8.5 8.5l.94-2.06 2.06-.94-2.06-.94L8.5 2.5l-.94 2.06-2.06.94zm10 10l.94 2.06.94-2.06 2.06-.94-2.06-.94-.94-2.06-.94 2.06-2.06.94z\"/><path d=\"M17.41 7.96l-1.37-1.37c-.4-.4-.92-.59-1.43-.59-.52 0-1.04.2-1.43.59L10.3 9.45l-7.72 7.72c-.78.78-.78 2.05 0 2.83L4 21.41c.39.39.9.59 1.41.59.51 0 1.02-.2 1.41-.59l7.78-7.78 2.81-2.81c.8-.78.8-2.07 0-2.86zM5.41 20L4 18.59l7.72-7.72 1.47 1.35L5.41 20z\"/>\n",
              "  </svg>\n",
              "      </button>\n",
              "      \n",
              "  <style>\n",
              "    .colab-df-container {\n",
              "      display:flex;\n",
              "      flex-wrap:wrap;\n",
              "      gap: 12px;\n",
              "    }\n",
              "\n",
              "    .colab-df-convert {\n",
              "      background-color: #E8F0FE;\n",
              "      border: none;\n",
              "      border-radius: 50%;\n",
              "      cursor: pointer;\n",
              "      display: none;\n",
              "      fill: #1967D2;\n",
              "      height: 32px;\n",
              "      padding: 0 0 0 0;\n",
              "      width: 32px;\n",
              "    }\n",
              "\n",
              "    .colab-df-convert:hover {\n",
              "      background-color: #E2EBFA;\n",
              "      box-shadow: 0px 1px 2px rgba(60, 64, 67, 0.3), 0px 1px 3px 1px rgba(60, 64, 67, 0.15);\n",
              "      fill: #174EA6;\n",
              "    }\n",
              "\n",
              "    [theme=dark] .colab-df-convert {\n",
              "      background-color: #3B4455;\n",
              "      fill: #D2E3FC;\n",
              "    }\n",
              "\n",
              "    [theme=dark] .colab-df-convert:hover {\n",
              "      background-color: #434B5C;\n",
              "      box-shadow: 0px 1px 3px 1px rgba(0, 0, 0, 0.15);\n",
              "      filter: drop-shadow(0px 1px 2px rgba(0, 0, 0, 0.3));\n",
              "      fill: #FFFFFF;\n",
              "    }\n",
              "  </style>\n",
              "\n",
              "      <script>\n",
              "        const buttonEl =\n",
              "          document.querySelector('#df-c8d0049b-4912-4b8c-9c10-1ff1f893b1f4 button.colab-df-convert');\n",
              "        buttonEl.style.display =\n",
              "          google.colab.kernel.accessAllowed ? 'block' : 'none';\n",
              "\n",
              "        async function convertToInteractive(key) {\n",
              "          const element = document.querySelector('#df-c8d0049b-4912-4b8c-9c10-1ff1f893b1f4');\n",
              "          const dataTable =\n",
              "            await google.colab.kernel.invokeFunction('convertToInteractive',\n",
              "                                                     [key], {});\n",
              "          if (!dataTable) return;\n",
              "\n",
              "          const docLinkHtml = 'Like what you see? Visit the ' +\n",
              "            '<a target=\"_blank\" href=https://colab.research.google.com/notebooks/data_table.ipynb>data table notebook</a>'\n",
              "            + ' to learn more about interactive tables.';\n",
              "          element.innerHTML = '';\n",
              "          dataTable['output_type'] = 'display_data';\n",
              "          await google.colab.output.renderOutput(dataTable, element);\n",
              "          const docLink = document.createElement('div');\n",
              "          docLink.innerHTML = docLinkHtml;\n",
              "          element.appendChild(docLink);\n",
              "        }\n",
              "      </script>\n",
              "    </div>\n",
              "  </div>\n",
              "  "
            ]
          },
          "metadata": {},
          "execution_count": 4
        }
      ]
    },
    {
      "cell_type": "code",
      "metadata": {
        "id": "uvcvdJUZ6YKX",
        "colab": {
          "base_uri": "https://localhost:8080/"
        },
        "outputId": "85cc9c0c-1cdf-4128-8784-3887b0139030"
      },
      "source": [
        "regression_df.duplicated().any()"
      ],
      "execution_count": null,
      "outputs": [
        {
          "output_type": "execute_result",
          "data": {
            "text/plain": [
              "False"
            ]
          },
          "metadata": {},
          "execution_count": 5
        }
      ]
    },
    {
      "cell_type": "code",
      "metadata": {
        "id": "IrxmHTaU6s3N",
        "colab": {
          "base_uri": "https://localhost:8080/",
          "height": 300
        },
        "outputId": "8687d0b7-8ed9-4941-c34f-18585965ce0b"
      },
      "source": [
        "regression_df.describe()"
      ],
      "execution_count": null,
      "outputs": [
        {
          "output_type": "execute_result",
          "data": {
            "text/plain": [
              "             CRIM         NOX          RM         AGE     PTRATIO       LSTAT  \\\n",
              "count  506.000000  506.000000  506.000000  506.000000  506.000000  506.000000   \n",
              "mean     3.613524    0.554695    6.284634   68.574901   18.455534   12.653063   \n",
              "std      8.601545    0.115878    0.702617   28.148861    2.164946    7.141062   \n",
              "min      0.006320    0.385000    3.561000    2.900000   12.600000    1.730000   \n",
              "25%      0.082045    0.449000    5.885500   45.025000   17.400000    6.950000   \n",
              "50%      0.256510    0.538000    6.208500   77.500000   19.050000   11.360000   \n",
              "75%      3.677083    0.624000    6.623500   94.075000   20.200000   16.955000   \n",
              "max     88.976200    0.871000    8.780000  100.000000   22.000000   37.970000   \n",
              "\n",
              "            PRICE  \n",
              "count  506.000000  \n",
              "mean    22.532806  \n",
              "std      9.197104  \n",
              "min      5.000000  \n",
              "25%     17.025000  \n",
              "50%     21.200000  \n",
              "75%     25.000000  \n",
              "max     50.000000  "
            ],
            "text/html": [
              "\n",
              "  <div id=\"df-1f8d92cf-1b13-4e03-9de0-a2e39f8073fc\">\n",
              "    <div class=\"colab-df-container\">\n",
              "      <div>\n",
              "<style scoped>\n",
              "    .dataframe tbody tr th:only-of-type {\n",
              "        vertical-align: middle;\n",
              "    }\n",
              "\n",
              "    .dataframe tbody tr th {\n",
              "        vertical-align: top;\n",
              "    }\n",
              "\n",
              "    .dataframe thead th {\n",
              "        text-align: right;\n",
              "    }\n",
              "</style>\n",
              "<table border=\"1\" class=\"dataframe\">\n",
              "  <thead>\n",
              "    <tr style=\"text-align: right;\">\n",
              "      <th></th>\n",
              "      <th>CRIM</th>\n",
              "      <th>NOX</th>\n",
              "      <th>RM</th>\n",
              "      <th>AGE</th>\n",
              "      <th>PTRATIO</th>\n",
              "      <th>LSTAT</th>\n",
              "      <th>PRICE</th>\n",
              "    </tr>\n",
              "  </thead>\n",
              "  <tbody>\n",
              "    <tr>\n",
              "      <th>count</th>\n",
              "      <td>506.000000</td>\n",
              "      <td>506.000000</td>\n",
              "      <td>506.000000</td>\n",
              "      <td>506.000000</td>\n",
              "      <td>506.000000</td>\n",
              "      <td>506.000000</td>\n",
              "      <td>506.000000</td>\n",
              "    </tr>\n",
              "    <tr>\n",
              "      <th>mean</th>\n",
              "      <td>3.613524</td>\n",
              "      <td>0.554695</td>\n",
              "      <td>6.284634</td>\n",
              "      <td>68.574901</td>\n",
              "      <td>18.455534</td>\n",
              "      <td>12.653063</td>\n",
              "      <td>22.532806</td>\n",
              "    </tr>\n",
              "    <tr>\n",
              "      <th>std</th>\n",
              "      <td>8.601545</td>\n",
              "      <td>0.115878</td>\n",
              "      <td>0.702617</td>\n",
              "      <td>28.148861</td>\n",
              "      <td>2.164946</td>\n",
              "      <td>7.141062</td>\n",
              "      <td>9.197104</td>\n",
              "    </tr>\n",
              "    <tr>\n",
              "      <th>min</th>\n",
              "      <td>0.006320</td>\n",
              "      <td>0.385000</td>\n",
              "      <td>3.561000</td>\n",
              "      <td>2.900000</td>\n",
              "      <td>12.600000</td>\n",
              "      <td>1.730000</td>\n",
              "      <td>5.000000</td>\n",
              "    </tr>\n",
              "    <tr>\n",
              "      <th>25%</th>\n",
              "      <td>0.082045</td>\n",
              "      <td>0.449000</td>\n",
              "      <td>5.885500</td>\n",
              "      <td>45.025000</td>\n",
              "      <td>17.400000</td>\n",
              "      <td>6.950000</td>\n",
              "      <td>17.025000</td>\n",
              "    </tr>\n",
              "    <tr>\n",
              "      <th>50%</th>\n",
              "      <td>0.256510</td>\n",
              "      <td>0.538000</td>\n",
              "      <td>6.208500</td>\n",
              "      <td>77.500000</td>\n",
              "      <td>19.050000</td>\n",
              "      <td>11.360000</td>\n",
              "      <td>21.200000</td>\n",
              "    </tr>\n",
              "    <tr>\n",
              "      <th>75%</th>\n",
              "      <td>3.677083</td>\n",
              "      <td>0.624000</td>\n",
              "      <td>6.623500</td>\n",
              "      <td>94.075000</td>\n",
              "      <td>20.200000</td>\n",
              "      <td>16.955000</td>\n",
              "      <td>25.000000</td>\n",
              "    </tr>\n",
              "    <tr>\n",
              "      <th>max</th>\n",
              "      <td>88.976200</td>\n",
              "      <td>0.871000</td>\n",
              "      <td>8.780000</td>\n",
              "      <td>100.000000</td>\n",
              "      <td>22.000000</td>\n",
              "      <td>37.970000</td>\n",
              "      <td>50.000000</td>\n",
              "    </tr>\n",
              "  </tbody>\n",
              "</table>\n",
              "</div>\n",
              "      <button class=\"colab-df-convert\" onclick=\"convertToInteractive('df-1f8d92cf-1b13-4e03-9de0-a2e39f8073fc')\"\n",
              "              title=\"Convert this dataframe to an interactive table.\"\n",
              "              style=\"display:none;\">\n",
              "        \n",
              "  <svg xmlns=\"http://www.w3.org/2000/svg\" height=\"24px\"viewBox=\"0 0 24 24\"\n",
              "       width=\"24px\">\n",
              "    <path d=\"M0 0h24v24H0V0z\" fill=\"none\"/>\n",
              "    <path d=\"M18.56 5.44l.94 2.06.94-2.06 2.06-.94-2.06-.94-.94-2.06-.94 2.06-2.06.94zm-11 1L8.5 8.5l.94-2.06 2.06-.94-2.06-.94L8.5 2.5l-.94 2.06-2.06.94zm10 10l.94 2.06.94-2.06 2.06-.94-2.06-.94-.94-2.06-.94 2.06-2.06.94z\"/><path d=\"M17.41 7.96l-1.37-1.37c-.4-.4-.92-.59-1.43-.59-.52 0-1.04.2-1.43.59L10.3 9.45l-7.72 7.72c-.78.78-.78 2.05 0 2.83L4 21.41c.39.39.9.59 1.41.59.51 0 1.02-.2 1.41-.59l7.78-7.78 2.81-2.81c.8-.78.8-2.07 0-2.86zM5.41 20L4 18.59l7.72-7.72 1.47 1.35L5.41 20z\"/>\n",
              "  </svg>\n",
              "      </button>\n",
              "      \n",
              "  <style>\n",
              "    .colab-df-container {\n",
              "      display:flex;\n",
              "      flex-wrap:wrap;\n",
              "      gap: 12px;\n",
              "    }\n",
              "\n",
              "    .colab-df-convert {\n",
              "      background-color: #E8F0FE;\n",
              "      border: none;\n",
              "      border-radius: 50%;\n",
              "      cursor: pointer;\n",
              "      display: none;\n",
              "      fill: #1967D2;\n",
              "      height: 32px;\n",
              "      padding: 0 0 0 0;\n",
              "      width: 32px;\n",
              "    }\n",
              "\n",
              "    .colab-df-convert:hover {\n",
              "      background-color: #E2EBFA;\n",
              "      box-shadow: 0px 1px 2px rgba(60, 64, 67, 0.3), 0px 1px 3px 1px rgba(60, 64, 67, 0.15);\n",
              "      fill: #174EA6;\n",
              "    }\n",
              "\n",
              "    [theme=dark] .colab-df-convert {\n",
              "      background-color: #3B4455;\n",
              "      fill: #D2E3FC;\n",
              "    }\n",
              "\n",
              "    [theme=dark] .colab-df-convert:hover {\n",
              "      background-color: #434B5C;\n",
              "      box-shadow: 0px 1px 3px 1px rgba(0, 0, 0, 0.15);\n",
              "      filter: drop-shadow(0px 1px 2px rgba(0, 0, 0, 0.3));\n",
              "      fill: #FFFFFF;\n",
              "    }\n",
              "  </style>\n",
              "\n",
              "      <script>\n",
              "        const buttonEl =\n",
              "          document.querySelector('#df-1f8d92cf-1b13-4e03-9de0-a2e39f8073fc button.colab-df-convert');\n",
              "        buttonEl.style.display =\n",
              "          google.colab.kernel.accessAllowed ? 'block' : 'none';\n",
              "\n",
              "        async function convertToInteractive(key) {\n",
              "          const element = document.querySelector('#df-1f8d92cf-1b13-4e03-9de0-a2e39f8073fc');\n",
              "          const dataTable =\n",
              "            await google.colab.kernel.invokeFunction('convertToInteractive',\n",
              "                                                     [key], {});\n",
              "          if (!dataTable) return;\n",
              "\n",
              "          const docLinkHtml = 'Like what you see? Visit the ' +\n",
              "            '<a target=\"_blank\" href=https://colab.research.google.com/notebooks/data_table.ipynb>data table notebook</a>'\n",
              "            + ' to learn more about interactive tables.';\n",
              "          element.innerHTML = '';\n",
              "          dataTable['output_type'] = 'display_data';\n",
              "          await google.colab.output.renderOutput(dataTable, element);\n",
              "          const docLink = document.createElement('div');\n",
              "          docLink.innerHTML = docLinkHtml;\n",
              "          element.appendChild(docLink);\n",
              "        }\n",
              "      </script>\n",
              "    </div>\n",
              "  </div>\n",
              "  "
            ]
          },
          "metadata": {},
          "execution_count": 6
        }
      ]
    },
    {
      "cell_type": "code",
      "metadata": {
        "id": "rU0zM_dk6xDd"
      },
      "source": [
        "# Define X and Y and complete the train test split\n",
        "X = regression_df.drop(columns = 'PRICE')\n",
        "y = regression_df['PRICE']\n",
        "\n",
        "X_train, X_test, y_train, y_test = train_test_split(X,y, random_state = 42)"
      ],
      "execution_count": null,
      "outputs": []
    },
    {
      "cell_type": "markdown",
      "metadata": {
        "id": "MqS765vN8Xti"
      },
      "source": [
        "## Scaling\n",
        "\n",
        "Always scale your data for deep learning.  Otherwise you get a problem call 'Exploding Weights'.  Some weights will be updated much faster than others because the inputs are at larger scales.  This tends to hurt learning as data on smaller scales does not update as fast and doesn't get to contribute as much to the decision making process.  By scaling we put all features on the same footing."
      ]
    },
    {
      "cell_type": "code",
      "metadata": {
        "id": "bvCCtAhQ7gGe"
      },
      "source": [
        "# Scale the data\n",
        "scaler = MinMaxScaler()\n",
        "\n",
        "scaler.fit(X_train)\n",
        "X_train = scaler.transform(X_train)\n",
        "X_test = scaler.transform(X_test)"
      ],
      "execution_count": null,
      "outputs": []
    },
    {
      "cell_type": "markdown",
      "metadata": {
        "id": "BzX4RBcu8TFx"
      },
      "source": [
        "## First Simple Model\n",
        "\n",
        "We always want to start simple, as deep learning models can get very complex fast and more complex models take more time to train and are more prone to overfitting.  A well performing simple model is better than a well performing complex model.\n",
        "\n",
        "## Input layer\n",
        "The first layer we will define is not technically the input layer.  We will define the first hidden layer with a special argument that tells Keras how to create a input layer:\n",
        "\n",
        "`input_dim=`\n",
        "\n",
        "Input layers can also be defined manually using tensorflow.keras.layers.InputLayer\n",
        "\n",
        "## Activation function\n",
        "\n",
        "For the single hidden layer we will try just 3 nodes and use a ReLU activation.  ReLUs tend to perform well for hidden nodes.\n",
        "\n",
        "## Output Layer\n",
        "\n",
        "For out output layer (last layer) we just use one node because we only want the output of the model to be one number.  We will use a linear activation function.  This will simply output the value from the weights and bias in the node with no change.  The output will be a continuous number, a float.  This will make our model a regression model.\n",
        "\n",
        "\n"
      ]
    },
    {
      "cell_type": "code",
      "source": [
        "# Check the shape of input\n",
        "\n",
        "X_train.shape[1]"
      ],
      "metadata": {
        "id": "DfYhlMbBwZcQ",
        "colab": {
          "base_uri": "https://localhost:8080/"
        },
        "outputId": "0cef0044-01d7-4673-f37f-332fd73d5a69"
      },
      "execution_count": null,
      "outputs": [
        {
          "output_type": "execute_result",
          "data": {
            "text/plain": [
              "6"
            ]
          },
          "metadata": {},
          "execution_count": 9
        }
      ]
    },
    {
      "cell_type": "code",
      "metadata": {
        "id": "AnjwY1dz7vcG",
        "colab": {
          "base_uri": "https://localhost:8080/"
        },
        "outputId": "e7733112-a2b2-4fe3-c850-7299ab352ef7"
      },
      "source": [
        "# Instantiate your sequential model\n",
        "\n",
        "reg_model = Sequential()\n",
        "# use all features as input using input_dim\n",
        "input_dim = X_train.shape[1]\n",
        "\n",
        "# Add first hidden layer\n",
        "reg_model.add(Dense(10, activation='relu', input_dim=input_dim, name='h1'))\n",
        "reg_model.add(Dense(10, activation='relu', name='h2'))\n",
        "# Add output layer with 1 node\n",
        "reg_model.add(Dense(1, activation='linear', name ='output'))\n",
        "\n",
        "\n",
        "# Check summary of network\n",
        "reg_model.summary()\n",
        "\n"
      ],
      "execution_count": null,
      "outputs": [
        {
          "output_type": "stream",
          "name": "stdout",
          "text": [
            "Model: \"sequential\"\n",
            "_________________________________________________________________\n",
            " Layer (type)                Output Shape              Param #   \n",
            "=================================================================\n",
            " h1 (Dense)                  (None, 10)                70        \n",
            "                                                                 \n",
            " h2 (Dense)                  (None, 10)                110       \n",
            "                                                                 \n",
            " output (Dense)              (None, 1)                 11        \n",
            "                                                                 \n",
            "=================================================================\n",
            "Total params: 191\n",
            "Trainable params: 191\n",
            "Non-trainable params: 0\n",
            "_________________________________________________________________\n"
          ]
        }
      ]
    },
    {
      "cell_type": "markdown",
      "metadata": {
        "id": "9wAFuCDGOBzo"
      },
      "source": [
        "## Compiling\n",
        "\n",
        "Compiling the model puts all the pieces together to make it ready to train.  We need to specify:\n",
        "\n",
        "* **Optimizer:** An Adam optimizer is a favorite and often performs well, it's a good place to start.\n",
        "  - Other optimizers : Gradient Descent,Stochastic Gradient Descent,Adagrad,RMSProp\n",
        "* **Loss Function:** 'mse' or mean squared error.  This is the number our model will try to reduce in each epoch.  Since this is a regression model we want our model to minimize the mean squared error.\n",
        "* **Metrics:** 'mae' or mean absolute error.  We can provide a list of any appropriate metrics we want the model to keep track at each epoch.\n",
        "\n",
        "\n"
      ]
    },
    {
      "cell_type": "code",
      "source": [
        "from tensorflow.keras.metrics import RootMeanSquaredError"
      ],
      "metadata": {
        "id": "iLIXOZSMLnt5"
      },
      "execution_count": null,
      "outputs": []
    },
    {
      "cell_type": "code",
      "metadata": {
        "id": "AwAGvWCZN1WC"
      },
      "source": [
        "# Compile your model.\n",
        "rmse = RootMeanSquaredError(name='rmse')\n",
        "\n",
        "reg_model.compile(optimizer= 'adam', loss = 'mse', metrics= ['mae', rmse])"
      ],
      "execution_count": null,
      "outputs": []
    },
    {
      "cell_type": "markdown",
      "metadata": {
        "id": "sBvS_wkr_hEh"
      },
      "source": [
        "# Training\n",
        "\n",
        "Let's try training our model for 100 few epochs.  Sometimes that is enough, and it will give us an idea whether our model is learning anything."
      ]
    },
    {
      "cell_type": "code",
      "metadata": {
        "id": "81VFx1n1-TS7",
        "colab": {
          "base_uri": "https://localhost:8080/"
        },
        "outputId": "24e18a30-3f41-4ce4-ef1d-cb7775883238"
      },
      "source": [
        "# Fit your model\n",
        "\n",
        "history = reg_model.fit(X_train, y_train,\n",
        "                        validation_data = (X_test, y_test),\n",
        "                        epochs = 100)\n"
      ],
      "execution_count": null,
      "outputs": [
        {
          "output_type": "stream",
          "name": "stdout",
          "text": [
            "Epoch 1/100\n",
            "12/12 [==============================] - 5s 90ms/step - loss: 617.4598 - mae: 23.0124 - rmse: 24.8487 - val_loss: 530.4266 - val_mae: 21.4714 - val_rmse: 23.0310\n",
            "Epoch 2/100\n",
            "12/12 [==============================] - 0s 16ms/step - loss: 614.5243 - mae: 22.9443 - rmse: 24.7896 - val_loss: 527.8371 - val_mae: 21.4062 - val_rmse: 22.9747\n",
            "Epoch 3/100\n",
            "12/12 [==============================] - 0s 30ms/step - loss: 611.7544 - mae: 22.8792 - rmse: 24.7337 - val_loss: 525.3424 - val_mae: 21.3427 - val_rmse: 22.9203\n",
            "Epoch 4/100\n",
            "12/12 [==============================] - 0s 21ms/step - loss: 608.9427 - mae: 22.8124 - rmse: 24.6768 - val_loss: 522.2706 - val_mae: 21.2654 - val_rmse: 22.8532\n",
            "Epoch 5/100\n",
            "12/12 [==============================] - 1s 48ms/step - loss: 604.9147 - mae: 22.7197 - rmse: 24.5950 - val_loss: 517.6476 - val_mae: 21.1466 - val_rmse: 22.7519\n",
            "Epoch 6/100\n",
            "12/12 [==============================] - 1s 70ms/step - loss: 599.3259 - mae: 22.5843 - rmse: 24.4811 - val_loss: 511.8461 - val_mae: 20.9929 - val_rmse: 22.6240\n",
            "Epoch 7/100\n",
            "12/12 [==============================] - 0s 28ms/step - loss: 592.6765 - mae: 22.4229 - rmse: 24.3449 - val_loss: 505.2518 - val_mae: 20.8184 - val_rmse: 22.4778\n",
            "Epoch 8/100\n",
            "12/12 [==============================] - 0s 28ms/step - loss: 585.0523 - mae: 22.2322 - rmse: 24.1879 - val_loss: 497.6208 - val_mae: 20.6140 - val_rmse: 22.3074\n",
            "Epoch 9/100\n",
            "12/12 [==============================] - 0s 34ms/step - loss: 576.0756 - mae: 22.0079 - rmse: 24.0016 - val_loss: 488.4892 - val_mae: 20.3656 - val_rmse: 22.1018\n",
            "Epoch 10/100\n",
            "12/12 [==============================] - 0s 27ms/step - loss: 565.4396 - mae: 21.7427 - rmse: 23.7790 - val_loss: 477.6060 - val_mae: 20.0658 - val_rmse: 21.8542\n",
            "Epoch 11/100\n",
            "12/12 [==============================] - 0s 35ms/step - loss: 552.8790 - mae: 21.4190 - rmse: 23.5134 - val_loss: 464.6616 - val_mae: 19.7045 - val_rmse: 21.5560\n",
            "Epoch 12/100\n",
            "12/12 [==============================] - 1s 41ms/step - loss: 538.0317 - mae: 21.0287 - rmse: 23.1955 - val_loss: 449.4239 - val_mae: 19.2712 - val_rmse: 21.1996\n",
            "Epoch 13/100\n",
            "12/12 [==============================] - 0s 29ms/step - loss: 520.5924 - mae: 20.5638 - rmse: 22.8165 - val_loss: 431.8804 - val_mae: 18.7618 - val_rmse: 20.7817\n",
            "Epoch 14/100\n",
            "12/12 [==============================] - 0s 43ms/step - loss: 500.5064 - mae: 20.0326 - rmse: 22.3720 - val_loss: 412.5196 - val_mae: 18.1863 - val_rmse: 20.3106\n",
            "Epoch 15/100\n",
            "12/12 [==============================] - 0s 30ms/step - loss: 478.7614 - mae: 19.4235 - rmse: 21.8806 - val_loss: 391.3049 - val_mae: 17.5432 - val_rmse: 19.7814\n",
            "Epoch 16/100\n",
            "12/12 [==============================] - 1s 58ms/step - loss: 455.0551 - mae: 18.7529 - rmse: 21.3320 - val_loss: 368.7908 - val_mae: 16.8425 - val_rmse: 19.2039\n",
            "Epoch 17/100\n",
            "12/12 [==============================] - 0s 42ms/step - loss: 429.6324 - mae: 18.0131 - rmse: 20.7276 - val_loss: 345.4651 - val_mae: 16.0843 - val_rmse: 18.5867\n",
            "Epoch 18/100\n",
            "12/12 [==============================] - 0s 39ms/step - loss: 403.7435 - mae: 17.2355 - rmse: 20.0934 - val_loss: 321.2087 - val_mae: 15.2842 - val_rmse: 17.9223\n",
            "Epoch 19/100\n",
            "12/12 [==============================] - 0s 25ms/step - loss: 376.7915 - mae: 16.4102 - rmse: 19.4111 - val_loss: 297.0952 - val_mae: 14.4643 - val_rmse: 17.2364\n",
            "Epoch 20/100\n",
            "12/12 [==============================] - 0s 22ms/step - loss: 349.7368 - mae: 15.5762 - rmse: 18.7013 - val_loss: 273.5544 - val_mae: 13.6763 - val_rmse: 16.5395\n",
            "Epoch 21/100\n",
            "12/12 [==============================] - 0s 12ms/step - loss: 323.1992 - mae: 14.7245 - rmse: 17.9777 - val_loss: 251.1046 - val_mae: 12.8935 - val_rmse: 15.8463\n",
            "Epoch 22/100\n",
            "12/12 [==============================] - 0s 20ms/step - loss: 298.3935 - mae: 13.9217 - rmse: 17.2741 - val_loss: 229.7492 - val_mae: 12.1106 - val_rmse: 15.1575\n",
            "Epoch 23/100\n",
            "12/12 [==============================] - 0s 18ms/step - loss: 274.6962 - mae: 13.1582 - rmse: 16.5740 - val_loss: 210.7425 - val_mae: 11.4584 - val_rmse: 14.5170\n",
            "Epoch 24/100\n",
            "12/12 [==============================] - 0s 22ms/step - loss: 252.6638 - mae: 12.4895 - rmse: 15.8954 - val_loss: 194.6540 - val_mae: 10.9508 - val_rmse: 13.9518\n",
            "Epoch 25/100\n",
            "12/12 [==============================] - 0s 28ms/step - loss: 234.5168 - mae: 12.0178 - rmse: 15.3139 - val_loss: 180.6978 - val_mae: 10.5476 - val_rmse: 13.4424\n",
            "Epoch 26/100\n",
            "12/12 [==============================] - 0s 24ms/step - loss: 218.2768 - mae: 11.5606 - rmse: 14.7742 - val_loss: 169.8021 - val_mae: 10.2194 - val_rmse: 13.0308\n",
            "Epoch 27/100\n",
            "12/12 [==============================] - 0s 10ms/step - loss: 204.8932 - mae: 11.1999 - rmse: 14.3141 - val_loss: 161.6755 - val_mae: 9.9313 - val_rmse: 12.7152\n",
            "Epoch 28/100\n",
            "12/12 [==============================] - 0s 15ms/step - loss: 194.7441 - mae: 10.9044 - rmse: 13.9551 - val_loss: 155.6061 - val_mae: 9.7121 - val_rmse: 12.4742\n",
            "Epoch 29/100\n",
            "12/12 [==============================] - 0s 27ms/step - loss: 186.8327 - mae: 10.7040 - rmse: 13.6687 - val_loss: 151.4322 - val_mae: 9.5559 - val_rmse: 12.3058\n",
            "Epoch 30/100\n",
            "12/12 [==============================] - 0s 19ms/step - loss: 180.7467 - mae: 10.5615 - rmse: 13.4442 - val_loss: 148.6586 - val_mae: 9.4713 - val_rmse: 12.1926\n",
            "Epoch 31/100\n",
            "12/12 [==============================] - 0s 20ms/step - loss: 176.0961 - mae: 10.4313 - rmse: 13.2701 - val_loss: 146.7279 - val_mae: 9.4220 - val_rmse: 12.1131\n",
            "Epoch 32/100\n",
            "12/12 [==============================] - 0s 25ms/step - loss: 172.4056 - mae: 10.3408 - rmse: 13.1303 - val_loss: 145.2451 - val_mae: 9.3838 - val_rmse: 12.0518\n",
            "Epoch 33/100\n",
            "12/12 [==============================] - 0s 13ms/step - loss: 169.8067 - mae: 10.2804 - rmse: 13.0310 - val_loss: 143.9912 - val_mae: 9.3573 - val_rmse: 11.9996\n",
            "Epoch 34/100\n",
            "12/12 [==============================] - 0s 16ms/step - loss: 167.2739 - mae: 10.2135 - rmse: 12.9334 - val_loss: 142.7321 - val_mae: 9.3222 - val_rmse: 11.9471\n",
            "Epoch 35/100\n",
            "12/12 [==============================] - 0s 18ms/step - loss: 164.9294 - mae: 10.1547 - rmse: 12.8425 - val_loss: 141.4840 - val_mae: 9.2908 - val_rmse: 11.8947\n",
            "Epoch 36/100\n",
            "12/12 [==============================] - 0s 17ms/step - loss: 162.9094 - mae: 10.0991 - rmse: 12.7636 - val_loss: 140.0910 - val_mae: 9.2530 - val_rmse: 11.8360\n",
            "Epoch 37/100\n",
            "12/12 [==============================] - 0s 13ms/step - loss: 160.7201 - mae: 10.0378 - rmse: 12.6775 - val_loss: 138.3152 - val_mae: 9.1974 - val_rmse: 11.7607\n",
            "Epoch 38/100\n",
            "12/12 [==============================] - 0s 32ms/step - loss: 158.0401 - mae: 9.9501 - rmse: 12.5714 - val_loss: 135.9950 - val_mae: 9.1108 - val_rmse: 11.6617\n",
            "Epoch 39/100\n",
            "12/12 [==============================] - 0s 19ms/step - loss: 154.6165 - mae: 9.8336 - rmse: 12.4345 - val_loss: 133.0619 - val_mae: 8.9960 - val_rmse: 11.5352\n",
            "Epoch 40/100\n",
            "12/12 [==============================] - 0s 32ms/step - loss: 151.2802 - mae: 9.7196 - rmse: 12.2996 - val_loss: 130.7690 - val_mae: 8.9228 - val_rmse: 11.4354\n",
            "Epoch 41/100\n",
            "12/12 [==============================] - 0s 22ms/step - loss: 148.1707 - mae: 9.6252 - rmse: 12.1725 - val_loss: 128.5834 - val_mae: 8.8469 - val_rmse: 11.3395\n",
            "Epoch 42/100\n",
            "12/12 [==============================] - 0s 22ms/step - loss: 144.9211 - mae: 9.5111 - rmse: 12.0383 - val_loss: 125.9185 - val_mae: 8.7472 - val_rmse: 11.2213\n",
            "Epoch 43/100\n",
            "12/12 [==============================] - 0s 34ms/step - loss: 141.8616 - mae: 9.3988 - rmse: 11.9106 - val_loss: 123.1141 - val_mae: 8.6393 - val_rmse: 11.0957\n",
            "Epoch 44/100\n",
            "12/12 [==============================] - 0s 28ms/step - loss: 138.8006 - mae: 9.2799 - rmse: 11.7814 - val_loss: 120.2727 - val_mae: 8.5275 - val_rmse: 10.9669\n",
            "Epoch 45/100\n",
            "12/12 [==============================] - 0s 29ms/step - loss: 135.6972 - mae: 9.1658 - rmse: 11.6489 - val_loss: 117.6297 - val_mae: 8.4249 - val_rmse: 10.8457\n",
            "Epoch 46/100\n",
            "12/12 [==============================] - 0s 15ms/step - loss: 132.6082 - mae: 9.0578 - rmse: 11.5156 - val_loss: 115.3373 - val_mae: 8.3433 - val_rmse: 10.7395\n",
            "Epoch 47/100\n",
            "12/12 [==============================] - 0s 12ms/step - loss: 129.5092 - mae: 8.9477 - rmse: 11.3802 - val_loss: 112.7771 - val_mae: 8.2431 - val_rmse: 10.6197\n",
            "Epoch 48/100\n",
            "12/12 [==============================] - 0s 12ms/step - loss: 126.4889 - mae: 8.8316 - rmse: 11.2467 - val_loss: 110.3477 - val_mae: 8.1474 - val_rmse: 10.5047\n",
            "Epoch 49/100\n",
            "12/12 [==============================] - 0s 11ms/step - loss: 123.3602 - mae: 8.7063 - rmse: 11.1068 - val_loss: 107.3645 - val_mae: 8.0202 - val_rmse: 10.3617\n",
            "Epoch 50/100\n",
            "12/12 [==============================] - 0s 7ms/step - loss: 120.2498 - mae: 8.5768 - rmse: 10.9658 - val_loss: 104.7645 - val_mae: 7.9110 - val_rmse: 10.2355\n",
            "Epoch 51/100\n",
            "12/12 [==============================] - 0s 7ms/step - loss: 117.1710 - mae: 8.4534 - rmse: 10.8246 - val_loss: 102.0894 - val_mae: 7.7954 - val_rmse: 10.1039\n",
            "Epoch 52/100\n",
            "12/12 [==============================] - 0s 11ms/step - loss: 114.2352 - mae: 8.3318 - rmse: 10.6881 - val_loss: 99.4959 - val_mae: 7.6836 - val_rmse: 9.9748\n",
            "Epoch 53/100\n",
            "12/12 [==============================] - 0s 15ms/step - loss: 111.1489 - mae: 8.2083 - rmse: 10.5427 - val_loss: 96.8969 - val_mae: 7.5683 - val_rmse: 9.8436\n",
            "Epoch 54/100\n",
            "12/12 [==============================] - 0s 9ms/step - loss: 108.2600 - mae: 8.0810 - rmse: 10.4048 - val_loss: 94.2243 - val_mae: 7.4453 - val_rmse: 9.7069\n",
            "Epoch 55/100\n",
            "12/12 [==============================] - 0s 9ms/step - loss: 105.3324 - mae: 7.9630 - rmse: 10.2632 - val_loss: 91.8940 - val_mae: 7.3411 - val_rmse: 9.5861\n",
            "Epoch 56/100\n",
            "12/12 [==============================] - 0s 7ms/step - loss: 102.5157 - mae: 7.8541 - rmse: 10.1250 - val_loss: 89.6489 - val_mae: 7.2383 - val_rmse: 9.4683\n",
            "Epoch 57/100\n",
            "12/12 [==============================] - 0s 8ms/step - loss: 99.6197 - mae: 7.7257 - rmse: 9.9810 - val_loss: 86.8821 - val_mae: 7.1022 - val_rmse: 9.3211\n",
            "Epoch 58/100\n",
            "12/12 [==============================] - 0s 14ms/step - loss: 96.8838 - mae: 7.5960 - rmse: 9.8430 - val_loss: 84.4377 - val_mae: 6.9833 - val_rmse: 9.1890\n",
            "Epoch 59/100\n",
            "12/12 [==============================] - 0s 8ms/step - loss: 94.2691 - mae: 7.4889 - rmse: 9.7092 - val_loss: 82.2840 - val_mae: 6.8842 - val_rmse: 9.0711\n",
            "Epoch 60/100\n",
            "12/12 [==============================] - 0s 14ms/step - loss: 91.4074 - mae: 7.3615 - rmse: 9.5607 - val_loss: 79.9293 - val_mae: 6.7669 - val_rmse: 8.9403\n",
            "Epoch 61/100\n",
            "12/12 [==============================] - 0s 6ms/step - loss: 88.8681 - mae: 7.2425 - rmse: 9.4270 - val_loss: 77.5673 - val_mae: 6.6470 - val_rmse: 8.8072\n",
            "Epoch 62/100\n",
            "12/12 [==============================] - 0s 7ms/step - loss: 86.2588 - mae: 7.1168 - rmse: 9.2876 - val_loss: 75.2390 - val_mae: 6.5271 - val_rmse: 8.6740\n",
            "Epoch 63/100\n",
            "12/12 [==============================] - 0s 8ms/step - loss: 83.7296 - mae: 6.9884 - rmse: 9.1504 - val_loss: 72.9111 - val_mae: 6.4041 - val_rmse: 8.5388\n",
            "Epoch 64/100\n",
            "12/12 [==============================] - 0s 10ms/step - loss: 81.2556 - mae: 6.8628 - rmse: 9.0142 - val_loss: 70.7732 - val_mae: 6.2936 - val_rmse: 8.4127\n",
            "Epoch 65/100\n",
            "12/12 [==============================] - 0s 8ms/step - loss: 78.9839 - mae: 6.7654 - rmse: 8.8873 - val_loss: 68.9957 - val_mae: 6.2193 - val_rmse: 8.3064\n",
            "Epoch 66/100\n",
            "12/12 [==============================] - 0s 8ms/step - loss: 76.4755 - mae: 6.6426 - rmse: 8.7450 - val_loss: 66.7716 - val_mae: 6.0957 - val_rmse: 8.1714\n",
            "Epoch 67/100\n",
            "12/12 [==============================] - 0s 7ms/step - loss: 74.1440 - mae: 6.5202 - rmse: 8.6107 - val_loss: 64.6092 - val_mae: 5.9737 - val_rmse: 8.0380\n",
            "Epoch 68/100\n",
            "12/12 [==============================] - 0s 9ms/step - loss: 71.8371 - mae: 6.4029 - rmse: 8.4757 - val_loss: 62.7289 - val_mae: 5.8750 - val_rmse: 7.9202\n",
            "Epoch 69/100\n",
            "12/12 [==============================] - 0s 9ms/step - loss: 69.7067 - mae: 6.2966 - rmse: 8.3491 - val_loss: 60.9093 - val_mae: 5.7808 - val_rmse: 7.8044\n",
            "Epoch 70/100\n",
            "12/12 [==============================] - 0s 11ms/step - loss: 67.5954 - mae: 6.1807 - rmse: 8.2216 - val_loss: 58.8512 - val_mae: 5.6586 - val_rmse: 7.6715\n",
            "Epoch 71/100\n",
            "12/12 [==============================] - 0s 10ms/step - loss: 65.5453 - mae: 6.0783 - rmse: 8.0960 - val_loss: 57.1175 - val_mae: 5.5662 - val_rmse: 7.5576\n",
            "Epoch 72/100\n",
            "12/12 [==============================] - 0s 9ms/step - loss: 63.3769 - mae: 5.9562 - rmse: 7.9610 - val_loss: 55.0424 - val_mae: 5.4276 - val_rmse: 7.4191\n",
            "Epoch 73/100\n",
            "12/12 [==============================] - 0s 8ms/step - loss: 61.4643 - mae: 5.8466 - rmse: 7.8399 - val_loss: 53.3178 - val_mae: 5.3283 - val_rmse: 7.3019\n",
            "Epoch 74/100\n",
            "12/12 [==============================] - 0s 16ms/step - loss: 59.6301 - mae: 5.7561 - rmse: 7.7221 - val_loss: 51.7969 - val_mae: 5.2520 - val_rmse: 7.1970\n",
            "Epoch 75/100\n",
            "12/12 [==============================] - 0s 8ms/step - loss: 57.7510 - mae: 5.6576 - rmse: 7.5994 - val_loss: 50.2798 - val_mae: 5.1684 - val_rmse: 7.0908\n",
            "Epoch 76/100\n",
            "12/12 [==============================] - 0s 8ms/step - loss: 55.9729 - mae: 5.5636 - rmse: 7.4815 - val_loss: 48.7154 - val_mae: 5.0731 - val_rmse: 6.9796\n",
            "Epoch 77/100\n",
            "12/12 [==============================] - 0s 11ms/step - loss: 54.2760 - mae: 5.4613 - rmse: 7.3672 - val_loss: 47.0127 - val_mae: 4.9587 - val_rmse: 6.8566\n",
            "Epoch 78/100\n",
            "12/12 [==============================] - 0s 8ms/step - loss: 52.5826 - mae: 5.3759 - rmse: 7.2514 - val_loss: 45.7459 - val_mae: 4.9001 - val_rmse: 6.7636\n",
            "Epoch 79/100\n",
            "12/12 [==============================] - 0s 9ms/step - loss: 51.0517 - mae: 5.2823 - rmse: 7.1450 - val_loss: 44.1470 - val_mae: 4.7861 - val_rmse: 6.6443\n",
            "Epoch 80/100\n",
            "12/12 [==============================] - 0s 27ms/step - loss: 49.5586 - mae: 5.1987 - rmse: 7.0398 - val_loss: 43.0773 - val_mae: 4.7511 - val_rmse: 6.5633\n",
            "Epoch 81/100\n",
            "12/12 [==============================] - 0s 20ms/step - loss: 48.0205 - mae: 5.1203 - rmse: 6.9297 - val_loss: 41.7576 - val_mae: 4.6672 - val_rmse: 6.4620\n",
            "Epoch 82/100\n",
            "12/12 [==============================] - 0s 27ms/step - loss: 46.6123 - mae: 5.0238 - rmse: 6.8273 - val_loss: 40.2853 - val_mae: 4.5678 - val_rmse: 6.3471\n",
            "Epoch 83/100\n",
            "12/12 [==============================] - 0s 21ms/step - loss: 44.9049 - mae: 4.9181 - rmse: 6.7011 - val_loss: 38.6035 - val_mae: 4.4697 - val_rmse: 6.2132\n",
            "Epoch 84/100\n",
            "12/12 [==============================] - 0s 13ms/step - loss: 42.9200 - mae: 4.7628 - rmse: 6.5513 - val_loss: 36.5231 - val_mae: 4.2822 - val_rmse: 6.0434\n",
            "Epoch 85/100\n",
            "12/12 [==============================] - 0s 7ms/step - loss: 41.3088 - mae: 4.6162 - rmse: 6.4272 - val_loss: 35.0613 - val_mae: 4.1714 - val_rmse: 5.9213\n",
            "Epoch 86/100\n",
            "12/12 [==============================] - 0s 7ms/step - loss: 39.7691 - mae: 4.5226 - rmse: 6.3063 - val_loss: 33.9916 - val_mae: 4.1299 - val_rmse: 5.8302\n",
            "Epoch 87/100\n",
            "12/12 [==============================] - 0s 7ms/step - loss: 38.5052 - mae: 4.4620 - rmse: 6.2053 - val_loss: 33.0895 - val_mae: 4.1015 - val_rmse: 5.7523\n",
            "Epoch 88/100\n",
            "12/12 [==============================] - 0s 7ms/step - loss: 37.2105 - mae: 4.3697 - rmse: 6.1000 - val_loss: 31.8717 - val_mae: 3.9901 - val_rmse: 5.6455\n",
            "Epoch 89/100\n",
            "12/12 [==============================] - 0s 9ms/step - loss: 36.0805 - mae: 4.2781 - rmse: 6.0067 - val_loss: 30.9411 - val_mae: 3.9290 - val_rmse: 5.5625\n",
            "Epoch 90/100\n",
            "12/12 [==============================] - 0s 15ms/step - loss: 35.0656 - mae: 4.2018 - rmse: 5.9216 - val_loss: 30.0677 - val_mae: 3.8660 - val_rmse: 5.4834\n",
            "Epoch 91/100\n",
            "12/12 [==============================] - 0s 12ms/step - loss: 34.1203 - mae: 4.1362 - rmse: 5.8413 - val_loss: 29.3207 - val_mae: 3.8188 - val_rmse: 5.4149\n",
            "Epoch 92/100\n",
            "12/12 [==============================] - 0s 12ms/step - loss: 33.2691 - mae: 4.0711 - rmse: 5.7679 - val_loss: 28.5415 - val_mae: 3.7445 - val_rmse: 5.3424\n",
            "Epoch 93/100\n",
            "12/12 [==============================] - 0s 14ms/step - loss: 32.4831 - mae: 4.0082 - rmse: 5.6994 - val_loss: 28.0470 - val_mae: 3.7285 - val_rmse: 5.2959\n",
            "Epoch 94/100\n",
            "12/12 [==============================] - 0s 7ms/step - loss: 31.7624 - mae: 3.9585 - rmse: 5.6358 - val_loss: 27.4008 - val_mae: 3.6655 - val_rmse: 5.2346\n",
            "Epoch 95/100\n",
            "12/12 [==============================] - 0s 7ms/step - loss: 31.2778 - mae: 3.9397 - rmse: 5.5927 - val_loss: 27.0403 - val_mae: 3.6798 - val_rmse: 5.2000\n",
            "Epoch 96/100\n",
            "12/12 [==============================] - 0s 8ms/step - loss: 30.6202 - mae: 3.8533 - rmse: 5.5336 - val_loss: 26.2097 - val_mae: 3.5352 - val_rmse: 5.1195\n",
            "Epoch 97/100\n",
            "12/12 [==============================] - 0s 15ms/step - loss: 30.1023 - mae: 3.7995 - rmse: 5.4866 - val_loss: 25.9354 - val_mae: 3.5555 - val_rmse: 5.0927\n",
            "Epoch 98/100\n",
            "12/12 [==============================] - 0s 8ms/step - loss: 29.5896 - mae: 3.7746 - rmse: 5.4396 - val_loss: 25.4775 - val_mae: 3.4998 - val_rmse: 5.0475\n",
            "Epoch 99/100\n",
            "12/12 [==============================] - 0s 9ms/step - loss: 29.1075 - mae: 3.7463 - rmse: 5.3951 - val_loss: 25.2405 - val_mae: 3.5061 - val_rmse: 5.0240\n",
            "Epoch 100/100\n",
            "12/12 [==============================] - 0s 11ms/step - loss: 28.7274 - mae: 3.7250 - rmse: 5.3598 - val_loss: 24.9636 - val_mae: 3.4950 - val_rmse: 4.9964\n"
          ]
        }
      ]
    },
    {
      "cell_type": "code",
      "metadata": {
        "id": "q8Kox9hOOq7w",
        "colab": {
          "base_uri": "https://localhost:8080/",
          "height": 809
        },
        "outputId": "ff40a1f0-b4f3-48e8-9b75-69e219d7d572"
      },
      "source": [
        "# Apply the custom function to see how your model is doing\n",
        "plot_history(history)"
      ],
      "execution_count": null,
      "outputs": [
        {
          "output_type": "display_data",
          "data": {
            "text/plain": [
              "<Figure size 432x288 with 1 Axes>"
            ],
            "image/png": "[encoded data removed]"
          },
          "metadata": {
            "needs_background": "light"
          }
        },
        {
          "output_type": "display_data",
          "data": {
            "text/plain": [
              "<Figure size 432x288 with 1 Axes>"
            ],
            "image/png": "[encoded data removed]"
          },
          "metadata": {
            "needs_background": "light"
          }
        },
        {
          "output_type": "display_data",
          "data": {
            "text/plain": [
              "<Figure size 432x288 with 1 Axes>"
            ],
            "image/png": "[encoded data removed]"
          },
          "metadata": {
            "needs_background": "light"
          }
        }
      ]
    },
    {
      "cell_type": "markdown",
      "metadata": {
        "id": "1Ic8eFsL_x2m"
      },
      "source": [
        "## Evaluation\n"
      ]
    },
    {
      "cell_type": "code",
      "metadata": {
        "id": "33J5dOt3A8ZO",
        "colab": {
          "base_uri": "https://localhost:8080/"
        },
        "outputId": "25b6d584-eb7e-4251-82a4-dbe555a4ad74"
      },
      "source": [
        "# Make predictions and evaluate your model\n",
        "train_preds = reg_model.predict(X_train)\n",
        "test_preds = reg_model.predict(X_test)\n",
        "\n",
        "print('training MAE:', mean_absolute_error(y_train, train_preds))\n",
        "print('training rmse:', np.sqrt(mean_squared_error(y_train, train_preds)))\n",
        "print('training R2:', r2_score(y_train, train_preds))\n",
        "print('\\n')\n",
        "print('testing MAE:', mean_absolute_error(y_test, test_preds))\n",
        "print('testing rmse:', np.sqrt(mean_squared_error(y_test, test_preds)))\n",
        "print('testing R2:', r2_score(y_test, test_preds))"
      ],
      "execution_count": null,
      "outputs": [
        {
          "output_type": "stream",
          "name": "stdout",
          "text": [
            "12/12 [==============================] - 0s 2ms/step\n",
            "4/4 [==============================] - 0s 3ms/step\n",
            "training MAE: 3.7119638453058323\n",
            "training rmse: 5.340850376294159\n",
            "training R2: 0.6783477019796071\n",
            "\n",
            "\n",
            "testing MAE: 3.494978653915285\n",
            "testing rmse: 4.996363128594822\n",
            "testing R2: 0.6435147399982024\n"
          ]
        }
      ]
    },
    {
      "cell_type": "markdown",
      "source": [
        "# <center> Attack Bias or Variance? </center>\n",
        "\n",
        "How should we tune this regression model?"
      ],
      "metadata": {
        "id": "iwqrIe9HrQ-q"
      }
    },
    {
      "cell_type": "code",
      "source": [],
      "metadata": {
        "id": "t8DEVI7drWZf"
      },
      "execution_count": null,
      "outputs": []
    },
    {
      "cell_type": "code",
      "metadata": {
        "colab": {
          "base_uri": "https://localhost:8080/"
        },
        "outputId": "47499aa0-f1c5-4573-f697-8c2902ebee0a",
        "id": "l5RaVlDPei14"
      },
      "source": [
        "# Instantiate your sequential model\n",
        "\n",
        "reg_model = Sequential()\n",
        "# use all features as input using input_dim\n",
        "input_dim = X_train.shape[1]\n",
        "\n",
        "# Add first hidden layer\n",
        "reg_model.add(Dense(100, activation='relu', input_dim=input_dim, name='h1'))\n",
        "reg_model.add(Dense(100, activation='relu', name='h2'))\n",
        "# Add output layer with 1 node\n",
        "reg_model.add(Dense(1, activation='linear', name ='output'))\n",
        "\n",
        "\n",
        "# Check summary of network\n",
        "reg_model.summary()\n",
        "\n"
      ],
      "execution_count": null,
      "outputs": [
        {
          "output_type": "stream",
          "name": "stdout",
          "text": [
            "Model: \"sequential_1\"\n",
            "_________________________________________________________________\n",
            " Layer (type)                Output Shape              Param #   \n",
            "=================================================================\n",
            " h1 (Dense)                  (None, 100)               700       \n",
            "                                                                 \n",
            " h2 (Dense)                  (None, 100)               10100     \n",
            "                                                                 \n",
            " output (Dense)              (None, 1)                 101       \n",
            "                                                                 \n",
            "=================================================================\n",
            "Total params: 10,901\n",
            "Trainable params: 10,901\n",
            "Non-trainable params: 0\n",
            "_________________________________________________________________\n"
          ]
        }
      ]
    },
    {
      "cell_type": "markdown",
      "metadata": {
        "id": "POU41zLiei15"
      },
      "source": [
        "## Compiling\n",
        "\n",
        "Compiling the model puts all the pieces together to make it ready to train.  We need to specify:\n",
        "\n",
        "* **Optimizer:** An Adam optimizer is a favorite and often performs well, it's a good place to start.\n",
        "  - Other optimizers : Gradient Descent,Stochastic Gradient Descent,Adagrad,RMSProp\n",
        "* **Loss Function:** 'mse' or mean squared error.  This is the number our model will try to reduce in each epoch.  Since this is a regression model we want our model to minimize the mean squared error.\n",
        "* **Metrics:** 'mae' or mean absolute error.  We can provide a list of any appropriate metrics we want the model to keep track at each epoch.\n",
        "\n",
        "\n"
      ]
    },
    {
      "cell_type": "code",
      "source": [
        "from tensorflow.keras.metrics import RootMeanSquaredError"
      ],
      "metadata": {
        "id": "JfqKP7akei15"
      },
      "execution_count": null,
      "outputs": []
    },
    {
      "cell_type": "code",
      "metadata": {
        "id": "i9SndlZAei15"
      },
      "source": [
        "# Compile your model.\n",
        "rmse = RootMeanSquaredError(name='rmse')\n",
        "\n",
        "reg_model.compile(optimizer= 'adam', loss = 'mse', metrics= ['mae', rmse])"
      ],
      "execution_count": null,
      "outputs": []
    },
    {
      "cell_type": "markdown",
      "metadata": {
        "id": "0UcEXp7Wei15"
      },
      "source": [
        "# Training\n",
        "\n",
        "Let's try training our model for 100 few epochs.  Sometimes that is enough, and it will give us an idea whether our model is learning anything."
      ]
    },
    {
      "cell_type": "code",
      "metadata": {
        "colab": {
          "base_uri": "https://localhost:8080/"
        },
        "outputId": "9cd0f098-6fd2-4814-df88-0a46fc3abf2e",
        "id": "lazoskQdei16"
      },
      "source": [
        "# Fit your model\n",
        "\n",
        "history = reg_model.fit(X_train, y_train,\n",
        "                        validation_data = (X_test, y_test),\n",
        "                        epochs = 100)\n"
      ],
      "execution_count": null,
      "outputs": [
        {
          "output_type": "stream",
          "name": "stdout",
          "text": [
            "Epoch 1/100\n",
            "12/12 [==============================] - 1s 18ms/step - loss: 591.1872 - mae: 22.3996 - rmse: 24.3143 - val_loss: 488.8431 - val_mae: 20.4085 - val_rmse: 22.1098\n",
            "Epoch 2/100\n",
            "12/12 [==============================] - 0s 4ms/step - loss: 547.0988 - mae: 21.3420 - rmse: 23.3901 - val_loss: 438.5078 - val_mae: 19.0477 - val_rmse: 20.9406\n",
            "Epoch 3/100\n",
            "12/12 [==============================] - 0s 7ms/step - loss: 478.9812 - mae: 19.5645 - rmse: 21.8856 - val_loss: 359.1501 - val_mae: 16.6721 - val_rmse: 18.9513\n",
            "Epoch 4/100\n",
            "12/12 [==============================] - 0s 5ms/step - loss: 378.4947 - mae: 16.6275 - rmse: 19.4549 - val_loss: 254.3281 - val_mae: 13.1302 - val_rmse: 15.9477\n",
            "Epoch 5/100\n",
            "12/12 [==============================] - 0s 5ms/step - loss: 258.0597 - mae: 12.7918 - rmse: 16.0642 - val_loss: 161.6422 - val_mae: 9.9698 - val_rmse: 12.7139\n",
            "Epoch 6/100\n",
            "12/12 [==============================] - 0s 6ms/step - loss: 171.2084 - mae: 10.3545 - rmse: 13.0847 - val_loss: 132.4061 - val_mae: 8.9539 - val_rmse: 11.5068\n",
            "Epoch 7/100\n",
            "12/12 [==============================] - 0s 5ms/step - loss: 150.5767 - mae: 9.8814 - rmse: 12.2710 - val_loss: 134.2956 - val_mae: 9.0854 - val_rmse: 11.5886\n",
            "Epoch 8/100\n",
            "12/12 [==============================] - 0s 6ms/step - loss: 139.9189 - mae: 9.5222 - rmse: 11.8287 - val_loss: 116.8780 - val_mae: 8.3901 - val_rmse: 10.8110\n",
            "Epoch 9/100\n",
            "12/12 [==============================] - 0s 5ms/step - loss: 126.8972 - mae: 8.9251 - rmse: 11.2649 - val_loss: 105.3788 - val_mae: 7.8954 - val_rmse: 10.2654\n",
            "Epoch 10/100\n",
            "12/12 [==============================] - 0s 6ms/step - loss: 115.8997 - mae: 8.4592 - rmse: 10.7657 - val_loss: 96.1194 - val_mae: 7.4903 - val_rmse: 9.8041\n",
            "Epoch 11/100\n",
            "12/12 [==============================] - 0s 6ms/step - loss: 105.4423 - mae: 8.0302 - rmse: 10.2685 - val_loss: 87.0306 - val_mae: 7.0869 - val_rmse: 9.3290\n",
            "Epoch 12/100\n",
            "12/12 [==============================] - 0s 5ms/step - loss: 94.6971 - mae: 7.5467 - rmse: 9.7312 - val_loss: 77.5774 - val_mae: 6.6078 - val_rmse: 8.8078\n",
            "Epoch 13/100\n",
            "12/12 [==============================] - 0s 5ms/step - loss: 84.8333 - mae: 7.0615 - rmse: 9.2105 - val_loss: 69.0876 - val_mae: 6.1790 - val_rmse: 8.3119\n",
            "Epoch 14/100\n",
            "12/12 [==============================] - 0s 7ms/step - loss: 74.7993 - mae: 6.5866 - rmse: 8.6487 - val_loss: 60.3709 - val_mae: 5.6954 - val_rmse: 7.7699\n",
            "Epoch 15/100\n",
            "12/12 [==============================] - 0s 5ms/step - loss: 65.3839 - mae: 6.0781 - rmse: 8.0860 - val_loss: 53.2161 - val_mae: 5.3285 - val_rmse: 7.2949\n",
            "Epoch 16/100\n",
            "12/12 [==============================] - 0s 6ms/step - loss: 57.0363 - mae: 5.6365 - rmse: 7.5522 - val_loss: 45.7829 - val_mae: 4.8909 - val_rmse: 6.7663\n",
            "Epoch 17/100\n",
            "12/12 [==============================] - 0s 5ms/step - loss: 49.0119 - mae: 5.1402 - rmse: 7.0009 - val_loss: 39.4231 - val_mae: 4.4690 - val_rmse: 6.2788\n",
            "Epoch 18/100\n",
            "12/12 [==============================] - 0s 5ms/step - loss: 42.5560 - mae: 4.7185 - rmse: 6.5235 - val_loss: 34.5837 - val_mae: 4.1905 - val_rmse: 5.8808\n",
            "Epoch 19/100\n",
            "12/12 [==============================] - 0s 5ms/step - loss: 37.3949 - mae: 4.3806 - rmse: 6.1151 - val_loss: 29.9839 - val_mae: 3.7748 - val_rmse: 5.4758\n",
            "Epoch 20/100\n",
            "12/12 [==============================] - 0s 7ms/step - loss: 32.9707 - mae: 4.0766 - rmse: 5.7420 - val_loss: 27.7483 - val_mae: 3.7878 - val_rmse: 5.2677\n",
            "Epoch 21/100\n",
            "12/12 [==============================] - 0s 5ms/step - loss: 30.2643 - mae: 3.9102 - rmse: 5.5013 - val_loss: 25.3046 - val_mae: 3.4443 - val_rmse: 5.0304\n",
            "Epoch 22/100\n",
            "12/12 [==============================] - 0s 5ms/step - loss: 28.0849 - mae: 3.6943 - rmse: 5.2995 - val_loss: 24.1381 - val_mae: 3.4125 - val_rmse: 4.9131\n",
            "Epoch 23/100\n",
            "12/12 [==============================] - 0s 6ms/step - loss: 26.5471 - mae: 3.5918 - rmse: 5.1524 - val_loss: 23.3081 - val_mae: 3.3403 - val_rmse: 4.8278\n",
            "Epoch 24/100\n",
            "12/12 [==============================] - 0s 6ms/step - loss: 25.7176 - mae: 3.5432 - rmse: 5.0713 - val_loss: 22.6844 - val_mae: 3.2569 - val_rmse: 4.7628\n",
            "Epoch 25/100\n",
            "12/12 [==============================] - 0s 5ms/step - loss: 25.0248 - mae: 3.4397 - rmse: 5.0025 - val_loss: 22.2524 - val_mae: 3.1852 - val_rmse: 4.7172\n",
            "Epoch 26/100\n",
            "12/12 [==============================] - 0s 7ms/step - loss: 24.5320 - mae: 3.4055 - rmse: 4.9530 - val_loss: 22.0402 - val_mae: 3.2095 - val_rmse: 4.6947\n",
            "Epoch 27/100\n",
            "12/12 [==============================] - 0s 5ms/step - loss: 24.6559 - mae: 3.5632 - rmse: 4.9655 - val_loss: 21.8963 - val_mae: 3.2464 - val_rmse: 4.6793\n",
            "Epoch 28/100\n",
            "12/12 [==============================] - 0s 6ms/step - loss: 23.9291 - mae: 3.3566 - rmse: 4.8917 - val_loss: 21.6869 - val_mae: 3.0261 - val_rmse: 4.6569\n",
            "Epoch 29/100\n",
            "12/12 [==============================] - 0s 5ms/step - loss: 23.6779 - mae: 3.3301 - rmse: 4.8660 - val_loss: 21.3603 - val_mae: 3.1052 - val_rmse: 4.6217\n",
            "Epoch 30/100\n",
            "12/12 [==============================] - 0s 6ms/step - loss: 23.7411 - mae: 3.4628 - rmse: 4.8725 - val_loss: 21.3321 - val_mae: 3.1770 - val_rmse: 4.6187\n",
            "Epoch 31/100\n",
            "12/12 [==============================] - 0s 5ms/step - loss: 23.2091 - mae: 3.3545 - rmse: 4.8176 - val_loss: 21.4135 - val_mae: 2.9527 - val_rmse: 4.6275\n",
            "Epoch 32/100\n",
            "12/12 [==============================] - 0s 5ms/step - loss: 23.2511 - mae: 3.3313 - rmse: 4.8219 - val_loss: 20.9521 - val_mae: 3.0583 - val_rmse: 4.5773\n",
            "Epoch 33/100\n",
            "12/12 [==============================] - 0s 5ms/step - loss: 23.1436 - mae: 3.3452 - rmse: 4.8108 - val_loss: 20.8954 - val_mae: 3.0091 - val_rmse: 4.5711\n",
            "Epoch 34/100\n",
            "12/12 [==============================] - 0s 5ms/step - loss: 23.0874 - mae: 3.3563 - rmse: 4.8049 - val_loss: 20.8598 - val_mae: 2.9746 - val_rmse: 4.5672\n",
            "Epoch 35/100\n",
            "12/12 [==============================] - 0s 5ms/step - loss: 22.9573 - mae: 3.3752 - rmse: 4.7914 - val_loss: 20.7056 - val_mae: 2.9998 - val_rmse: 4.5503\n",
            "Epoch 36/100\n",
            "12/12 [==============================] - 0s 5ms/step - loss: 22.7991 - mae: 3.2861 - rmse: 4.7748 - val_loss: 20.8515 - val_mae: 2.9224 - val_rmse: 4.5663\n",
            "Epoch 37/100\n",
            "12/12 [==============================] - 0s 4ms/step - loss: 22.8015 - mae: 3.3842 - rmse: 4.7751 - val_loss: 20.5486 - val_mae: 3.0286 - val_rmse: 4.5331\n",
            "Epoch 38/100\n",
            "12/12 [==============================] - 0s 5ms/step - loss: 22.8538 - mae: 3.2932 - rmse: 4.7806 - val_loss: 20.8091 - val_mae: 2.8861 - val_rmse: 4.5617\n",
            "Epoch 39/100\n",
            "12/12 [==============================] - 0s 7ms/step - loss: 22.4027 - mae: 3.3315 - rmse: 4.7331 - val_loss: 20.4529 - val_mae: 3.0579 - val_rmse: 4.5225\n",
            "Epoch 40/100\n",
            "12/12 [==============================] - 0s 6ms/step - loss: 22.2651 - mae: 3.3135 - rmse: 4.7186 - val_loss: 20.5225 - val_mae: 2.8963 - val_rmse: 4.5302\n",
            "Epoch 41/100\n",
            "12/12 [==============================] - 0s 5ms/step - loss: 22.2597 - mae: 3.2909 - rmse: 4.7180 - val_loss: 20.3922 - val_mae: 2.9178 - val_rmse: 4.5158\n",
            "Epoch 42/100\n",
            "12/12 [==============================] - 0s 5ms/step - loss: 22.1852 - mae: 3.2522 - rmse: 4.7101 - val_loss: 20.2483 - val_mae: 2.9395 - val_rmse: 4.4998\n",
            "Epoch 43/100\n",
            "12/12 [==============================] - 0s 8ms/step - loss: 22.1978 - mae: 3.3216 - rmse: 4.7115 - val_loss: 20.2857 - val_mae: 2.8909 - val_rmse: 4.5040\n",
            "Epoch 44/100\n",
            "12/12 [==============================] - 0s 5ms/step - loss: 22.1170 - mae: 3.2198 - rmse: 4.7029 - val_loss: 20.3014 - val_mae: 2.8746 - val_rmse: 4.5057\n",
            "Epoch 45/100\n",
            "12/12 [==============================] - 0s 5ms/step - loss: 21.8225 - mae: 3.3095 - rmse: 4.6715 - val_loss: 20.0932 - val_mae: 3.0110 - val_rmse: 4.4825\n",
            "Epoch 46/100\n",
            "12/12 [==============================] - 0s 5ms/step - loss: 21.6519 - mae: 3.2786 - rmse: 4.6532 - val_loss: 20.3127 - val_mae: 2.8594 - val_rmse: 4.5070\n",
            "Epoch 47/100\n",
            "12/12 [==============================] - 0s 5ms/step - loss: 21.7267 - mae: 3.2074 - rmse: 4.6612 - val_loss: 19.9897 - val_mae: 2.9081 - val_rmse: 4.4710\n",
            "Epoch 48/100\n",
            "12/12 [==============================] - 0s 5ms/step - loss: 21.5320 - mae: 3.2622 - rmse: 4.6403 - val_loss: 19.9001 - val_mae: 2.9293 - val_rmse: 4.4610\n",
            "Epoch 49/100\n",
            "12/12 [==============================] - 0s 6ms/step - loss: 21.4621 - mae: 3.2093 - rmse: 4.6327 - val_loss: 19.9374 - val_mae: 2.8885 - val_rmse: 4.4651\n",
            "Epoch 50/100\n",
            "12/12 [==============================] - 0s 4ms/step - loss: 21.3122 - mae: 3.2180 - rmse: 4.6165 - val_loss: 19.8489 - val_mae: 2.9150 - val_rmse: 4.4552\n",
            "Epoch 51/100\n",
            "12/12 [==============================] - 0s 6ms/step - loss: 21.2029 - mae: 3.2219 - rmse: 4.6047 - val_loss: 19.7807 - val_mae: 2.8755 - val_rmse: 4.4475\n",
            "Epoch 52/100\n",
            "12/12 [==============================] - 0s 5ms/step - loss: 21.1118 - mae: 3.1954 - rmse: 4.5948 - val_loss: 19.7092 - val_mae: 2.8688 - val_rmse: 4.4395\n",
            "Epoch 53/100\n",
            "12/12 [==============================] - 0s 5ms/step - loss: 21.2424 - mae: 3.1719 - rmse: 4.6090 - val_loss: 19.6884 - val_mae: 2.8762 - val_rmse: 4.4372\n",
            "Epoch 54/100\n",
            "12/12 [==============================] - 0s 5ms/step - loss: 21.4368 - mae: 3.2927 - rmse: 4.6300 - val_loss: 19.5408 - val_mae: 2.8879 - val_rmse: 4.4205\n",
            "Epoch 55/100\n",
            "12/12 [==============================] - 0s 4ms/step - loss: 21.2951 - mae: 3.1952 - rmse: 4.6147 - val_loss: 19.8504 - val_mae: 2.8160 - val_rmse: 4.4554\n",
            "Epoch 56/100\n",
            "12/12 [==============================] - 0s 5ms/step - loss: 20.5526 - mae: 3.1631 - rmse: 4.5335 - val_loss: 19.4135 - val_mae: 2.9554 - val_rmse: 4.4061\n",
            "Epoch 57/100\n",
            "12/12 [==============================] - 0s 6ms/step - loss: 20.7151 - mae: 3.1755 - rmse: 4.5514 - val_loss: 19.4657 - val_mae: 2.8248 - val_rmse: 4.4120\n",
            "Epoch 58/100\n",
            "12/12 [==============================] - 0s 5ms/step - loss: 20.6935 - mae: 3.1826 - rmse: 4.5490 - val_loss: 19.2880 - val_mae: 2.8498 - val_rmse: 4.3918\n",
            "Epoch 59/100\n",
            "12/12 [==============================] - 0s 5ms/step - loss: 20.7021 - mae: 3.1159 - rmse: 4.5500 - val_loss: 19.3028 - val_mae: 2.8238 - val_rmse: 4.3935\n",
            "Epoch 60/100\n",
            "12/12 [==============================] - 0s 6ms/step - loss: 20.2493 - mae: 3.1312 - rmse: 4.4999 - val_loss: 19.1680 - val_mae: 2.8628 - val_rmse: 4.3781\n",
            "Epoch 61/100\n",
            "12/12 [==============================] - 0s 4ms/step - loss: 20.2766 - mae: 3.1353 - rmse: 4.5030 - val_loss: 19.1463 - val_mae: 2.8473 - val_rmse: 4.3756\n",
            "Epoch 62/100\n",
            "12/12 [==============================] - 0s 6ms/step - loss: 20.1042 - mae: 3.1178 - rmse: 4.4838 - val_loss: 19.0623 - val_mae: 2.8295 - val_rmse: 4.3660\n",
            "Epoch 63/100\n",
            "12/12 [==============================] - 0s 5ms/step - loss: 20.0739 - mae: 3.1158 - rmse: 4.4804 - val_loss: 18.9687 - val_mae: 2.8280 - val_rmse: 4.3553\n",
            "Epoch 64/100\n",
            "12/12 [==============================] - 0s 5ms/step - loss: 19.9983 - mae: 3.0854 - rmse: 4.4719 - val_loss: 18.9543 - val_mae: 2.8059 - val_rmse: 4.3537\n",
            "Epoch 65/100\n",
            "12/12 [==============================] - 0s 5ms/step - loss: 19.8738 - mae: 3.1216 - rmse: 4.4580 - val_loss: 18.8558 - val_mae: 2.8060 - val_rmse: 4.3423\n",
            "Epoch 66/100\n",
            "12/12 [==============================] - 0s 7ms/step - loss: 19.6417 - mae: 3.0586 - rmse: 4.4319 - val_loss: 18.9059 - val_mae: 2.7692 - val_rmse: 4.3481\n",
            "Epoch 67/100\n",
            "12/12 [==============================] - 0s 6ms/step - loss: 19.5107 - mae: 3.0595 - rmse: 4.4171 - val_loss: 18.6781 - val_mae: 2.7941 - val_rmse: 4.3218\n",
            "Epoch 68/100\n",
            "12/12 [==============================] - 0s 5ms/step - loss: 19.4590 - mae: 3.0696 - rmse: 4.4112 - val_loss: 18.7466 - val_mae: 2.7554 - val_rmse: 4.3297\n",
            "Epoch 69/100\n",
            "12/12 [==============================] - 0s 6ms/step - loss: 19.3551 - mae: 3.0282 - rmse: 4.3994 - val_loss: 18.5884 - val_mae: 2.7722 - val_rmse: 4.3114\n",
            "Epoch 70/100\n",
            "12/12 [==============================] - 0s 6ms/step - loss: 19.2582 - mae: 3.0546 - rmse: 4.3884 - val_loss: 18.4209 - val_mae: 2.8316 - val_rmse: 4.2920\n",
            "Epoch 71/100\n",
            "12/12 [==============================] - 0s 5ms/step - loss: 19.2031 - mae: 3.0424 - rmse: 4.3821 - val_loss: 18.4892 - val_mae: 2.7505 - val_rmse: 4.2999\n",
            "Epoch 72/100\n",
            "12/12 [==============================] - 0s 6ms/step - loss: 18.9808 - mae: 3.0145 - rmse: 4.3567 - val_loss: 18.2831 - val_mae: 2.7772 - val_rmse: 4.2759\n",
            "Epoch 73/100\n",
            "12/12 [==============================] - 0s 6ms/step - loss: 18.9785 - mae: 3.0477 - rmse: 4.3564 - val_loss: 18.3928 - val_mae: 2.7386 - val_rmse: 4.2887\n",
            "Epoch 74/100\n",
            "12/12 [==============================] - 0s 5ms/step - loss: 19.1933 - mae: 2.9908 - rmse: 4.3810 - val_loss: 18.2076 - val_mae: 2.7576 - val_rmse: 4.2670\n",
            "Epoch 75/100\n",
            "12/12 [==============================] - 0s 5ms/step - loss: 19.1070 - mae: 3.0728 - rmse: 4.3712 - val_loss: 18.1474 - val_mae: 2.7335 - val_rmse: 4.2600\n",
            "Epoch 76/100\n",
            "12/12 [==============================] - 0s 7ms/step - loss: 18.6707 - mae: 2.9743 - rmse: 4.3210 - val_loss: 18.0524 - val_mae: 2.7473 - val_rmse: 4.2488\n",
            "Epoch 77/100\n",
            "12/12 [==============================] - 0s 5ms/step - loss: 18.6635 - mae: 3.0228 - rmse: 4.3201 - val_loss: 18.1171 - val_mae: 2.7095 - val_rmse: 4.2564\n",
            "Epoch 78/100\n",
            "12/12 [==============================] - 0s 8ms/step - loss: 18.5078 - mae: 2.9888 - rmse: 4.3021 - val_loss: 17.9290 - val_mae: 2.7191 - val_rmse: 4.2343\n",
            "Epoch 79/100\n",
            "12/12 [==============================] - 0s 6ms/step - loss: 18.2953 - mae: 2.9610 - rmse: 4.2773 - val_loss: 17.8925 - val_mae: 2.7086 - val_rmse: 4.2300\n",
            "Epoch 80/100\n",
            "12/12 [==============================] - 0s 5ms/step - loss: 18.1705 - mae: 2.9556 - rmse: 4.2627 - val_loss: 17.6998 - val_mae: 2.7302 - val_rmse: 4.2071\n",
            "Epoch 81/100\n",
            "12/12 [==============================] - 0s 5ms/step - loss: 18.0644 - mae: 2.9523 - rmse: 4.2502 - val_loss: 17.7388 - val_mae: 2.6941 - val_rmse: 4.2117\n",
            "Epoch 82/100\n",
            "12/12 [==============================] - 0s 5ms/step - loss: 18.0624 - mae: 2.9510 - rmse: 4.2500 - val_loss: 17.8487 - val_mae: 2.6747 - val_rmse: 4.2248\n",
            "Epoch 83/100\n",
            "12/12 [==============================] - 0s 5ms/step - loss: 17.9344 - mae: 2.9443 - rmse: 4.2349 - val_loss: 17.5844 - val_mae: 2.7190 - val_rmse: 4.1934\n",
            "Epoch 84/100\n",
            "12/12 [==============================] - 0s 5ms/step - loss: 17.9308 - mae: 2.9377 - rmse: 4.2345 - val_loss: 17.8958 - val_mae: 2.6711 - val_rmse: 4.2303\n",
            "Epoch 85/100\n",
            "12/12 [==============================] - 0s 5ms/step - loss: 17.9481 - mae: 2.9463 - rmse: 4.2365 - val_loss: 17.4318 - val_mae: 2.6900 - val_rmse: 4.1751\n",
            "Epoch 86/100\n",
            "12/12 [==============================] - 0s 7ms/step - loss: 17.7258 - mae: 2.9121 - rmse: 4.2102 - val_loss: 17.2830 - val_mae: 2.7004 - val_rmse: 4.1573\n",
            "Epoch 87/100\n",
            "12/12 [==============================] - 0s 5ms/step - loss: 17.6222 - mae: 2.9214 - rmse: 4.1979 - val_loss: 17.3145 - val_mae: 2.6710 - val_rmse: 4.1611\n",
            "Epoch 88/100\n",
            "12/12 [==============================] - 0s 5ms/step - loss: 17.5803 - mae: 2.9257 - rmse: 4.1929 - val_loss: 17.1678 - val_mae: 2.6964 - val_rmse: 4.1434\n",
            "Epoch 89/100\n",
            "12/12 [==============================] - 0s 6ms/step - loss: 17.4569 - mae: 2.8987 - rmse: 4.1781 - val_loss: 17.3038 - val_mae: 2.6430 - val_rmse: 4.1598\n",
            "Epoch 90/100\n",
            "12/12 [==============================] - 0s 5ms/step - loss: 17.3117 - mae: 2.8953 - rmse: 4.1607 - val_loss: 17.0954 - val_mae: 2.6653 - val_rmse: 4.1347\n",
            "Epoch 91/100\n",
            "12/12 [==============================] - 0s 5ms/step - loss: 17.3671 - mae: 2.8574 - rmse: 4.1674 - val_loss: 17.1142 - val_mae: 2.6629 - val_rmse: 4.1369\n",
            "Epoch 92/100\n",
            "12/12 [==============================] - 0s 5ms/step - loss: 17.7900 - mae: 2.9923 - rmse: 4.2178 - val_loss: 17.4620 - val_mae: 2.6161 - val_rmse: 4.1788\n",
            "Epoch 93/100\n",
            "12/12 [==============================] - 0s 4ms/step - loss: 17.3101 - mae: 2.8682 - rmse: 4.1605 - val_loss: 16.8616 - val_mae: 2.6564 - val_rmse: 4.1063\n",
            "Epoch 94/100\n",
            "12/12 [==============================] - 0s 5ms/step - loss: 16.9506 - mae: 2.8770 - rmse: 4.1171 - val_loss: 16.9108 - val_mae: 2.6049 - val_rmse: 4.1123\n",
            "Epoch 95/100\n",
            "12/12 [==============================] - 0s 5ms/step - loss: 16.8754 - mae: 2.8612 - rmse: 4.1080 - val_loss: 16.8615 - val_mae: 2.6097 - val_rmse: 4.1063\n",
            "Epoch 96/100\n",
            "12/12 [==============================] - 0s 5ms/step - loss: 16.9557 - mae: 2.8428 - rmse: 4.1177 - val_loss: 16.6985 - val_mae: 2.6441 - val_rmse: 4.0864\n",
            "Epoch 97/100\n",
            "12/12 [==============================] - 0s 5ms/step - loss: 16.9142 - mae: 2.8978 - rmse: 4.1127 - val_loss: 16.9604 - val_mae: 2.5933 - val_rmse: 4.1183\n",
            "Epoch 98/100\n",
            "12/12 [==============================] - 0s 5ms/step - loss: 17.4405 - mae: 2.8651 - rmse: 4.1762 - val_loss: 16.5933 - val_mae: 2.6749 - val_rmse: 4.0735\n",
            "Epoch 99/100\n",
            "12/12 [==============================] - 0s 6ms/step - loss: 17.3306 - mae: 2.9719 - rmse: 4.1630 - val_loss: 16.7672 - val_mae: 2.5820 - val_rmse: 4.0948\n",
            "Epoch 100/100\n",
            "12/12 [==============================] - 0s 5ms/step - loss: 16.7731 - mae: 2.8053 - rmse: 4.0955 - val_loss: 16.5012 - val_mae: 2.6146 - val_rmse: 4.0622\n"
          ]
        }
      ]
    },
    {
      "cell_type": "code",
      "metadata": {
        "colab": {
          "base_uri": "https://localhost:8080/",
          "height": 809
        },
        "outputId": "f043e3fc-059e-4919-8fdd-858747484838",
        "id": "m7iBhygBei16"
      },
      "source": [
        "# Apply the custom function to see how your model is doing\n",
        "plot_history(history)"
      ],
      "execution_count": null,
      "outputs": [
        {
          "output_type": "display_data",
          "data": {
            "text/plain": [
              "<Figure size 432x288 with 1 Axes>"
            ],
            "image/png": "[encoded data removed]"
          },
          "metadata": {
            "needs_background": "light"
          }
        },
        {
          "output_type": "display_data",
          "data": {
            "text/plain": [
              "<Figure size 432x288 with 1 Axes>"
            ],
            "image/png": "[encoded data removed]"
          },
          "metadata": {
            "needs_background": "light"
          }
        },
        {
          "output_type": "display_data",
          "data": {
            "text/plain": [
              "<Figure size 432x288 with 1 Axes>"
            ],
            "image/png": "[encoded data removed]"
          },
          "metadata": {
            "needs_background": "light"
          }
        }
      ]
    },
    {
      "cell_type": "markdown",
      "metadata": {
        "id": "qvXfpgceei16"
      },
      "source": [
        "## Evaluation\n"
      ]
    },
    {
      "cell_type": "code",
      "metadata": {
        "colab": {
          "base_uri": "https://localhost:8080/"
        },
        "outputId": "25b6d584-eb7e-4251-82a4-dbe555a4ad74",
        "id": "t5gjZb1oei16"
      },
      "source": [
        "# Make predictions and evaluate your model\n",
        "train_preds = reg_model.predict(X_train)\n",
        "test_preds = reg_model.predict(X_test)\n",
        "\n",
        "print('training MAE:', mean_absolute_error(y_train, train_preds))\n",
        "print('training rmse:', np.sqrt(mean_squared_error(y_train, train_preds)))\n",
        "print('training R2:', r2_score(y_train, train_preds))\n",
        "print('\\n')\n",
        "print('testing MAE:', mean_absolute_error(y_test, test_preds))\n",
        "print('testing rmse:', np.sqrt(mean_squared_error(y_test, test_preds)))\n",
        "print('testing R2:', r2_score(y_test, test_preds))"
      ],
      "execution_count": null,
      "outputs": [
        {
          "output_type": "stream",
          "name": "stdout",
          "text": [
            "12/12 [==============================] - 0s 2ms/step\n",
            "4/4 [==============================] - 0s 3ms/step\n",
            "training MAE: 3.7119638453058323\n",
            "training rmse: 5.340850376294159\n",
            "training R2: 0.6783477019796071\n",
            "\n",
            "\n",
            "testing MAE: 3.494978653915285\n",
            "testing rmse: 4.996363128594822\n",
            "testing R2: 0.6435147399982024\n"
          ]
        }
      ]
    },
    {
      "cell_type": "code",
      "source": [],
      "metadata": {
        "id": "vRy67AZrfJHo"
      },
      "execution_count": null,
      "outputs": []
    },
    {
      "cell_type": "code",
      "metadata": {
        "colab": {
          "base_uri": "https://localhost:8080/"
        },
        "outputId": "56a18a94-24f8-494d-8634-ed95e8d80b1f",
        "id": "AyzQS6bEfJpv"
      },
      "source": [
        "# Instantiate your sequential model\n",
        "\n",
        "reg_model = Sequential()\n",
        "# use all features as input using input_dim\n",
        "input_dim = X_train.shape[1]\n",
        "\n",
        "# Add first hidden layer\n",
        "reg_model.add(Dense(10, activation='relu', input_dim=input_dim, name='h1'))\n",
        "reg_model.add(Dense(10, activation='relu', name='h2'))\n",
        "reg_model.add(Dense(10, activation='relu', name='h3'))\n",
        "reg_model.add(Dense(10, activation='relu', name='h4'))\n",
        "\n",
        "# Add output layer with 1 node\n",
        "reg_model.add(Dense(1, activation='linear', name ='output'))\n",
        "\n",
        "\n",
        "# Check summary of network\n",
        "reg_model.summary()\n",
        "\n"
      ],
      "execution_count": null,
      "outputs": [
        {
          "output_type": "stream",
          "name": "stdout",
          "text": [
            "Model: \"sequential_3\"\n",
            "_________________________________________________________________\n",
            " Layer (type)                Output Shape              Param #   \n",
            "=================================================================\n",
            " h1 (Dense)                  (None, 10)                70        \n",
            "                                                                 \n",
            " h2 (Dense)                  (None, 10)                110       \n",
            "                                                                 \n",
            " h3 (Dense)                  (None, 10)                110       \n",
            "                                                                 \n",
            " h4 (Dense)                  (None, 10)                110       \n",
            "                                                                 \n",
            " output (Dense)              (None, 1)                 11        \n",
            "                                                                 \n",
            "=================================================================\n",
            "Total params: 411\n",
            "Trainable params: 411\n",
            "Non-trainable params: 0\n",
            "_________________________________________________________________\n"
          ]
        }
      ]
    },
    {
      "cell_type": "markdown",
      "metadata": {
        "id": "iLeEOQQDfJpw"
      },
      "source": [
        "## Compiling\n",
        "\n",
        "Compiling the model puts all the pieces together to make it ready to train.  We need to specify:\n",
        "\n",
        "* **Optimizer:** An Adam optimizer is a favorite and often performs well, it's a good place to start.\n",
        "  - Other optimizers : Gradient Descent,Stochastic Gradient Descent,Adagrad,RMSProp\n",
        "* **Loss Function:** 'mse' or mean squared error.  This is the number our model will try to reduce in each epoch.  Since this is a regression model we want our model to minimize the mean squared error.\n",
        "* **Metrics:** 'mae' or mean absolute error.  We can provide a list of any appropriate metrics we want the model to keep track at each epoch.\n",
        "\n",
        "\n"
      ]
    },
    {
      "cell_type": "code",
      "source": [
        "from tensorflow.keras.metrics import RootMeanSquaredError"
      ],
      "metadata": {
        "id": "Z5Z9sLbhfJpw"
      },
      "execution_count": null,
      "outputs": []
    },
    {
      "cell_type": "code",
      "metadata": {
        "id": "tUNKLuoffJpw"
      },
      "source": [
        "# Compile your model.\n",
        "rmse = RootMeanSquaredError(name='rmse')\n",
        "\n",
        "reg_model.compile(optimizer= 'adam', loss = 'mse', metrics= ['mae', rmse])"
      ],
      "execution_count": null,
      "outputs": []
    },
    {
      "cell_type": "markdown",
      "metadata": {
        "id": "wMP3bA89fJpw"
      },
      "source": [
        "# Training\n",
        "\n",
        "Let's try training our model for 100 few epochs.  Sometimes that is enough, and it will give us an idea whether our model is learning anything."
      ]
    },
    {
      "cell_type": "code",
      "metadata": {
        "colab": {
          "base_uri": "https://localhost:8080/"
        },
        "outputId": "ea0d6cc3-e85e-4e04-99fb-d1c615174842",
        "id": "DCd3kLrNfJpw"
      },
      "source": [
        "# Fit your model\n",
        "\n",
        "history = reg_model.fit(X_train, y_train,\n",
        "                        validation_data = (X_test, y_test),\n",
        "                        epochs = 100)\n"
      ],
      "execution_count": null,
      "outputs": [
        {
          "output_type": "stream",
          "name": "stdout",
          "text": [
            "Epoch 1/100\n",
            "12/12 [==============================] - 1s 21ms/step - loss: 612.6592 - mae: 22.8894 - rmse: 24.7520 - val_loss: 526.7858 - val_mae: 21.3705 - val_rmse: 22.9518\n",
            "Epoch 2/100\n",
            "12/12 [==============================] - 0s 6ms/step - loss: 610.6275 - mae: 22.8441 - rmse: 24.7109 - val_loss: 524.7380 - val_mae: 21.3216 - val_rmse: 22.9072\n",
            "Epoch 3/100\n",
            "12/12 [==============================] - 0s 8ms/step - loss: 608.2130 - mae: 22.7900 - rmse: 24.6620 - val_loss: 522.1390 - val_mae: 21.2595 - val_rmse: 22.8504\n",
            "Epoch 4/100\n",
            "12/12 [==============================] - 0s 6ms/step - loss: 605.0004 - mae: 22.7192 - rmse: 24.5968 - val_loss: 518.4734 - val_mae: 21.1719 - val_rmse: 22.7700\n",
            "Epoch 5/100\n",
            "12/12 [==============================] - 0s 8ms/step - loss: 600.4664 - mae: 22.6155 - rmse: 24.5044 - val_loss: 513.2330 - val_mae: 21.0443 - val_rmse: 22.6546\n",
            "Epoch 6/100\n",
            "12/12 [==============================] - 0s 7ms/step - loss: 594.1188 - mae: 22.4720 - rmse: 24.3746 - val_loss: 506.2309 - val_mae: 20.8720 - val_rmse: 22.4996\n",
            "Epoch 7/100\n",
            "12/12 [==============================] - 0s 5ms/step - loss: 585.4935 - mae: 22.2739 - rmse: 24.1970 - val_loss: 496.3857 - val_mae: 20.6263 - val_rmse: 22.2797\n",
            "Epoch 8/100\n",
            "12/12 [==============================] - 0s 7ms/step - loss: 573.4427 - mae: 21.9907 - rmse: 23.9467 - val_loss: 482.6915 - val_mae: 20.2782 - val_rmse: 21.9702\n",
            "Epoch 9/100\n",
            "12/12 [==============================] - 0s 6ms/step - loss: 556.9553 - mae: 21.6003 - rmse: 23.5999 - val_loss: 464.5274 - val_mae: 19.8057 - val_rmse: 21.5529\n",
            "Epoch 10/100\n",
            "12/12 [==============================] - 0s 7ms/step - loss: 535.4886 - mae: 21.0706 - rmse: 23.1406 - val_loss: 441.2657 - val_mae: 19.1806 - val_rmse: 21.0063\n",
            "Epoch 11/100\n",
            "12/12 [==============================] - 0s 6ms/step - loss: 508.0155 - mae: 20.3799 - rmse: 22.5392 - val_loss: 412.3950 - val_mae: 18.3726 - val_rmse: 20.3075\n",
            "Epoch 12/100\n",
            "12/12 [==============================] - 0s 5ms/step - loss: 474.0087 - mae: 19.4869 - rmse: 21.7717 - val_loss: 376.4891 - val_mae: 17.3091 - val_rmse: 19.4033\n",
            "Epoch 13/100\n",
            "12/12 [==============================] - 0s 6ms/step - loss: 431.4000 - mae: 18.2912 - rmse: 20.7702 - val_loss: 330.1889 - val_mae: 15.8604 - val_rmse: 18.1711\n",
            "Epoch 14/100\n",
            "12/12 [==============================] - 0s 5ms/step - loss: 376.5005 - mae: 16.6716 - rmse: 19.4036 - val_loss: 274.0078 - val_mae: 13.9578 - val_rmse: 16.5532\n",
            "Epoch 15/100\n",
            "12/12 [==============================] - 0s 5ms/step - loss: 313.2729 - mae: 14.6851 - rmse: 17.6995 - val_loss: 216.3948 - val_mae: 11.8630 - val_rmse: 14.7104\n",
            "Epoch 16/100\n",
            "12/12 [==============================] - 0s 6ms/step - loss: 250.6144 - mae: 12.5745 - rmse: 15.8308 - val_loss: 165.9314 - val_mae: 9.9762 - val_rmse: 12.8814\n",
            "Epoch 17/100\n",
            "12/12 [==============================] - 0s 5ms/step - loss: 196.7507 - mae: 10.7916 - rmse: 14.0268 - val_loss: 132.4655 - val_mae: 8.7450 - val_rmse: 11.5094\n",
            "Epoch 18/100\n",
            "12/12 [==============================] - 0s 5ms/step - loss: 162.9017 - mae: 9.6916 - rmse: 12.7633 - val_loss: 118.7775 - val_mae: 8.1288 - val_rmse: 10.8985\n",
            "Epoch 19/100\n",
            "12/12 [==============================] - 0s 5ms/step - loss: 145.0029 - mae: 9.2254 - rmse: 12.0417 - val_loss: 117.8264 - val_mae: 8.1404 - val_rmse: 10.8548\n",
            "Epoch 20/100\n",
            "12/12 [==============================] - 0s 6ms/step - loss: 140.6674 - mae: 9.1938 - rmse: 11.8603 - val_loss: 118.9124 - val_mae: 8.2171 - val_rmse: 10.9047\n",
            "Epoch 21/100\n",
            "12/12 [==============================] - 0s 6ms/step - loss: 137.8834 - mae: 9.1338 - rmse: 11.7424 - val_loss: 116.5132 - val_mae: 8.1282 - val_rmse: 10.7941\n",
            "Epoch 22/100\n",
            "12/12 [==============================] - 0s 7ms/step - loss: 135.3316 - mae: 9.0187 - rmse: 11.6332 - val_loss: 113.0565 - val_mae: 7.9778 - val_rmse: 10.6328\n",
            "Epoch 23/100\n",
            "12/12 [==============================] - 0s 4ms/step - loss: 132.5569 - mae: 8.9018 - rmse: 11.5133 - val_loss: 111.0907 - val_mae: 7.9046 - val_rmse: 10.5400\n",
            "Epoch 24/100\n",
            "12/12 [==============================] - 0s 6ms/step - loss: 130.0661 - mae: 8.8069 - rmse: 11.4047 - val_loss: 109.1833 - val_mae: 7.8347 - val_rmse: 10.4491\n",
            "Epoch 25/100\n",
            "12/12 [==============================] - 0s 5ms/step - loss: 127.5342 - mae: 8.6963 - rmse: 11.2931 - val_loss: 106.2773 - val_mae: 7.7063 - val_rmse: 10.3091\n",
            "Epoch 26/100\n",
            "12/12 [==============================] - 0s 5ms/step - loss: 124.8159 - mae: 8.5875 - rmse: 11.1721 - val_loss: 104.2946 - val_mae: 7.6304 - val_rmse: 10.2125\n",
            "Epoch 27/100\n",
            "12/12 [==============================] - 0s 6ms/step - loss: 122.2338 - mae: 8.4854 - rmse: 11.0559 - val_loss: 101.9720 - val_mae: 7.5371 - val_rmse: 10.0981\n",
            "Epoch 28/100\n",
            "12/12 [==============================] - 0s 5ms/step - loss: 119.5128 - mae: 8.3737 - rmse: 10.9322 - val_loss: 99.4365 - val_mae: 7.4293 - val_rmse: 9.9718\n",
            "Epoch 29/100\n",
            "12/12 [==============================] - 0s 5ms/step - loss: 116.7251 - mae: 8.2594 - rmse: 10.8039 - val_loss: 97.4696 - val_mae: 7.3527 - val_rmse: 9.8727\n",
            "Epoch 30/100\n",
            "12/12 [==============================] - 0s 7ms/step - loss: 113.8154 - mae: 8.1282 - rmse: 10.6684 - val_loss: 93.9785 - val_mae: 7.1853 - val_rmse: 9.6943\n",
            "Epoch 31/100\n",
            "12/12 [==============================] - 0s 5ms/step - loss: 110.6351 - mae: 7.9813 - rmse: 10.5183 - val_loss: 91.4905 - val_mae: 7.0812 - val_rmse: 9.5651\n",
            "Epoch 32/100\n",
            "12/12 [==============================] - 0s 7ms/step - loss: 107.7059 - mae: 7.8741 - rmse: 10.3781 - val_loss: 89.3200 - val_mae: 7.0015 - val_rmse: 9.4509\n",
            "Epoch 33/100\n",
            "12/12 [==============================] - 0s 5ms/step - loss: 104.2693 - mae: 7.7113 - rmse: 10.2112 - val_loss: 85.5254 - val_mae: 6.8117 - val_rmse: 9.2480\n",
            "Epoch 34/100\n",
            "12/12 [==============================] - 0s 6ms/step - loss: 101.0113 - mae: 7.5426 - rmse: 10.0504 - val_loss: 82.3237 - val_mae: 6.6615 - val_rmse: 9.0732\n",
            "Epoch 35/100\n",
            "12/12 [==============================] - 0s 7ms/step - loss: 97.5250 - mae: 7.3965 - rmse: 9.8755 - val_loss: 79.7748 - val_mae: 6.5651 - val_rmse: 8.9317\n",
            "Epoch 36/100\n",
            "12/12 [==============================] - 0s 5ms/step - loss: 93.9800 - mae: 7.2606 - rmse: 9.6943 - val_loss: 76.7192 - val_mae: 6.4306 - val_rmse: 8.7590\n",
            "Epoch 37/100\n",
            "12/12 [==============================] - 0s 7ms/step - loss: 90.2579 - mae: 7.0822 - rmse: 9.5004 - val_loss: 72.5612 - val_mae: 6.2150 - val_rmse: 8.5183\n",
            "Epoch 38/100\n",
            "12/12 [==============================] - 0s 5ms/step - loss: 85.7701 - mae: 6.8633 - rmse: 9.2612 - val_loss: 68.2089 - val_mae: 5.9975 - val_rmse: 8.2589\n",
            "Epoch 39/100\n",
            "12/12 [==============================] - 0s 5ms/step - loss: 81.1442 - mae: 6.6206 - rmse: 9.0080 - val_loss: 63.5834 - val_mae: 5.7321 - val_rmse: 7.9739\n",
            "Epoch 40/100\n",
            "12/12 [==============================] - 0s 5ms/step - loss: 76.2126 - mae: 6.4295 - rmse: 8.7300 - val_loss: 60.9883 - val_mae: 5.6409 - val_rmse: 7.8095\n",
            "Epoch 41/100\n",
            "12/12 [==============================] - 0s 5ms/step - loss: 71.6541 - mae: 6.2534 - rmse: 8.4649 - val_loss: 57.5588 - val_mae: 5.4753 - val_rmse: 7.5868\n",
            "Epoch 42/100\n",
            "12/12 [==============================] - 0s 6ms/step - loss: 67.5362 - mae: 6.0216 - rmse: 8.2180 - val_loss: 53.2544 - val_mae: 5.1961 - val_rmse: 7.2976\n",
            "Epoch 43/100\n",
            "12/12 [==============================] - 0s 5ms/step - loss: 63.4049 - mae: 5.7731 - rmse: 7.9627 - val_loss: 50.5923 - val_mae: 5.1134 - val_rmse: 7.1128\n",
            "Epoch 44/100\n",
            "12/12 [==============================] - 0s 5ms/step - loss: 59.8851 - mae: 5.6821 - rmse: 7.7385 - val_loss: 48.8133 - val_mae: 5.1571 - val_rmse: 6.9866\n",
            "Epoch 45/100\n",
            "12/12 [==============================] - 0s 5ms/step - loss: 56.1413 - mae: 5.5004 - rmse: 7.4927 - val_loss: 45.4916 - val_mae: 4.9552 - val_rmse: 6.7447\n",
            "Epoch 46/100\n",
            "12/12 [==============================] - 0s 5ms/step - loss: 53.0273 - mae: 5.2630 - rmse: 7.2820 - val_loss: 42.7545 - val_mae: 4.7811 - val_rmse: 6.5387\n",
            "Epoch 47/100\n",
            "12/12 [==============================] - 0s 5ms/step - loss: 49.9721 - mae: 5.1623 - rmse: 7.0691 - val_loss: 41.5239 - val_mae: 4.8461 - val_rmse: 6.4439\n",
            "Epoch 48/100\n",
            "12/12 [==============================] - 0s 6ms/step - loss: 47.0844 - mae: 5.0250 - rmse: 6.8618 - val_loss: 39.2409 - val_mae: 4.6893 - val_rmse: 6.2643\n",
            "Epoch 49/100\n",
            "12/12 [==============================] - 0s 5ms/step - loss: 44.5512 - mae: 4.8467 - rmse: 6.6747 - val_loss: 36.8207 - val_mae: 4.4737 - val_rmse: 6.0680\n",
            "Epoch 50/100\n",
            "12/12 [==============================] - 0s 5ms/step - loss: 42.3702 - mae: 4.7306 - rmse: 6.5092 - val_loss: 35.4996 - val_mae: 4.4422 - val_rmse: 5.9582\n",
            "Epoch 51/100\n",
            "12/12 [==============================] - 0s 5ms/step - loss: 40.3320 - mae: 4.6268 - rmse: 6.3507 - val_loss: 34.1928 - val_mae: 4.3744 - val_rmse: 5.8475\n",
            "Epoch 52/100\n",
            "12/12 [==============================] - 0s 6ms/step - loss: 38.3783 - mae: 4.5290 - rmse: 6.1950 - val_loss: 32.8564 - val_mae: 4.2678 - val_rmse: 5.7320\n",
            "Epoch 53/100\n",
            "12/12 [==============================] - 0s 5ms/step - loss: 36.9631 - mae: 4.4055 - rmse: 6.0797 - val_loss: 31.5563 - val_mae: 4.1756 - val_rmse: 5.6175\n",
            "Epoch 54/100\n",
            "12/12 [==============================] - 0s 6ms/step - loss: 35.1425 - mae: 4.3478 - rmse: 5.9281 - val_loss: 30.6421 - val_mae: 4.1662 - val_rmse: 5.5355\n",
            "Epoch 55/100\n",
            "12/12 [==============================] - 0s 4ms/step - loss: 33.0350 - mae: 4.2052 - rmse: 5.7476 - val_loss: 28.4385 - val_mae: 3.8401 - val_rmse: 5.3328\n",
            "Epoch 56/100\n",
            "12/12 [==============================] - 0s 6ms/step - loss: 31.5724 - mae: 4.0306 - rmse: 5.6189 - val_loss: 27.5317 - val_mae: 3.7582 - val_rmse: 5.2471\n",
            "Epoch 57/100\n",
            "12/12 [==============================] - 0s 6ms/step - loss: 30.3969 - mae: 3.9882 - rmse: 5.5133 - val_loss: 26.8185 - val_mae: 3.6966 - val_rmse: 5.1787\n",
            "Epoch 58/100\n",
            "12/12 [==============================] - 0s 5ms/step - loss: 29.3990 - mae: 3.9244 - rmse: 5.4221 - val_loss: 26.3563 - val_mae: 3.6993 - val_rmse: 5.1338\n",
            "Epoch 59/100\n",
            "12/12 [==============================] - 0s 5ms/step - loss: 28.5520 - mae: 3.8847 - rmse: 5.3434 - val_loss: 25.6326 - val_mae: 3.6115 - val_rmse: 5.0629\n",
            "Epoch 60/100\n",
            "12/12 [==============================] - 0s 5ms/step - loss: 28.0190 - mae: 3.8074 - rmse: 5.2933 - val_loss: 24.8919 - val_mae: 3.4810 - val_rmse: 4.9892\n",
            "Epoch 61/100\n",
            "12/12 [==============================] - 0s 4ms/step - loss: 27.1993 - mae: 3.7740 - rmse: 5.2153 - val_loss: 24.6970 - val_mae: 3.5188 - val_rmse: 4.9696\n",
            "Epoch 62/100\n",
            "12/12 [==============================] - 0s 6ms/step - loss: 26.7906 - mae: 3.7761 - rmse: 5.1760 - val_loss: 24.2484 - val_mae: 3.4792 - val_rmse: 4.9243\n",
            "Epoch 63/100\n",
            "12/12 [==============================] - 0s 5ms/step - loss: 26.1854 - mae: 3.7001 - rmse: 5.1172 - val_loss: 23.7195 - val_mae: 3.3610 - val_rmse: 4.8703\n",
            "Epoch 64/100\n",
            "12/12 [==============================] - 0s 4ms/step - loss: 25.8507 - mae: 3.6474 - rmse: 5.0844 - val_loss: 23.4981 - val_mae: 3.3610 - val_rmse: 4.8475\n",
            "Epoch 65/100\n",
            "12/12 [==============================] - 0s 6ms/step - loss: 25.6452 - mae: 3.6102 - rmse: 5.0641 - val_loss: 23.2014 - val_mae: 3.3142 - val_rmse: 4.8168\n",
            "Epoch 66/100\n",
            "12/12 [==============================] - 0s 5ms/step - loss: 25.9746 - mae: 3.7337 - rmse: 5.0965 - val_loss: 23.2172 - val_mae: 3.4217 - val_rmse: 4.8184\n",
            "Epoch 67/100\n",
            "12/12 [==============================] - 0s 6ms/step - loss: 24.9167 - mae: 3.5750 - rmse: 4.9917 - val_loss: 22.7767 - val_mae: 3.2306 - val_rmse: 4.7725\n",
            "Epoch 68/100\n",
            "12/12 [==============================] - 0s 4ms/step - loss: 24.7921 - mae: 3.5586 - rmse: 4.9792 - val_loss: 22.5582 - val_mae: 3.2584 - val_rmse: 4.7495\n",
            "Epoch 69/100\n",
            "12/12 [==============================] - 0s 6ms/step - loss: 24.4936 - mae: 3.5505 - rmse: 4.9491 - val_loss: 22.4052 - val_mae: 3.2512 - val_rmse: 4.7334\n",
            "Epoch 70/100\n",
            "12/12 [==============================] - 0s 5ms/step - loss: 24.3678 - mae: 3.5618 - rmse: 4.9364 - val_loss: 22.2621 - val_mae: 3.2592 - val_rmse: 4.7183\n",
            "Epoch 71/100\n",
            "12/12 [==============================] - 0s 6ms/step - loss: 24.1496 - mae: 3.5368 - rmse: 4.9142 - val_loss: 22.1230 - val_mae: 3.2033 - val_rmse: 4.7035\n",
            "Epoch 72/100\n",
            "12/12 [==============================] - 0s 6ms/step - loss: 24.1191 - mae: 3.5454 - rmse: 4.9111 - val_loss: 21.9904 - val_mae: 3.2209 - val_rmse: 4.6894\n",
            "Epoch 73/100\n",
            "12/12 [==============================] - 0s 6ms/step - loss: 23.9929 - mae: 3.5079 - rmse: 4.8983 - val_loss: 21.9968 - val_mae: 3.1268 - val_rmse: 4.6901\n",
            "Epoch 74/100\n",
            "12/12 [==============================] - 0s 5ms/step - loss: 23.8722 - mae: 3.4580 - rmse: 4.8859 - val_loss: 21.7859 - val_mae: 3.1526 - val_rmse: 4.6675\n",
            "Epoch 75/100\n",
            "12/12 [==============================] - 0s 6ms/step - loss: 23.6147 - mae: 3.5338 - rmse: 4.8595 - val_loss: 21.7517 - val_mae: 3.2583 - val_rmse: 4.6639\n",
            "Epoch 76/100\n",
            "12/12 [==============================] - 0s 5ms/step - loss: 23.6221 - mae: 3.5381 - rmse: 4.8603 - val_loss: 21.6148 - val_mae: 3.1639 - val_rmse: 4.6492\n",
            "Epoch 77/100\n",
            "12/12 [==============================] - 0s 7ms/step - loss: 23.4436 - mae: 3.4704 - rmse: 4.8419 - val_loss: 21.5606 - val_mae: 3.1346 - val_rmse: 4.6433\n",
            "Epoch 78/100\n",
            "12/12 [==============================] - 0s 6ms/step - loss: 23.4429 - mae: 3.4430 - rmse: 4.8418 - val_loss: 21.5019 - val_mae: 3.1154 - val_rmse: 4.6370\n",
            "Epoch 79/100\n",
            "12/12 [==============================] - 0s 5ms/step - loss: 23.2567 - mae: 3.4756 - rmse: 4.8225 - val_loss: 21.4028 - val_mae: 3.1822 - val_rmse: 4.6263\n",
            "Epoch 80/100\n",
            "12/12 [==============================] - 0s 5ms/step - loss: 23.1136 - mae: 3.4701 - rmse: 4.8077 - val_loss: 21.3260 - val_mae: 3.1370 - val_rmse: 4.6180\n",
            "Epoch 81/100\n",
            "12/12 [==============================] - 0s 4ms/step - loss: 23.0214 - mae: 3.4470 - rmse: 4.7981 - val_loss: 21.2819 - val_mae: 3.1114 - val_rmse: 4.6132\n",
            "Epoch 82/100\n",
            "12/12 [==============================] - 0s 6ms/step - loss: 22.9715 - mae: 3.4178 - rmse: 4.7929 - val_loss: 21.2659 - val_mae: 3.0919 - val_rmse: 4.6115\n",
            "Epoch 83/100\n",
            "12/12 [==============================] - 0s 4ms/step - loss: 22.8850 - mae: 3.4105 - rmse: 4.7838 - val_loss: 21.1587 - val_mae: 3.1175 - val_rmse: 4.5999\n",
            "Epoch 84/100\n",
            "12/12 [==============================] - 0s 6ms/step - loss: 23.3396 - mae: 3.5330 - rmse: 4.8311 - val_loss: 21.1224 - val_mae: 3.2099 - val_rmse: 4.5959\n",
            "Epoch 85/100\n",
            "12/12 [==============================] - 0s 5ms/step - loss: 23.0071 - mae: 3.4092 - rmse: 4.7966 - val_loss: 21.2769 - val_mae: 3.0112 - val_rmse: 4.6127\n",
            "Epoch 86/100\n",
            "12/12 [==============================] - 0s 4ms/step - loss: 22.7564 - mae: 3.3896 - rmse: 4.7704 - val_loss: 20.9279 - val_mae: 3.1121 - val_rmse: 4.5747\n",
            "Epoch 87/100\n",
            "12/12 [==============================] - 0s 5ms/step - loss: 22.6204 - mae: 3.4328 - rmse: 4.7561 - val_loss: 20.8744 - val_mae: 3.1141 - val_rmse: 4.5688\n",
            "Epoch 88/100\n",
            "12/12 [==============================] - 0s 5ms/step - loss: 22.4973 - mae: 3.3897 - rmse: 4.7431 - val_loss: 20.9153 - val_mae: 3.0605 - val_rmse: 4.5733\n",
            "Epoch 89/100\n",
            "12/12 [==============================] - 0s 6ms/step - loss: 22.4526 - mae: 3.3724 - rmse: 4.7384 - val_loss: 20.8751 - val_mae: 3.0596 - val_rmse: 4.5689\n",
            "Epoch 90/100\n",
            "12/12 [==============================] - 0s 6ms/step - loss: 22.3991 - mae: 3.4025 - rmse: 4.7328 - val_loss: 20.7446 - val_mae: 3.1167 - val_rmse: 4.5546\n",
            "Epoch 91/100\n",
            "12/12 [==============================] - 0s 5ms/step - loss: 22.3431 - mae: 3.3909 - rmse: 4.7268 - val_loss: 20.7687 - val_mae: 3.0547 - val_rmse: 4.5573\n",
            "Epoch 92/100\n",
            "12/12 [==============================] - 0s 5ms/step - loss: 22.2956 - mae: 3.3680 - rmse: 4.7218 - val_loss: 20.6926 - val_mae: 3.0524 - val_rmse: 4.5489\n",
            "Epoch 93/100\n",
            "12/12 [==============================] - 0s 5ms/step - loss: 22.3541 - mae: 3.4108 - rmse: 4.7280 - val_loss: 20.6254 - val_mae: 3.0593 - val_rmse: 4.5415\n",
            "Epoch 94/100\n",
            "12/12 [==============================] - 0s 6ms/step - loss: 22.1797 - mae: 3.3612 - rmse: 4.7095 - val_loss: 20.5961 - val_mae: 3.0379 - val_rmse: 4.5383\n",
            "Epoch 95/100\n",
            "12/12 [==============================] - 0s 7ms/step - loss: 22.1997 - mae: 3.3727 - rmse: 4.7117 - val_loss: 20.5991 - val_mae: 3.0133 - val_rmse: 4.5386\n",
            "Epoch 96/100\n",
            "12/12 [==============================] - 0s 5ms/step - loss: 22.1269 - mae: 3.3427 - rmse: 4.7039 - val_loss: 20.5687 - val_mae: 3.0218 - val_rmse: 4.5353\n",
            "Epoch 97/100\n",
            "12/12 [==============================] - 0s 6ms/step - loss: 22.0602 - mae: 3.3536 - rmse: 4.6968 - val_loss: 20.4754 - val_mae: 3.0431 - val_rmse: 4.5250\n",
            "Epoch 98/100\n",
            "12/12 [==============================] - 0s 5ms/step - loss: 22.0664 - mae: 3.3990 - rmse: 4.6975 - val_loss: 20.4220 - val_mae: 3.0735 - val_rmse: 4.5191\n",
            "Epoch 99/100\n",
            "12/12 [==============================] - 0s 5ms/step - loss: 21.8941 - mae: 3.3653 - rmse: 4.6791 - val_loss: 20.4652 - val_mae: 3.0195 - val_rmse: 4.5238\n",
            "Epoch 100/100\n",
            "12/12 [==============================] - 0s 4ms/step - loss: 21.8845 - mae: 3.3358 - rmse: 4.6781 - val_loss: 20.5589 - val_mae: 2.9852 - val_rmse: 4.5342\n"
          ]
        }
      ]
    },
    {
      "cell_type": "code",
      "metadata": {
        "colab": {
          "base_uri": "https://localhost:8080/",
          "height": 809
        },
        "outputId": "9a26059a-dbaa-4022-e79d-8f531ed04c7b",
        "id": "4AAjL79MfJpw"
      },
      "source": [
        "# Apply the custom function to see how your model is doing\n",
        "plot_history(history)"
      ],
      "execution_count": null,
      "outputs": [
        {
          "output_type": "display_data",
          "data": {
            "text/plain": [
              "<Figure size 432x288 with 1 Axes>"
            ],
            "image/png": "[encoded data removed]"
          },
          "metadata": {
            "needs_background": "light"
          }
        },
        {
          "output_type": "display_data",
          "data": {
            "text/plain": [
              "<Figure size 432x288 with 1 Axes>"
            ],
            "image/png": "[encoded data removed]"
          },
          "metadata": {
            "needs_background": "light"
          }
        },
        {
          "output_type": "display_data",
          "data": {
            "text/plain": [
              "<Figure size 432x288 with 1 Axes>"
            ],
            "image/png": "[encoded data removed]"
          },
          "metadata": {
            "needs_background": "light"
          }
        }
      ]
    },
    {
      "cell_type": "markdown",
      "metadata": {
        "id": "SxZ_khFvfJpw"
      },
      "source": [
        "## Evaluation\n"
      ]
    },
    {
      "cell_type": "code",
      "metadata": {
        "colab": {
          "base_uri": "https://localhost:8080/"
        },
        "outputId": "6f9bb65b-5b77-44c9-c213-957b3c4b9f42",
        "id": "gCOdqxLtfJpx"
      },
      "source": [
        "# Make predictions and evaluate your model\n",
        "train_preds = reg_model.predict(X_train)\n",
        "test_preds = reg_model.predict(X_test)\n",
        "\n",
        "print('training MAE:', mean_absolute_error(y_train, train_preds))\n",
        "print('training rmse:', np.sqrt(mean_squared_error(y_train, train_preds)))\n",
        "print('training R2:', r2_score(y_train, train_preds))\n",
        "print('\\n')\n",
        "print('testing MAE:', mean_absolute_error(y_test, test_preds))\n",
        "print('testing rmse:', np.sqrt(mean_squared_error(y_test, test_preds)))\n",
        "print('testing R2:', r2_score(y_test, test_preds))"
      ],
      "execution_count": null,
      "outputs": [
        {
          "output_type": "stream",
          "name": "stdout",
          "text": [
            "12/12 [==============================] - 0s 2ms/step\n",
            "4/4 [==============================] - 0s 3ms/step\n",
            "training MAE: 3.3190279880111007\n",
            "training rmse: 4.675045592167463\n",
            "training R2: 0.7535450547757794\n",
            "\n",
            "\n",
            "testing MAE: 2.9851600181399367\n",
            "testing rmse: 4.534190495063666\n",
            "testing R2: 0.7064155072921211\n"
          ]
        }
      ]
    },
    {
      "cell_type": "code",
      "source": [],
      "metadata": {
        "id": "gqbnQKKef17-"
      },
      "execution_count": null,
      "outputs": []
    },
    {
      "cell_type": "code",
      "metadata": {
        "colab": {
          "base_uri": "https://localhost:8080/"
        },
        "outputId": "b526dbe4-745a-4545-f135-e75d874cbbdb",
        "id": "ONjwHfY4gAtw"
      },
      "source": [
        "# Instantiate your sequential model\n",
        "\n",
        "reg_model = Sequential()\n",
        "# use all features as input using input_dim\n",
        "input_dim = X_train.shape[1]\n",
        "\n",
        "# Add first hidden layer\n",
        "reg_model.add(Dense(1000, activation='relu', input_dim=input_dim, name='h1'))\n",
        "reg_model.add(Dropout(.2))\n",
        "reg_model.add(Dense(1000, activation='relu', name='h2'))\n",
        "reg_model.add(Dropout(.2))\n",
        "reg_model.add(Dense(1000, activation='relu', name='h3'))\n",
        "reg_model.add(Dropout(.2))\n",
        "reg_model.add(Dense(1000, activation='relu', name='h4'))\n",
        "\n",
        "# Add output layer with 1 node\n",
        "reg_model.add(Dense(1, activation='linear', name ='output'))\n",
        "\n",
        "\n",
        "# Check summary of network\n",
        "reg_model.summary()\n",
        "\n"
      ],
      "execution_count": null,
      "outputs": [
        {
          "output_type": "stream",
          "name": "stdout",
          "text": [
            "Model: \"sequential_7\"\n",
            "_________________________________________________________________\n",
            " Layer (type)                Output Shape              Param #   \n",
            "=================================================================\n",
            " h1 (Dense)                  (None, 1000)              7000      \n",
            "                                                                 \n",
            " dropout (Dropout)           (None, 1000)              0         \n",
            "                                                                 \n",
            " h2 (Dense)                  (None, 1000)              1001000   \n",
            "                                                                 \n",
            " dropout_1 (Dropout)         (None, 1000)              0         \n",
            "                                                                 \n",
            " h3 (Dense)                  (None, 1000)              1001000   \n",
            "                                                                 \n",
            " dropout_2 (Dropout)         (None, 1000)              0         \n",
            "                                                                 \n",
            " h4 (Dense)                  (None, 1000)              1001000   \n",
            "                                                                 \n",
            " output (Dense)              (None, 1)                 1001      \n",
            "                                                                 \n",
            "=================================================================\n",
            "Total params: 3,011,001\n",
            "Trainable params: 3,011,001\n",
            "Non-trainable params: 0\n",
            "_________________________________________________________________\n"
          ]
        }
      ]
    },
    {
      "cell_type": "markdown",
      "metadata": {
        "id": "idrLIMe4gAtw"
      },
      "source": [
        "## Compiling\n",
        "\n",
        "Compiling the model puts all the pieces together to make it ready to train.  We need to specify:\n",
        "\n",
        "* **Optimizer:** An Adam optimizer is a favorite and often performs well, it's a good place to start.\n",
        "  - Other optimizers : Gradient Descent,Stochastic Gradient Descent,Adagrad,RMSProp\n",
        "* **Loss Function:** 'mse' or mean squared error.  This is the number our model will try to reduce in each epoch.  Since this is a regression model we want our model to minimize the mean squared error.\n",
        "* **Metrics:** 'mae' or mean absolute error.  We can provide a list of any appropriate metrics we want the model to keep track at each epoch.\n",
        "\n",
        "\n"
      ]
    },
    {
      "cell_type": "code",
      "source": [
        "from tensorflow.keras.metrics import RootMeanSquaredError"
      ],
      "metadata": {
        "id": "wFLG5TyqgAtw"
      },
      "execution_count": null,
      "outputs": []
    },
    {
      "cell_type": "code",
      "metadata": {
        "id": "ZShZhGbCgAtx"
      },
      "source": [
        "# Compile your model.\n",
        "rmse = RootMeanSquaredError(name='rmse')\n",
        "\n",
        "reg_model.compile(optimizer= 'adam', loss = 'mse', metrics= ['mae', rmse])"
      ],
      "execution_count": null,
      "outputs": []
    },
    {
      "cell_type": "markdown",
      "metadata": {
        "id": "OtrO8AS1gAtx"
      },
      "source": [
        "# Training\n",
        "\n",
        "Let's try training our model for 100 few epochs.  Sometimes that is enough, and it will give us an idea whether our model is learning anything."
      ]
    },
    {
      "cell_type": "code",
      "metadata": {
        "colab": {
          "base_uri": "https://localhost:8080/"
        },
        "outputId": "3ac43a3b-a508-4993-a4b5-9a9c3807eb2c",
        "id": "jcj1D3LKgAtx"
      },
      "source": [
        "# Fit your model\n",
        "\n",
        "history = reg_model.fit(X_train, y_train,\n",
        "                        validation_data = (X_test, y_test),\n",
        "                        epochs = 100)\n"
      ],
      "execution_count": null,
      "outputs": [
        {
          "output_type": "stream",
          "name": "stdout",
          "text": [
            "Epoch 1/100\n",
            "12/12 [==============================] - 1s 54ms/step - loss: 280.4764 - mae: 13.6809 - rmse: 16.7474 - val_loss: 100.2344 - val_mae: 7.8001 - val_rmse: 10.0117\n",
            "Epoch 2/100\n",
            "12/12 [==============================] - 0s 39ms/step - loss: 68.5770 - mae: 6.2359 - rmse: 8.2811 - val_loss: 31.9947 - val_mae: 3.6693 - val_rmse: 5.6564\n",
            "Epoch 3/100\n",
            "12/12 [==============================] - 0s 40ms/step - loss: 36.7990 - mae: 4.2974 - rmse: 6.0662 - val_loss: 22.9691 - val_mae: 3.3489 - val_rmse: 4.7926\n",
            "Epoch 4/100\n",
            "12/12 [==============================] - 0s 40ms/step - loss: 26.8301 - mae: 3.7367 - rmse: 5.1798 - val_loss: 20.9892 - val_mae: 3.1471 - val_rmse: 4.5814\n",
            "Epoch 5/100\n",
            "12/12 [==============================] - 0s 41ms/step - loss: 23.8161 - mae: 3.4964 - rmse: 4.8802 - val_loss: 20.5115 - val_mae: 3.1875 - val_rmse: 4.5290\n",
            "Epoch 6/100\n",
            "12/12 [==============================] - 1s 41ms/step - loss: 24.2113 - mae: 3.4163 - rmse: 4.9205 - val_loss: 23.4359 - val_mae: 3.0734 - val_rmse: 4.8411\n",
            "Epoch 7/100\n",
            "12/12 [==============================] - 1s 43ms/step - loss: 21.5334 - mae: 3.3475 - rmse: 4.6404 - val_loss: 19.7547 - val_mae: 2.8879 - val_rmse: 4.4446\n",
            "Epoch 8/100\n",
            "12/12 [==============================] - 0s 41ms/step - loss: 23.3297 - mae: 3.4549 - rmse: 4.8301 - val_loss: 18.8599 - val_mae: 3.1307 - val_rmse: 4.3428\n",
            "Epoch 9/100\n",
            "12/12 [==============================] - 0s 40ms/step - loss: 22.3061 - mae: 3.3748 - rmse: 4.7229 - val_loss: 26.1119 - val_mae: 3.3840 - val_rmse: 5.1100\n",
            "Epoch 10/100\n",
            "12/12 [==============================] - 0s 41ms/step - loss: 27.0286 - mae: 3.7196 - rmse: 5.1989 - val_loss: 16.9434 - val_mae: 2.6121 - val_rmse: 4.1162\n",
            "Epoch 11/100\n",
            "12/12 [==============================] - 0s 41ms/step - loss: 22.4850 - mae: 3.4271 - rmse: 4.7418 - val_loss: 17.1637 - val_mae: 2.9070 - val_rmse: 4.1429\n",
            "Epoch 12/100\n",
            "12/12 [==============================] - 0s 41ms/step - loss: 22.1317 - mae: 3.4722 - rmse: 4.7044 - val_loss: 18.5386 - val_mae: 2.7017 - val_rmse: 4.3056\n",
            "Epoch 13/100\n",
            "12/12 [==============================] - 0s 41ms/step - loss: 21.5162 - mae: 3.3489 - rmse: 4.6386 - val_loss: 20.1213 - val_mae: 3.4964 - val_rmse: 4.4857\n",
            "Epoch 14/100\n",
            "12/12 [==============================] - 0s 40ms/step - loss: 20.9812 - mae: 3.4273 - rmse: 4.5805 - val_loss: 28.0891 - val_mae: 3.7800 - val_rmse: 5.2999\n",
            "Epoch 15/100\n",
            "12/12 [==============================] - 0s 39ms/step - loss: 23.3473 - mae: 3.4773 - rmse: 4.8319 - val_loss: 16.8186 - val_mae: 3.0199 - val_rmse: 4.1011\n",
            "Epoch 16/100\n",
            "12/12 [==============================] - 1s 44ms/step - loss: 18.7561 - mae: 3.1353 - rmse: 4.3308 - val_loss: 16.0939 - val_mae: 2.8804 - val_rmse: 4.0117\n",
            "Epoch 17/100\n",
            "12/12 [==============================] - 0s 41ms/step - loss: 20.5986 - mae: 3.3537 - rmse: 4.5386 - val_loss: 15.9971 - val_mae: 2.5490 - val_rmse: 3.9996\n",
            "Epoch 18/100\n",
            "12/12 [==============================] - 0s 41ms/step - loss: 18.6915 - mae: 3.1194 - rmse: 4.3234 - val_loss: 15.6703 - val_mae: 2.7088 - val_rmse: 3.9586\n",
            "Epoch 19/100\n",
            "12/12 [==============================] - 0s 39ms/step - loss: 17.0544 - mae: 3.0257 - rmse: 4.1297 - val_loss: 15.0702 - val_mae: 2.6497 - val_rmse: 3.8820\n",
            "Epoch 20/100\n",
            "12/12 [==============================] - 0s 42ms/step - loss: 17.9288 - mae: 3.1241 - rmse: 4.2342 - val_loss: 16.9880 - val_mae: 2.5989 - val_rmse: 4.1217\n",
            "Epoch 21/100\n",
            "12/12 [==============================] - 0s 40ms/step - loss: 17.3637 - mae: 2.9324 - rmse: 4.1670 - val_loss: 14.5374 - val_mae: 2.4353 - val_rmse: 3.8128\n",
            "Epoch 22/100\n",
            "12/12 [==============================] - 0s 42ms/step - loss: 15.3943 - mae: 2.8370 - rmse: 3.9236 - val_loss: 15.7046 - val_mae: 2.8316 - val_rmse: 3.9629\n",
            "Epoch 23/100\n",
            "12/12 [==============================] - 0s 40ms/step - loss: 17.2399 - mae: 3.0639 - rmse: 4.1521 - val_loss: 14.7272 - val_mae: 2.4748 - val_rmse: 3.8376\n",
            "Epoch 24/100\n",
            "12/12 [==============================] - 0s 41ms/step - loss: 15.8765 - mae: 2.9092 - rmse: 3.9845 - val_loss: 19.9252 - val_mae: 3.0272 - val_rmse: 4.4638\n",
            "Epoch 25/100\n",
            "12/12 [==============================] - 0s 40ms/step - loss: 15.6196 - mae: 2.9032 - rmse: 3.9522 - val_loss: 17.7432 - val_mae: 2.8186 - val_rmse: 4.2123\n",
            "Epoch 26/100\n",
            "12/12 [==============================] - 0s 41ms/step - loss: 16.9791 - mae: 3.0329 - rmse: 4.1206 - val_loss: 18.6605 - val_mae: 3.3408 - val_rmse: 4.3198\n",
            "Epoch 27/100\n",
            "12/12 [==============================] - 0s 41ms/step - loss: 17.0296 - mae: 3.0129 - rmse: 4.1267 - val_loss: 16.7842 - val_mae: 2.6605 - val_rmse: 4.0969\n",
            "Epoch 28/100\n",
            "12/12 [==============================] - 0s 42ms/step - loss: 14.3106 - mae: 2.8115 - rmse: 3.7829 - val_loss: 16.9076 - val_mae: 2.6534 - val_rmse: 4.1119\n",
            "Epoch 29/100\n",
            "12/12 [==============================] - 0s 39ms/step - loss: 13.7702 - mae: 2.7353 - rmse: 3.7108 - val_loss: 15.0115 - val_mae: 2.3904 - val_rmse: 3.8745\n",
            "Epoch 30/100\n",
            "12/12 [==============================] - 0s 41ms/step - loss: 13.9679 - mae: 2.6539 - rmse: 3.7374 - val_loss: 14.3531 - val_mae: 2.4085 - val_rmse: 3.7886\n",
            "Epoch 31/100\n",
            "12/12 [==============================] - 0s 41ms/step - loss: 13.5262 - mae: 2.7669 - rmse: 3.6778 - val_loss: 14.8910 - val_mae: 2.4374 - val_rmse: 3.8589\n",
            "Epoch 32/100\n",
            "12/12 [==============================] - 0s 42ms/step - loss: 15.8874 - mae: 2.8336 - rmse: 3.9859 - val_loss: 14.4881 - val_mae: 2.4611 - val_rmse: 3.8063\n",
            "Epoch 33/100\n",
            "12/12 [==============================] - 0s 40ms/step - loss: 17.1256 - mae: 3.0520 - rmse: 4.1383 - val_loss: 19.8110 - val_mae: 3.4695 - val_rmse: 4.4510\n",
            "Epoch 34/100\n",
            "12/12 [==============================] - 0s 40ms/step - loss: 13.7465 - mae: 2.7205 - rmse: 3.7076 - val_loss: 15.4973 - val_mae: 2.4468 - val_rmse: 3.9367\n",
            "Epoch 35/100\n",
            "12/12 [==============================] - 0s 39ms/step - loss: 13.0963 - mae: 2.6660 - rmse: 3.6189 - val_loss: 15.3685 - val_mae: 2.3945 - val_rmse: 3.9203\n",
            "Epoch 36/100\n",
            "12/12 [==============================] - 0s 41ms/step - loss: 12.1252 - mae: 2.5108 - rmse: 3.4821 - val_loss: 16.4958 - val_mae: 2.7183 - val_rmse: 4.0615\n",
            "Epoch 37/100\n",
            "12/12 [==============================] - 1s 43ms/step - loss: 20.6625 - mae: 3.4353 - rmse: 4.5456 - val_loss: 22.3131 - val_mae: 3.2093 - val_rmse: 4.7237\n",
            "Epoch 38/100\n",
            "12/12 [==============================] - 0s 41ms/step - loss: 13.3181 - mae: 2.6927 - rmse: 3.6494 - val_loss: 16.0681 - val_mae: 2.5549 - val_rmse: 4.0085\n",
            "Epoch 39/100\n",
            "12/12 [==============================] - 0s 40ms/step - loss: 14.5959 - mae: 2.7657 - rmse: 3.8205 - val_loss: 23.5896 - val_mae: 3.8481 - val_rmse: 4.8569\n",
            "Epoch 40/100\n",
            "12/12 [==============================] - 0s 41ms/step - loss: 14.7065 - mae: 2.9009 - rmse: 3.8349 - val_loss: 14.9272 - val_mae: 2.4489 - val_rmse: 3.8636\n",
            "Epoch 41/100\n",
            "12/12 [==============================] - 0s 40ms/step - loss: 11.8561 - mae: 2.5678 - rmse: 3.4433 - val_loss: 14.5774 - val_mae: 2.3825 - val_rmse: 3.8180\n",
            "Epoch 42/100\n",
            "12/12 [==============================] - 0s 41ms/step - loss: 12.9269 - mae: 2.6249 - rmse: 3.5954 - val_loss: 15.0998 - val_mae: 2.4070 - val_rmse: 3.8859\n",
            "Epoch 43/100\n",
            "12/12 [==============================] - 0s 41ms/step - loss: 10.8518 - mae: 2.4648 - rmse: 3.2942 - val_loss: 16.6507 - val_mae: 2.7150 - val_rmse: 4.0805\n",
            "Epoch 44/100\n",
            "12/12 [==============================] - 0s 40ms/step - loss: 12.6702 - mae: 2.6138 - rmse: 3.5595 - val_loss: 14.9380 - val_mae: 2.4159 - val_rmse: 3.8650\n",
            "Epoch 45/100\n",
            "12/12 [==============================] - 0s 40ms/step - loss: 11.7064 - mae: 2.6456 - rmse: 3.4215 - val_loss: 15.8384 - val_mae: 2.4028 - val_rmse: 3.9798\n",
            "Epoch 46/100\n",
            "12/12 [==============================] - 0s 39ms/step - loss: 13.9162 - mae: 2.8653 - rmse: 3.7304 - val_loss: 15.5382 - val_mae: 2.6185 - val_rmse: 3.9419\n",
            "Epoch 47/100\n",
            "12/12 [==============================] - 0s 41ms/step - loss: 11.2169 - mae: 2.5036 - rmse: 3.3492 - val_loss: 15.9692 - val_mae: 2.5698 - val_rmse: 3.9962\n",
            "Epoch 48/100\n",
            "12/12 [==============================] - 0s 40ms/step - loss: 12.1286 - mae: 2.6457 - rmse: 3.4826 - val_loss: 14.4507 - val_mae: 2.2828 - val_rmse: 3.8014\n",
            "Epoch 49/100\n",
            "12/12 [==============================] - 0s 41ms/step - loss: 10.7661 - mae: 2.4838 - rmse: 3.2812 - val_loss: 15.7602 - val_mae: 2.6427 - val_rmse: 3.9699\n",
            "Epoch 50/100\n",
            "12/12 [==============================] - 0s 40ms/step - loss: 12.0645 - mae: 2.6315 - rmse: 3.4734 - val_loss: 15.6847 - val_mae: 2.5144 - val_rmse: 3.9604\n",
            "Epoch 51/100\n",
            "12/12 [==============================] - 0s 41ms/step - loss: 11.5477 - mae: 2.5448 - rmse: 3.3982 - val_loss: 15.2581 - val_mae: 2.5906 - val_rmse: 3.9062\n",
            "Epoch 52/100\n",
            "12/12 [==============================] - 0s 41ms/step - loss: 12.8705 - mae: 2.6797 - rmse: 3.5876 - val_loss: 15.4018 - val_mae: 2.4890 - val_rmse: 3.9245\n",
            "Epoch 53/100\n",
            "12/12 [==============================] - 0s 40ms/step - loss: 10.2300 - mae: 2.3752 - rmse: 3.1984 - val_loss: 14.9475 - val_mae: 2.4506 - val_rmse: 3.8662\n",
            "Epoch 54/100\n",
            "12/12 [==============================] - 0s 40ms/step - loss: 10.4673 - mae: 2.3915 - rmse: 3.2353 - val_loss: 14.7670 - val_mae: 2.4063 - val_rmse: 3.8428\n",
            "Epoch 55/100\n",
            "12/12 [==============================] - 1s 43ms/step - loss: 10.6036 - mae: 2.3872 - rmse: 3.2563 - val_loss: 14.6756 - val_mae: 2.3643 - val_rmse: 3.8309\n",
            "Epoch 56/100\n",
            "12/12 [==============================] - 0s 41ms/step - loss: 10.7559 - mae: 2.4381 - rmse: 3.2796 - val_loss: 15.7866 - val_mae: 2.5787 - val_rmse: 3.9732\n",
            "Epoch 57/100\n",
            "12/12 [==============================] - 0s 41ms/step - loss: 11.7692 - mae: 2.5212 - rmse: 3.4306 - val_loss: 14.8072 - val_mae: 2.3954 - val_rmse: 3.8480\n",
            "Epoch 58/100\n",
            "12/12 [==============================] - 0s 39ms/step - loss: 10.7633 - mae: 2.4243 - rmse: 3.2808 - val_loss: 20.4604 - val_mae: 3.1651 - val_rmse: 4.5233\n",
            "Epoch 59/100\n",
            "12/12 [==============================] - 0s 41ms/step - loss: 12.6941 - mae: 2.7153 - rmse: 3.5629 - val_loss: 14.5747 - val_mae: 2.3609 - val_rmse: 3.8177\n",
            "Epoch 60/100\n",
            "12/12 [==============================] - 0s 39ms/step - loss: 11.0805 - mae: 2.4347 - rmse: 3.3287 - val_loss: 15.3069 - val_mae: 2.5529 - val_rmse: 3.9124\n",
            "Epoch 61/100\n",
            "12/12 [==============================] - 0s 39ms/step - loss: 10.7670 - mae: 2.4983 - rmse: 3.2813 - val_loss: 19.4230 - val_mae: 3.0853 - val_rmse: 4.4071\n",
            "Epoch 62/100\n",
            "12/12 [==============================] - 0s 40ms/step - loss: 13.1351 - mae: 2.7458 - rmse: 3.6242 - val_loss: 18.5916 - val_mae: 3.1710 - val_rmse: 4.3118\n",
            "Epoch 63/100\n",
            "12/12 [==============================] - 0s 39ms/step - loss: 11.5632 - mae: 2.5333 - rmse: 3.4005 - val_loss: 14.2362 - val_mae: 2.3623 - val_rmse: 3.7731\n",
            "Epoch 64/100\n",
            "12/12 [==============================] - 1s 43ms/step - loss: 11.7115 - mae: 2.5033 - rmse: 3.4222 - val_loss: 21.1414 - val_mae: 3.1314 - val_rmse: 4.5980\n",
            "Epoch 65/100\n",
            "12/12 [==============================] - 0s 40ms/step - loss: 11.8220 - mae: 2.6752 - rmse: 3.4383 - val_loss: 15.1463 - val_mae: 2.4108 - val_rmse: 3.8918\n",
            "Epoch 66/100\n",
            "12/12 [==============================] - 0s 41ms/step - loss: 10.4902 - mae: 2.4602 - rmse: 3.2389 - val_loss: 14.9621 - val_mae: 2.4123 - val_rmse: 3.8681\n",
            "Epoch 67/100\n",
            "12/12 [==============================] - 0s 40ms/step - loss: 14.1253 - mae: 2.8265 - rmse: 3.7584 - val_loss: 16.7686 - val_mae: 2.8835 - val_rmse: 4.0950\n",
            "Epoch 68/100\n",
            "12/12 [==============================] - 0s 41ms/step - loss: 12.7207 - mae: 2.6954 - rmse: 3.5666 - val_loss: 17.1054 - val_mae: 2.7562 - val_rmse: 4.1359\n",
            "Epoch 69/100\n",
            "12/12 [==============================] - 0s 39ms/step - loss: 9.9069 - mae: 2.4752 - rmse: 3.1475 - val_loss: 15.3409 - val_mae: 2.5184 - val_rmse: 3.9167\n",
            "Epoch 70/100\n",
            "12/12 [==============================] - 0s 40ms/step - loss: 10.1150 - mae: 2.4206 - rmse: 3.1804 - val_loss: 14.3082 - val_mae: 2.3831 - val_rmse: 3.7826\n",
            "Epoch 71/100\n",
            "12/12 [==============================] - 0s 40ms/step - loss: 11.4942 - mae: 2.5500 - rmse: 3.3903 - val_loss: 15.7779 - val_mae: 2.7693 - val_rmse: 3.9721\n",
            "Epoch 72/100\n",
            "12/12 [==============================] - 0s 41ms/step - loss: 10.9046 - mae: 2.5058 - rmse: 3.3022 - val_loss: 15.5646 - val_mae: 2.6709 - val_rmse: 3.9452\n",
            "Epoch 73/100\n",
            "12/12 [==============================] - 0s 40ms/step - loss: 10.3988 - mae: 2.4837 - rmse: 3.2247 - val_loss: 14.1452 - val_mae: 2.5158 - val_rmse: 3.7610\n",
            "Epoch 74/100\n",
            "12/12 [==============================] - 0s 40ms/step - loss: 9.1923 - mae: 2.3063 - rmse: 3.0319 - val_loss: 14.1544 - val_mae: 2.5189 - val_rmse: 3.7622\n",
            "Epoch 75/100\n",
            "12/12 [==============================] - 0s 40ms/step - loss: 12.6185 - mae: 2.7313 - rmse: 3.5522 - val_loss: 14.4996 - val_mae: 2.6645 - val_rmse: 3.8078\n",
            "Epoch 76/100\n",
            "12/12 [==============================] - 0s 39ms/step - loss: 12.4615 - mae: 2.6461 - rmse: 3.5301 - val_loss: 17.8842 - val_mae: 2.9266 - val_rmse: 4.2290\n",
            "Epoch 77/100\n",
            "12/12 [==============================] - 0s 39ms/step - loss: 10.6704 - mae: 2.5509 - rmse: 3.2666 - val_loss: 15.7351 - val_mae: 2.7273 - val_rmse: 3.9667\n",
            "Epoch 78/100\n",
            "12/12 [==============================] - 0s 40ms/step - loss: 11.0312 - mae: 2.5884 - rmse: 3.3213 - val_loss: 12.9342 - val_mae: 2.3337 - val_rmse: 3.5964\n",
            "Epoch 79/100\n",
            "12/12 [==============================] - 0s 41ms/step - loss: 11.6120 - mae: 2.5353 - rmse: 3.4076 - val_loss: 12.6002 - val_mae: 2.2933 - val_rmse: 3.5497\n",
            "Epoch 80/100\n",
            "12/12 [==============================] - 0s 40ms/step - loss: 12.0687 - mae: 2.5928 - rmse: 3.4740 - val_loss: 13.7929 - val_mae: 2.4751 - val_rmse: 3.7139\n",
            "Epoch 81/100\n",
            "12/12 [==============================] - 0s 40ms/step - loss: 13.5899 - mae: 2.7069 - rmse: 3.6864 - val_loss: 14.8247 - val_mae: 2.5021 - val_rmse: 3.8503\n",
            "Epoch 82/100\n",
            "12/12 [==============================] - 0s 40ms/step - loss: 12.8881 - mae: 2.6745 - rmse: 3.5900 - val_loss: 13.5899 - val_mae: 2.4430 - val_rmse: 3.6864\n",
            "Epoch 83/100\n",
            "12/12 [==============================] - 0s 40ms/step - loss: 9.0706 - mae: 2.3310 - rmse: 3.0117 - val_loss: 13.2772 - val_mae: 2.4624 - val_rmse: 3.6438\n",
            "Epoch 84/100\n",
            "12/12 [==============================] - 0s 41ms/step - loss: 9.2441 - mae: 2.3134 - rmse: 3.0404 - val_loss: 12.9122 - val_mae: 2.3021 - val_rmse: 3.5934\n",
            "Epoch 85/100\n",
            "12/12 [==============================] - 0s 41ms/step - loss: 10.8792 - mae: 2.4571 - rmse: 3.2984 - val_loss: 12.1288 - val_mae: 2.3449 - val_rmse: 3.4826\n",
            "Epoch 86/100\n",
            "12/12 [==============================] - 0s 39ms/step - loss: 8.8888 - mae: 2.2608 - rmse: 2.9814 - val_loss: 13.1495 - val_mae: 2.3496 - val_rmse: 3.6262\n",
            "Epoch 87/100\n",
            "12/12 [==============================] - 0s 40ms/step - loss: 9.9492 - mae: 2.3856 - rmse: 3.1542 - val_loss: 13.7374 - val_mae: 2.3390 - val_rmse: 3.7064\n",
            "Epoch 88/100\n",
            "12/12 [==============================] - 1s 43ms/step - loss: 9.5301 - mae: 2.2868 - rmse: 3.0871 - val_loss: 13.5142 - val_mae: 2.5238 - val_rmse: 3.6762\n",
            "Epoch 89/100\n",
            "12/12 [==============================] - 0s 41ms/step - loss: 9.5630 - mae: 2.2943 - rmse: 3.0924 - val_loss: 13.2202 - val_mae: 2.4057 - val_rmse: 3.6360\n",
            "Epoch 90/100\n",
            "12/12 [==============================] - 0s 40ms/step - loss: 9.9654 - mae: 2.3576 - rmse: 3.1568 - val_loss: 12.3282 - val_mae: 2.2690 - val_rmse: 3.5112\n",
            "Epoch 91/100\n",
            "12/12 [==============================] - 0s 41ms/step - loss: 10.6357 - mae: 2.4872 - rmse: 3.2612 - val_loss: 14.1199 - val_mae: 2.3507 - val_rmse: 3.7577\n",
            "Epoch 92/100\n",
            "12/12 [==============================] - 0s 39ms/step - loss: 10.7950 - mae: 2.4029 - rmse: 3.2856 - val_loss: 17.8517 - val_mae: 2.9569 - val_rmse: 4.2251\n",
            "Epoch 93/100\n",
            "12/12 [==============================] - 0s 40ms/step - loss: 13.0709 - mae: 2.7294 - rmse: 3.6154 - val_loss: 16.3582 - val_mae: 2.8850 - val_rmse: 4.0445\n",
            "Epoch 94/100\n",
            "12/12 [==============================] - 0s 40ms/step - loss: 12.7068 - mae: 2.6180 - rmse: 3.5647 - val_loss: 18.3657 - val_mae: 2.8563 - val_rmse: 4.2855\n",
            "Epoch 95/100\n",
            "12/12 [==============================] - 1s 43ms/step - loss: 14.6129 - mae: 2.8952 - rmse: 3.8227 - val_loss: 19.6992 - val_mae: 3.3446 - val_rmse: 4.4384\n",
            "Epoch 96/100\n",
            "12/12 [==============================] - 0s 41ms/step - loss: 12.9129 - mae: 2.8434 - rmse: 3.5935 - val_loss: 12.7836 - val_mae: 2.2931 - val_rmse: 3.5754\n",
            "Epoch 97/100\n",
            "12/12 [==============================] - 1s 42ms/step - loss: 9.7376 - mae: 2.2756 - rmse: 3.1205 - val_loss: 13.9252 - val_mae: 2.4391 - val_rmse: 3.7317\n",
            "Epoch 98/100\n",
            "12/12 [==============================] - 0s 40ms/step - loss: 9.5521 - mae: 2.2891 - rmse: 3.0906 - val_loss: 11.9116 - val_mae: 2.2257 - val_rmse: 3.4513\n",
            "Epoch 99/100\n",
            "12/12 [==============================] - 0s 42ms/step - loss: 9.1773 - mae: 2.3202 - rmse: 3.0294 - val_loss: 12.8007 - val_mae: 2.4317 - val_rmse: 3.5778\n",
            "Epoch 100/100\n",
            "12/12 [==============================] - 0s 41ms/step - loss: 7.9822 - mae: 2.1361 - rmse: 2.8253 - val_loss: 12.9699 - val_mae: 2.3539 - val_rmse: 3.6014\n"
          ]
        }
      ]
    },
    {
      "cell_type": "code",
      "metadata": {
        "colab": {
          "base_uri": "https://localhost:8080/",
          "height": 809
        },
        "outputId": "d646908c-22d9-4f27-a27c-90134cfb0a39",
        "id": "kG9evO6fgAtx"
      },
      "source": [
        "# Apply the custom function to see how your model is doing\n",
        "plot_history(history)"
      ],
      "execution_count": null,
      "outputs": [
        {
          "output_type": "display_data",
          "data": {
            "text/plain": [
              "<Figure size 432x288 with 1 Axes>"
            ],
            "image/png": "[encoded data removed]"
          },
          "metadata": {
            "needs_background": "light"
          }
        },
        {
          "output_type": "display_data",
          "data": {
            "text/plain": [
              "<Figure size 432x288 with 1 Axes>"
            ],
            "image/png": "[encoded data removed]"
          },
          "metadata": {
            "needs_background": "light"
          }
        },
        {
          "output_type": "display_data",
          "data": {
            "text/plain": [
              "<Figure size 432x288 with 1 Axes>"
            ],
            "image/png": "[encoded data removed]"
          },
          "metadata": {
            "needs_background": "light"
          }
        }
      ]
    },
    {
      "cell_type": "markdown",
      "metadata": {
        "id": "Er2_eK_KgAtx"
      },
      "source": [
        "## Evaluation\n"
      ]
    },
    {
      "cell_type": "code",
      "metadata": {
        "colab": {
          "base_uri": "https://localhost:8080/"
        },
        "outputId": "53e9b032-735d-4dd7-a9d1-27a22487f691",
        "id": "tB2xkbe-gAtx"
      },
      "source": [
        "# Make predictions and evaluate your model\n",
        "train_preds = reg_model.predict(X_train)\n",
        "test_preds = reg_model.predict(X_test)\n",
        "\n",
        "print('training MAE:', mean_absolute_error(y_train, train_preds))\n",
        "print('training rmse:', np.sqrt(mean_squared_error(y_train, train_preds)))\n",
        "print('training R2:', r2_score(y_train, train_preds))\n",
        "print('\\n')\n",
        "print('testing MAE:', mean_absolute_error(y_test, test_preds))\n",
        "print('testing rmse:', np.sqrt(mean_squared_error(y_test, test_preds)))\n",
        "print('testing R2:', r2_score(y_test, test_preds))"
      ],
      "execution_count": null,
      "outputs": [
        {
          "output_type": "stream",
          "name": "stdout",
          "text": [
            "12/12 [==============================] - 0s 10ms/step\n",
            "4/4 [==============================] - 0s 9ms/step\n",
            "training MAE: 1.9369823516201534\n",
            "training rmse: 2.5457575277946605\n",
            "training R2: 0.926919769406287\n",
            "\n",
            "\n",
            "testing MAE: 2.35385066956047\n",
            "testing rmse: 3.6013748317011793\n",
            "testing R2: 0.814787523785905\n"
          ]
        }
      ]
    }
  ]
}