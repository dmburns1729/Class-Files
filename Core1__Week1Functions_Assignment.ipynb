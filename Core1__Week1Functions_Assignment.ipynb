{
  "nbformat": 4,
  "nbformat_minor": 0,
  "metadata": {
    "colab": {
      "provenance": [],
      "include_colab_link": true
    },
    "kernelspec": {
      "name": "python3",
      "display_name": "Python 3"
    },
    "language_info": {
      "name": "python"
    }
  },
  "cells": [
    {
      "cell_type": "markdown",
      "metadata": {
        "id": "view-in-github",
        "colab_type": "text"
      },
      "source": [
        "<a href=\"https://colab.research.google.com/github/dmburns1729/Class-Files/blob/main/Core1__Week1Functions_Assignment.ipynb\" target=\"_parent\"><img src=\"https://colab.research.google.com/assets/colab-badge.svg\" alt=\"Open In Colab\"/></a>"
      ]
    },
    {
      "cell_type": "markdown",
      "source": [
        "# Functions Assignment (Core)\n"
      ],
      "metadata": {
        "id": "XGvUsUJ52ggF"
      }
    },
    {
      "cell_type": "markdown",
      "source": [
        "- Name:"
      ],
      "metadata": {
        "id": "Dpy87G0O2joF"
      }
    },
    {
      "cell_type": "markdown",
      "source": [
        "# 👩‍🏫 Summarizing ice cream sales data 📈\n"
      ],
      "metadata": {
        "id": "jOePcaF_dlTB"
      }
    },
    {
      "cell_type": "markdown",
      "source": [
        "\n",
        "In this assignment you will be working with sales data by date. The first cells will create the data and your tasks will be analyze it and organize it using loops, conditionals, lists, dictionaries and of course Functions."
      ],
      "metadata": {
        "id": "IIqSTcv62bwU"
      }
    },
    {
      "cell_type": "markdown",
      "source": [
        "## Ice Cream Sales Data\n"
      ],
      "metadata": {
        "id": "4qCHuR323Ylj"
      }
    },
    {
      "cell_type": "markdown",
      "source": [
        "\n",
        "For the next three questions, you will be working on the dictionary created in the following cell.\n",
        "\n",
        "This cell will create a dictionary for all sales in 2021 that includes every month. Each month will contain the flavors of ice cream sold.\n",
        "\n",
        "The data structure will be lists within a dictionary.  \n",
        "\n",
        "The top layer is a dictionary with months as keys and list of sales for each month as values.\n",
        "\n",
        "The inner layer will be a list of the names of flavors sold ( chocolate, mango, or vanilla).\n",
        "\n",
        "**Notice that there are two functions below that create the dictionary.  `create_monthly_sales()` is a helper function that `create_sales_data()` can use to create data for each month in the dataset.  Functions are often used inside other functions in Python.**"
      ],
      "metadata": {
        "id": "RN9rRvIeHbTl"
      }
    },
    {
      "cell_type": "code",
      "source": [
        "## RUN THIS CELL WITHOUT CHANGES\n",
        "# We will create a dictionary of months where each key is a month and each\n",
        "# Value will a list of flavors sold.\n",
        "import numpy as np\n",
        "import random\n",
        "random.seed(53)\n",
        "np.random.seed(53)\n",
        "\n",
        "# List of months\n",
        "months = ['Jan','Feb','Mar','Apr','May','Jun','Jul','Aug','Sept','Oct','Nov','Dec']\n",
        "\n",
        "# 100 sales per month\n",
        "n_sales = list(range(30,100))\n",
        "\n",
        "# list of flavors\n",
        "flavors = ['vanilla','chocolate','mango']\n",
        "\n",
        "\n",
        "def create_monthly_sales(n_sales, flavors):\n",
        "  \"\"\"Creates a list of monthly sales\n",
        "  \"\"\"\n",
        "\n",
        "  # create an empty monthly list of sales\n",
        "  month_sales = []\n",
        "\n",
        "  # Loop through sales ideas\n",
        "  for sale_id in range(n_sales):\n",
        "\n",
        "    # assign a random flavor sold for that sale from the list of flavors\n",
        "    i = random.randint(0, len(flavors) - 1)\n",
        "\n",
        "    # add the flavor to the dictionary of monthly_sales\n",
        "    month_sales.append(flavors[i])\n",
        "\n",
        "  return month_sales\n",
        "\n",
        "\n",
        "\n",
        "def create_sales_data(months, flavors, n_sales):\n",
        "  \"\"\"create a dictionary of sales by month.  The keys will be months\n",
        "  and each value will be a dictionary of sales for that month\"\"\"\n",
        "\n",
        "  # Create an empty list of sales\n",
        "  sales = {}\n",
        "\n",
        "  # Loop through the months\n",
        "  for month in months:\n",
        "\n",
        "    # For each month, use a helper function to create a dictionary of\n",
        "    # sales for the month\n",
        "    n = np.random.choice(n_sales)\n",
        "    # keys of each dictionary will be a sale_id and values will be a flavor sold\n",
        "    # add the dictionary of sales for this month to the sales dictionary\n",
        "    sales[month] = create_monthly_sales(n, flavors)\n",
        "\n",
        "  # return the dictionary of sales\n",
        "  return sales\n",
        "\n",
        "\n",
        "\n",
        "# inpect the dictionary.  Notice there are 12 dictionaries inside the sales\n",
        "# dictionary.  one dictionary for each month.\n",
        "sales = create_sales_data(months, flavors, n_sales)\n",
        "sales.keys()"
      ],
      "metadata": {
        "id": "8_SjmFxGCz_G",
        "colab": {
          "base_uri": "https://localhost:8080/"
        },
        "outputId": "b0f88018-ac08-43ac-f76a-6526d6df23df"
      },
      "execution_count": null,
      "outputs": [
        {
          "output_type": "execute_result",
          "data": {
            "text/plain": [
              "dict_keys(['Jan', 'Feb', 'Mar', 'Apr', 'May', 'Jun', 'Jul', 'Aug', 'Sept', 'Oct', 'Nov', 'Dec'])"
            ]
          },
          "metadata": {},
          "execution_count": 4
        }
      ]
    },
    {
      "cell_type": "code",
      "source": [
        "## What type of data is stored for each month?\n",
        "print(type(sales[\"Jan\"]))\n",
        "\n",
        "# Preview the first 5 entries\n",
        "sales['Jan'][:5]"
      ],
      "metadata": {
        "id": "g7Nr9KmIIJb2",
        "colab": {
          "base_uri": "https://localhost:8080/"
        },
        "outputId": "804cb975-8ba5-49ed-dfc3-f9f0ed030ae1"
      },
      "execution_count": null,
      "outputs": [
        {
          "output_type": "stream",
          "name": "stdout",
          "text": [
            "<class 'list'>\n"
          ]
        },
        {
          "output_type": "execute_result",
          "data": {
            "text/plain": [
              "['mango', 'vanilla', 'chocolate', 'mango', 'mango']"
            ]
          },
          "metadata": {},
          "execution_count": 5
        }
      ]
    },
    {
      "cell_type": "markdown",
      "source": [
        "## Task 1:\n"
      ],
      "metadata": {
        "id": "SDQSfHtaBfXA"
      }
    },
    {
      "cell_type": "markdown",
      "source": [
        "\n",
        "- Write a function that will take 1 month's data and return a dictionary with the name of each unique item sold as the key and the # of times it was sold that month.\n",
        "\n",
        "- Test it using month = \"Jan\"\n",
        "e.g. `{'mango': 15, 'vanilla': 16, 'chocolate': 13}`:\n",
        "\n",
        "\n",
        "#### Hint -  checking if a key already exists in a dictionary\n",
        "- You can use the `in` operator to check if a key is in the dicationary.\n",
        "\n",
        "```python\n",
        "foods_purchased = {'vanilla':1}\n",
        "item_name = \"mango\"\n",
        "\n",
        "item_name in foods_purchased\n",
        "```\n",
        "`False`\n",
        "\n",
        "\n",
        "```python\n",
        "item_name = \"vanilla\"\n",
        "item_name in foods_purchased\n",
        "```\n",
        "`True`\n",
        "\n",
        "\n",
        "##### Additional Tip:\n",
        "- If you combine this with an if/else statement you can check **if** a key already exists and if it exists, you can update its value. If it doesn't exist (**else**) create the key and fill in the value.\n",
        "\n",
        "\n",
        "```python\n",
        "foods_purchased = {'vanilla':1}\n",
        "item = \"mango\"\n",
        "if item in foods_purchased:\n",
        "  foods_purchased[item]+=1\n",
        "\n",
        "else:\n",
        "  foods_purchased[item] = 1\n",
        "```\n",
        "\n",
        "\n"
      ],
      "metadata": {
        "id": "XIjCszGiCc90"
      }
    },
    {
      "cell_type": "code",
      "source": [
        "# define your function here\n",
        "def icecream_counts(foods_purchased):\n",
        "  flavor_counts={}\n",
        "  for item in foods_purchased:\n",
        "    if item in flavor_counts:\n",
        "      flavor_counts[item]+=1\n",
        "    else:\n",
        "      flavor_counts[item]=1\n",
        "\n",
        "  return flavor_counts\n",
        "\n",
        "  # start an empty dictionary to save your flavor counts\n",
        "\n",
        "  # for each item in the the list\n",
        "\n",
        "    ## check if the item is in the dictionary,\n",
        "    # if it does not exist yet:\n",
        "      # add the item as a new key in the dictionary\n",
        "\n",
        "    # if it does exist:\n",
        "      # increment the value by 1\n",
        "\n",
        "  #return the final results"
      ],
      "metadata": {
        "id": "ly-w7-Qh__YD"
      },
      "execution_count": null,
      "outputs": []
    },
    {
      "cell_type": "code",
      "source": [
        "# slice out the values stored under \"Jan\"\n",
        "Jan_month_sales=sales[\"Jan\"]\n",
        "\n",
        "# Use the values sliced from Jan to test your function.\n",
        "icecream_counts(Jan_month_sales)"
      ],
      "metadata": {
        "id": "2Spd6d4kACDN",
        "colab": {
          "base_uri": "https://localhost:8080/"
        },
        "outputId": "c60d2328-00a2-4e28-ce14-49999fac9a4d"
      },
      "execution_count": null,
      "outputs": [
        {
          "output_type": "execute_result",
          "data": {
            "text/plain": [
              "{'mango': 17, 'vanilla': 20, 'chocolate': 18}"
            ]
          },
          "metadata": {},
          "execution_count": 9
        }
      ]
    },
    {
      "cell_type": "markdown",
      "source": [
        "If you got \"{'mango': 17, 'vanilla': 20, 'chocolate': 18}\" then great work!"
      ],
      "metadata": {
        "id": "0m55o1v-BOuJ"
      }
    },
    {
      "cell_type": "markdown",
      "source": [
        "\n",
        "\n",
        "## Task 2:\n"
      ],
      "metadata": {
        "id": "QmDyO5yaTLl2"
      }
    },
    {
      "cell_type": "markdown",
      "source": [
        "Now that we have a helper function that can calculate the total number of items sold in one month, let's write a function that can print out this information in an easy to read manner.\n",
        "\n",
        "Let's call our new function `print_month_sales` and we will have it accept 2 arguments:\n",
        "  - the dictionary of all sales data\n",
        "  - the name of the month to print the sales for.\n",
        "\n",
        "\n",
        "We want our function to:\n",
        "- [ ] Print the month\n",
        "- [ ] Print the # of total sales for the entire month (length of the list of items sold)\n",
        "- [ ] Use our helper function to get a dictionary of the items sold that month.\n",
        "- [ ] Print the name and # of items sold for each type of food.\n",
        "\n",
        "\n",
        "The output of our function should look something like this: (Its ok if yours doesn't look as nicely formatted, as long as its legible and is displaying the correct information.)\n",
        "  ```\n",
        "  For the month of Jan:\n",
        "  - 55 items sold overall.\n",
        "    - mango: 17\n",
        "    - vanilla: 20\n",
        "    - chocolate: 18\n",
        "  ```\n"
      ],
      "metadata": {
        "id": "SrzTj3RjCeOh"
      }
    },
    {
      "cell_type": "markdown",
      "source": [
        "\n",
        "- Define your function below and then test it using the month of \"Mar\".\n",
        "\n",
        "\n",
        "\n"
      ],
      "metadata": {
        "id": "3Pa_W0IZEiMK"
      }
    },
    {
      "cell_type": "code",
      "source": [
        "# Define your print_month_sales function here\n",
        "def\n",
        "\n"
      ],
      "metadata": {
        "id": "z45948fyDuzi"
      },
      "execution_count": null,
      "outputs": []
    },
    {
      "cell_type": "code",
      "source": [
        "# test your function using the month of \"Mar\"\n"
      ],
      "metadata": {
        "id": "ELk9ZmhiEERo"
      },
      "execution_count": null,
      "outputs": []
    },
    {
      "cell_type": "markdown",
      "source": [
        "If your output had the same values as below, then excellent work!\n",
        "\n",
        "```\n",
        "For the month of Mar:\n",
        "- 67 items sold overall.\n",
        "  - chocolate: 22\n",
        "  - vanilla: 20\n",
        "  - mango: 25\n",
        "```"
      ],
      "metadata": {
        "id": "QplbboyiFLL2"
      }
    },
    {
      "cell_type": "markdown",
      "source": [
        "# Congratulations!\n",
        "\n",
        "Your boss at the Ice Cream Store is very pleased with your code and has been making regular use of your functions to create his sales reports.  Nice work!"
      ],
      "metadata": {
        "id": "Ce9YIzspgEpe"
      }
    }
  ]
}