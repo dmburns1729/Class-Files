{
  "nbformat": 4,
  "nbformat_minor": 0,
  "metadata": {
    "colab": {
      "provenance": [],
      "authorship_tag": "ABX9TyN6+ANOzO5pfHlm6sdI406D",
      "include_colab_link": true
    },
    "kernelspec": {
      "name": "python3",
      "display_name": "Python 3"
    },
    "language_info": {
      "name": "python"
    }
  },
  "cells": [
    {
      "cell_type": "markdown",
      "metadata": {
        "id": "view-in-github",
        "colab_type": "text"
      },
      "source": [
        "<a href=\"https://colab.research.google.com/github/dmburns1729/Class-Files/blob/main/Last_Class_Challenge.ipynb\" target=\"_parent\"><img src=\"https://colab.research.google.com/assets/colab-badge.svg\" alt=\"Open In Colab\"/></a>"
      ]
    },
    {
      "cell_type": "code",
      "execution_count": null,
      "metadata": {
        "colab": {
          "base_uri": "https://localhost:8080/",
          "height": 223
        },
        "id": "Uzb7oQC-9oy9",
        "outputId": "d75057a4-d33e-473c-e3a3-74833a2cfe4a"
      },
      "outputs": [
        {
          "output_type": "stream",
          "name": "stdout",
          "text": [
            "Drive already mounted at /content/drive; to attempt to forcibly remount, call drive.mount(\"/content/drive\", force_remount=True).\n"
          ]
        },
        {
          "output_type": "execute_result",
          "data": {
            "text/plain": [
              "   Id  year          brand                                    full_model_name  \\\n",
              "0   0  2016          Honda                                    Honda Brio S MT   \n",
              "1   1  2012         Nissan                             Nissan Sunny XV Diesel   \n",
              "2   2  2017         Toyota             Toyota Fortuner 2.8 4x2 MT [2016-2020]   \n",
              "3   3  2017  Mercedes-Benz  Mercedes-Benz E-Class E 220d Expression [2019-...   \n",
              "4   4  2012        Hyundai                  Hyundai Verna Fluidic 1.6 CRDi SX   \n",
              "\n",
              "  model_name      price  distance_travelled(kms) fuel_type    city  \n",
              "0       Brio   425000.0                   9680.0    Petrol  Mumbai  \n",
              "1      Sunny   325000.0                 119120.0    Diesel  Mumbai  \n",
              "2   Fortuner  2650000.0                  64593.0    Diesel   Thane  \n",
              "3    E-Class  4195000.0                  25000.0    Diesel  Mumbai  \n",
              "4      Verna   475000.0                  23800.0    Diesel  Mumbai  "
            ],
            "text/html": [
              "\n",
              "  <div id=\"df-418a88ef-d4c4-4e6b-8827-062c5a131948\">\n",
              "    <div class=\"colab-df-container\">\n",
              "      <div>\n",
              "<style scoped>\n",
              "    .dataframe tbody tr th:only-of-type {\n",
              "        vertical-align: middle;\n",
              "    }\n",
              "\n",
              "    .dataframe tbody tr th {\n",
              "        vertical-align: top;\n",
              "    }\n",
              "\n",
              "    .dataframe thead th {\n",
              "        text-align: right;\n",
              "    }\n",
              "</style>\n",
              "<table border=\"1\" class=\"dataframe\">\n",
              "  <thead>\n",
              "    <tr style=\"text-align: right;\">\n",
              "      <th></th>\n",
              "      <th>Id</th>\n",
              "      <th>year</th>\n",
              "      <th>brand</th>\n",
              "      <th>full_model_name</th>\n",
              "      <th>model_name</th>\n",
              "      <th>price</th>\n",
              "      <th>distance_travelled(kms)</th>\n",
              "      <th>fuel_type</th>\n",
              "      <th>city</th>\n",
              "    </tr>\n",
              "  </thead>\n",
              "  <tbody>\n",
              "    <tr>\n",
              "      <th>0</th>\n",
              "      <td>0</td>\n",
              "      <td>2016</td>\n",
              "      <td>Honda</td>\n",
              "      <td>Honda Brio S MT</td>\n",
              "      <td>Brio</td>\n",
              "      <td>425000.0</td>\n",
              "      <td>9680.0</td>\n",
              "      <td>Petrol</td>\n",
              "      <td>Mumbai</td>\n",
              "    </tr>\n",
              "    <tr>\n",
              "      <th>1</th>\n",
              "      <td>1</td>\n",
              "      <td>2012</td>\n",
              "      <td>Nissan</td>\n",
              "      <td>Nissan Sunny XV Diesel</td>\n",
              "      <td>Sunny</td>\n",
              "      <td>325000.0</td>\n",
              "      <td>119120.0</td>\n",
              "      <td>Diesel</td>\n",
              "      <td>Mumbai</td>\n",
              "    </tr>\n",
              "    <tr>\n",
              "      <th>2</th>\n",
              "      <td>2</td>\n",
              "      <td>2017</td>\n",
              "      <td>Toyota</td>\n",
              "      <td>Toyota Fortuner 2.8 4x2 MT [2016-2020]</td>\n",
              "      <td>Fortuner</td>\n",
              "      <td>2650000.0</td>\n",
              "      <td>64593.0</td>\n",
              "      <td>Diesel</td>\n",
              "      <td>Thane</td>\n",
              "    </tr>\n",
              "    <tr>\n",
              "      <th>3</th>\n",
              "      <td>3</td>\n",
              "      <td>2017</td>\n",
              "      <td>Mercedes-Benz</td>\n",
              "      <td>Mercedes-Benz E-Class E 220d Expression [2019-...</td>\n",
              "      <td>E-Class</td>\n",
              "      <td>4195000.0</td>\n",
              "      <td>25000.0</td>\n",
              "      <td>Diesel</td>\n",
              "      <td>Mumbai</td>\n",
              "    </tr>\n",
              "    <tr>\n",
              "      <th>4</th>\n",
              "      <td>4</td>\n",
              "      <td>2012</td>\n",
              "      <td>Hyundai</td>\n",
              "      <td>Hyundai Verna Fluidic 1.6 CRDi SX</td>\n",
              "      <td>Verna</td>\n",
              "      <td>475000.0</td>\n",
              "      <td>23800.0</td>\n",
              "      <td>Diesel</td>\n",
              "      <td>Mumbai</td>\n",
              "    </tr>\n",
              "  </tbody>\n",
              "</table>\n",
              "</div>\n",
              "      <button class=\"colab-df-convert\" onclick=\"convertToInteractive('df-418a88ef-d4c4-4e6b-8827-062c5a131948')\"\n",
              "              title=\"Convert this dataframe to an interactive table.\"\n",
              "              style=\"display:none;\">\n",
              "        \n",
              "  <svg xmlns=\"http://www.w3.org/2000/svg\" height=\"24px\"viewBox=\"0 0 24 24\"\n",
              "       width=\"24px\">\n",
              "    <path d=\"M0 0h24v24H0V0z\" fill=\"none\"/>\n",
              "    <path d=\"M18.56 5.44l.94 2.06.94-2.06 2.06-.94-2.06-.94-.94-2.06-.94 2.06-2.06.94zm-11 1L8.5 8.5l.94-2.06 2.06-.94-2.06-.94L8.5 2.5l-.94 2.06-2.06.94zm10 10l.94 2.06.94-2.06 2.06-.94-2.06-.94-.94-2.06-.94 2.06-2.06.94z\"/><path d=\"M17.41 7.96l-1.37-1.37c-.4-.4-.92-.59-1.43-.59-.52 0-1.04.2-1.43.59L10.3 9.45l-7.72 7.72c-.78.78-.78 2.05 0 2.83L4 21.41c.39.39.9.59 1.41.59.51 0 1.02-.2 1.41-.59l7.78-7.78 2.81-2.81c.8-.78.8-2.07 0-2.86zM5.41 20L4 18.59l7.72-7.72 1.47 1.35L5.41 20z\"/>\n",
              "  </svg>\n",
              "      </button>\n",
              "      \n",
              "  <style>\n",
              "    .colab-df-container {\n",
              "      display:flex;\n",
              "      flex-wrap:wrap;\n",
              "      gap: 12px;\n",
              "    }\n",
              "\n",
              "    .colab-df-convert {\n",
              "      background-color: #E8F0FE;\n",
              "      border: none;\n",
              "      border-radius: 50%;\n",
              "      cursor: pointer;\n",
              "      display: none;\n",
              "      fill: #1967D2;\n",
              "      height: 32px;\n",
              "      padding: 0 0 0 0;\n",
              "      width: 32px;\n",
              "    }\n",
              "\n",
              "    .colab-df-convert:hover {\n",
              "      background-color: #E2EBFA;\n",
              "      box-shadow: 0px 1px 2px rgba(60, 64, 67, 0.3), 0px 1px 3px 1px rgba(60, 64, 67, 0.15);\n",
              "      fill: #174EA6;\n",
              "    }\n",
              "\n",
              "    [theme=dark] .colab-df-convert {\n",
              "      background-color: #3B4455;\n",
              "      fill: #D2E3FC;\n",
              "    }\n",
              "\n",
              "    [theme=dark] .colab-df-convert:hover {\n",
              "      background-color: #434B5C;\n",
              "      box-shadow: 0px 1px 3px 1px rgba(0, 0, 0, 0.15);\n",
              "      filter: drop-shadow(0px 1px 2px rgba(0, 0, 0, 0.3));\n",
              "      fill: #FFFFFF;\n",
              "    }\n",
              "  </style>\n",
              "\n",
              "      <script>\n",
              "        const buttonEl =\n",
              "          document.querySelector('#df-418a88ef-d4c4-4e6b-8827-062c5a131948 button.colab-df-convert');\n",
              "        buttonEl.style.display =\n",
              "          google.colab.kernel.accessAllowed ? 'block' : 'none';\n",
              "\n",
              "        async function convertToInteractive(key) {\n",
              "          const element = document.querySelector('#df-418a88ef-d4c4-4e6b-8827-062c5a131948');\n",
              "          const dataTable =\n",
              "            await google.colab.kernel.invokeFunction('convertToInteractive',\n",
              "                                                     [key], {});\n",
              "          if (!dataTable) return;\n",
              "\n",
              "          const docLinkHtml = 'Like what you see? Visit the ' +\n",
              "            '<a target=\"_blank\" href=https://colab.research.google.com/notebooks/data_table.ipynb>data table notebook</a>'\n",
              "            + ' to learn more about interactive tables.';\n",
              "          element.innerHTML = '';\n",
              "          dataTable['output_type'] = 'display_data';\n",
              "          await google.colab.output.renderOutput(dataTable, element);\n",
              "          const docLink = document.createElement('div');\n",
              "          docLink.innerHTML = docLinkHtml;\n",
              "          element.appendChild(docLink);\n",
              "        }\n",
              "      </script>\n",
              "    </div>\n",
              "  </div>\n",
              "  "
            ]
          },
          "metadata": {},
          "execution_count": 20
        }
      ],
      "source": [
        "#Mount data\n",
        "\n",
        "from google.colab import drive\n",
        "drive.mount('/content/drive')\n",
        "\n",
        "#Import libraries\n",
        "\n",
        "import matplotlib.pyplot as plt\n",
        "import pandas as pd\n",
        "import numpy as np\n",
        "import seaborn as sns\n",
        "import matplotlib as mpl\n",
        "\n",
        "# load dataset\n",
        "\n",
        "filename = '/content/UsedCars_Combined (2).csv'\n",
        "df = pd.read_csv(filename)\n",
        "df.head()"
      ]
    },
    {
      "cell_type": "code",
      "source": [
        "df.info()"
      ],
      "metadata": {
        "colab": {
          "base_uri": "https://localhost:8080/"
        },
        "id": "4fdXpCi_-LCa",
        "outputId": "9ae89ef2-c8d8-4b62-fd41-e924427ba436"
      },
      "execution_count": null,
      "outputs": [
        {
          "output_type": "stream",
          "name": "stdout",
          "text": [
            "<class 'pandas.core.frame.DataFrame'>\n",
            "RangeIndex: 1725 entries, 0 to 1724\n",
            "Data columns (total 9 columns):\n",
            " #   Column                   Non-Null Count  Dtype  \n",
            "---  ------                   --------------  -----  \n",
            " 0   Id                       1725 non-null   int64  \n",
            " 1   year                     1725 non-null   int64  \n",
            " 2   brand                    1725 non-null   object \n",
            " 3   full_model_name          1725 non-null   object \n",
            " 4   model_name               1725 non-null   object \n",
            " 5   price                    1725 non-null   float64\n",
            " 6   distance_travelled(kms)  1725 non-null   float64\n",
            " 7   fuel_type                1725 non-null   object \n",
            " 8   city                     1725 non-null   object \n",
            "dtypes: float64(2), int64(2), object(5)\n",
            "memory usage: 121.4+ KB\n"
          ]
        }
      ]
    },
    {
      "cell_type": "code",
      "source": [
        "fig, ax = plt.subplots(figsize=(10,5))\n",
        "\n",
        "ax = sns.scatterplot(data=df, x = 'price', y = 'distance_travelled(kms)', hue ='fuel_type');\n",
        "ax.set_title(\"Distance Driven vs. Price\\n\");\n",
        "ax.set_xlabel('Price');\n",
        "ax.set_ylabel('Distance Travelled (kms)');\n",
        "\n",
        "price_fmt = mpl.ticker.StrMethodFormatter('₹{x:,.0f}');\n",
        "ax.xaxis.set_major_formatter(price_fmt);\n",
        "\n",
        "ylabels = ['{:,.0f}K'.format(y) for y in ax.get_yticks()/1000];\n",
        "ax.set_yticklabels(ylabels);\n",
        "\n",
        "fig.tight_layout()\n",
        "plt.savefig('Distance Driven vs Price.png', dpi = 300)\n",
        "\n",
        "\n",
        "# ₹ (Indian Rupee symbol)\n"
      ],
      "metadata": {
        "colab": {
          "base_uri": "https://localhost:8080/",
          "height": 369
        },
        "id": "52efsHFs-z0x",
        "outputId": "9eeba037-f226-4a5a-eec9-4aa57ddb5ca1"
      },
      "execution_count": null,
      "outputs": [
        {
          "output_type": "display_data",
          "data": {
            "text/plain": [
              "<Figure size 720x360 with 1 Axes>"
            ],
            "image/png": "[encoded data removed]"
          },
          "metadata": {
            "needs_background": "light"
          }
        }
      ]
    },
    {
      "cell_type": "code",
      "source": [],
      "metadata": {
        "colab": {
          "base_uri": "https://localhost:8080/",
          "height": 34
        },
        "id": "TSTV6D5gDMwP",
        "outputId": "e93a0ae9-d026-41c9-c24a-02e3327e9ec9"
      },
      "execution_count": null,
      "outputs": [
        {
          "output_type": "display_data",
          "data": {
            "text/plain": [
              "<Figure size 432x288 with 0 Axes>"
            ]
          },
          "metadata": {}
        }
      ]
    }
  ]
}