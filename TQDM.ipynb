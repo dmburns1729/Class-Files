{
  "nbformat": 4,
  "nbformat_minor": 0,
  "metadata": {
    "colab": {
      "provenance": [],
      "authorship_tag": "ABX9TyN8Rg3plHKqk+Gnnp7944tr",
      "include_colab_link": true
    },
    "kernelspec": {
      "name": "python3",
      "display_name": "Python 3"
    },
    "language_info": {
      "name": "python"
    }
  },
  "cells": [
    {
      "cell_type": "markdown",
      "metadata": {
        "id": "view-in-github",
        "colab_type": "text"
      },
      "source": [
        "<a href=\"https://colab.research.google.com/github/dmburns1729/Class-Files/blob/main/TQDM.ipynb\" target=\"_parent\"><img src=\"https://colab.research.google.com/assets/colab-badge.svg\" alt=\"Open In Colab\"/></a>"
      ]
    },
    {
      "cell_type": "code",
      "execution_count": null,
      "metadata": {
        "id": "xF5r1nqpggSL"
      },
      "outputs": [],
      "source": [
        "for i in tqdm_notebook( range(1,n_pages+1)):\n",
        "   # The block of code we want to TRY to run\n",
        "    try:\n",
        "\n",
        "        time.sleep(.2)\n",
        "\n",
        "        ## Read in results in progress file and check the length\n",
        "        with open(JSON_FILE, 'r') as f:\n",
        "            previous_results = json.load(f)\n",
        "\n",
        "        ## save number of results for to use as offset\n",
        "        n_results = len(previous_results)\n",
        "\n",
        "\n",
        "        ## use n_results as the OFFSET\n",
        "        results = yelp.search_query(location=location,\n",
        "                                        term=term,\n",
        "                                        offset=n_results+1)\n",
        "\n",
        "        ## append new results and save to file\n",
        "        previous_results.extend(results['businesses'])\n",
        "\n",
        "        with open(JSON_FILE,'w') as f:\n",
        "            json.dump(previous_results,f)\n",
        "\n",
        "    #What to do if we get an error/exception.\n",
        "    except Exception as e: # saving the error message so we can print it.\n",
        "        print('[!] ERROR: ',e)"
      ]
    }
  ]
}