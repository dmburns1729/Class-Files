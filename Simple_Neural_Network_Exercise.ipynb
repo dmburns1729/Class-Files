{
  "nbformat": 4,
  "nbformat_minor": 0,
  "metadata": {
    "colab": {
      "provenance": [],
      "mount_file_id": "1SgPdyptsuRkVVmmJV5FbVp2GDuaPP9iT",
      "authorship_tag": "ABX9TyMhiwmIdk9nTDc9tXE74X+p",
      "include_colab_link": true
    },
    "kernelspec": {
      "name": "python3",
      "display_name": "Python 3"
    },
    "language_info": {
      "name": "python"
    }
  },
  "cells": [
    {
      "cell_type": "markdown",
      "metadata": {
        "id": "view-in-github",
        "colab_type": "text"
      },
      "source": [
        "<a href=\"https://colab.research.google.com/github/dmburns1729/Class-Files/blob/main/Simple_Neural_Network_Exercise.ipynb\" target=\"_parent\"><img src=\"https://colab.research.google.com/assets/colab-badge.svg\" alt=\"Open In Colab\"/></a>"
      ]
    },
    {
      "cell_type": "code",
      "execution_count": null,
      "metadata": {
        "colab": {
          "base_uri": "https://localhost:8080/"
        },
        "id": "PYlp7ACOhpHw",
        "outputId": "ff23983b-5548-49f1-c2fd-858e3641d73b"
      },
      "outputs": [
        {
          "output_type": "stream",
          "name": "stdout",
          "text": [
            "Drive already mounted at /content/drive; to attempt to forcibly remount, call drive.mount(\"/content/drive\", force_remount=True).\n"
          ]
        }
      ],
      "source": [
        "from google.colab import drive\n",
        "drive.mount('/content/drive')"
      ]
    },
    {
      "cell_type": "code",
      "source": [
        "import numpy as np\n",
        "import matplotlib.pyplot as plt\n",
        "import pandas as pd\n",
        "from sklearn.preprocessing import StandardScaler\n",
        "from sklearn.model_selection import train_test_split\n",
        "from tensorflow.keras.models import Sequential\n",
        "from tensorflow.keras.layers import Dense\n",
        "\n",
        "from sklearn.preprocessing import StandardScaler, OneHotEncoder\n",
        "from sklearn.impute import SimpleImputer\n",
        "from sklearn.compose import make_column_transformer, make_column_selector\n",
        "from sklearn.pipeline import Pipeline, make_pipeline"
      ],
      "metadata": {
        "id": "s85HBcpkhyOF"
      },
      "execution_count": null,
      "outputs": []
    },
    {
      "cell_type": "code",
      "source": [
        "# Get data\n",
        "df = pd.read_csv('/content/heart - heart.csv')\n",
        "df.head()"
      ],
      "metadata": {
        "colab": {
          "base_uri": "https://localhost:8080/",
          "height": 206
        },
        "id": "jThftWIrh20M",
        "outputId": "c27de949-004b-4aef-e2ee-f65229b37099"
      },
      "execution_count": null,
      "outputs": [
        {
          "output_type": "execute_result",
          "data": {
            "text/plain": [
              "   Age Sex ChestPainType  RestingBP  Cholesterol  FastingBS RestingECG  MaxHR  \\\n",
              "0   40   M           ATA        140          289          0     Normal    172   \n",
              "1   49   F           NAP        160          180          0     Normal    156   \n",
              "2   37   M           ATA        130          283          0         ST     98   \n",
              "3   48   F           ASY        138          214          0     Normal    108   \n",
              "4   54   M           NAP        150          195          0     Normal    122   \n",
              "\n",
              "  ExerciseAngina  Oldpeak ST_Slope  HeartDisease  \n",
              "0              N      0.0       Up             0  \n",
              "1              N      1.0     Flat             1  \n",
              "2              N      0.0       Up             0  \n",
              "3              Y      1.5     Flat             1  \n",
              "4              N      0.0       Up             0  "
            ],
            "text/html": [
              "\n",
              "  <div id=\"df-5c93936c-4d0d-4d4a-bcf0-216586350475\">\n",
              "    <div class=\"colab-df-container\">\n",
              "      <div>\n",
              "<style scoped>\n",
              "    .dataframe tbody tr th:only-of-type {\n",
              "        vertical-align: middle;\n",
              "    }\n",
              "\n",
              "    .dataframe tbody tr th {\n",
              "        vertical-align: top;\n",
              "    }\n",
              "\n",
              "    .dataframe thead th {\n",
              "        text-align: right;\n",
              "    }\n",
              "</style>\n",
              "<table border=\"1\" class=\"dataframe\">\n",
              "  <thead>\n",
              "    <tr style=\"text-align: right;\">\n",
              "      <th></th>\n",
              "      <th>Age</th>\n",
              "      <th>Sex</th>\n",
              "      <th>ChestPainType</th>\n",
              "      <th>RestingBP</th>\n",
              "      <th>Cholesterol</th>\n",
              "      <th>FastingBS</th>\n",
              "      <th>RestingECG</th>\n",
              "      <th>MaxHR</th>\n",
              "      <th>ExerciseAngina</th>\n",
              "      <th>Oldpeak</th>\n",
              "      <th>ST_Slope</th>\n",
              "      <th>HeartDisease</th>\n",
              "    </tr>\n",
              "  </thead>\n",
              "  <tbody>\n",
              "    <tr>\n",
              "      <th>0</th>\n",
              "      <td>40</td>\n",
              "      <td>M</td>\n",
              "      <td>ATA</td>\n",
              "      <td>140</td>\n",
              "      <td>289</td>\n",
              "      <td>0</td>\n",
              "      <td>Normal</td>\n",
              "      <td>172</td>\n",
              "      <td>N</td>\n",
              "      <td>0.0</td>\n",
              "      <td>Up</td>\n",
              "      <td>0</td>\n",
              "    </tr>\n",
              "    <tr>\n",
              "      <th>1</th>\n",
              "      <td>49</td>\n",
              "      <td>F</td>\n",
              "      <td>NAP</td>\n",
              "      <td>160</td>\n",
              "      <td>180</td>\n",
              "      <td>0</td>\n",
              "      <td>Normal</td>\n",
              "      <td>156</td>\n",
              "      <td>N</td>\n",
              "      <td>1.0</td>\n",
              "      <td>Flat</td>\n",
              "      <td>1</td>\n",
              "    </tr>\n",
              "    <tr>\n",
              "      <th>2</th>\n",
              "      <td>37</td>\n",
              "      <td>M</td>\n",
              "      <td>ATA</td>\n",
              "      <td>130</td>\n",
              "      <td>283</td>\n",
              "      <td>0</td>\n",
              "      <td>ST</td>\n",
              "      <td>98</td>\n",
              "      <td>N</td>\n",
              "      <td>0.0</td>\n",
              "      <td>Up</td>\n",
              "      <td>0</td>\n",
              "    </tr>\n",
              "    <tr>\n",
              "      <th>3</th>\n",
              "      <td>48</td>\n",
              "      <td>F</td>\n",
              "      <td>ASY</td>\n",
              "      <td>138</td>\n",
              "      <td>214</td>\n",
              "      <td>0</td>\n",
              "      <td>Normal</td>\n",
              "      <td>108</td>\n",
              "      <td>Y</td>\n",
              "      <td>1.5</td>\n",
              "      <td>Flat</td>\n",
              "      <td>1</td>\n",
              "    </tr>\n",
              "    <tr>\n",
              "      <th>4</th>\n",
              "      <td>54</td>\n",
              "      <td>M</td>\n",
              "      <td>NAP</td>\n",
              "      <td>150</td>\n",
              "      <td>195</td>\n",
              "      <td>0</td>\n",
              "      <td>Normal</td>\n",
              "      <td>122</td>\n",
              "      <td>N</td>\n",
              "      <td>0.0</td>\n",
              "      <td>Up</td>\n",
              "      <td>0</td>\n",
              "    </tr>\n",
              "  </tbody>\n",
              "</table>\n",
              "</div>\n",
              "      <button class=\"colab-df-convert\" onclick=\"convertToInteractive('df-5c93936c-4d0d-4d4a-bcf0-216586350475')\"\n",
              "              title=\"Convert this dataframe to an interactive table.\"\n",
              "              style=\"display:none;\">\n",
              "        \n",
              "  <svg xmlns=\"http://www.w3.org/2000/svg\" height=\"24px\"viewBox=\"0 0 24 24\"\n",
              "       width=\"24px\">\n",
              "    <path d=\"M0 0h24v24H0V0z\" fill=\"none\"/>\n",
              "    <path d=\"M18.56 5.44l.94 2.06.94-2.06 2.06-.94-2.06-.94-.94-2.06-.94 2.06-2.06.94zm-11 1L8.5 8.5l.94-2.06 2.06-.94-2.06-.94L8.5 2.5l-.94 2.06-2.06.94zm10 10l.94 2.06.94-2.06 2.06-.94-2.06-.94-.94-2.06-.94 2.06-2.06.94z\"/><path d=\"M17.41 7.96l-1.37-1.37c-.4-.4-.92-.59-1.43-.59-.52 0-1.04.2-1.43.59L10.3 9.45l-7.72 7.72c-.78.78-.78 2.05 0 2.83L4 21.41c.39.39.9.59 1.41.59.51 0 1.02-.2 1.41-.59l7.78-7.78 2.81-2.81c.8-.78.8-2.07 0-2.86zM5.41 20L4 18.59l7.72-7.72 1.47 1.35L5.41 20z\"/>\n",
              "  </svg>\n",
              "      </button>\n",
              "      \n",
              "  <style>\n",
              "    .colab-df-container {\n",
              "      display:flex;\n",
              "      flex-wrap:wrap;\n",
              "      gap: 12px;\n",
              "    }\n",
              "\n",
              "    .colab-df-convert {\n",
              "      background-color: #E8F0FE;\n",
              "      border: none;\n",
              "      border-radius: 50%;\n",
              "      cursor: pointer;\n",
              "      display: none;\n",
              "      fill: #1967D2;\n",
              "      height: 32px;\n",
              "      padding: 0 0 0 0;\n",
              "      width: 32px;\n",
              "    }\n",
              "\n",
              "    .colab-df-convert:hover {\n",
              "      background-color: #E2EBFA;\n",
              "      box-shadow: 0px 1px 2px rgba(60, 64, 67, 0.3), 0px 1px 3px 1px rgba(60, 64, 67, 0.15);\n",
              "      fill: #174EA6;\n",
              "    }\n",
              "\n",
              "    [theme=dark] .colab-df-convert {\n",
              "      background-color: #3B4455;\n",
              "      fill: #D2E3FC;\n",
              "    }\n",
              "\n",
              "    [theme=dark] .colab-df-convert:hover {\n",
              "      background-color: #434B5C;\n",
              "      box-shadow: 0px 1px 3px 1px rgba(0, 0, 0, 0.15);\n",
              "      filter: drop-shadow(0px 1px 2px rgba(0, 0, 0, 0.3));\n",
              "      fill: #FFFFFF;\n",
              "    }\n",
              "  </style>\n",
              "\n",
              "      <script>\n",
              "        const buttonEl =\n",
              "          document.querySelector('#df-5c93936c-4d0d-4d4a-bcf0-216586350475 button.colab-df-convert');\n",
              "        buttonEl.style.display =\n",
              "          google.colab.kernel.accessAllowed ? 'block' : 'none';\n",
              "\n",
              "        async function convertToInteractive(key) {\n",
              "          const element = document.querySelector('#df-5c93936c-4d0d-4d4a-bcf0-216586350475');\n",
              "          const dataTable =\n",
              "            await google.colab.kernel.invokeFunction('convertToInteractive',\n",
              "                                                     [key], {});\n",
              "          if (!dataTable) return;\n",
              "\n",
              "          const docLinkHtml = 'Like what you see? Visit the ' +\n",
              "            '<a target=\"_blank\" href=https://colab.research.google.com/notebooks/data_table.ipynb>data table notebook</a>'\n",
              "            + ' to learn more about interactive tables.';\n",
              "          element.innerHTML = '';\n",
              "          dataTable['output_type'] = 'display_data';\n",
              "          await google.colab.output.renderOutput(dataTable, element);\n",
              "          const docLink = document.createElement('div');\n",
              "          docLink.innerHTML = docLinkHtml;\n",
              "          element.appendChild(docLink);\n",
              "        }\n",
              "      </script>\n",
              "    </div>\n",
              "  </div>\n",
              "  "
            ]
          },
          "metadata": {},
          "execution_count": 433
        }
      ]
    },
    {
      "cell_type": "code",
      "source": [
        "# Make a copy of the data for cleaning\n",
        "df_clean=df.copy()"
      ],
      "metadata": {
        "id": "dh_PDwdJk4Ux"
      },
      "execution_count": null,
      "outputs": []
    },
    {
      "cell_type": "code",
      "source": [
        "df_clean.info()"
      ],
      "metadata": {
        "colab": {
          "base_uri": "https://localhost:8080/"
        },
        "id": "IawkxsT4knip",
        "outputId": "b6b31c78-4a1e-4165-8fdf-ab0b940174af"
      },
      "execution_count": null,
      "outputs": [
        {
          "output_type": "stream",
          "name": "stdout",
          "text": [
            "<class 'pandas.core.frame.DataFrame'>\n",
            "RangeIndex: 918 entries, 0 to 917\n",
            "Data columns (total 12 columns):\n",
            " #   Column          Non-Null Count  Dtype  \n",
            "---  ------          --------------  -----  \n",
            " 0   Age             918 non-null    int64  \n",
            " 1   Sex             918 non-null    object \n",
            " 2   ChestPainType   918 non-null    object \n",
            " 3   RestingBP       918 non-null    int64  \n",
            " 4   Cholesterol     918 non-null    int64  \n",
            " 5   FastingBS       918 non-null    int64  \n",
            " 6   RestingECG      918 non-null    object \n",
            " 7   MaxHR           918 non-null    int64  \n",
            " 8   ExerciseAngina  918 non-null    object \n",
            " 9   Oldpeak         918 non-null    float64\n",
            " 10  ST_Slope        918 non-null    object \n",
            " 11  HeartDisease    918 non-null    int64  \n",
            "dtypes: float64(1), int64(6), object(5)\n",
            "memory usage: 86.2+ KB\n"
          ]
        }
      ]
    },
    {
      "cell_type": "code",
      "source": [
        "df_clean.isna().sum()\n",
        "# Shows missing values by column"
      ],
      "metadata": {
        "colab": {
          "base_uri": "https://localhost:8080/"
        },
        "id": "dQqED0ackunn",
        "outputId": "38ce5a9e-f7c9-4381-93d7-15358102fd89"
      },
      "execution_count": null,
      "outputs": [
        {
          "output_type": "execute_result",
          "data": {
            "text/plain": [
              "Age               0\n",
              "Sex               0\n",
              "ChestPainType     0\n",
              "RestingBP         0\n",
              "Cholesterol       0\n",
              "FastingBS         0\n",
              "RestingECG        0\n",
              "MaxHR             0\n",
              "ExerciseAngina    0\n",
              "Oldpeak           0\n",
              "ST_Slope          0\n",
              "HeartDisease      0\n",
              "dtype: int64"
            ]
          },
          "metadata": {},
          "execution_count": 436
        }
      ]
    },
    {
      "cell_type": "code",
      "source": [
        "# Drop duplicated rows\n",
        "df_clean.drop_duplicates()"
      ],
      "metadata": {
        "colab": {
          "base_uri": "https://localhost:8080/",
          "height": 423
        },
        "id": "mYm3jP5zlD4A",
        "outputId": "ae9b9545-cf1c-473d-e96a-fb73f474ff65"
      },
      "execution_count": null,
      "outputs": [
        {
          "output_type": "execute_result",
          "data": {
            "text/plain": [
              "     Age Sex ChestPainType  RestingBP  Cholesterol  FastingBS RestingECG  \\\n",
              "0     40   M           ATA        140          289          0     Normal   \n",
              "1     49   F           NAP        160          180          0     Normal   \n",
              "2     37   M           ATA        130          283          0         ST   \n",
              "3     48   F           ASY        138          214          0     Normal   \n",
              "4     54   M           NAP        150          195          0     Normal   \n",
              "..   ...  ..           ...        ...          ...        ...        ...   \n",
              "913   45   M            TA        110          264          0     Normal   \n",
              "914   68   M           ASY        144          193          1     Normal   \n",
              "915   57   M           ASY        130          131          0     Normal   \n",
              "916   57   F           ATA        130          236          0        LVH   \n",
              "917   38   M           NAP        138          175          0     Normal   \n",
              "\n",
              "     MaxHR ExerciseAngina  Oldpeak ST_Slope  HeartDisease  \n",
              "0      172              N      0.0       Up             0  \n",
              "1      156              N      1.0     Flat             1  \n",
              "2       98              N      0.0       Up             0  \n",
              "3      108              Y      1.5     Flat             1  \n",
              "4      122              N      0.0       Up             0  \n",
              "..     ...            ...      ...      ...           ...  \n",
              "913    132              N      1.2     Flat             1  \n",
              "914    141              N      3.4     Flat             1  \n",
              "915    115              Y      1.2     Flat             1  \n",
              "916    174              N      0.0     Flat             1  \n",
              "917    173              N      0.0       Up             0  \n",
              "\n",
              "[918 rows x 12 columns]"
            ],
            "text/html": [
              "\n",
              "  <div id=\"df-f424aec6-2b19-4428-beca-ea8e1d353cfc\">\n",
              "    <div class=\"colab-df-container\">\n",
              "      <div>\n",
              "<style scoped>\n",
              "    .dataframe tbody tr th:only-of-type {\n",
              "        vertical-align: middle;\n",
              "    }\n",
              "\n",
              "    .dataframe tbody tr th {\n",
              "        vertical-align: top;\n",
              "    }\n",
              "\n",
              "    .dataframe thead th {\n",
              "        text-align: right;\n",
              "    }\n",
              "</style>\n",
              "<table border=\"1\" class=\"dataframe\">\n",
              "  <thead>\n",
              "    <tr style=\"text-align: right;\">\n",
              "      <th></th>\n",
              "      <th>Age</th>\n",
              "      <th>Sex</th>\n",
              "      <th>ChestPainType</th>\n",
              "      <th>RestingBP</th>\n",
              "      <th>Cholesterol</th>\n",
              "      <th>FastingBS</th>\n",
              "      <th>RestingECG</th>\n",
              "      <th>MaxHR</th>\n",
              "      <th>ExerciseAngina</th>\n",
              "      <th>Oldpeak</th>\n",
              "      <th>ST_Slope</th>\n",
              "      <th>HeartDisease</th>\n",
              "    </tr>\n",
              "  </thead>\n",
              "  <tbody>\n",
              "    <tr>\n",
              "      <th>0</th>\n",
              "      <td>40</td>\n",
              "      <td>M</td>\n",
              "      <td>ATA</td>\n",
              "      <td>140</td>\n",
              "      <td>289</td>\n",
              "      <td>0</td>\n",
              "      <td>Normal</td>\n",
              "      <td>172</td>\n",
              "      <td>N</td>\n",
              "      <td>0.0</td>\n",
              "      <td>Up</td>\n",
              "      <td>0</td>\n",
              "    </tr>\n",
              "    <tr>\n",
              "      <th>1</th>\n",
              "      <td>49</td>\n",
              "      <td>F</td>\n",
              "      <td>NAP</td>\n",
              "      <td>160</td>\n",
              "      <td>180</td>\n",
              "      <td>0</td>\n",
              "      <td>Normal</td>\n",
              "      <td>156</td>\n",
              "      <td>N</td>\n",
              "      <td>1.0</td>\n",
              "      <td>Flat</td>\n",
              "      <td>1</td>\n",
              "    </tr>\n",
              "    <tr>\n",
              "      <th>2</th>\n",
              "      <td>37</td>\n",
              "      <td>M</td>\n",
              "      <td>ATA</td>\n",
              "      <td>130</td>\n",
              "      <td>283</td>\n",
              "      <td>0</td>\n",
              "      <td>ST</td>\n",
              "      <td>98</td>\n",
              "      <td>N</td>\n",
              "      <td>0.0</td>\n",
              "      <td>Up</td>\n",
              "      <td>0</td>\n",
              "    </tr>\n",
              "    <tr>\n",
              "      <th>3</th>\n",
              "      <td>48</td>\n",
              "      <td>F</td>\n",
              "      <td>ASY</td>\n",
              "      <td>138</td>\n",
              "      <td>214</td>\n",
              "      <td>0</td>\n",
              "      <td>Normal</td>\n",
              "      <td>108</td>\n",
              "      <td>Y</td>\n",
              "      <td>1.5</td>\n",
              "      <td>Flat</td>\n",
              "      <td>1</td>\n",
              "    </tr>\n",
              "    <tr>\n",
              "      <th>4</th>\n",
              "      <td>54</td>\n",
              "      <td>M</td>\n",
              "      <td>NAP</td>\n",
              "      <td>150</td>\n",
              "      <td>195</td>\n",
              "      <td>0</td>\n",
              "      <td>Normal</td>\n",
              "      <td>122</td>\n",
              "      <td>N</td>\n",
              "      <td>0.0</td>\n",
              "      <td>Up</td>\n",
              "      <td>0</td>\n",
              "    </tr>\n",
              "    <tr>\n",
              "      <th>...</th>\n",
              "      <td>...</td>\n",
              "      <td>...</td>\n",
              "      <td>...</td>\n",
              "      <td>...</td>\n",
              "      <td>...</td>\n",
              "      <td>...</td>\n",
              "      <td>...</td>\n",
              "      <td>...</td>\n",
              "      <td>...</td>\n",
              "      <td>...</td>\n",
              "      <td>...</td>\n",
              "      <td>...</td>\n",
              "    </tr>\n",
              "    <tr>\n",
              "      <th>913</th>\n",
              "      <td>45</td>\n",
              "      <td>M</td>\n",
              "      <td>TA</td>\n",
              "      <td>110</td>\n",
              "      <td>264</td>\n",
              "      <td>0</td>\n",
              "      <td>Normal</td>\n",
              "      <td>132</td>\n",
              "      <td>N</td>\n",
              "      <td>1.2</td>\n",
              "      <td>Flat</td>\n",
              "      <td>1</td>\n",
              "    </tr>\n",
              "    <tr>\n",
              "      <th>914</th>\n",
              "      <td>68</td>\n",
              "      <td>M</td>\n",
              "      <td>ASY</td>\n",
              "      <td>144</td>\n",
              "      <td>193</td>\n",
              "      <td>1</td>\n",
              "      <td>Normal</td>\n",
              "      <td>141</td>\n",
              "      <td>N</td>\n",
              "      <td>3.4</td>\n",
              "      <td>Flat</td>\n",
              "      <td>1</td>\n",
              "    </tr>\n",
              "    <tr>\n",
              "      <th>915</th>\n",
              "      <td>57</td>\n",
              "      <td>M</td>\n",
              "      <td>ASY</td>\n",
              "      <td>130</td>\n",
              "      <td>131</td>\n",
              "      <td>0</td>\n",
              "      <td>Normal</td>\n",
              "      <td>115</td>\n",
              "      <td>Y</td>\n",
              "      <td>1.2</td>\n",
              "      <td>Flat</td>\n",
              "      <td>1</td>\n",
              "    </tr>\n",
              "    <tr>\n",
              "      <th>916</th>\n",
              "      <td>57</td>\n",
              "      <td>F</td>\n",
              "      <td>ATA</td>\n",
              "      <td>130</td>\n",
              "      <td>236</td>\n",
              "      <td>0</td>\n",
              "      <td>LVH</td>\n",
              "      <td>174</td>\n",
              "      <td>N</td>\n",
              "      <td>0.0</td>\n",
              "      <td>Flat</td>\n",
              "      <td>1</td>\n",
              "    </tr>\n",
              "    <tr>\n",
              "      <th>917</th>\n",
              "      <td>38</td>\n",
              "      <td>M</td>\n",
              "      <td>NAP</td>\n",
              "      <td>138</td>\n",
              "      <td>175</td>\n",
              "      <td>0</td>\n",
              "      <td>Normal</td>\n",
              "      <td>173</td>\n",
              "      <td>N</td>\n",
              "      <td>0.0</td>\n",
              "      <td>Up</td>\n",
              "      <td>0</td>\n",
              "    </tr>\n",
              "  </tbody>\n",
              "</table>\n",
              "<p>918 rows × 12 columns</p>\n",
              "</div>\n",
              "      <button class=\"colab-df-convert\" onclick=\"convertToInteractive('df-f424aec6-2b19-4428-beca-ea8e1d353cfc')\"\n",
              "              title=\"Convert this dataframe to an interactive table.\"\n",
              "              style=\"display:none;\">\n",
              "        \n",
              "  <svg xmlns=\"http://www.w3.org/2000/svg\" height=\"24px\"viewBox=\"0 0 24 24\"\n",
              "       width=\"24px\">\n",
              "    <path d=\"M0 0h24v24H0V0z\" fill=\"none\"/>\n",
              "    <path d=\"M18.56 5.44l.94 2.06.94-2.06 2.06-.94-2.06-.94-.94-2.06-.94 2.06-2.06.94zm-11 1L8.5 8.5l.94-2.06 2.06-.94-2.06-.94L8.5 2.5l-.94 2.06-2.06.94zm10 10l.94 2.06.94-2.06 2.06-.94-2.06-.94-.94-2.06-.94 2.06-2.06.94z\"/><path d=\"M17.41 7.96l-1.37-1.37c-.4-.4-.92-.59-1.43-.59-.52 0-1.04.2-1.43.59L10.3 9.45l-7.72 7.72c-.78.78-.78 2.05 0 2.83L4 21.41c.39.39.9.59 1.41.59.51 0 1.02-.2 1.41-.59l7.78-7.78 2.81-2.81c.8-.78.8-2.07 0-2.86zM5.41 20L4 18.59l7.72-7.72 1.47 1.35L5.41 20z\"/>\n",
              "  </svg>\n",
              "      </button>\n",
              "      \n",
              "  <style>\n",
              "    .colab-df-container {\n",
              "      display:flex;\n",
              "      flex-wrap:wrap;\n",
              "      gap: 12px;\n",
              "    }\n",
              "\n",
              "    .colab-df-convert {\n",
              "      background-color: #E8F0FE;\n",
              "      border: none;\n",
              "      border-radius: 50%;\n",
              "      cursor: pointer;\n",
              "      display: none;\n",
              "      fill: #1967D2;\n",
              "      height: 32px;\n",
              "      padding: 0 0 0 0;\n",
              "      width: 32px;\n",
              "    }\n",
              "\n",
              "    .colab-df-convert:hover {\n",
              "      background-color: #E2EBFA;\n",
              "      box-shadow: 0px 1px 2px rgba(60, 64, 67, 0.3), 0px 1px 3px 1px rgba(60, 64, 67, 0.15);\n",
              "      fill: #174EA6;\n",
              "    }\n",
              "\n",
              "    [theme=dark] .colab-df-convert {\n",
              "      background-color: #3B4455;\n",
              "      fill: #D2E3FC;\n",
              "    }\n",
              "\n",
              "    [theme=dark] .colab-df-convert:hover {\n",
              "      background-color: #434B5C;\n",
              "      box-shadow: 0px 1px 3px 1px rgba(0, 0, 0, 0.15);\n",
              "      filter: drop-shadow(0px 1px 2px rgba(0, 0, 0, 0.3));\n",
              "      fill: #FFFFFF;\n",
              "    }\n",
              "  </style>\n",
              "\n",
              "      <script>\n",
              "        const buttonEl =\n",
              "          document.querySelector('#df-f424aec6-2b19-4428-beca-ea8e1d353cfc button.colab-df-convert');\n",
              "        buttonEl.style.display =\n",
              "          google.colab.kernel.accessAllowed ? 'block' : 'none';\n",
              "\n",
              "        async function convertToInteractive(key) {\n",
              "          const element = document.querySelector('#df-f424aec6-2b19-4428-beca-ea8e1d353cfc');\n",
              "          const dataTable =\n",
              "            await google.colab.kernel.invokeFunction('convertToInteractive',\n",
              "                                                     [key], {});\n",
              "          if (!dataTable) return;\n",
              "\n",
              "          const docLinkHtml = 'Like what you see? Visit the ' +\n",
              "            '<a target=\"_blank\" href=https://colab.research.google.com/notebooks/data_table.ipynb>data table notebook</a>'\n",
              "            + ' to learn more about interactive tables.';\n",
              "          element.innerHTML = '';\n",
              "          dataTable['output_type'] = 'display_data';\n",
              "          await google.colab.output.renderOutput(dataTable, element);\n",
              "          const docLink = document.createElement('div');\n",
              "          docLink.innerHTML = docLinkHtml;\n",
              "          element.appendChild(docLink);\n",
              "        }\n",
              "      </script>\n",
              "    </div>\n",
              "  </div>\n",
              "  "
            ]
          },
          "metadata": {},
          "execution_count": 437
        }
      ]
    },
    {
      "cell_type": "code",
      "source": [
        "# Check categorical columns for consistancy\n",
        "# select only object columns\n",
        "categoricals = df_clean.select_dtypes(include='object')\n",
        "\n",
        "# check value counts for each object column\n",
        "for col in categoricals.columns:\n",
        "  print(col)\n",
        "  print(categoricals[col].value_counts(), '\\n')"
      ],
      "metadata": {
        "colab": {
          "base_uri": "https://localhost:8080/"
        },
        "id": "a67mnvYBlHPf",
        "outputId": "3266ab07-2a58-4e27-eea2-2ad4b2b28483"
      },
      "execution_count": null,
      "outputs": [
        {
          "output_type": "stream",
          "name": "stdout",
          "text": [
            "Sex\n",
            "M    725\n",
            "F    193\n",
            "Name: Sex, dtype: int64 \n",
            "\n",
            "ChestPainType\n",
            "ASY    496\n",
            "NAP    203\n",
            "ATA    173\n",
            "TA      46\n",
            "Name: ChestPainType, dtype: int64 \n",
            "\n",
            "RestingECG\n",
            "Normal    552\n",
            "LVH       188\n",
            "ST        178\n",
            "Name: RestingECG, dtype: int64 \n",
            "\n",
            "ExerciseAngina\n",
            "N    547\n",
            "Y    371\n",
            "Name: ExerciseAngina, dtype: int64 \n",
            "\n",
            "ST_Slope\n",
            "Flat    460\n",
            "Up      395\n",
            "Down     63\n",
            "Name: ST_Slope, dtype: int64 \n",
            "\n"
          ]
        }
      ]
    },
    {
      "cell_type": "code",
      "source": [
        "df_ml=df_clean.copy()"
      ],
      "metadata": {
        "id": "ttqrVwsdlkTG"
      },
      "execution_count": null,
      "outputs": []
    },
    {
      "cell_type": "code",
      "source": [
        "df_ml.info()"
      ],
      "metadata": {
        "colab": {
          "base_uri": "https://localhost:8080/"
        },
        "id": "KEJoxEAInkhh",
        "outputId": "bd19e541-2d9d-4c49-dae2-c56db6e2243d"
      },
      "execution_count": null,
      "outputs": [
        {
          "output_type": "stream",
          "name": "stdout",
          "text": [
            "<class 'pandas.core.frame.DataFrame'>\n",
            "RangeIndex: 918 entries, 0 to 917\n",
            "Data columns (total 12 columns):\n",
            " #   Column          Non-Null Count  Dtype  \n",
            "---  ------          --------------  -----  \n",
            " 0   Age             918 non-null    int64  \n",
            " 1   Sex             918 non-null    object \n",
            " 2   ChestPainType   918 non-null    object \n",
            " 3   RestingBP       918 non-null    int64  \n",
            " 4   Cholesterol     918 non-null    int64  \n",
            " 5   FastingBS       918 non-null    int64  \n",
            " 6   RestingECG      918 non-null    object \n",
            " 7   MaxHR           918 non-null    int64  \n",
            " 8   ExerciseAngina  918 non-null    object \n",
            " 9   Oldpeak         918 non-null    float64\n",
            " 10  ST_Slope        918 non-null    object \n",
            " 11  HeartDisease    918 non-null    int64  \n",
            "dtypes: float64(1), int64(6), object(5)\n",
            "memory usage: 86.2+ KB\n"
          ]
        }
      ]
    },
    {
      "cell_type": "code",
      "source": [
        "# split X and y, we are predicting drug\n",
        "X = df_ml.drop(columns=['HeartDisease'])\n",
        "y = df_ml['HeartDisease']\n",
        "\n",
        "# split training and test\n",
        "# set random_state to 42 for reproducibility\n",
        "X_train, X_test, y_train, y_test = train_test_split(X, y, random_state=42)"
      ],
      "metadata": {
        "id": "9XKVKjkdlLrt"
      },
      "execution_count": null,
      "outputs": []
    },
    {
      "cell_type": "code",
      "source": [
        "#instantiate the StandardScaler, OneHotEncoder, and Imputers\n",
        "scaler = StandardScaler()\n",
        "ohe = OneHotEncoder(sparse=False, handle_unknown='ignore')\n",
        "\n",
        "mean_imputer = SimpleImputer(strategy='mean')\n",
        "freq_imputer = SimpleImputer(strategy='most_frequent')\n",
        "# Setup the pipelines for the numeric and categorical data\n",
        "\n",
        "num_pipeline = make_pipeline(mean_imputer, scaler)\n",
        "nom_pipeline = make_pipeline(freq_imputer, ohe)\n",
        "\n",
        "# Selectors\n",
        "num_selector = make_column_selector(dtype_include='number')\n",
        "nom_selector = make_column_selector(dtype_include='object')\n",
        "\n",
        "# Setup the tuples to pair the processors with the make column selectors\n",
        "\n",
        "numeric_tuple = (num_pipeline, num_selector)\n",
        "nominal_tuple = (nom_pipeline, nom_selector)\n",
        "\n",
        "# Instantiate the make column transformer\n",
        "preprocessor = make_column_transformer(numeric_tuple,\n",
        "                                       nominal_tuple,\n",
        "                                       remainder='drop')\n",
        "\n"
      ],
      "metadata": {
        "id": "hmHaUM6nluHo"
      },
      "execution_count": null,
      "outputs": []
    },
    {
      "cell_type": "code",
      "source": [
        "preprocessor.fit_transform(X_train)"
      ],
      "metadata": {
        "colab": {
          "base_uri": "https://localhost:8080/"
        },
        "id": "QRNq65q1n6oi",
        "outputId": "8408d6e3-9c5f-49dd-87ab-4cba17944212"
      },
      "execution_count": null,
      "outputs": [
        {
          "output_type": "execute_result",
          "data": {
            "text/plain": [
              "array([[ 0.23929215,  1.1838018 ,  1.3073138 , ...,  0.        ,\n",
              "         1.        ,  0.        ],\n",
              "       [ 0.23929215,  1.1838018 , -1.87799952, ...,  0.        ,\n",
              "         1.        ,  0.        ],\n",
              "       [ 0.55896789,  0.91381054,  0.09652218, ...,  0.        ,\n",
              "         0.        ,  1.        ],\n",
              "       ...,\n",
              "       [ 0.66552646, -0.16615451,  0.47838723, ...,  0.        ,\n",
              "         0.        ,  1.        ],\n",
              "       [ 0.66552646,  1.02180704, -1.87799952, ...,  0.        ,\n",
              "         0.        ,  1.        ],\n",
              "       [-1.46564508,  0.91381054,  1.77300288, ...,  0.        ,\n",
              "         1.        ,  0.        ]])"
            ]
          },
          "metadata": {},
          "execution_count": 443
        }
      ]
    },
    {
      "cell_type": "code",
      "source": [
        "X_train = preprocessor.transform(X_train)\n",
        "X_test = preprocessor.transform(X_test)"
      ],
      "metadata": {
        "id": "t7F5b8Ph24eu"
      },
      "execution_count": null,
      "outputs": []
    },
    {
      "cell_type": "code",
      "source": [
        "# Step 1: Define our network structure\n",
        "# Save the number of features we have as our input shape\n",
        "input_shape = X_train.shape[1]\n",
        "input_shape"
      ],
      "metadata": {
        "colab": {
          "base_uri": "https://localhost:8080/"
        },
        "id": "cLkYBb1GiOa1",
        "outputId": "bd321483-9eea-482b-dd85-e48d8f76a9db"
      },
      "execution_count": null,
      "outputs": [
        {
          "output_type": "execute_result",
          "data": {
            "text/plain": [
              "20"
            ]
          },
          "metadata": {},
          "execution_count": 445
        }
      ]
    },
    {
      "cell_type": "code",
      "source": [
        "# Sequential model\n",
        "model = Sequential()"
      ],
      "metadata": {
        "id": "gR6mozp0iRSY"
      },
      "execution_count": null,
      "outputs": []
    },
    {
      "cell_type": "code",
      "source": [
        "# First hidden layer\n",
        "model.add(Dense(20, # How many neurons you have in your first hidden layer\n",
        "                input_dim = input_shape, # What is the shape of your input features (number of columns)\n",
        "                activation = 'relu')) # What activation function are you using?\n",
        "# Second hidden layer\n",
        "model.add(Dense(10, # How many neurons you have in your second hidden layer\n",
        "                activation = 'relu')) # What activation function are you using?"
      ],
      "metadata": {
        "id": "-yiiOFkiiVC5"
      },
      "execution_count": null,
      "outputs": []
    },
    {
      "cell_type": "code",
      "source": [
        "# Output layer\n",
        "model.add(Dense(1, activation = 'sigmoid'))"
      ],
      "metadata": {
        "id": "CCUia5q0iXpz"
      },
      "execution_count": null,
      "outputs": []
    },
    {
      "cell_type": "code",
      "source": [
        "# Step 2: Compile\n",
        "model.compile(loss = 'bce', optimizer = 'adam')"
      ],
      "metadata": {
        "id": "zhDhrD12iZne"
      },
      "execution_count": null,
      "outputs": []
    },
    {
      "cell_type": "code",
      "source": [
        "# Step 3: Fit our model\n",
        "history = model.fit(X_train, y_train,\n",
        "                    validation_data = (X_test, y_test),\n",
        "                    epochs=10);\n",
        "\n",
        "                    #,verbose=0"
      ],
      "metadata": {
        "id": "hLLs3hBpibwt",
        "colab": {
          "base_uri": "https://localhost:8080/"
        },
        "outputId": "aab61b7e-5b12-45ac-f6f7-6f34c55bf26f"
      },
      "execution_count": null,
      "outputs": [
        {
          "output_type": "stream",
          "name": "stdout",
          "text": [
            "Epoch 1/10\n",
            "22/22 [==============================] - 1s 12ms/step - loss: 0.7503 - val_loss: 0.7105\n",
            "Epoch 2/10\n",
            "22/22 [==============================] - 0s 4ms/step - loss: 0.6716 - val_loss: 0.6492\n",
            "Epoch 3/10\n",
            "22/22 [==============================] - 0s 5ms/step - loss: 0.6164 - val_loss: 0.5997\n",
            "Epoch 4/10\n",
            "22/22 [==============================] - 0s 4ms/step - loss: 0.5691 - val_loss: 0.5508\n",
            "Epoch 5/10\n",
            "22/22 [==============================] - 0s 4ms/step - loss: 0.5253 - val_loss: 0.5029\n",
            "Epoch 6/10\n",
            "22/22 [==============================] - 0s 4ms/step - loss: 0.4838 - val_loss: 0.4545\n",
            "Epoch 7/10\n",
            "22/22 [==============================] - 0s 4ms/step - loss: 0.4395 - val_loss: 0.4019\n",
            "Epoch 8/10\n",
            "22/22 [==============================] - 0s 4ms/step - loss: 0.3924 - val_loss: 0.3639\n",
            "Epoch 9/10\n",
            "22/22 [==============================] - 0s 5ms/step - loss: 0.3585 - val_loss: 0.3364\n",
            "Epoch 10/10\n",
            "22/22 [==============================] - 0s 3ms/step - loss: 0.3400 - val_loss: 0.3269\n"
          ]
        }
      ]
    },
    {
      "cell_type": "code",
      "source": [
        "# Visualize the loss\n",
        "plt.plot(history.history['loss'], label='Train loss')\n",
        "plt.plot(history.history['val_loss'], label='Test Loss')\n",
        "plt.legend();"
      ],
      "metadata": {
        "colab": {
          "base_uri": "https://localhost:8080/",
          "height": 265
        },
        "id": "ZHb0SNC5inw-",
        "outputId": "7e6bd613-1961-4dbf-a66f-aa8845abbbd3"
      },
      "execution_count": null,
      "outputs": [
        {
          "output_type": "display_data",
          "data": {
            "text/plain": [
              "<Figure size 432x288 with 1 Axes>"
            ],
            "image/png": "[encoded data removed]"
          },
          "metadata": {
            "needs_background": "light"
          }
        }
      ]
    },
    {
      "cell_type": "code",
      "source": [
        "from sklearn.metrics import r2_score, mean_squared_error, mean_absolute_error\n",
        "\n",
        "def evaluate_regression(nn_model, X_test, y_test, label=\"Test Data\"):\n",
        "  test_preds = nn_model.predict(X_test)\n",
        "  test_r2 = r2_score(y_test, test_preds)\n",
        "  print(f'Model Testing R2: {round(test_r2,3)}')\n",
        "\n",
        "  test_MAE = mean_absolute_error(y_test, test_preds)\n",
        "  print(f'Model Testing MAE: {round(test_MAE,3)}')\n",
        "\n",
        "  test_MSE = mean_squared_error(test_preds, y_test)\n",
        "  print(f'Model Testing MSE: {round(test_MSE,3)}')\n",
        "\n",
        "  test_RMSE = np.sqrt((test_MSE))\n",
        "  print(f'Model Testing RMSE: {round(test_RMSE,3)}')\n"
      ],
      "metadata": {
        "id": "NHuNEthN6h9u"
      },
      "execution_count": null,
      "outputs": []
    },
    {
      "cell_type": "code",
      "source": [
        "evaluate_regression(model, X_test, y_test, label=\"Test Data\")"
      ],
      "metadata": {
        "colab": {
          "base_uri": "https://localhost:8080/"
        },
        "id": "wHMx2zbE6mKz",
        "outputId": "d9cd194b-b991-43bb-c818-41b5b9047c7c"
      },
      "execution_count": null,
      "outputs": [
        {
          "output_type": "stream",
          "name": "stdout",
          "text": [
            "8/8 [==============================] - 0s 3ms/step\n",
            "Model Testing R2: 0.602\n",
            "Model Testing MAE: 0.226\n",
            "Model Testing MSE: 0.097\n",
            "Model Testing RMSE: 0.312\n"
          ]
        }
      ]
    },
    {
      "cell_type": "code",
      "source": [
        "## define the evaluate_classiffication function here.\n",
        "\n",
        "from sklearn.metrics import (roc_auc_score, ConfusionMatrixDisplay, RocCurveDisplay, f1_score, accuracy_score, classification_report)\n",
        "\n",
        "def evaluate_classiffication(lgr_pipe, X_test, y_test, label=\"Test Data\"):\n",
        "  test_preds = lgr_pipe.predict(X_test)\n",
        "\n",
        "   ## Print classification report for the test data\n",
        "  print('---'*20)\n",
        "  print(f\"CLASSIFICATION REPORT FOR: {label}\")\n",
        "  print('---'*20)\n",
        "  # print the classiffication report from the test data\n",
        "  print(classification_report(y_test, test_preds.round()))\n",
        "\n",
        "  #fig, axes = plt.subplots(1,2, figsize=(15,5))\n",
        "\n",
        "  # create a confusion matrix with the test data\n",
        "  ConfusionMatrixDisplay.from_predictions(y_test, test_preds.round(),\n",
        "               normalize='true', cmap='Greens',\n",
        "               );"
      ],
      "metadata": {
        "id": "H5FnPZpk6tUU"
      },
      "execution_count": null,
      "outputs": []
    },
    {
      "cell_type": "code",
      "source": [
        "evaluate_classiffication(model, X_test, y_test, label=\"Test Data\")"
      ],
      "metadata": {
        "colab": {
          "base_uri": "https://localhost:8080/",
          "height": 505
        },
        "id": "gYBAAbbb6ut9",
        "outputId": "ceb299c1-a785-49d6-ba00-39f37f113e06"
      },
      "execution_count": null,
      "outputs": [
        {
          "output_type": "stream",
          "name": "stdout",
          "text": [
            "8/8 [==============================] - 0s 2ms/step\n",
            "------------------------------------------------------------\n",
            "CLASSIFICATION REPORT FOR: Test Data\n",
            "------------------------------------------------------------\n",
            "              precision    recall  f1-score   support\n",
            "\n",
            "           0       0.83      0.87      0.85        98\n",
            "           1       0.90      0.86      0.88       132\n",
            "\n",
            "    accuracy                           0.87       230\n",
            "   macro avg       0.86      0.87      0.86       230\n",
            "weighted avg       0.87      0.87      0.87       230\n",
            "\n"
          ]
        },
        {
          "output_type": "display_data",
          "data": {
            "text/plain": [
              "<Figure size 432x288 with 2 Axes>"
            ],
            "image/png": "[encoded data removed]"
          },
          "metadata": {
            "needs_background": "light"
          }
        }
      ]
    },
    {
      "cell_type": "code",
      "source": [
        "# Sequential model\n",
        "model = Sequential()\n",
        "# First hidden layer\n",
        "model.add(Dense(20, # How many neurons you have in your first hidden layer\n",
        "                input_dim = input_shape, # What is the shape of your input features (number of columns)\n",
        "                activation = 'relu')) # What activation function are you using?\n",
        "# Second hidden layer\n",
        "model.add(Dense(10, # How many neurons you have in your second hidden layer\n",
        "                activation = 'relu')) # What activation function are you using?\n",
        "                # Output layer\n",
        "model.add(Dense(1, activation = 'sigmoid'))\n",
        "# Step 2: Compile\n",
        "model.compile(loss = 'bce', optimizer = 'adam')\n",
        "# Step 3: Fit our model\n",
        "history = model.fit(X_train, y_train,\n",
        "                    validation_data = (X_test, y_test),\n",
        "                    epochs=50)\n",
        "# Visualize the loss\n",
        "plt.plot(history.history['loss'], label='Train loss');\n",
        "plt.plot(history.history['val_loss'], label='Test Loss');\n",
        "plt.legend();"
      ],
      "metadata": {
        "colab": {
          "base_uri": "https://localhost:8080/",
          "height": 1000
        },
        "id": "q0fmj7YrFDsf",
        "outputId": "afc9d5e8-1e55-4fe7-e564-d686c774c2fe"
      },
      "execution_count": null,
      "outputs": [
        {
          "output_type": "stream",
          "name": "stdout",
          "text": [
            "Epoch 1/50\n",
            "22/22 [==============================] - 1s 10ms/step - loss: 0.6551 - val_loss: 0.6111\n",
            "Epoch 2/50\n",
            "22/22 [==============================] - 0s 4ms/step - loss: 0.6069 - val_loss: 0.5726\n",
            "Epoch 3/50\n",
            "22/22 [==============================] - 0s 4ms/step - loss: 0.5694 - val_loss: 0.5355\n",
            "Epoch 4/50\n",
            "22/22 [==============================] - 0s 4ms/step - loss: 0.5364 - val_loss: 0.5047\n",
            "Epoch 5/50\n",
            "22/22 [==============================] - 0s 4ms/step - loss: 0.5088 - val_loss: 0.4761\n",
            "Epoch 6/50\n",
            "22/22 [==============================] - 0s 4ms/step - loss: 0.4834 - val_loss: 0.4478\n",
            "Epoch 7/50\n",
            "22/22 [==============================] - 0s 4ms/step - loss: 0.4552 - val_loss: 0.4200\n",
            "Epoch 8/50\n",
            "22/22 [==============================] - 0s 4ms/step - loss: 0.4243 - val_loss: 0.3935\n",
            "Epoch 9/50\n",
            "22/22 [==============================] - 0s 3ms/step - loss: 0.3939 - val_loss: 0.3685\n",
            "Epoch 10/50\n",
            "22/22 [==============================] - 0s 4ms/step - loss: 0.3663 - val_loss: 0.3480\n",
            "Epoch 11/50\n",
            "22/22 [==============================] - 0s 3ms/step - loss: 0.3446 - val_loss: 0.3380\n",
            "Epoch 12/50\n",
            "22/22 [==============================] - 0s 4ms/step - loss: 0.3298 - val_loss: 0.3252\n",
            "Epoch 13/50\n",
            "22/22 [==============================] - 0s 4ms/step - loss: 0.3197 - val_loss: 0.3202\n",
            "Epoch 14/50\n",
            "22/22 [==============================] - 0s 4ms/step - loss: 0.3137 - val_loss: 0.3182\n",
            "Epoch 15/50\n",
            "22/22 [==============================] - 0s 3ms/step - loss: 0.3082 - val_loss: 0.3159\n",
            "Epoch 16/50\n",
            "22/22 [==============================] - 0s 4ms/step - loss: 0.3050 - val_loss: 0.3124\n",
            "Epoch 17/50\n",
            "22/22 [==============================] - 0s 4ms/step - loss: 0.3018 - val_loss: 0.3080\n",
            "Epoch 18/50\n",
            "22/22 [==============================] - 0s 3ms/step - loss: 0.2974 - val_loss: 0.3073\n",
            "Epoch 19/50\n",
            "22/22 [==============================] - 0s 4ms/step - loss: 0.2945 - val_loss: 0.3071\n",
            "Epoch 20/50\n",
            "22/22 [==============================] - 0s 4ms/step - loss: 0.2920 - val_loss: 0.3034\n",
            "Epoch 21/50\n",
            "22/22 [==============================] - 0s 4ms/step - loss: 0.2892 - val_loss: 0.3021\n",
            "Epoch 22/50\n",
            "22/22 [==============================] - 0s 4ms/step - loss: 0.2871 - val_loss: 0.3011\n",
            "Epoch 23/50\n",
            "22/22 [==============================] - 0s 3ms/step - loss: 0.2848 - val_loss: 0.2991\n",
            "Epoch 24/50\n",
            "22/22 [==============================] - 0s 3ms/step - loss: 0.2834 - val_loss: 0.2982\n",
            "Epoch 25/50\n",
            "22/22 [==============================] - 0s 4ms/step - loss: 0.2810 - val_loss: 0.3003\n",
            "Epoch 26/50\n",
            "22/22 [==============================] - 0s 4ms/step - loss: 0.2794 - val_loss: 0.2986\n",
            "Epoch 27/50\n",
            "22/22 [==============================] - 0s 4ms/step - loss: 0.2781 - val_loss: 0.2984\n",
            "Epoch 28/50\n",
            "22/22 [==============================] - 0s 4ms/step - loss: 0.2761 - val_loss: 0.2958\n",
            "Epoch 29/50\n",
            "22/22 [==============================] - 0s 4ms/step - loss: 0.2745 - val_loss: 0.2962\n",
            "Epoch 30/50\n",
            "22/22 [==============================] - 0s 4ms/step - loss: 0.2731 - val_loss: 0.2964\n",
            "Epoch 31/50\n",
            "22/22 [==============================] - 0s 5ms/step - loss: 0.2718 - val_loss: 0.2936\n",
            "Epoch 32/50\n",
            "22/22 [==============================] - 0s 3ms/step - loss: 0.2701 - val_loss: 0.2937\n",
            "Epoch 33/50\n",
            "22/22 [==============================] - 0s 4ms/step - loss: 0.2683 - val_loss: 0.2907\n",
            "Epoch 34/50\n",
            "22/22 [==============================] - 0s 5ms/step - loss: 0.2676 - val_loss: 0.2929\n",
            "Epoch 35/50\n",
            "22/22 [==============================] - 0s 4ms/step - loss: 0.2659 - val_loss: 0.2913\n",
            "Epoch 36/50\n",
            "22/22 [==============================] - 0s 4ms/step - loss: 0.2644 - val_loss: 0.2924\n",
            "Epoch 37/50\n",
            "22/22 [==============================] - 0s 4ms/step - loss: 0.2636 - val_loss: 0.2918\n",
            "Epoch 38/50\n",
            "22/22 [==============================] - 0s 4ms/step - loss: 0.2621 - val_loss: 0.2939\n",
            "Epoch 39/50\n",
            "22/22 [==============================] - 0s 4ms/step - loss: 0.2614 - val_loss: 0.2897\n",
            "Epoch 40/50\n",
            "22/22 [==============================] - 0s 4ms/step - loss: 0.2595 - val_loss: 0.2924\n",
            "Epoch 41/50\n",
            "22/22 [==============================] - 0s 3ms/step - loss: 0.2577 - val_loss: 0.2916\n",
            "Epoch 42/50\n",
            "22/22 [==============================] - 0s 5ms/step - loss: 0.2563 - val_loss: 0.2905\n",
            "Epoch 43/50\n",
            "22/22 [==============================] - 0s 4ms/step - loss: 0.2548 - val_loss: 0.2899\n",
            "Epoch 44/50\n",
            "22/22 [==============================] - 0s 3ms/step - loss: 0.2546 - val_loss: 0.2934\n",
            "Epoch 45/50\n",
            "22/22 [==============================] - 0s 4ms/step - loss: 0.2522 - val_loss: 0.2894\n",
            "Epoch 46/50\n",
            "22/22 [==============================] - 0s 5ms/step - loss: 0.2520 - val_loss: 0.2927\n",
            "Epoch 47/50\n",
            "22/22 [==============================] - 0s 4ms/step - loss: 0.2499 - val_loss: 0.2892\n",
            "Epoch 48/50\n",
            "22/22 [==============================] - 0s 3ms/step - loss: 0.2487 - val_loss: 0.2917\n",
            "Epoch 49/50\n",
            "22/22 [==============================] - 0s 4ms/step - loss: 0.2473 - val_loss: 0.2888\n",
            "Epoch 50/50\n",
            "22/22 [==============================] - 0s 3ms/step - loss: 0.2477 - val_loss: 0.2916\n"
          ]
        },
        {
          "output_type": "display_data",
          "data": {
            "text/plain": [
              "<Figure size 432x288 with 1 Axes>"
            ],
            "image/png": "[encoded data removed]"
          },
          "metadata": {
            "needs_background": "light"
          }
        }
      ]
    },
    {
      "cell_type": "code",
      "source": [
        "evaluate_regression(model, X_test, y_test, label=\"Test Data\")\n",
        "evaluate_classiffication(model, X_test, y_test, label=\"Test Data\")"
      ],
      "metadata": {
        "colab": {
          "base_uri": "https://localhost:8080/",
          "height": 591
        },
        "id": "HwRhSW5S27PI",
        "outputId": "7fa2c821-76f1-4bdb-9c60-ef78f0ea7b05"
      },
      "execution_count": null,
      "outputs": [
        {
          "output_type": "stream",
          "name": "stdout",
          "text": [
            "8/8 [==============================] - 0s 2ms/step\n",
            "Model Testing R2: 0.635\n",
            "Model Testing MAE: 0.178\n",
            "Model Testing MSE: 0.089\n",
            "Model Testing RMSE: 0.299\n",
            "8/8 [==============================] - 0s 2ms/step\n",
            "------------------------------------------------------------\n",
            "CLASSIFICATION REPORT FOR: Test Data\n",
            "------------------------------------------------------------\n",
            "              precision    recall  f1-score   support\n",
            "\n",
            "           0       0.86      0.87      0.86        98\n",
            "           1       0.90      0.89      0.90       132\n",
            "\n",
            "    accuracy                           0.88       230\n",
            "   macro avg       0.88      0.88      0.88       230\n",
            "weighted avg       0.88      0.88      0.88       230\n",
            "\n"
          ]
        },
        {
          "output_type": "display_data",
          "data": {
            "text/plain": [
              "<Figure size 432x288 with 2 Axes>"
            ],
            "image/png": "[encoded data removed]"
          },
          "metadata": {
            "needs_background": "light"
          }
        }
      ]
    },
    {
      "cell_type": "code",
      "source": [
        "# Sequential model\n",
        "model = Sequential()\n",
        "# First hidden layer\n",
        "model.add(Dense(10, # How many neurons you have in your first hidden layer\n",
        "                input_dim = input_shape, # What is the shape of your input features (number of columns)\n",
        "                activation = 'relu')) # What activation function are you using?\n",
        "# Second hidden layer\n",
        "model.add(Dense(5, # How many neurons you have in your second hidden layer\n",
        "                activation = 'relu')) # What activation function are you using?\n",
        "                # Output layer\n",
        "model.add(Dense(1, activation = 'sigmoid'))\n",
        "# Step 2: Compile\n",
        "model.compile(loss = 'bce', optimizer = 'adam')\n",
        "# Step 3: Fit our model\n",
        "history = model.fit(X_train, y_train,\n",
        "                    validation_data = (X_test, y_test),\n",
        "                    epochs=100)\n",
        "# Visualize the loss\n",
        "plt.plot(history.history['loss'], label='Train loss');\n",
        "plt.plot(history.history['val_loss'], label='Test Loss');\n",
        "plt.legend();"
      ],
      "metadata": {
        "colab": {
          "base_uri": "https://localhost:8080/",
          "height": 1000
        },
        "id": "2ORi7StzudHi",
        "outputId": "60e86c31-9025-41b7-8152-79f03b4b2845"
      },
      "execution_count": null,
      "outputs": [
        {
          "output_type": "stream",
          "name": "stdout",
          "text": [
            "Epoch 1/100\n",
            "22/22 [==============================] - 1s 10ms/step - loss: 0.6908 - val_loss: 0.6922\n",
            "Epoch 2/100\n",
            "22/22 [==============================] - 0s 4ms/step - loss: 0.6777 - val_loss: 0.6820\n",
            "Epoch 3/100\n",
            "22/22 [==============================] - 0s 4ms/step - loss: 0.6621 - val_loss: 0.6687\n",
            "Epoch 4/100\n",
            "22/22 [==============================] - 0s 6ms/step - loss: 0.6384 - val_loss: 0.6487\n",
            "Epoch 5/100\n",
            "22/22 [==============================] - 0s 3ms/step - loss: 0.6053 - val_loss: 0.6219\n",
            "Epoch 6/100\n",
            "22/22 [==============================] - 0s 4ms/step - loss: 0.5642 - val_loss: 0.5859\n",
            "Epoch 7/100\n",
            "22/22 [==============================] - 0s 4ms/step - loss: 0.5203 - val_loss: 0.5451\n",
            "Epoch 8/100\n",
            "22/22 [==============================] - 0s 4ms/step - loss: 0.4765 - val_loss: 0.4998\n",
            "Epoch 9/100\n",
            "22/22 [==============================] - 0s 4ms/step - loss: 0.4369 - val_loss: 0.4580\n",
            "Epoch 10/100\n",
            "22/22 [==============================] - 0s 4ms/step - loss: 0.4029 - val_loss: 0.4246\n",
            "Epoch 11/100\n",
            "22/22 [==============================] - 0s 3ms/step - loss: 0.3777 - val_loss: 0.3991\n",
            "Epoch 12/100\n",
            "22/22 [==============================] - 0s 4ms/step - loss: 0.3617 - val_loss: 0.3796\n",
            "Epoch 13/100\n",
            "22/22 [==============================] - 0s 4ms/step - loss: 0.3512 - val_loss: 0.3705\n",
            "Epoch 14/100\n",
            "22/22 [==============================] - 0s 3ms/step - loss: 0.3446 - val_loss: 0.3632\n",
            "Epoch 15/100\n",
            "22/22 [==============================] - 0s 4ms/step - loss: 0.3399 - val_loss: 0.3614\n",
            "Epoch 16/100\n",
            "22/22 [==============================] - 0s 3ms/step - loss: 0.3357 - val_loss: 0.3567\n",
            "Epoch 17/100\n",
            "22/22 [==============================] - 0s 5ms/step - loss: 0.3327 - val_loss: 0.3525\n",
            "Epoch 18/100\n",
            "22/22 [==============================] - 0s 4ms/step - loss: 0.3302 - val_loss: 0.3498\n",
            "Epoch 19/100\n",
            "22/22 [==============================] - 0s 4ms/step - loss: 0.3272 - val_loss: 0.3500\n",
            "Epoch 20/100\n",
            "22/22 [==============================] - 0s 4ms/step - loss: 0.3250 - val_loss: 0.3513\n",
            "Epoch 21/100\n",
            "22/22 [==============================] - 0s 4ms/step - loss: 0.3227 - val_loss: 0.3462\n",
            "Epoch 22/100\n",
            "22/22 [==============================] - 0s 4ms/step - loss: 0.3209 - val_loss: 0.3404\n",
            "Epoch 23/100\n",
            "22/22 [==============================] - 0s 4ms/step - loss: 0.3190 - val_loss: 0.3407\n",
            "Epoch 24/100\n",
            "22/22 [==============================] - 0s 4ms/step - loss: 0.3176 - val_loss: 0.3408\n",
            "Epoch 25/100\n",
            "22/22 [==============================] - 0s 4ms/step - loss: 0.3160 - val_loss: 0.3378\n",
            "Epoch 26/100\n",
            "22/22 [==============================] - 0s 3ms/step - loss: 0.3149 - val_loss: 0.3357\n",
            "Epoch 27/100\n",
            "22/22 [==============================] - 0s 6ms/step - loss: 0.3133 - val_loss: 0.3352\n",
            "Epoch 28/100\n",
            "22/22 [==============================] - 0s 4ms/step - loss: 0.3117 - val_loss: 0.3336\n",
            "Epoch 29/100\n",
            "22/22 [==============================] - 0s 4ms/step - loss: 0.3107 - val_loss: 0.3344\n",
            "Epoch 30/100\n",
            "22/22 [==============================] - 0s 4ms/step - loss: 0.3098 - val_loss: 0.3328\n",
            "Epoch 31/100\n",
            "22/22 [==============================] - 0s 3ms/step - loss: 0.3088 - val_loss: 0.3301\n",
            "Epoch 32/100\n",
            "22/22 [==============================] - 0s 4ms/step - loss: 0.3084 - val_loss: 0.3327\n",
            "Epoch 33/100\n",
            "22/22 [==============================] - 0s 4ms/step - loss: 0.3064 - val_loss: 0.3272\n",
            "Epoch 34/100\n",
            "22/22 [==============================] - 0s 4ms/step - loss: 0.3054 - val_loss: 0.3292\n",
            "Epoch 35/100\n",
            "22/22 [==============================] - 0s 4ms/step - loss: 0.3040 - val_loss: 0.3275\n",
            "Epoch 36/100\n",
            "22/22 [==============================] - 0s 5ms/step - loss: 0.3035 - val_loss: 0.3275\n",
            "Epoch 37/100\n",
            "22/22 [==============================] - 0s 4ms/step - loss: 0.3019 - val_loss: 0.3251\n",
            "Epoch 38/100\n",
            "22/22 [==============================] - 0s 4ms/step - loss: 0.3013 - val_loss: 0.3245\n",
            "Epoch 39/100\n",
            "22/22 [==============================] - 0s 4ms/step - loss: 0.3001 - val_loss: 0.3225\n",
            "Epoch 40/100\n",
            "22/22 [==============================] - 0s 4ms/step - loss: 0.2991 - val_loss: 0.3221\n",
            "Epoch 41/100\n",
            "22/22 [==============================] - 0s 4ms/step - loss: 0.2981 - val_loss: 0.3214\n",
            "Epoch 42/100\n",
            "22/22 [==============================] - 0s 4ms/step - loss: 0.2968 - val_loss: 0.3187\n",
            "Epoch 43/100\n",
            "22/22 [==============================] - 0s 4ms/step - loss: 0.2962 - val_loss: 0.3169\n",
            "Epoch 44/100\n",
            "22/22 [==============================] - 0s 4ms/step - loss: 0.2950 - val_loss: 0.3170\n",
            "Epoch 45/100\n",
            "22/22 [==============================] - 0s 4ms/step - loss: 0.2939 - val_loss: 0.3146\n",
            "Epoch 46/100\n",
            "22/22 [==============================] - 0s 4ms/step - loss: 0.2923 - val_loss: 0.3159\n",
            "Epoch 47/100\n",
            "22/22 [==============================] - 0s 4ms/step - loss: 0.2917 - val_loss: 0.3152\n",
            "Epoch 48/100\n",
            "22/22 [==============================] - 0s 4ms/step - loss: 0.2906 - val_loss: 0.3124\n",
            "Epoch 49/100\n",
            "22/22 [==============================] - 0s 5ms/step - loss: 0.2903 - val_loss: 0.3102\n",
            "Epoch 50/100\n",
            "22/22 [==============================] - 0s 4ms/step - loss: 0.2884 - val_loss: 0.3106\n",
            "Epoch 51/100\n",
            "22/22 [==============================] - 0s 4ms/step - loss: 0.2880 - val_loss: 0.3124\n",
            "Epoch 52/100\n",
            "22/22 [==============================] - 0s 4ms/step - loss: 0.2870 - val_loss: 0.3082\n",
            "Epoch 53/100\n",
            "22/22 [==============================] - 0s 4ms/step - loss: 0.2864 - val_loss: 0.3055\n",
            "Epoch 54/100\n",
            "22/22 [==============================] - 0s 4ms/step - loss: 0.2856 - val_loss: 0.3071\n",
            "Epoch 55/100\n",
            "22/22 [==============================] - 0s 4ms/step - loss: 0.2843 - val_loss: 0.3041\n",
            "Epoch 56/100\n",
            "22/22 [==============================] - 0s 4ms/step - loss: 0.2837 - val_loss: 0.3033\n",
            "Epoch 57/100\n",
            "22/22 [==============================] - 0s 4ms/step - loss: 0.2832 - val_loss: 0.3048\n",
            "Epoch 58/100\n",
            "22/22 [==============================] - 0s 3ms/step - loss: 0.2819 - val_loss: 0.3014\n",
            "Epoch 59/100\n",
            "22/22 [==============================] - 0s 4ms/step - loss: 0.2817 - val_loss: 0.2983\n",
            "Epoch 60/100\n",
            "22/22 [==============================] - 0s 5ms/step - loss: 0.2811 - val_loss: 0.3009\n",
            "Epoch 61/100\n",
            "22/22 [==============================] - 0s 4ms/step - loss: 0.2804 - val_loss: 0.2999\n",
            "Epoch 62/100\n",
            "22/22 [==============================] - 0s 4ms/step - loss: 0.2797 - val_loss: 0.3001\n",
            "Epoch 63/100\n",
            "22/22 [==============================] - 0s 3ms/step - loss: 0.2790 - val_loss: 0.2981\n",
            "Epoch 64/100\n",
            "22/22 [==============================] - 0s 4ms/step - loss: 0.2786 - val_loss: 0.2979\n",
            "Epoch 65/100\n",
            "22/22 [==============================] - 0s 3ms/step - loss: 0.2781 - val_loss: 0.2980\n",
            "Epoch 66/100\n",
            "22/22 [==============================] - 0s 3ms/step - loss: 0.2780 - val_loss: 0.2987\n",
            "Epoch 67/100\n",
            "22/22 [==============================] - 0s 4ms/step - loss: 0.2770 - val_loss: 0.2960\n",
            "Epoch 68/100\n",
            "22/22 [==============================] - 0s 3ms/step - loss: 0.2765 - val_loss: 0.2949\n",
            "Epoch 69/100\n",
            "22/22 [==============================] - 0s 3ms/step - loss: 0.2758 - val_loss: 0.2930\n",
            "Epoch 70/100\n",
            "22/22 [==============================] - 0s 4ms/step - loss: 0.2754 - val_loss: 0.2947\n",
            "Epoch 71/100\n",
            "22/22 [==============================] - 0s 4ms/step - loss: 0.2750 - val_loss: 0.2923\n",
            "Epoch 72/100\n",
            "22/22 [==============================] - 0s 4ms/step - loss: 0.2744 - val_loss: 0.2911\n",
            "Epoch 73/100\n",
            "22/22 [==============================] - 0s 4ms/step - loss: 0.2739 - val_loss: 0.2927\n",
            "Epoch 74/100\n",
            "22/22 [==============================] - 0s 4ms/step - loss: 0.2732 - val_loss: 0.2914\n",
            "Epoch 75/100\n",
            "22/22 [==============================] - 0s 4ms/step - loss: 0.2732 - val_loss: 0.2940\n",
            "Epoch 76/100\n",
            "22/22 [==============================] - 0s 4ms/step - loss: 0.2726 - val_loss: 0.2896\n",
            "Epoch 77/100\n",
            "22/22 [==============================] - 0s 4ms/step - loss: 0.2715 - val_loss: 0.2922\n",
            "Epoch 78/100\n",
            "22/22 [==============================] - 0s 4ms/step - loss: 0.2712 - val_loss: 0.2904\n",
            "Epoch 79/100\n",
            "22/22 [==============================] - 0s 4ms/step - loss: 0.2705 - val_loss: 0.2907\n",
            "Epoch 80/100\n",
            "22/22 [==============================] - 0s 5ms/step - loss: 0.2697 - val_loss: 0.2891\n",
            "Epoch 81/100\n",
            "22/22 [==============================] - 0s 5ms/step - loss: 0.2692 - val_loss: 0.2892\n",
            "Epoch 82/100\n",
            "22/22 [==============================] - 0s 5ms/step - loss: 0.2690 - val_loss: 0.2892\n",
            "Epoch 83/100\n",
            "22/22 [==============================] - 0s 5ms/step - loss: 0.2685 - val_loss: 0.2877\n",
            "Epoch 84/100\n",
            "22/22 [==============================] - 0s 4ms/step - loss: 0.2685 - val_loss: 0.2859\n",
            "Epoch 85/100\n",
            "22/22 [==============================] - 0s 4ms/step - loss: 0.2671 - val_loss: 0.2883\n",
            "Epoch 86/100\n",
            "22/22 [==============================] - 0s 5ms/step - loss: 0.2666 - val_loss: 0.2887\n",
            "Epoch 87/100\n",
            "22/22 [==============================] - 0s 4ms/step - loss: 0.2658 - val_loss: 0.2857\n",
            "Epoch 88/100\n",
            "22/22 [==============================] - 0s 4ms/step - loss: 0.2654 - val_loss: 0.2847\n",
            "Epoch 89/100\n",
            "22/22 [==============================] - 0s 4ms/step - loss: 0.2649 - val_loss: 0.2839\n",
            "Epoch 90/100\n",
            "22/22 [==============================] - 0s 6ms/step - loss: 0.2641 - val_loss: 0.2843\n",
            "Epoch 91/100\n",
            "22/22 [==============================] - 0s 5ms/step - loss: 0.2639 - val_loss: 0.2836\n",
            "Epoch 92/100\n",
            "22/22 [==============================] - 0s 4ms/step - loss: 0.2633 - val_loss: 0.2843\n",
            "Epoch 93/100\n",
            "22/22 [==============================] - 0s 5ms/step - loss: 0.2635 - val_loss: 0.2840\n",
            "Epoch 94/100\n",
            "22/22 [==============================] - 0s 5ms/step - loss: 0.2623 - val_loss: 0.2814\n",
            "Epoch 95/100\n",
            "22/22 [==============================] - 0s 4ms/step - loss: 0.2619 - val_loss: 0.2808\n",
            "Epoch 96/100\n",
            "22/22 [==============================] - 0s 4ms/step - loss: 0.2616 - val_loss: 0.2829\n",
            "Epoch 97/100\n",
            "22/22 [==============================] - 0s 4ms/step - loss: 0.2612 - val_loss: 0.2810\n",
            "Epoch 98/100\n",
            "22/22 [==============================] - 0s 4ms/step - loss: 0.2603 - val_loss: 0.2808\n",
            "Epoch 99/100\n",
            "22/22 [==============================] - 0s 5ms/step - loss: 0.2605 - val_loss: 0.2825\n",
            "Epoch 100/100\n",
            "22/22 [==============================] - 0s 4ms/step - loss: 0.2606 - val_loss: 0.2806\n"
          ]
        },
        {
          "output_type": "display_data",
          "data": {
            "text/plain": [
              "<Figure size 432x288 with 1 Axes>"
            ],
            "image/png": "[encoded data removed]"
          },
          "metadata": {
            "needs_background": "light"
          }
        }
      ]
    },
    {
      "cell_type": "code",
      "source": [
        "evaluate_regression(model, X_test, y_test, label=\"Test Data\")\n",
        "evaluate_classiffication(model, X_test, y_test, label=\"Test Data\")"
      ],
      "metadata": {
        "colab": {
          "base_uri": "https://localhost:8080/",
          "height": 591
        },
        "id": "rqpJSs3_ups6",
        "outputId": "645c32f4-1008-4604-813a-98cd9b96ecbb"
      },
      "execution_count": null,
      "outputs": [
        {
          "output_type": "stream",
          "name": "stdout",
          "text": [
            "8/8 [==============================] - 0s 2ms/step\n",
            "Model Testing R2: 0.654\n",
            "Model Testing MAE: 0.176\n",
            "Model Testing MSE: 0.085\n",
            "Model Testing RMSE: 0.291\n",
            "8/8 [==============================] - 0s 2ms/step\n",
            "------------------------------------------------------------\n",
            "CLASSIFICATION REPORT FOR: Test Data\n",
            "------------------------------------------------------------\n",
            "              precision    recall  f1-score   support\n",
            "\n",
            "           0       0.86      0.87      0.86        98\n",
            "           1       0.90      0.89      0.90       132\n",
            "\n",
            "    accuracy                           0.88       230\n",
            "   macro avg       0.88      0.88      0.88       230\n",
            "weighted avg       0.88      0.88      0.88       230\n",
            "\n"
          ]
        },
        {
          "output_type": "display_data",
          "data": {
            "text/plain": [
              "<Figure size 432x288 with 2 Axes>"
            ],
            "image/png": "[encoded data removed]"
          },
          "metadata": {
            "needs_background": "light"
          }
        }
      ]
    },
    {
      "cell_type": "code",
      "source": [
        "# Sequential model\n",
        "model = Sequential()\n",
        "# First hidden layer\n",
        "model.add(Dense(10, # How many neurons you have in your first hidden layer\n",
        "                input_dim = input_shape, # What is the shape of your input features (number of columns)\n",
        "                activation = 'relu')) # What activation function are you using?\n",
        "# Second hidden layer\n",
        "model.add(Dense(5, # How many neurons you have in your second hidden layer\n",
        "                activation = 'relu')) # What activation function are you using?\n",
        "                # Output layer\n",
        "model.add(Dense(1, activation = 'sigmoid'))\n",
        "# Third hidden layer\n",
        "model.add(Dense(5, # How many neurons you have in your second hidden layer\n",
        "                activation = 'relu')) # What activation function are you using?\n",
        "                # Output layer\n",
        "model.add(Dense(1, activation = 'sigmoid'))\n",
        "# Step 2: Compile\n",
        "model.compile(loss = 'bce', optimizer = 'adam')\n",
        "# Step 3: Fit our model\n",
        "history = model.fit(X_train, y_train,\n",
        "                    validation_data = (X_test, y_test),\n",
        "                    epochs=100)\n",
        "# Visualize the loss\n",
        "plt.plot(history.history['loss'], label='Train loss');\n",
        "plt.plot(history.history['val_loss'], label='Test Loss');\n",
        "plt.legend();"
      ],
      "metadata": {
        "colab": {
          "base_uri": "https://localhost:8080/",
          "height": 1000
        },
        "id": "NJWWIt1KMA5L",
        "outputId": "8d451e53-3fa2-4e66-acfd-db4609be1d96"
      },
      "execution_count": null,
      "outputs": [
        {
          "output_type": "stream",
          "name": "stdout",
          "text": [
            "Epoch 1/100\n",
            "22/22 [==============================] - 1s 11ms/step - loss: 0.6931 - val_loss: 0.6925\n",
            "Epoch 2/100\n",
            "22/22 [==============================] - 0s 4ms/step - loss: 0.6925 - val_loss: 0.6917\n",
            "Epoch 3/100\n",
            "22/22 [==============================] - 0s 4ms/step - loss: 0.6921 - val_loss: 0.6911\n",
            "Epoch 4/100\n",
            "22/22 [==============================] - 0s 4ms/step - loss: 0.6918 - val_loss: 0.6905\n",
            "Epoch 5/100\n",
            "22/22 [==============================] - 0s 4ms/step - loss: 0.6914 - val_loss: 0.6900\n",
            "Epoch 6/100\n",
            "22/22 [==============================] - 0s 4ms/step - loss: 0.6910 - val_loss: 0.6891\n",
            "Epoch 7/100\n",
            "22/22 [==============================] - 0s 4ms/step - loss: 0.6899 - val_loss: 0.6874\n",
            "Epoch 8/100\n",
            "22/22 [==============================] - 0s 4ms/step - loss: 0.6870 - val_loss: 0.6833\n",
            "Epoch 9/100\n",
            "22/22 [==============================] - 0s 4ms/step - loss: 0.6812 - val_loss: 0.6762\n",
            "Epoch 10/100\n",
            "22/22 [==============================] - 0s 4ms/step - loss: 0.6730 - val_loss: 0.6671\n",
            "Epoch 11/100\n",
            "22/22 [==============================] - 0s 4ms/step - loss: 0.6632 - val_loss: 0.6577\n",
            "Epoch 12/100\n",
            "22/22 [==============================] - 0s 4ms/step - loss: 0.6529 - val_loss: 0.6475\n",
            "Epoch 13/100\n",
            "22/22 [==============================] - 0s 5ms/step - loss: 0.6422 - val_loss: 0.6370\n",
            "Epoch 14/100\n",
            "22/22 [==============================] - 0s 4ms/step - loss: 0.6307 - val_loss: 0.6265\n",
            "Epoch 15/100\n",
            "22/22 [==============================] - 0s 4ms/step - loss: 0.6194 - val_loss: 0.6161\n",
            "Epoch 16/100\n",
            "22/22 [==============================] - 0s 4ms/step - loss: 0.6083 - val_loss: 0.6054\n",
            "Epoch 17/100\n",
            "22/22 [==============================] - 0s 5ms/step - loss: 0.5965 - val_loss: 0.5956\n",
            "Epoch 18/100\n",
            "22/22 [==============================] - 0s 5ms/step - loss: 0.5855 - val_loss: 0.5850\n",
            "Epoch 19/100\n",
            "22/22 [==============================] - 0s 4ms/step - loss: 0.5741 - val_loss: 0.5756\n",
            "Epoch 20/100\n",
            "22/22 [==============================] - 0s 4ms/step - loss: 0.5632 - val_loss: 0.5658\n",
            "Epoch 21/100\n",
            "22/22 [==============================] - 0s 4ms/step - loss: 0.5526 - val_loss: 0.5569\n",
            "Epoch 22/100\n",
            "22/22 [==============================] - 0s 4ms/step - loss: 0.5423 - val_loss: 0.5472\n",
            "Epoch 23/100\n",
            "22/22 [==============================] - 0s 5ms/step - loss: 0.5321 - val_loss: 0.5393\n",
            "Epoch 24/100\n",
            "22/22 [==============================] - 0s 4ms/step - loss: 0.5226 - val_loss: 0.5317\n",
            "Epoch 25/100\n",
            "22/22 [==============================] - 0s 6ms/step - loss: 0.5135 - val_loss: 0.5237\n",
            "Epoch 26/100\n",
            "22/22 [==============================] - 0s 3ms/step - loss: 0.5044 - val_loss: 0.5156\n",
            "Epoch 27/100\n",
            "22/22 [==============================] - 0s 4ms/step - loss: 0.4958 - val_loss: 0.5088\n",
            "Epoch 28/100\n",
            "22/22 [==============================] - 0s 4ms/step - loss: 0.4878 - val_loss: 0.5024\n",
            "Epoch 29/100\n",
            "22/22 [==============================] - 0s 4ms/step - loss: 0.4798 - val_loss: 0.4967\n",
            "Epoch 30/100\n",
            "22/22 [==============================] - 0s 4ms/step - loss: 0.4724 - val_loss: 0.4919\n",
            "Epoch 31/100\n",
            "22/22 [==============================] - 0s 4ms/step - loss: 0.4655 - val_loss: 0.4844\n",
            "Epoch 32/100\n",
            "22/22 [==============================] - 0s 4ms/step - loss: 0.4596 - val_loss: 0.4781\n",
            "Epoch 33/100\n",
            "22/22 [==============================] - 0s 5ms/step - loss: 0.4534 - val_loss: 0.4766\n",
            "Epoch 34/100\n",
            "22/22 [==============================] - 0s 4ms/step - loss: 0.4466 - val_loss: 0.4690\n",
            "Epoch 35/100\n",
            "22/22 [==============================] - 0s 4ms/step - loss: 0.4410 - val_loss: 0.4663\n",
            "Epoch 36/100\n",
            "22/22 [==============================] - 0s 4ms/step - loss: 0.4355 - val_loss: 0.4593\n",
            "Epoch 37/100\n",
            "22/22 [==============================] - 0s 4ms/step - loss: 0.4300 - val_loss: 0.4570\n",
            "Epoch 38/100\n",
            "22/22 [==============================] - 0s 4ms/step - loss: 0.4250 - val_loss: 0.4528\n",
            "Epoch 39/100\n",
            "22/22 [==============================] - 0s 4ms/step - loss: 0.4208 - val_loss: 0.4498\n",
            "Epoch 40/100\n",
            "22/22 [==============================] - 0s 4ms/step - loss: 0.4158 - val_loss: 0.4456\n",
            "Epoch 41/100\n",
            "22/22 [==============================] - 0s 4ms/step - loss: 0.4115 - val_loss: 0.4421\n",
            "Epoch 42/100\n",
            "22/22 [==============================] - 0s 4ms/step - loss: 0.4073 - val_loss: 0.4397\n",
            "Epoch 43/100\n",
            "22/22 [==============================] - 0s 4ms/step - loss: 0.4032 - val_loss: 0.4351\n",
            "Epoch 44/100\n",
            "22/22 [==============================] - 0s 4ms/step - loss: 0.3995 - val_loss: 0.4331\n",
            "Epoch 45/100\n",
            "22/22 [==============================] - 0s 4ms/step - loss: 0.3963 - val_loss: 0.4310\n",
            "Epoch 46/100\n",
            "22/22 [==============================] - 0s 4ms/step - loss: 0.3937 - val_loss: 0.4265\n",
            "Epoch 47/100\n",
            "22/22 [==============================] - 0s 4ms/step - loss: 0.3888 - val_loss: 0.4266\n",
            "Epoch 48/100\n",
            "22/22 [==============================] - 0s 4ms/step - loss: 0.3860 - val_loss: 0.4229\n",
            "Epoch 49/100\n",
            "22/22 [==============================] - 0s 4ms/step - loss: 0.3829 - val_loss: 0.4209\n",
            "Epoch 50/100\n",
            "22/22 [==============================] - 0s 4ms/step - loss: 0.3803 - val_loss: 0.4181\n",
            "Epoch 51/100\n",
            "22/22 [==============================] - 0s 4ms/step - loss: 0.3767 - val_loss: 0.4179\n",
            "Epoch 52/100\n",
            "22/22 [==============================] - 0s 5ms/step - loss: 0.3735 - val_loss: 0.4150\n",
            "Epoch 53/100\n",
            "22/22 [==============================] - 0s 3ms/step - loss: 0.3707 - val_loss: 0.4130\n",
            "Epoch 54/100\n",
            "22/22 [==============================] - 0s 4ms/step - loss: 0.3682 - val_loss: 0.4121\n",
            "Epoch 55/100\n",
            "22/22 [==============================] - 0s 4ms/step - loss: 0.3652 - val_loss: 0.4096\n",
            "Epoch 56/100\n",
            "22/22 [==============================] - 0s 3ms/step - loss: 0.3636 - val_loss: 0.4082\n",
            "Epoch 57/100\n",
            "22/22 [==============================] - 0s 5ms/step - loss: 0.3605 - val_loss: 0.4067\n",
            "Epoch 58/100\n",
            "22/22 [==============================] - 0s 3ms/step - loss: 0.3585 - val_loss: 0.4054\n",
            "Epoch 59/100\n",
            "22/22 [==============================] - 0s 4ms/step - loss: 0.3561 - val_loss: 0.4034\n",
            "Epoch 60/100\n",
            "22/22 [==============================] - 0s 4ms/step - loss: 0.3539 - val_loss: 0.4033\n",
            "Epoch 61/100\n",
            "22/22 [==============================] - 0s 3ms/step - loss: 0.3522 - val_loss: 0.4012\n",
            "Epoch 62/100\n",
            "22/22 [==============================] - 0s 4ms/step - loss: 0.3499 - val_loss: 0.4011\n",
            "Epoch 63/100\n",
            "22/22 [==============================] - 0s 4ms/step - loss: 0.3484 - val_loss: 0.3982\n",
            "Epoch 64/100\n",
            "22/22 [==============================] - 0s 3ms/step - loss: 0.3457 - val_loss: 0.3981\n",
            "Epoch 65/100\n",
            "22/22 [==============================] - 0s 4ms/step - loss: 0.3439 - val_loss: 0.3967\n",
            "Epoch 66/100\n",
            "22/22 [==============================] - 0s 6ms/step - loss: 0.3423 - val_loss: 0.3957\n",
            "Epoch 67/100\n",
            "22/22 [==============================] - 0s 3ms/step - loss: 0.3406 - val_loss: 0.3945\n",
            "Epoch 68/100\n",
            "22/22 [==============================] - 0s 4ms/step - loss: 0.3386 - val_loss: 0.3935\n",
            "Epoch 69/100\n",
            "22/22 [==============================] - 0s 4ms/step - loss: 0.3371 - val_loss: 0.3928\n",
            "Epoch 70/100\n",
            "22/22 [==============================] - 0s 4ms/step - loss: 0.3354 - val_loss: 0.3924\n",
            "Epoch 71/100\n",
            "22/22 [==============================] - 0s 4ms/step - loss: 0.3343 - val_loss: 0.3911\n",
            "Epoch 72/100\n",
            "22/22 [==============================] - 0s 4ms/step - loss: 0.3321 - val_loss: 0.3891\n",
            "Epoch 73/100\n",
            "22/22 [==============================] - 0s 4ms/step - loss: 0.3305 - val_loss: 0.3910\n",
            "Epoch 74/100\n",
            "22/22 [==============================] - 0s 4ms/step - loss: 0.3294 - val_loss: 0.3904\n",
            "Epoch 75/100\n",
            "22/22 [==============================] - 0s 4ms/step - loss: 0.3274 - val_loss: 0.3908\n",
            "Epoch 76/100\n",
            "22/22 [==============================] - 0s 5ms/step - loss: 0.3258 - val_loss: 0.3919\n",
            "Epoch 77/100\n",
            "22/22 [==============================] - 0s 4ms/step - loss: 0.3247 - val_loss: 0.3882\n",
            "Epoch 78/100\n",
            "22/22 [==============================] - 0s 4ms/step - loss: 0.3234 - val_loss: 0.3895\n",
            "Epoch 79/100\n",
            "22/22 [==============================] - 0s 4ms/step - loss: 0.3210 - val_loss: 0.3887\n",
            "Epoch 80/100\n",
            "22/22 [==============================] - 0s 4ms/step - loss: 0.3197 - val_loss: 0.3871\n",
            "Epoch 81/100\n",
            "22/22 [==============================] - 0s 4ms/step - loss: 0.3185 - val_loss: 0.3862\n",
            "Epoch 82/100\n",
            "22/22 [==============================] - 0s 4ms/step - loss: 0.3170 - val_loss: 0.3856\n",
            "Epoch 83/100\n",
            "22/22 [==============================] - 0s 4ms/step - loss: 0.3167 - val_loss: 0.3869\n",
            "Epoch 84/100\n",
            "22/22 [==============================] - 0s 4ms/step - loss: 0.3160 - val_loss: 0.3837\n",
            "Epoch 85/100\n",
            "22/22 [==============================] - 0s 4ms/step - loss: 0.3133 - val_loss: 0.3856\n",
            "Epoch 86/100\n",
            "22/22 [==============================] - 0s 4ms/step - loss: 0.3127 - val_loss: 0.3853\n",
            "Epoch 87/100\n",
            "22/22 [==============================] - 0s 5ms/step - loss: 0.3118 - val_loss: 0.3820\n",
            "Epoch 88/100\n",
            "22/22 [==============================] - 0s 3ms/step - loss: 0.3097 - val_loss: 0.3836\n",
            "Epoch 89/100\n",
            "22/22 [==============================] - 0s 4ms/step - loss: 0.3086 - val_loss: 0.3806\n",
            "Epoch 90/100\n",
            "22/22 [==============================] - 0s 4ms/step - loss: 0.3080 - val_loss: 0.3821\n",
            "Epoch 91/100\n",
            "22/22 [==============================] - 0s 3ms/step - loss: 0.3081 - val_loss: 0.3796\n",
            "Epoch 92/100\n",
            "22/22 [==============================] - 0s 4ms/step - loss: 0.3055 - val_loss: 0.3823\n",
            "Epoch 93/100\n",
            "22/22 [==============================] - 0s 4ms/step - loss: 0.3040 - val_loss: 0.3810\n",
            "Epoch 94/100\n",
            "22/22 [==============================] - 0s 5ms/step - loss: 0.3032 - val_loss: 0.3803\n",
            "Epoch 95/100\n",
            "22/22 [==============================] - 0s 4ms/step - loss: 0.3019 - val_loss: 0.3788\n",
            "Epoch 96/100\n",
            "22/22 [==============================] - 0s 4ms/step - loss: 0.3005 - val_loss: 0.3808\n",
            "Epoch 97/100\n",
            "22/22 [==============================] - 0s 4ms/step - loss: 0.3000 - val_loss: 0.3807\n",
            "Epoch 98/100\n",
            "22/22 [==============================] - 0s 7ms/step - loss: 0.2985 - val_loss: 0.3776\n",
            "Epoch 99/100\n",
            "22/22 [==============================] - 0s 12ms/step - loss: 0.2979 - val_loss: 0.3799\n",
            "Epoch 100/100\n",
            "22/22 [==============================] - 0s 6ms/step - loss: 0.2960 - val_loss: 0.3765\n"
          ]
        },
        {
          "output_type": "display_data",
          "data": {
            "text/plain": [
              "<Figure size 432x288 with 1 Axes>"
            ],
            "image/png": "[encoded data removed]"
          },
          "metadata": {
            "needs_background": "light"
          }
        }
      ]
    },
    {
      "cell_type": "code",
      "source": [
        "evaluate_regression(model, X_test, y_test, label=\"Test Data\")\n",
        "evaluate_classiffication(model, X_test, y_test, label=\"Test Data\")"
      ],
      "metadata": {
        "colab": {
          "base_uri": "https://localhost:8080/",
          "height": 591
        },
        "id": "l-9h3cxiMJfD",
        "outputId": "647d5c76-2d0d-4fcb-8a5e-3f15f07cede2"
      },
      "execution_count": null,
      "outputs": [
        {
          "output_type": "stream",
          "name": "stdout",
          "text": [
            "8/8 [==============================] - 0s 3ms/step\n",
            "Model Testing R2: 0.565\n",
            "Model Testing MAE: 0.222\n",
            "Model Testing MSE: 0.106\n",
            "Model Testing RMSE: 0.326\n",
            "8/8 [==============================] - 0s 2ms/step\n",
            "------------------------------------------------------------\n",
            "CLASSIFICATION REPORT FOR: Test Data\n",
            "------------------------------------------------------------\n",
            "              precision    recall  f1-score   support\n",
            "\n",
            "           0       0.84      0.89      0.87        98\n",
            "           1       0.91      0.88      0.90       132\n",
            "\n",
            "    accuracy                           0.88       230\n",
            "   macro avg       0.88      0.88      0.88       230\n",
            "weighted avg       0.88      0.88      0.88       230\n",
            "\n"
          ]
        },
        {
          "output_type": "display_data",
          "data": {
            "text/plain": [
              "<Figure size 432x288 with 2 Axes>"
            ],
            "image/png": "[encoded data removed]"
          },
          "metadata": {
            "needs_background": "light"
          }
        }
      ]
    }
  ]
}