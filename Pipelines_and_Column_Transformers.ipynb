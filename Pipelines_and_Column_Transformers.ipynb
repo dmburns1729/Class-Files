{
  "nbformat": 4,
  "nbformat_minor": 0,
  "metadata": {
    "colab": {
      "provenance": [],
      "mount_file_id": "1Ap4KGkLtwRHI9vMiWBcLeu8y7o335qUV",
      "authorship_tag": "ABX9TyM77o+J1DkCFmSKz9hevzaw",
      "include_colab_link": true
    },
    "kernelspec": {
      "name": "python3",
      "display_name": "Python 3"
    },
    "language_info": {
      "name": "python"
    }
  },
  "cells": [
    {
      "cell_type": "markdown",
      "metadata": {
        "id": "view-in-github",
        "colab_type": "text"
      },
      "source": [
        "<a href=\"https://colab.research.google.com/github/dmburns1729/Class-Files/blob/main/Pipelines_and_Column_Transformers.ipynb\" target=\"_parent\"><img src=\"https://colab.research.google.com/assets/colab-badge.svg\" alt=\"Open In Colab\"/></a>"
      ]
    },
    {
      "cell_type": "markdown",
      "source": [
        "Steps of the Process:\n",
        "1. Import necessary libraries.\n",
        "2. Load data.\n",
        "3. Explore data.\n",
        "4. Validation split.\n",
        "5. Instantiate column selectors.\n",
        "6. Instantiate transformers.\n",
        "7. Instantiate pipelines.\n",
        "8. Instantiate ColumnTransformer.\n",
        "9. Transform data.\n",
        "10. Inspect results."
      ],
      "metadata": {
        "id": "NnvAE-HiuFDU"
      }
    },
    {
      "cell_type": "code",
      "execution_count": null,
      "metadata": {
        "id": "3hLmHgK1tLtz"
      },
      "outputs": [],
      "source": [
        "# imports\n",
        "import pandas as pd\n",
        "import numpy as np\n",
        "from sklearn.preprocessing import StandardScaler, OneHotEncoder\n",
        "from sklearn.impute import SimpleImputer\n",
        "from sklearn.compose import make_column_transformer, make_column_selector\n",
        "from sklearn.pipeline import make_pipeline\n",
        "from sklearn.model_selection import train_test_split\n",
        "from sklearn import set_config\n",
        "set_config(display='diagram')"
      ]
    },
    {
      "cell_type": "code",
      "source": [
        "\n",
        "\n",
        "# Import the data\n",
        "path = '/content/Cereal with missing values.xlsx'\n",
        "df = pd.read_excel(path)\n",
        "df.head()"
      ],
      "metadata": {
        "colab": {
          "base_uri": "https://localhost:8080/",
          "height": 409
        },
        "id": "LHi3PG09uYuC",
        "outputId": "f6e4fc90-9cf7-4a15-f0fa-2b9b5335f73d"
      },
      "execution_count": null,
      "outputs": [
        {
          "output_type": "execute_result",
          "data": {
            "text/plain": [
              "                      name   Manufacturer  type  calories per serving  \\\n",
              "0  Apple Cinnamon Cheerios  General Mills  Cold                 110.0   \n",
              "1                  Basic 4  General Mills  Cold                 130.0   \n",
              "2                 Cheerios  General Mills  Cold                   NaN   \n",
              "3    Cinnamon Toast Crunch  General Mills  Cold                 120.0   \n",
              "4                 Clusters  General Mills  Cold                 110.0   \n",
              "\n",
              "   grams of protein  grams of fat  milligrams of sodium  \\\n",
              "0               2.0           2.0                 180.0   \n",
              "1               3.0           2.0                   NaN   \n",
              "2               6.0           2.0                 290.0   \n",
              "3               1.0           3.0                 210.0   \n",
              "4               3.0           2.0                 140.0   \n",
              "\n",
              "   grams of dietary fiber  grams of complex carbohydrates  grams of sugars  \\\n",
              "0                     1.5                            10.5             10.0   \n",
              "1                     2.0                            18.0              NaN   \n",
              "2                     2.0                            17.0              1.0   \n",
              "3                     0.0                            13.0              9.0   \n",
              "4                     2.0                            13.0              7.0   \n",
              "\n",
              "   milligrams of potassium  vitamins and minerals (% of FDA recommendation)  \\\n",
              "0                     70.0                                             25.0   \n",
              "1                    100.0                                             25.0   \n",
              "2                    105.0                                             25.0   \n",
              "3                     45.0                                             25.0   \n",
              "4                    105.0                                             25.0   \n",
              "\n",
              "   Display shelf  Weight in ounces per one serving  \\\n",
              "0            1.0                              1.00   \n",
              "1            3.0                              1.33   \n",
              "2            1.0                              1.00   \n",
              "3            2.0                              1.00   \n",
              "4            3.0                              1.00   \n",
              "\n",
              "   Number of cups in one serving  Rating of cereal  \n",
              "0                           0.75         29.509541  \n",
              "1                           0.75         37.038562  \n",
              "2                           1.25         50.764999  \n",
              "3                           0.75         19.823573  \n",
              "4                           0.50         40.400208  "
            ],
            "text/html": [
              "\n",
              "  <div id=\"df-528694ed-e9da-449b-9ac3-e2ea4c586fe4\">\n",
              "    <div class=\"colab-df-container\">\n",
              "      <div>\n",
              "<style scoped>\n",
              "    .dataframe tbody tr th:only-of-type {\n",
              "        vertical-align: middle;\n",
              "    }\n",
              "\n",
              "    .dataframe tbody tr th {\n",
              "        vertical-align: top;\n",
              "    }\n",
              "\n",
              "    .dataframe thead th {\n",
              "        text-align: right;\n",
              "    }\n",
              "</style>\n",
              "<table border=\"1\" class=\"dataframe\">\n",
              "  <thead>\n",
              "    <tr style=\"text-align: right;\">\n",
              "      <th></th>\n",
              "      <th>name</th>\n",
              "      <th>Manufacturer</th>\n",
              "      <th>type</th>\n",
              "      <th>calories per serving</th>\n",
              "      <th>grams of protein</th>\n",
              "      <th>grams of fat</th>\n",
              "      <th>milligrams of sodium</th>\n",
              "      <th>grams of dietary fiber</th>\n",
              "      <th>grams of complex carbohydrates</th>\n",
              "      <th>grams of sugars</th>\n",
              "      <th>milligrams of potassium</th>\n",
              "      <th>vitamins and minerals (% of FDA recommendation)</th>\n",
              "      <th>Display shelf</th>\n",
              "      <th>Weight in ounces per one serving</th>\n",
              "      <th>Number of cups in one serving</th>\n",
              "      <th>Rating of cereal</th>\n",
              "    </tr>\n",
              "  </thead>\n",
              "  <tbody>\n",
              "    <tr>\n",
              "      <th>0</th>\n",
              "      <td>Apple Cinnamon Cheerios</td>\n",
              "      <td>General Mills</td>\n",
              "      <td>Cold</td>\n",
              "      <td>110.0</td>\n",
              "      <td>2.0</td>\n",
              "      <td>2.0</td>\n",
              "      <td>180.0</td>\n",
              "      <td>1.5</td>\n",
              "      <td>10.5</td>\n",
              "      <td>10.0</td>\n",
              "      <td>70.0</td>\n",
              "      <td>25.0</td>\n",
              "      <td>1.0</td>\n",
              "      <td>1.00</td>\n",
              "      <td>0.75</td>\n",
              "      <td>29.509541</td>\n",
              "    </tr>\n",
              "    <tr>\n",
              "      <th>1</th>\n",
              "      <td>Basic 4</td>\n",
              "      <td>General Mills</td>\n",
              "      <td>Cold</td>\n",
              "      <td>130.0</td>\n",
              "      <td>3.0</td>\n",
              "      <td>2.0</td>\n",
              "      <td>NaN</td>\n",
              "      <td>2.0</td>\n",
              "      <td>18.0</td>\n",
              "      <td>NaN</td>\n",
              "      <td>100.0</td>\n",
              "      <td>25.0</td>\n",
              "      <td>3.0</td>\n",
              "      <td>1.33</td>\n",
              "      <td>0.75</td>\n",
              "      <td>37.038562</td>\n",
              "    </tr>\n",
              "    <tr>\n",
              "      <th>2</th>\n",
              "      <td>Cheerios</td>\n",
              "      <td>General Mills</td>\n",
              "      <td>Cold</td>\n",
              "      <td>NaN</td>\n",
              "      <td>6.0</td>\n",
              "      <td>2.0</td>\n",
              "      <td>290.0</td>\n",
              "      <td>2.0</td>\n",
              "      <td>17.0</td>\n",
              "      <td>1.0</td>\n",
              "      <td>105.0</td>\n",
              "      <td>25.0</td>\n",
              "      <td>1.0</td>\n",
              "      <td>1.00</td>\n",
              "      <td>1.25</td>\n",
              "      <td>50.764999</td>\n",
              "    </tr>\n",
              "    <tr>\n",
              "      <th>3</th>\n",
              "      <td>Cinnamon Toast Crunch</td>\n",
              "      <td>General Mills</td>\n",
              "      <td>Cold</td>\n",
              "      <td>120.0</td>\n",
              "      <td>1.0</td>\n",
              "      <td>3.0</td>\n",
              "      <td>210.0</td>\n",
              "      <td>0.0</td>\n",
              "      <td>13.0</td>\n",
              "      <td>9.0</td>\n",
              "      <td>45.0</td>\n",
              "      <td>25.0</td>\n",
              "      <td>2.0</td>\n",
              "      <td>1.00</td>\n",
              "      <td>0.75</td>\n",
              "      <td>19.823573</td>\n",
              "    </tr>\n",
              "    <tr>\n",
              "      <th>4</th>\n",
              "      <td>Clusters</td>\n",
              "      <td>General Mills</td>\n",
              "      <td>Cold</td>\n",
              "      <td>110.0</td>\n",
              "      <td>3.0</td>\n",
              "      <td>2.0</td>\n",
              "      <td>140.0</td>\n",
              "      <td>2.0</td>\n",
              "      <td>13.0</td>\n",
              "      <td>7.0</td>\n",
              "      <td>105.0</td>\n",
              "      <td>25.0</td>\n",
              "      <td>3.0</td>\n",
              "      <td>1.00</td>\n",
              "      <td>0.50</td>\n",
              "      <td>40.400208</td>\n",
              "    </tr>\n",
              "  </tbody>\n",
              "</table>\n",
              "</div>\n",
              "      <button class=\"colab-df-convert\" onclick=\"convertToInteractive('df-528694ed-e9da-449b-9ac3-e2ea4c586fe4')\"\n",
              "              title=\"Convert this dataframe to an interactive table.\"\n",
              "              style=\"display:none;\">\n",
              "        \n",
              "  <svg xmlns=\"http://www.w3.org/2000/svg\" height=\"24px\"viewBox=\"0 0 24 24\"\n",
              "       width=\"24px\">\n",
              "    <path d=\"M0 0h24v24H0V0z\" fill=\"none\"/>\n",
              "    <path d=\"M18.56 5.44l.94 2.06.94-2.06 2.06-.94-2.06-.94-.94-2.06-.94 2.06-2.06.94zm-11 1L8.5 8.5l.94-2.06 2.06-.94-2.06-.94L8.5 2.5l-.94 2.06-2.06.94zm10 10l.94 2.06.94-2.06 2.06-.94-2.06-.94-.94-2.06-.94 2.06-2.06.94z\"/><path d=\"M17.41 7.96l-1.37-1.37c-.4-.4-.92-.59-1.43-.59-.52 0-1.04.2-1.43.59L10.3 9.45l-7.72 7.72c-.78.78-.78 2.05 0 2.83L4 21.41c.39.39.9.59 1.41.59.51 0 1.02-.2 1.41-.59l7.78-7.78 2.81-2.81c.8-.78.8-2.07 0-2.86zM5.41 20L4 18.59l7.72-7.72 1.47 1.35L5.41 20z\"/>\n",
              "  </svg>\n",
              "      </button>\n",
              "      \n",
              "  <style>\n",
              "    .colab-df-container {\n",
              "      display:flex;\n",
              "      flex-wrap:wrap;\n",
              "      gap: 12px;\n",
              "    }\n",
              "\n",
              "    .colab-df-convert {\n",
              "      background-color: #E8F0FE;\n",
              "      border: none;\n",
              "      border-radius: 50%;\n",
              "      cursor: pointer;\n",
              "      display: none;\n",
              "      fill: #1967D2;\n",
              "      height: 32px;\n",
              "      padding: 0 0 0 0;\n",
              "      width: 32px;\n",
              "    }\n",
              "\n",
              "    .colab-df-convert:hover {\n",
              "      background-color: #E2EBFA;\n",
              "      box-shadow: 0px 1px 2px rgba(60, 64, 67, 0.3), 0px 1px 3px 1px rgba(60, 64, 67, 0.15);\n",
              "      fill: #174EA6;\n",
              "    }\n",
              "\n",
              "    [theme=dark] .colab-df-convert {\n",
              "      background-color: #3B4455;\n",
              "      fill: #D2E3FC;\n",
              "    }\n",
              "\n",
              "    [theme=dark] .colab-df-convert:hover {\n",
              "      background-color: #434B5C;\n",
              "      box-shadow: 0px 1px 3px 1px rgba(0, 0, 0, 0.15);\n",
              "      filter: drop-shadow(0px 1px 2px rgba(0, 0, 0, 0.3));\n",
              "      fill: #FFFFFF;\n",
              "    }\n",
              "  </style>\n",
              "\n",
              "      <script>\n",
              "        const buttonEl =\n",
              "          document.querySelector('#df-528694ed-e9da-449b-9ac3-e2ea4c586fe4 button.colab-df-convert');\n",
              "        buttonEl.style.display =\n",
              "          google.colab.kernel.accessAllowed ? 'block' : 'none';\n",
              "\n",
              "        async function convertToInteractive(key) {\n",
              "          const element = document.querySelector('#df-528694ed-e9da-449b-9ac3-e2ea4c586fe4');\n",
              "          const dataTable =\n",
              "            await google.colab.kernel.invokeFunction('convertToInteractive',\n",
              "                                                     [key], {});\n",
              "          if (!dataTable) return;\n",
              "\n",
              "          const docLinkHtml = 'Like what you see? Visit the ' +\n",
              "            '<a target=\"_blank\" href=https://colab.research.google.com/notebooks/data_table.ipynb>data table notebook</a>'\n",
              "            + ' to learn more about interactive tables.';\n",
              "          element.innerHTML = '';\n",
              "          dataTable['output_type'] = 'display_data';\n",
              "          await google.colab.output.renderOutput(dataTable, element);\n",
              "          const docLink = document.createElement('div');\n",
              "          docLink.innerHTML = docLinkHtml;\n",
              "          element.appendChild(docLink);\n",
              "        }\n",
              "      </script>\n",
              "    </div>\n",
              "  </div>\n",
              "  "
            ]
          },
          "metadata": {},
          "execution_count": 16
        }
      ]
    },
    {
      "cell_type": "code",
      "source": [],
      "metadata": {
        "id": "-0p2p3C0xidn"
      },
      "execution_count": null,
      "outputs": []
    },
    {
      "cell_type": "code",
      "source": [
        "df.info()"
      ],
      "metadata": {
        "colab": {
          "base_uri": "https://localhost:8080/"
        },
        "id": "L-uz_gmGuaAL",
        "outputId": "698c50d3-351a-4803-d2e0-564353932859"
      },
      "execution_count": null,
      "outputs": [
        {
          "output_type": "stream",
          "name": "stdout",
          "text": [
            "<class 'pandas.core.frame.DataFrame'>\n",
            "RangeIndex: 1000 entries, 0 to 999\n",
            "Data columns (total 32 columns):\n",
            " #   Column              Non-Null Count  Dtype  \n",
            "---  ------              --------------  -----  \n",
            " 0   State               995 non-null    object \n",
            " 1   Lat                 1000 non-null   float64\n",
            " 2   Lng                 1000 non-null   float64\n",
            " 3   Area                995 non-null    object \n",
            " 4   Children            993 non-null    float64\n",
            " 5   Age                 1000 non-null   int64  \n",
            " 6   Income              1000 non-null   float64\n",
            " 7   Marital             995 non-null    object \n",
            " 8   Gender              995 non-null    object \n",
            " 9   ReAdmis             1000 non-null   int64  \n",
            " 10  VitD_levels         1000 non-null   float64\n",
            " 11  Doc_visits          1000 non-null   int64  \n",
            " 12  Full_meals_eaten    1000 non-null   int64  \n",
            " 13  vitD_supp           1000 non-null   int64  \n",
            " 14  Soft_drink          1000 non-null   int64  \n",
            " 15  Initial_admin       995 non-null    object \n",
            " 16  HighBlood           1000 non-null   int64  \n",
            " 17  Stroke              1000 non-null   int64  \n",
            " 18  Complication_risk   995 non-null    object \n",
            " 19  Overweight          1000 non-null   int64  \n",
            " 20  Arthritis           994 non-null    float64\n",
            " 21  Diabetes            994 non-null    float64\n",
            " 22  Hyperlipidemia      998 non-null    float64\n",
            " 23  BackPain            992 non-null    float64\n",
            " 24  Anxiety             998 non-null    float64\n",
            " 25  Allergic_rhinitis   994 non-null    float64\n",
            " 26  Reflux_esophagitis  1000 non-null   int64  \n",
            " 27  Asthma              1000 non-null   int64  \n",
            " 28  Services            995 non-null    object \n",
            " 29  Initial_days        1000 non-null   float64\n",
            " 30  TotalCharge         1000 non-null   float64\n",
            " 31  Additional_charges  1000 non-null   float64\n",
            "dtypes: float64(14), int64(11), object(7)\n",
            "memory usage: 250.1+ KB\n"
          ]
        }
      ]
    },
    {
      "cell_type": "code",
      "source": [
        "df['Complication_risk'].value_counts()"
      ],
      "metadata": {
        "colab": {
          "base_uri": "https://localhost:8080/"
        },
        "id": "6X3hFza1u7Vb",
        "outputId": "1d23cd27-5dcc-4f60-8782-af82eddb7a55"
      },
      "execution_count": null,
      "outputs": [
        {
          "output_type": "execute_result",
          "data": {
            "text/plain": [
              "Medium    459\n",
              "High      311\n",
              "Low       221\n",
              "Med         4\n",
              "Name: Complication_risk, dtype: int64"
            ]
          },
          "metadata": {},
          "execution_count": 4
        }
      ]
    },
    {
      "cell_type": "code",
      "source": [
        "# Ordinal Encoding 'Complication_risk'\n",
        "replacement_dictionary = {'High':2, 'Medium':1, 'Med':1, 'Low':0}\n",
        "df['Complication_risk'].replace(replacement_dictionary, inplace=True)\n",
        "df['Complication_risk']"
      ],
      "metadata": {
        "colab": {
          "base_uri": "https://localhost:8080/"
        },
        "id": "Hb8KN1KevDC1",
        "outputId": "2a133785-c493-45d2-cbd0-c96f548d35c7"
      },
      "execution_count": null,
      "outputs": [
        {
          "output_type": "execute_result",
          "data": {
            "text/plain": [
              "0      1.0\n",
              "1      2.0\n",
              "2      1.0\n",
              "3      1.0\n",
              "4      0.0\n",
              "      ... \n",
              "995    2.0\n",
              "996    2.0\n",
              "997    1.0\n",
              "998    1.0\n",
              "999    0.0\n",
              "Name: Complication_risk, Length: 1000, dtype: float64"
            ]
          },
          "metadata": {},
          "execution_count": 5
        }
      ]
    },
    {
      "cell_type": "code",
      "source": [
        "# Split\n",
        "X = df.drop('Additional_charges', axis=1)\n",
        "y = df['Additional_charges']\n",
        "X_train, X_test, y_train, y_test = train_test_split(X, y, random_state=42)\n"
      ],
      "metadata": {
        "id": "rmqWKQBZvHYm"
      },
      "execution_count": null,
      "outputs": []
    },
    {
      "cell_type": "code",
      "source": [
        "# Selectors\n",
        "cat_selector = make_column_selector(dtype_include='object')\n",
        "num_selector = make_column_selector(dtype_include='number')"
      ],
      "metadata": {
        "id": "vzS6OEFRvKKd"
      },
      "execution_count": null,
      "outputs": []
    },
    {
      "cell_type": "code",
      "source": [
        "# Imputers\n",
        "freq_imputer = SimpleImputer(strategy='most_frequent')\n",
        "mean_imputer = SimpleImputer(strategy='mean')\n",
        "# Scaler\n",
        "scaler = StandardScaler()\n",
        "# One-hot encoder\n",
        "ohe = OneHotEncoder(handle_unknown='ignore', sparse=False)"
      ],
      "metadata": {
        "id": "rCY_2okhvMCr"
      },
      "execution_count": null,
      "outputs": []
    },
    {
      "cell_type": "code",
      "source": [
        "# Numeric pipeline\n",
        "numeric_pipe = make_pipeline(mean_imputer, scaler)\n",
        "numeric_pipe"
      ],
      "metadata": {
        "colab": {
          "base_uri": "https://localhost:8080/",
          "height": 126
        },
        "id": "T_pXZVgqvO6l",
        "outputId": "dce438f8-905f-4304-f5d5-61d954cc1342"
      },
      "execution_count": null,
      "outputs": [
        {
          "output_type": "execute_result",
          "data": {
            "text/plain": [
              "Pipeline(steps=[('simpleimputer', SimpleImputer()),\n",
              "                ('standardscaler', StandardScaler())])"
            ],
            "text/html": [
              "<style>#sk-892f48b0-1a6c-49ed-90b5-ab9849073879 {color: black;background-color: white;}#sk-892f48b0-1a6c-49ed-90b5-ab9849073879 pre{padding: 0;}#sk-892f48b0-1a6c-49ed-90b5-ab9849073879 div.sk-toggleable {background-color: white;}#sk-892f48b0-1a6c-49ed-90b5-ab9849073879 label.sk-toggleable__label {cursor: pointer;display: block;width: 100%;margin-bottom: 0;padding: 0.3em;box-sizing: border-box;text-align: center;}#sk-892f48b0-1a6c-49ed-90b5-ab9849073879 label.sk-toggleable__label-arrow:before {content: \"▸\";float: left;margin-right: 0.25em;color: #696969;}#sk-892f48b0-1a6c-49ed-90b5-ab9849073879 label.sk-toggleable__label-arrow:hover:before {color: black;}#sk-892f48b0-1a6c-49ed-90b5-ab9849073879 div.sk-estimator:hover label.sk-toggleable__label-arrow:before {color: black;}#sk-892f48b0-1a6c-49ed-90b5-ab9849073879 div.sk-toggleable__content {max-height: 0;max-width: 0;overflow: hidden;text-align: left;background-color: #f0f8ff;}#sk-892f48b0-1a6c-49ed-90b5-ab9849073879 div.sk-toggleable__content pre {margin: 0.2em;color: black;border-radius: 0.25em;background-color: #f0f8ff;}#sk-892f48b0-1a6c-49ed-90b5-ab9849073879 input.sk-toggleable__control:checked~div.sk-toggleable__content {max-height: 200px;max-width: 100%;overflow: auto;}#sk-892f48b0-1a6c-49ed-90b5-ab9849073879 input.sk-toggleable__control:checked~label.sk-toggleable__label-arrow:before {content: \"▾\";}#sk-892f48b0-1a6c-49ed-90b5-ab9849073879 div.sk-estimator input.sk-toggleable__control:checked~label.sk-toggleable__label {background-color: #d4ebff;}#sk-892f48b0-1a6c-49ed-90b5-ab9849073879 div.sk-label input.sk-toggleable__control:checked~label.sk-toggleable__label {background-color: #d4ebff;}#sk-892f48b0-1a6c-49ed-90b5-ab9849073879 input.sk-hidden--visually {border: 0;clip: rect(1px 1px 1px 1px);clip: rect(1px, 1px, 1px, 1px);height: 1px;margin: -1px;overflow: hidden;padding: 0;position: absolute;width: 1px;}#sk-892f48b0-1a6c-49ed-90b5-ab9849073879 div.sk-estimator {font-family: monospace;background-color: #f0f8ff;border: 1px dotted black;border-radius: 0.25em;box-sizing: border-box;margin-bottom: 0.5em;}#sk-892f48b0-1a6c-49ed-90b5-ab9849073879 div.sk-estimator:hover {background-color: #d4ebff;}#sk-892f48b0-1a6c-49ed-90b5-ab9849073879 div.sk-parallel-item::after {content: \"\";width: 100%;border-bottom: 1px solid gray;flex-grow: 1;}#sk-892f48b0-1a6c-49ed-90b5-ab9849073879 div.sk-label:hover label.sk-toggleable__label {background-color: #d4ebff;}#sk-892f48b0-1a6c-49ed-90b5-ab9849073879 div.sk-serial::before {content: \"\";position: absolute;border-left: 1px solid gray;box-sizing: border-box;top: 2em;bottom: 0;left: 50%;}#sk-892f48b0-1a6c-49ed-90b5-ab9849073879 div.sk-serial {display: flex;flex-direction: column;align-items: center;background-color: white;padding-right: 0.2em;padding-left: 0.2em;}#sk-892f48b0-1a6c-49ed-90b5-ab9849073879 div.sk-item {z-index: 1;}#sk-892f48b0-1a6c-49ed-90b5-ab9849073879 div.sk-parallel {display: flex;align-items: stretch;justify-content: center;background-color: white;}#sk-892f48b0-1a6c-49ed-90b5-ab9849073879 div.sk-parallel::before {content: \"\";position: absolute;border-left: 1px solid gray;box-sizing: border-box;top: 2em;bottom: 0;left: 50%;}#sk-892f48b0-1a6c-49ed-90b5-ab9849073879 div.sk-parallel-item {display: flex;flex-direction: column;position: relative;background-color: white;}#sk-892f48b0-1a6c-49ed-90b5-ab9849073879 div.sk-parallel-item:first-child::after {align-self: flex-end;width: 50%;}#sk-892f48b0-1a6c-49ed-90b5-ab9849073879 div.sk-parallel-item:last-child::after {align-self: flex-start;width: 50%;}#sk-892f48b0-1a6c-49ed-90b5-ab9849073879 div.sk-parallel-item:only-child::after {width: 0;}#sk-892f48b0-1a6c-49ed-90b5-ab9849073879 div.sk-dashed-wrapped {border: 1px dashed gray;margin: 0 0.4em 0.5em 0.4em;box-sizing: border-box;padding-bottom: 0.4em;background-color: white;position: relative;}#sk-892f48b0-1a6c-49ed-90b5-ab9849073879 div.sk-label label {font-family: monospace;font-weight: bold;background-color: white;display: inline-block;line-height: 1.2em;}#sk-892f48b0-1a6c-49ed-90b5-ab9849073879 div.sk-label-container {position: relative;z-index: 2;text-align: center;}#sk-892f48b0-1a6c-49ed-90b5-ab9849073879 div.sk-container {/* jupyter's `normalize.less` sets `[hidden] { display: none; }` but bootstrap.min.css set `[hidden] { display: none !important; }` so we also need the `!important` here to be able to override the default hidden behavior on the sphinx rendered scikit-learn.org. See: https://github.com/scikit-learn/scikit-learn/issues/21755 */display: inline-block !important;position: relative;}#sk-892f48b0-1a6c-49ed-90b5-ab9849073879 div.sk-text-repr-fallback {display: none;}</style><div id=\"sk-892f48b0-1a6c-49ed-90b5-ab9849073879\" class=\"sk-top-container\"><div class=\"sk-text-repr-fallback\"><pre>Pipeline(steps=[(&#x27;simpleimputer&#x27;, SimpleImputer()),\n",
              "                (&#x27;standardscaler&#x27;, StandardScaler())])</pre><b>Please rerun this cell to show the HTML repr or trust the notebook.</b></div><div class=\"sk-container\" hidden><div class=\"sk-item sk-dashed-wrapped\"><div class=\"sk-label-container\"><div class=\"sk-label sk-toggleable\"><input class=\"sk-toggleable__control sk-hidden--visually\" id=\"d5935fa9-e0fd-4c4e-81b2-aa3d58bd7250\" type=\"checkbox\" ><label for=\"d5935fa9-e0fd-4c4e-81b2-aa3d58bd7250\" class=\"sk-toggleable__label sk-toggleable__label-arrow\">Pipeline</label><div class=\"sk-toggleable__content\"><pre>Pipeline(steps=[(&#x27;simpleimputer&#x27;, SimpleImputer()),\n",
              "                (&#x27;standardscaler&#x27;, StandardScaler())])</pre></div></div></div><div class=\"sk-serial\"><div class=\"sk-item\"><div class=\"sk-estimator sk-toggleable\"><input class=\"sk-toggleable__control sk-hidden--visually\" id=\"92a33701-cdd0-4acd-99c4-015857e8541d\" type=\"checkbox\" ><label for=\"92a33701-cdd0-4acd-99c4-015857e8541d\" class=\"sk-toggleable__label sk-toggleable__label-arrow\">SimpleImputer</label><div class=\"sk-toggleable__content\"><pre>SimpleImputer()</pre></div></div></div><div class=\"sk-item\"><div class=\"sk-estimator sk-toggleable\"><input class=\"sk-toggleable__control sk-hidden--visually\" id=\"7d4bc869-bb6f-49ec-bee8-005e3fe61135\" type=\"checkbox\" ><label for=\"7d4bc869-bb6f-49ec-bee8-005e3fe61135\" class=\"sk-toggleable__label sk-toggleable__label-arrow\">StandardScaler</label><div class=\"sk-toggleable__content\"><pre>StandardScaler()</pre></div></div></div></div></div></div></div>"
            ]
          },
          "metadata": {},
          "execution_count": 9
        }
      ]
    },
    {
      "cell_type": "code",
      "source": [
        "# Categorical pipeline\n",
        "categorical_pipe = make_pipeline(freq_imputer, ohe)\n",
        "categorical_pipe"
      ],
      "metadata": {
        "colab": {
          "base_uri": "https://localhost:8080/",
          "height": 126
        },
        "id": "tTffzllwvYpX",
        "outputId": "75ce86d6-ef7d-472a-c21e-9490200aa9f6"
      },
      "execution_count": null,
      "outputs": [
        {
          "output_type": "execute_result",
          "data": {
            "text/plain": [
              "Pipeline(steps=[('simpleimputer', SimpleImputer(strategy='most_frequent')),\n",
              "                ('onehotencoder',\n",
              "                 OneHotEncoder(handle_unknown='ignore', sparse=False))])"
            ],
            "text/html": [
              "<style>#sk-218c99ff-7e5a-4107-9064-494390d5ce33 {color: black;background-color: white;}#sk-218c99ff-7e5a-4107-9064-494390d5ce33 pre{padding: 0;}#sk-218c99ff-7e5a-4107-9064-494390d5ce33 div.sk-toggleable {background-color: white;}#sk-218c99ff-7e5a-4107-9064-494390d5ce33 label.sk-toggleable__label {cursor: pointer;display: block;width: 100%;margin-bottom: 0;padding: 0.3em;box-sizing: border-box;text-align: center;}#sk-218c99ff-7e5a-4107-9064-494390d5ce33 label.sk-toggleable__label-arrow:before {content: \"▸\";float: left;margin-right: 0.25em;color: #696969;}#sk-218c99ff-7e5a-4107-9064-494390d5ce33 label.sk-toggleable__label-arrow:hover:before {color: black;}#sk-218c99ff-7e5a-4107-9064-494390d5ce33 div.sk-estimator:hover label.sk-toggleable__label-arrow:before {color: black;}#sk-218c99ff-7e5a-4107-9064-494390d5ce33 div.sk-toggleable__content {max-height: 0;max-width: 0;overflow: hidden;text-align: left;background-color: #f0f8ff;}#sk-218c99ff-7e5a-4107-9064-494390d5ce33 div.sk-toggleable__content pre {margin: 0.2em;color: black;border-radius: 0.25em;background-color: #f0f8ff;}#sk-218c99ff-7e5a-4107-9064-494390d5ce33 input.sk-toggleable__control:checked~div.sk-toggleable__content {max-height: 200px;max-width: 100%;overflow: auto;}#sk-218c99ff-7e5a-4107-9064-494390d5ce33 input.sk-toggleable__control:checked~label.sk-toggleable__label-arrow:before {content: \"▾\";}#sk-218c99ff-7e5a-4107-9064-494390d5ce33 div.sk-estimator input.sk-toggleable__control:checked~label.sk-toggleable__label {background-color: #d4ebff;}#sk-218c99ff-7e5a-4107-9064-494390d5ce33 div.sk-label input.sk-toggleable__control:checked~label.sk-toggleable__label {background-color: #d4ebff;}#sk-218c99ff-7e5a-4107-9064-494390d5ce33 input.sk-hidden--visually {border: 0;clip: rect(1px 1px 1px 1px);clip: rect(1px, 1px, 1px, 1px);height: 1px;margin: -1px;overflow: hidden;padding: 0;position: absolute;width: 1px;}#sk-218c99ff-7e5a-4107-9064-494390d5ce33 div.sk-estimator {font-family: monospace;background-color: #f0f8ff;border: 1px dotted black;border-radius: 0.25em;box-sizing: border-box;margin-bottom: 0.5em;}#sk-218c99ff-7e5a-4107-9064-494390d5ce33 div.sk-estimator:hover {background-color: #d4ebff;}#sk-218c99ff-7e5a-4107-9064-494390d5ce33 div.sk-parallel-item::after {content: \"\";width: 100%;border-bottom: 1px solid gray;flex-grow: 1;}#sk-218c99ff-7e5a-4107-9064-494390d5ce33 div.sk-label:hover label.sk-toggleable__label {background-color: #d4ebff;}#sk-218c99ff-7e5a-4107-9064-494390d5ce33 div.sk-serial::before {content: \"\";position: absolute;border-left: 1px solid gray;box-sizing: border-box;top: 2em;bottom: 0;left: 50%;}#sk-218c99ff-7e5a-4107-9064-494390d5ce33 div.sk-serial {display: flex;flex-direction: column;align-items: center;background-color: white;padding-right: 0.2em;padding-left: 0.2em;}#sk-218c99ff-7e5a-4107-9064-494390d5ce33 div.sk-item {z-index: 1;}#sk-218c99ff-7e5a-4107-9064-494390d5ce33 div.sk-parallel {display: flex;align-items: stretch;justify-content: center;background-color: white;}#sk-218c99ff-7e5a-4107-9064-494390d5ce33 div.sk-parallel::before {content: \"\";position: absolute;border-left: 1px solid gray;box-sizing: border-box;top: 2em;bottom: 0;left: 50%;}#sk-218c99ff-7e5a-4107-9064-494390d5ce33 div.sk-parallel-item {display: flex;flex-direction: column;position: relative;background-color: white;}#sk-218c99ff-7e5a-4107-9064-494390d5ce33 div.sk-parallel-item:first-child::after {align-self: flex-end;width: 50%;}#sk-218c99ff-7e5a-4107-9064-494390d5ce33 div.sk-parallel-item:last-child::after {align-self: flex-start;width: 50%;}#sk-218c99ff-7e5a-4107-9064-494390d5ce33 div.sk-parallel-item:only-child::after {width: 0;}#sk-218c99ff-7e5a-4107-9064-494390d5ce33 div.sk-dashed-wrapped {border: 1px dashed gray;margin: 0 0.4em 0.5em 0.4em;box-sizing: border-box;padding-bottom: 0.4em;background-color: white;position: relative;}#sk-218c99ff-7e5a-4107-9064-494390d5ce33 div.sk-label label {font-family: monospace;font-weight: bold;background-color: white;display: inline-block;line-height: 1.2em;}#sk-218c99ff-7e5a-4107-9064-494390d5ce33 div.sk-label-container {position: relative;z-index: 2;text-align: center;}#sk-218c99ff-7e5a-4107-9064-494390d5ce33 div.sk-container {/* jupyter's `normalize.less` sets `[hidden] { display: none; }` but bootstrap.min.css set `[hidden] { display: none !important; }` so we also need the `!important` here to be able to override the default hidden behavior on the sphinx rendered scikit-learn.org. See: https://github.com/scikit-learn/scikit-learn/issues/21755 */display: inline-block !important;position: relative;}#sk-218c99ff-7e5a-4107-9064-494390d5ce33 div.sk-text-repr-fallback {display: none;}</style><div id=\"sk-218c99ff-7e5a-4107-9064-494390d5ce33\" class=\"sk-top-container\"><div class=\"sk-text-repr-fallback\"><pre>Pipeline(steps=[(&#x27;simpleimputer&#x27;, SimpleImputer(strategy=&#x27;most_frequent&#x27;)),\n",
              "                (&#x27;onehotencoder&#x27;,\n",
              "                 OneHotEncoder(handle_unknown=&#x27;ignore&#x27;, sparse=False))])</pre><b>Please rerun this cell to show the HTML repr or trust the notebook.</b></div><div class=\"sk-container\" hidden><div class=\"sk-item sk-dashed-wrapped\"><div class=\"sk-label-container\"><div class=\"sk-label sk-toggleable\"><input class=\"sk-toggleable__control sk-hidden--visually\" id=\"2453d031-8577-4dc0-a601-3594a710b481\" type=\"checkbox\" ><label for=\"2453d031-8577-4dc0-a601-3594a710b481\" class=\"sk-toggleable__label sk-toggleable__label-arrow\">Pipeline</label><div class=\"sk-toggleable__content\"><pre>Pipeline(steps=[(&#x27;simpleimputer&#x27;, SimpleImputer(strategy=&#x27;most_frequent&#x27;)),\n",
              "                (&#x27;onehotencoder&#x27;,\n",
              "                 OneHotEncoder(handle_unknown=&#x27;ignore&#x27;, sparse=False))])</pre></div></div></div><div class=\"sk-serial\"><div class=\"sk-item\"><div class=\"sk-estimator sk-toggleable\"><input class=\"sk-toggleable__control sk-hidden--visually\" id=\"96af648a-ab83-46e8-8301-9c96080ed856\" type=\"checkbox\" ><label for=\"96af648a-ab83-46e8-8301-9c96080ed856\" class=\"sk-toggleable__label sk-toggleable__label-arrow\">SimpleImputer</label><div class=\"sk-toggleable__content\"><pre>SimpleImputer(strategy=&#x27;most_frequent&#x27;)</pre></div></div></div><div class=\"sk-item\"><div class=\"sk-estimator sk-toggleable\"><input class=\"sk-toggleable__control sk-hidden--visually\" id=\"f12b0ced-c141-4657-82c8-140dd4de38fe\" type=\"checkbox\" ><label for=\"f12b0ced-c141-4657-82c8-140dd4de38fe\" class=\"sk-toggleable__label sk-toggleable__label-arrow\">OneHotEncoder</label><div class=\"sk-toggleable__content\"><pre>OneHotEncoder(handle_unknown=&#x27;ignore&#x27;, sparse=False)</pre></div></div></div></div></div></div></div>"
            ]
          },
          "metadata": {},
          "execution_count": 10
        }
      ]
    },
    {
      "cell_type": "code",
      "source": [
        "# Tuples for Column Transformer\n",
        "number_tuple = (numeric_pipe, num_selector)\n",
        "category_tuple = (categorical_pipe, cat_selector)\n",
        "# ColumnTransformer\n",
        "preprocessor = make_column_transformer(number_tuple, category_tuple)\n",
        "preprocessor"
      ],
      "metadata": {
        "colab": {
          "base_uri": "https://localhost:8080/",
          "height": 152
        },
        "id": "__aoBf4-vZsA",
        "outputId": "f66f5479-80ee-4879-a1eb-e422d15ffa59"
      },
      "execution_count": null,
      "outputs": [
        {
          "output_type": "execute_result",
          "data": {
            "text/plain": [
              "ColumnTransformer(transformers=[('pipeline-1',\n",
              "                                 Pipeline(steps=[('simpleimputer',\n",
              "                                                  SimpleImputer()),\n",
              "                                                 ('standardscaler',\n",
              "                                                  StandardScaler())]),\n",
              "                                 <sklearn.compose._column_transformer.make_column_selector object at 0x7f74896d0c90>),\n",
              "                                ('pipeline-2',\n",
              "                                 Pipeline(steps=[('simpleimputer',\n",
              "                                                  SimpleImputer(strategy='most_frequent')),\n",
              "                                                 ('onehotencoder',\n",
              "                                                  OneHotEncoder(handle_unknown='ignore',\n",
              "                                                                sparse=False))]),\n",
              "                                 <sklearn.compose._column_transformer.make_column_selector object at 0x7f74896d0f50>)])"
            ],
            "text/html": [
              "<style>#sk-7c6d0fd5-904b-45e7-93ad-af8a9e963a6f {color: black;background-color: white;}#sk-7c6d0fd5-904b-45e7-93ad-af8a9e963a6f pre{padding: 0;}#sk-7c6d0fd5-904b-45e7-93ad-af8a9e963a6f div.sk-toggleable {background-color: white;}#sk-7c6d0fd5-904b-45e7-93ad-af8a9e963a6f label.sk-toggleable__label {cursor: pointer;display: block;width: 100%;margin-bottom: 0;padding: 0.3em;box-sizing: border-box;text-align: center;}#sk-7c6d0fd5-904b-45e7-93ad-af8a9e963a6f label.sk-toggleable__label-arrow:before {content: \"▸\";float: left;margin-right: 0.25em;color: #696969;}#sk-7c6d0fd5-904b-45e7-93ad-af8a9e963a6f label.sk-toggleable__label-arrow:hover:before {color: black;}#sk-7c6d0fd5-904b-45e7-93ad-af8a9e963a6f div.sk-estimator:hover label.sk-toggleable__label-arrow:before {color: black;}#sk-7c6d0fd5-904b-45e7-93ad-af8a9e963a6f div.sk-toggleable__content {max-height: 0;max-width: 0;overflow: hidden;text-align: left;background-color: #f0f8ff;}#sk-7c6d0fd5-904b-45e7-93ad-af8a9e963a6f div.sk-toggleable__content pre {margin: 0.2em;color: black;border-radius: 0.25em;background-color: #f0f8ff;}#sk-7c6d0fd5-904b-45e7-93ad-af8a9e963a6f input.sk-toggleable__control:checked~div.sk-toggleable__content {max-height: 200px;max-width: 100%;overflow: auto;}#sk-7c6d0fd5-904b-45e7-93ad-af8a9e963a6f input.sk-toggleable__control:checked~label.sk-toggleable__label-arrow:before {content: \"▾\";}#sk-7c6d0fd5-904b-45e7-93ad-af8a9e963a6f div.sk-estimator input.sk-toggleable__control:checked~label.sk-toggleable__label {background-color: #d4ebff;}#sk-7c6d0fd5-904b-45e7-93ad-af8a9e963a6f div.sk-label input.sk-toggleable__control:checked~label.sk-toggleable__label {background-color: #d4ebff;}#sk-7c6d0fd5-904b-45e7-93ad-af8a9e963a6f input.sk-hidden--visually {border: 0;clip: rect(1px 1px 1px 1px);clip: rect(1px, 1px, 1px, 1px);height: 1px;margin: -1px;overflow: hidden;padding: 0;position: absolute;width: 1px;}#sk-7c6d0fd5-904b-45e7-93ad-af8a9e963a6f div.sk-estimator {font-family: monospace;background-color: #f0f8ff;border: 1px dotted black;border-radius: 0.25em;box-sizing: border-box;margin-bottom: 0.5em;}#sk-7c6d0fd5-904b-45e7-93ad-af8a9e963a6f div.sk-estimator:hover {background-color: #d4ebff;}#sk-7c6d0fd5-904b-45e7-93ad-af8a9e963a6f div.sk-parallel-item::after {content: \"\";width: 100%;border-bottom: 1px solid gray;flex-grow: 1;}#sk-7c6d0fd5-904b-45e7-93ad-af8a9e963a6f div.sk-label:hover label.sk-toggleable__label {background-color: #d4ebff;}#sk-7c6d0fd5-904b-45e7-93ad-af8a9e963a6f div.sk-serial::before {content: \"\";position: absolute;border-left: 1px solid gray;box-sizing: border-box;top: 2em;bottom: 0;left: 50%;}#sk-7c6d0fd5-904b-45e7-93ad-af8a9e963a6f div.sk-serial {display: flex;flex-direction: column;align-items: center;background-color: white;padding-right: 0.2em;padding-left: 0.2em;}#sk-7c6d0fd5-904b-45e7-93ad-af8a9e963a6f div.sk-item {z-index: 1;}#sk-7c6d0fd5-904b-45e7-93ad-af8a9e963a6f div.sk-parallel {display: flex;align-items: stretch;justify-content: center;background-color: white;}#sk-7c6d0fd5-904b-45e7-93ad-af8a9e963a6f div.sk-parallel::before {content: \"\";position: absolute;border-left: 1px solid gray;box-sizing: border-box;top: 2em;bottom: 0;left: 50%;}#sk-7c6d0fd5-904b-45e7-93ad-af8a9e963a6f div.sk-parallel-item {display: flex;flex-direction: column;position: relative;background-color: white;}#sk-7c6d0fd5-904b-45e7-93ad-af8a9e963a6f div.sk-parallel-item:first-child::after {align-self: flex-end;width: 50%;}#sk-7c6d0fd5-904b-45e7-93ad-af8a9e963a6f div.sk-parallel-item:last-child::after {align-self: flex-start;width: 50%;}#sk-7c6d0fd5-904b-45e7-93ad-af8a9e963a6f div.sk-parallel-item:only-child::after {width: 0;}#sk-7c6d0fd5-904b-45e7-93ad-af8a9e963a6f div.sk-dashed-wrapped {border: 1px dashed gray;margin: 0 0.4em 0.5em 0.4em;box-sizing: border-box;padding-bottom: 0.4em;background-color: white;position: relative;}#sk-7c6d0fd5-904b-45e7-93ad-af8a9e963a6f div.sk-label label {font-family: monospace;font-weight: bold;background-color: white;display: inline-block;line-height: 1.2em;}#sk-7c6d0fd5-904b-45e7-93ad-af8a9e963a6f div.sk-label-container {position: relative;z-index: 2;text-align: center;}#sk-7c6d0fd5-904b-45e7-93ad-af8a9e963a6f div.sk-container {/* jupyter's `normalize.less` sets `[hidden] { display: none; }` but bootstrap.min.css set `[hidden] { display: none !important; }` so we also need the `!important` here to be able to override the default hidden behavior on the sphinx rendered scikit-learn.org. See: https://github.com/scikit-learn/scikit-learn/issues/21755 */display: inline-block !important;position: relative;}#sk-7c6d0fd5-904b-45e7-93ad-af8a9e963a6f div.sk-text-repr-fallback {display: none;}</style><div id=\"sk-7c6d0fd5-904b-45e7-93ad-af8a9e963a6f\" class=\"sk-top-container\"><div class=\"sk-text-repr-fallback\"><pre>ColumnTransformer(transformers=[(&#x27;pipeline-1&#x27;,\n",
              "                                 Pipeline(steps=[(&#x27;simpleimputer&#x27;,\n",
              "                                                  SimpleImputer()),\n",
              "                                                 (&#x27;standardscaler&#x27;,\n",
              "                                                  StandardScaler())]),\n",
              "                                 &lt;sklearn.compose._column_transformer.make_column_selector object at 0x7f74896d0c90&gt;),\n",
              "                                (&#x27;pipeline-2&#x27;,\n",
              "                                 Pipeline(steps=[(&#x27;simpleimputer&#x27;,\n",
              "                                                  SimpleImputer(strategy=&#x27;most_frequent&#x27;)),\n",
              "                                                 (&#x27;onehotencoder&#x27;,\n",
              "                                                  OneHotEncoder(handle_unknown=&#x27;ignore&#x27;,\n",
              "                                                                sparse=False))]),\n",
              "                                 &lt;sklearn.compose._column_transformer.make_column_selector object at 0x7f74896d0f50&gt;)])</pre><b>Please rerun this cell to show the HTML repr or trust the notebook.</b></div><div class=\"sk-container\" hidden><div class=\"sk-item sk-dashed-wrapped\"><div class=\"sk-label-container\"><div class=\"sk-label sk-toggleable\"><input class=\"sk-toggleable__control sk-hidden--visually\" id=\"887bc84f-25de-4bc8-be40-a36c58d5102b\" type=\"checkbox\" ><label for=\"887bc84f-25de-4bc8-be40-a36c58d5102b\" class=\"sk-toggleable__label sk-toggleable__label-arrow\">ColumnTransformer</label><div class=\"sk-toggleable__content\"><pre>ColumnTransformer(transformers=[(&#x27;pipeline-1&#x27;,\n",
              "                                 Pipeline(steps=[(&#x27;simpleimputer&#x27;,\n",
              "                                                  SimpleImputer()),\n",
              "                                                 (&#x27;standardscaler&#x27;,\n",
              "                                                  StandardScaler())]),\n",
              "                                 &lt;sklearn.compose._column_transformer.make_column_selector object at 0x7f74896d0c90&gt;),\n",
              "                                (&#x27;pipeline-2&#x27;,\n",
              "                                 Pipeline(steps=[(&#x27;simpleimputer&#x27;,\n",
              "                                                  SimpleImputer(strategy=&#x27;most_frequent&#x27;)),\n",
              "                                                 (&#x27;onehotencoder&#x27;,\n",
              "                                                  OneHotEncoder(handle_unknown=&#x27;ignore&#x27;,\n",
              "                                                                sparse=False))]),\n",
              "                                 &lt;sklearn.compose._column_transformer.make_column_selector object at 0x7f74896d0f50&gt;)])</pre></div></div></div><div class=\"sk-parallel\"><div class=\"sk-parallel-item\"><div class=\"sk-item\"><div class=\"sk-label-container\"><div class=\"sk-label sk-toggleable\"><input class=\"sk-toggleable__control sk-hidden--visually\" id=\"b5531f1d-138c-480e-ba5c-896df431bef1\" type=\"checkbox\" ><label for=\"b5531f1d-138c-480e-ba5c-896df431bef1\" class=\"sk-toggleable__label sk-toggleable__label-arrow\">pipeline-1</label><div class=\"sk-toggleable__content\"><pre>&lt;sklearn.compose._column_transformer.make_column_selector object at 0x7f74896d0c90&gt;</pre></div></div></div><div class=\"sk-serial\"><div class=\"sk-item\"><div class=\"sk-serial\"><div class=\"sk-item\"><div class=\"sk-estimator sk-toggleable\"><input class=\"sk-toggleable__control sk-hidden--visually\" id=\"79be8e90-ed26-435a-910b-b610e9a593d1\" type=\"checkbox\" ><label for=\"79be8e90-ed26-435a-910b-b610e9a593d1\" class=\"sk-toggleable__label sk-toggleable__label-arrow\">SimpleImputer</label><div class=\"sk-toggleable__content\"><pre>SimpleImputer()</pre></div></div></div><div class=\"sk-item\"><div class=\"sk-estimator sk-toggleable\"><input class=\"sk-toggleable__control sk-hidden--visually\" id=\"2c047f0a-3090-41a1-92d8-e5c16076fd67\" type=\"checkbox\" ><label for=\"2c047f0a-3090-41a1-92d8-e5c16076fd67\" class=\"sk-toggleable__label sk-toggleable__label-arrow\">StandardScaler</label><div class=\"sk-toggleable__content\"><pre>StandardScaler()</pre></div></div></div></div></div></div></div></div><div class=\"sk-parallel-item\"><div class=\"sk-item\"><div class=\"sk-label-container\"><div class=\"sk-label sk-toggleable\"><input class=\"sk-toggleable__control sk-hidden--visually\" id=\"b80f19c4-a904-486f-b18f-fdfca8d1b5d6\" type=\"checkbox\" ><label for=\"b80f19c4-a904-486f-b18f-fdfca8d1b5d6\" class=\"sk-toggleable__label sk-toggleable__label-arrow\">pipeline-2</label><div class=\"sk-toggleable__content\"><pre>&lt;sklearn.compose._column_transformer.make_column_selector object at 0x7f74896d0f50&gt;</pre></div></div></div><div class=\"sk-serial\"><div class=\"sk-item\"><div class=\"sk-serial\"><div class=\"sk-item\"><div class=\"sk-estimator sk-toggleable\"><input class=\"sk-toggleable__control sk-hidden--visually\" id=\"8cedbe85-b661-4f19-a028-2c2bc0e7ebb1\" type=\"checkbox\" ><label for=\"8cedbe85-b661-4f19-a028-2c2bc0e7ebb1\" class=\"sk-toggleable__label sk-toggleable__label-arrow\">SimpleImputer</label><div class=\"sk-toggleable__content\"><pre>SimpleImputer(strategy=&#x27;most_frequent&#x27;)</pre></div></div></div><div class=\"sk-item\"><div class=\"sk-estimator sk-toggleable\"><input class=\"sk-toggleable__control sk-hidden--visually\" id=\"132f9e62-7227-43f8-936c-8c697a4239e3\" type=\"checkbox\" ><label for=\"132f9e62-7227-43f8-936c-8c697a4239e3\" class=\"sk-toggleable__label sk-toggleable__label-arrow\">OneHotEncoder</label><div class=\"sk-toggleable__content\"><pre>OneHotEncoder(handle_unknown=&#x27;ignore&#x27;, sparse=False)</pre></div></div></div></div></div></div></div></div></div></div></div></div>"
            ]
          },
          "metadata": {},
          "execution_count": 11
        }
      ]
    },
    {
      "cell_type": "code",
      "source": [
        "# fit on train\n",
        "preprocessor.fit(X_train)"
      ],
      "metadata": {
        "colab": {
          "base_uri": "https://localhost:8080/",
          "height": 152
        },
        "id": "r4a4i2emvrNH",
        "outputId": "becf266c-81bc-4fab-837e-d9fcc66a0466"
      },
      "execution_count": null,
      "outputs": [
        {
          "output_type": "execute_result",
          "data": {
            "text/plain": [
              "ColumnTransformer(transformers=[('pipeline-1',\n",
              "                                 Pipeline(steps=[('simpleimputer',\n",
              "                                                  SimpleImputer()),\n",
              "                                                 ('standardscaler',\n",
              "                                                  StandardScaler())]),\n",
              "                                 <sklearn.compose._column_transformer.make_column_selector object at 0x7f74896d0c90>),\n",
              "                                ('pipeline-2',\n",
              "                                 Pipeline(steps=[('simpleimputer',\n",
              "                                                  SimpleImputer(strategy='most_frequent')),\n",
              "                                                 ('onehotencoder',\n",
              "                                                  OneHotEncoder(handle_unknown='ignore',\n",
              "                                                                sparse=False))]),\n",
              "                                 <sklearn.compose._column_transformer.make_column_selector object at 0x7f74896d0f50>)])"
            ],
            "text/html": [
              "<style>#sk-486dcddc-9940-4fb1-8e4e-0884b7c5b550 {color: black;background-color: white;}#sk-486dcddc-9940-4fb1-8e4e-0884b7c5b550 pre{padding: 0;}#sk-486dcddc-9940-4fb1-8e4e-0884b7c5b550 div.sk-toggleable {background-color: white;}#sk-486dcddc-9940-4fb1-8e4e-0884b7c5b550 label.sk-toggleable__label {cursor: pointer;display: block;width: 100%;margin-bottom: 0;padding: 0.3em;box-sizing: border-box;text-align: center;}#sk-486dcddc-9940-4fb1-8e4e-0884b7c5b550 label.sk-toggleable__label-arrow:before {content: \"▸\";float: left;margin-right: 0.25em;color: #696969;}#sk-486dcddc-9940-4fb1-8e4e-0884b7c5b550 label.sk-toggleable__label-arrow:hover:before {color: black;}#sk-486dcddc-9940-4fb1-8e4e-0884b7c5b550 div.sk-estimator:hover label.sk-toggleable__label-arrow:before {color: black;}#sk-486dcddc-9940-4fb1-8e4e-0884b7c5b550 div.sk-toggleable__content {max-height: 0;max-width: 0;overflow: hidden;text-align: left;background-color: #f0f8ff;}#sk-486dcddc-9940-4fb1-8e4e-0884b7c5b550 div.sk-toggleable__content pre {margin: 0.2em;color: black;border-radius: 0.25em;background-color: #f0f8ff;}#sk-486dcddc-9940-4fb1-8e4e-0884b7c5b550 input.sk-toggleable__control:checked~div.sk-toggleable__content {max-height: 200px;max-width: 100%;overflow: auto;}#sk-486dcddc-9940-4fb1-8e4e-0884b7c5b550 input.sk-toggleable__control:checked~label.sk-toggleable__label-arrow:before {content: \"▾\";}#sk-486dcddc-9940-4fb1-8e4e-0884b7c5b550 div.sk-estimator input.sk-toggleable__control:checked~label.sk-toggleable__label {background-color: #d4ebff;}#sk-486dcddc-9940-4fb1-8e4e-0884b7c5b550 div.sk-label input.sk-toggleable__control:checked~label.sk-toggleable__label {background-color: #d4ebff;}#sk-486dcddc-9940-4fb1-8e4e-0884b7c5b550 input.sk-hidden--visually {border: 0;clip: rect(1px 1px 1px 1px);clip: rect(1px, 1px, 1px, 1px);height: 1px;margin: -1px;overflow: hidden;padding: 0;position: absolute;width: 1px;}#sk-486dcddc-9940-4fb1-8e4e-0884b7c5b550 div.sk-estimator {font-family: monospace;background-color: #f0f8ff;border: 1px dotted black;border-radius: 0.25em;box-sizing: border-box;margin-bottom: 0.5em;}#sk-486dcddc-9940-4fb1-8e4e-0884b7c5b550 div.sk-estimator:hover {background-color: #d4ebff;}#sk-486dcddc-9940-4fb1-8e4e-0884b7c5b550 div.sk-parallel-item::after {content: \"\";width: 100%;border-bottom: 1px solid gray;flex-grow: 1;}#sk-486dcddc-9940-4fb1-8e4e-0884b7c5b550 div.sk-label:hover label.sk-toggleable__label {background-color: #d4ebff;}#sk-486dcddc-9940-4fb1-8e4e-0884b7c5b550 div.sk-serial::before {content: \"\";position: absolute;border-left: 1px solid gray;box-sizing: border-box;top: 2em;bottom: 0;left: 50%;}#sk-486dcddc-9940-4fb1-8e4e-0884b7c5b550 div.sk-serial {display: flex;flex-direction: column;align-items: center;background-color: white;padding-right: 0.2em;padding-left: 0.2em;}#sk-486dcddc-9940-4fb1-8e4e-0884b7c5b550 div.sk-item {z-index: 1;}#sk-486dcddc-9940-4fb1-8e4e-0884b7c5b550 div.sk-parallel {display: flex;align-items: stretch;justify-content: center;background-color: white;}#sk-486dcddc-9940-4fb1-8e4e-0884b7c5b550 div.sk-parallel::before {content: \"\";position: absolute;border-left: 1px solid gray;box-sizing: border-box;top: 2em;bottom: 0;left: 50%;}#sk-486dcddc-9940-4fb1-8e4e-0884b7c5b550 div.sk-parallel-item {display: flex;flex-direction: column;position: relative;background-color: white;}#sk-486dcddc-9940-4fb1-8e4e-0884b7c5b550 div.sk-parallel-item:first-child::after {align-self: flex-end;width: 50%;}#sk-486dcddc-9940-4fb1-8e4e-0884b7c5b550 div.sk-parallel-item:last-child::after {align-self: flex-start;width: 50%;}#sk-486dcddc-9940-4fb1-8e4e-0884b7c5b550 div.sk-parallel-item:only-child::after {width: 0;}#sk-486dcddc-9940-4fb1-8e4e-0884b7c5b550 div.sk-dashed-wrapped {border: 1px dashed gray;margin: 0 0.4em 0.5em 0.4em;box-sizing: border-box;padding-bottom: 0.4em;background-color: white;position: relative;}#sk-486dcddc-9940-4fb1-8e4e-0884b7c5b550 div.sk-label label {font-family: monospace;font-weight: bold;background-color: white;display: inline-block;line-height: 1.2em;}#sk-486dcddc-9940-4fb1-8e4e-0884b7c5b550 div.sk-label-container {position: relative;z-index: 2;text-align: center;}#sk-486dcddc-9940-4fb1-8e4e-0884b7c5b550 div.sk-container {/* jupyter's `normalize.less` sets `[hidden] { display: none; }` but bootstrap.min.css set `[hidden] { display: none !important; }` so we also need the `!important` here to be able to override the default hidden behavior on the sphinx rendered scikit-learn.org. See: https://github.com/scikit-learn/scikit-learn/issues/21755 */display: inline-block !important;position: relative;}#sk-486dcddc-9940-4fb1-8e4e-0884b7c5b550 div.sk-text-repr-fallback {display: none;}</style><div id=\"sk-486dcddc-9940-4fb1-8e4e-0884b7c5b550\" class=\"sk-top-container\"><div class=\"sk-text-repr-fallback\"><pre>ColumnTransformer(transformers=[(&#x27;pipeline-1&#x27;,\n",
              "                                 Pipeline(steps=[(&#x27;simpleimputer&#x27;,\n",
              "                                                  SimpleImputer()),\n",
              "                                                 (&#x27;standardscaler&#x27;,\n",
              "                                                  StandardScaler())]),\n",
              "                                 &lt;sklearn.compose._column_transformer.make_column_selector object at 0x7f74896d0c90&gt;),\n",
              "                                (&#x27;pipeline-2&#x27;,\n",
              "                                 Pipeline(steps=[(&#x27;simpleimputer&#x27;,\n",
              "                                                  SimpleImputer(strategy=&#x27;most_frequent&#x27;)),\n",
              "                                                 (&#x27;onehotencoder&#x27;,\n",
              "                                                  OneHotEncoder(handle_unknown=&#x27;ignore&#x27;,\n",
              "                                                                sparse=False))]),\n",
              "                                 &lt;sklearn.compose._column_transformer.make_column_selector object at 0x7f74896d0f50&gt;)])</pre><b>Please rerun this cell to show the HTML repr or trust the notebook.</b></div><div class=\"sk-container\" hidden><div class=\"sk-item sk-dashed-wrapped\"><div class=\"sk-label-container\"><div class=\"sk-label sk-toggleable\"><input class=\"sk-toggleable__control sk-hidden--visually\" id=\"236430e5-a961-46cb-bd63-98bbc549441c\" type=\"checkbox\" ><label for=\"236430e5-a961-46cb-bd63-98bbc549441c\" class=\"sk-toggleable__label sk-toggleable__label-arrow\">ColumnTransformer</label><div class=\"sk-toggleable__content\"><pre>ColumnTransformer(transformers=[(&#x27;pipeline-1&#x27;,\n",
              "                                 Pipeline(steps=[(&#x27;simpleimputer&#x27;,\n",
              "                                                  SimpleImputer()),\n",
              "                                                 (&#x27;standardscaler&#x27;,\n",
              "                                                  StandardScaler())]),\n",
              "                                 &lt;sklearn.compose._column_transformer.make_column_selector object at 0x7f74896d0c90&gt;),\n",
              "                                (&#x27;pipeline-2&#x27;,\n",
              "                                 Pipeline(steps=[(&#x27;simpleimputer&#x27;,\n",
              "                                                  SimpleImputer(strategy=&#x27;most_frequent&#x27;)),\n",
              "                                                 (&#x27;onehotencoder&#x27;,\n",
              "                                                  OneHotEncoder(handle_unknown=&#x27;ignore&#x27;,\n",
              "                                                                sparse=False))]),\n",
              "                                 &lt;sklearn.compose._column_transformer.make_column_selector object at 0x7f74896d0f50&gt;)])</pre></div></div></div><div class=\"sk-parallel\"><div class=\"sk-parallel-item\"><div class=\"sk-item\"><div class=\"sk-label-container\"><div class=\"sk-label sk-toggleable\"><input class=\"sk-toggleable__control sk-hidden--visually\" id=\"c11e7625-71b1-4948-bd35-0248fe515596\" type=\"checkbox\" ><label for=\"c11e7625-71b1-4948-bd35-0248fe515596\" class=\"sk-toggleable__label sk-toggleable__label-arrow\">pipeline-1</label><div class=\"sk-toggleable__content\"><pre>&lt;sklearn.compose._column_transformer.make_column_selector object at 0x7f74896d0c90&gt;</pre></div></div></div><div class=\"sk-serial\"><div class=\"sk-item\"><div class=\"sk-serial\"><div class=\"sk-item\"><div class=\"sk-estimator sk-toggleable\"><input class=\"sk-toggleable__control sk-hidden--visually\" id=\"04cf2c46-3cad-484c-b628-4fdfc6738ed7\" type=\"checkbox\" ><label for=\"04cf2c46-3cad-484c-b628-4fdfc6738ed7\" class=\"sk-toggleable__label sk-toggleable__label-arrow\">SimpleImputer</label><div class=\"sk-toggleable__content\"><pre>SimpleImputer()</pre></div></div></div><div class=\"sk-item\"><div class=\"sk-estimator sk-toggleable\"><input class=\"sk-toggleable__control sk-hidden--visually\" id=\"c67f7c4a-834f-42e7-ad3c-0de89a3958ee\" type=\"checkbox\" ><label for=\"c67f7c4a-834f-42e7-ad3c-0de89a3958ee\" class=\"sk-toggleable__label sk-toggleable__label-arrow\">StandardScaler</label><div class=\"sk-toggleable__content\"><pre>StandardScaler()</pre></div></div></div></div></div></div></div></div><div class=\"sk-parallel-item\"><div class=\"sk-item\"><div class=\"sk-label-container\"><div class=\"sk-label sk-toggleable\"><input class=\"sk-toggleable__control sk-hidden--visually\" id=\"f61d949f-7939-4745-b83e-b40fa92caa4b\" type=\"checkbox\" ><label for=\"f61d949f-7939-4745-b83e-b40fa92caa4b\" class=\"sk-toggleable__label sk-toggleable__label-arrow\">pipeline-2</label><div class=\"sk-toggleable__content\"><pre>&lt;sklearn.compose._column_transformer.make_column_selector object at 0x7f74896d0f50&gt;</pre></div></div></div><div class=\"sk-serial\"><div class=\"sk-item\"><div class=\"sk-serial\"><div class=\"sk-item\"><div class=\"sk-estimator sk-toggleable\"><input class=\"sk-toggleable__control sk-hidden--visually\" id=\"b17afcfc-4db5-48bd-978d-d276f1a27690\" type=\"checkbox\" ><label for=\"b17afcfc-4db5-48bd-978d-d276f1a27690\" class=\"sk-toggleable__label sk-toggleable__label-arrow\">SimpleImputer</label><div class=\"sk-toggleable__content\"><pre>SimpleImputer(strategy=&#x27;most_frequent&#x27;)</pre></div></div></div><div class=\"sk-item\"><div class=\"sk-estimator sk-toggleable\"><input class=\"sk-toggleable__control sk-hidden--visually\" id=\"2a56931e-01aa-4200-b75f-dc4d6f8a1dd3\" type=\"checkbox\" ><label for=\"2a56931e-01aa-4200-b75f-dc4d6f8a1dd3\" class=\"sk-toggleable__label sk-toggleable__label-arrow\">OneHotEncoder</label><div class=\"sk-toggleable__content\"><pre>OneHotEncoder(handle_unknown=&#x27;ignore&#x27;, sparse=False)</pre></div></div></div></div></div></div></div></div></div></div></div></div>"
            ]
          },
          "metadata": {},
          "execution_count": 12
        }
      ]
    },
    {
      "cell_type": "code",
      "source": [
        "# transform train and test\n",
        "X_train_processed = preprocessor.transform(X_train)\n",
        "X_test_processed = preprocessor.transform(X_test)"
      ],
      "metadata": {
        "id": "HIkZSNY3vvl-"
      },
      "execution_count": null,
      "outputs": []
    },
    {
      "cell_type": "markdown",
      "source": [
        "All Scikit-Learn transformers return Numpy arrays, NOT Pandas dataframes. Because of this we need to use Numpy functions, such as np.isnan(), to inspect our data. In some cases we can easily transform our data back into a Pandas dataframe, but it's not always easy to get the column names back. The OneHotEncoder created extra columns and it is complicated to retrieve the correct column names for all columns.\n",
        "\n"
      ],
      "metadata": {
        "id": "46iORfhtv2Km"
      }
    },
    {
      "cell_type": "code",
      "source": [
        "# Check for missing values and that data is scaled and one-hot encoded\n",
        "print(np.isnan(X_train_processed).sum().sum(), 'missing values in training data')\n",
        "print(np.isnan(X_test_processed).sum().sum(), 'missing values in testing data')\n",
        "print('\\n')\n",
        "print('All data in X_train_processed are', X_train_processed.dtype)\n",
        "print('All data in X_test_processed are', X_test_processed.dtype)\n",
        "print('\\n')\n",
        "print('shape of data is', X_train_processed.shape)\n",
        "print('\\n')\n",
        "X_train_processed"
      ],
      "metadata": {
        "colab": {
          "base_uri": "https://localhost:8080/"
        },
        "id": "m6O2TPGZv1Z-",
        "outputId": "a7713815-8b19-4d7e-b3a2-c5071a274240"
      },
      "execution_count": null,
      "outputs": [
        {
          "output_type": "stream",
          "name": "stdout",
          "text": [
            "0 missing values in training data\n",
            "0 missing values in testing data\n",
            "\n",
            "\n",
            "All data in X_train_processed are float64\n",
            "All data in X_test_processed are float64\n",
            "\n",
            "\n",
            "shape of data is (750, 97)\n",
            "\n",
            "\n"
          ]
        },
        {
          "output_type": "execute_result",
          "data": {
            "text/plain": [
              "array([[-0.50820472,  0.28193545, -0.06527826, ...,  0.        ,\n",
              "         1.        ,  0.        ],\n",
              "       [-0.72064168,  0.25283631,  1.23912135, ...,  0.        ,\n",
              "         0.        ,  0.        ],\n",
              "       [-0.49340318,  0.48282262, -0.50007813, ...,  0.        ,\n",
              "         1.        ,  0.        ],\n",
              "       ...,\n",
              "       [ 0.27295848,  0.63816773, -0.93487801, ...,  0.        ,\n",
              "         0.        ,  0.        ],\n",
              "       [-0.89653885, -1.73729615, -0.93487801, ...,  0.        ,\n",
              "         0.        ,  0.        ],\n",
              "       [ 0.30727477,  1.1082109 , -0.93487801, ...,  0.        ,\n",
              "         0.        ,  0.        ]])"
            ]
          },
          "metadata": {},
          "execution_count": 14
        }
      ]
    },
    {
      "cell_type": "code",
      "source": [],
      "metadata": {
        "id": "5C4CnfQbwFeh"
      },
      "execution_count": null,
      "outputs": []
    }
  ]
}