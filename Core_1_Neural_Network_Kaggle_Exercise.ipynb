{
  "nbformat": 4,
  "nbformat_minor": 0,
  "metadata": {
    "colab": {
      "provenance": [],
      "toc_visible": true,
      "include_colab_link": true
    },
    "kernelspec": {
      "name": "python3",
      "display_name": "Python 3"
    },
    "language_info": {
      "name": "python"
    }
  },
  "cells": [
    {
      "cell_type": "markdown",
      "metadata": {
        "id": "view-in-github",
        "colab_type": "text"
      },
      "source": [
        "<a href=\"https://colab.research.google.com/github/dmburns1729/Class-Files/blob/main/Core_1_Neural_Network_Kaggle_Exercise.ipynb\" target=\"_parent\"><img src=\"https://colab.research.google.com/assets/colab-badge.svg\" alt=\"Open In Colab\"/></a>"
      ]
    },
    {
      "cell_type": "markdown",
      "source": [
        "#Core Assignment 1 - Kaggle Neural Network"
      ],
      "metadata": {
        "id": "VCXvoXucibH8"
      }
    },
    {
      "cell_type": "markdown",
      "source": [
        "- Name: Tyler Schelling\n",
        "- Date: 11/29/2022"
      ],
      "metadata": {
        "id": "aMVywMc8igmA"
      }
    },
    {
      "cell_type": "markdown",
      "source": [
        "##Task"
      ],
      "metadata": {
        "id": "RS0Cd959ij1Y"
      }
    },
    {
      "cell_type": "markdown",
      "source": [
        "Now, put neural networks into action. You are tasked with building a neural network using data from this [kaggle competition](https://www.kaggle.com/competitions/house-prices-advanced-regression-techniques/data?select=sample_submission.csv). To complete the assignment, you will train and evaluate your model using only the train.csv. Remember, with Kaggle competitions, the test.csv does not include values for the target! The test.csv is only used for the competition, and you cannot evaluate your model using the test.csv without submitting your predictions to Kaggle.\n",
        "\n",
        "Required Task:\n",
        "1. Be sure to perform a train test split on the train.csv so you can evaluate your models.\n",
        "2. Create and evaluate 3 iterations of a deep learning model to predict housing prices using the techniques you have learned to optimize your model's performance. Be sure to include some form of regularization with at least one model.\n",
        "3. Select your best model!\n",
        "\n",
        "Optional (but fun!)\n",
        "- Use your best model to make predictions using the features in test.csv.\n",
        "- Submit to the Kaggle competition to see how your did!\n",
        "- Include a screenshot of your results from the Kaggle competition inserted in a markdown cell at the bottom of your notebook."
      ],
      "metadata": {
        "id": "j-TX7_zyilI1"
      }
    },
    {
      "cell_type": "markdown",
      "source": [
        "##Assignment"
      ],
      "metadata": {
        "id": "2xXGzHZgiuYr"
      }
    },
    {
      "cell_type": "markdown",
      "source": [
        "###Mount Drive | Import Libraries | Download Data"
      ],
      "metadata": {
        "id": "1QG7mjSDjM8t"
      }
    },
    {
      "cell_type": "code",
      "source": [
        "from google.colab import drive\n",
        "drive.mount('/content/drive')"
      ],
      "metadata": {
        "colab": {
          "base_uri": "https://localhost:8080/"
        },
        "id": "kkHACBgtjMaF",
        "outputId": "25b1bf8b-119f-4cbb-d0b4-b9f55e696a2b"
      },
      "execution_count": null,
      "outputs": [
        {
          "output_type": "stream",
          "name": "stdout",
          "text": [
            "Mounted at /content/drive\n"
          ]
        }
      ]
    },
    {
      "cell_type": "code",
      "source": [
        "# Imports\n",
        "import numpy as np\n",
        "import matplotlib.pyplot as plt\n",
        "import seaborn as sns\n",
        "import pandas as pd\n",
        "from sklearn.preprocessing import LabelEncoder, OneHotEncoder, StandardScaler\n",
        "from sklearn.compose import make_column_transformer, make_column_selector\n",
        "from sklearn.pipeline import make_pipeline\n",
        "from sklearn.model_selection import train_test_split\n",
        "\n",
        "import tensorflow as tf\n",
        "from tensorflow import keras\n",
        "from keras.models import Sequential\n",
        "from keras.layers import Dense, Dropout\n",
        "from tensorflow.keras.callbacks import EarlyStopping\n"
      ],
      "metadata": {
        "id": "G5kmZqEDjnuQ"
      },
      "execution_count": null,
      "outputs": []
    },
    {
      "cell_type": "code",
      "source": [
        "!pip install -q -U keras-tuner\n",
        "import kerastuner as kt"
      ],
      "metadata": {
        "colab": {
          "base_uri": "https://localhost:8080/"
        },
        "id": "SEUUlWaywcbj",
        "outputId": "06ad97ca-4642-4c60-baf5-04ee3d49bf0e"
      },
      "execution_count": null,
      "outputs": [
        {
          "output_type": "stream",
          "name": "stdout",
          "text": [
            "\u001b[K     |████████████████████████████████| 135 kB 7.1 MB/s \n",
            "\u001b[K     |████████████████████████████████| 1.6 MB 41.4 MB/s \n",
            "\u001b[?25h"
          ]
        },
        {
          "output_type": "stream",
          "name": "stderr",
          "text": [
            "<ipython-input-3-5d7b6944a6ac>:2: DeprecationWarning: `import kerastuner` is deprecated, please use `import keras_tuner`.\n",
            "  import kerastuner as kt\n"
          ]
        }
      ]
    },
    {
      "cell_type": "code",
      "source": [
        "df = pd.read_csv('/content/drive/MyDrive/02. Life/Coding Dojo/00 Datasets/train.csv', index_col = 'Id')\n",
        "df.head()"
      ],
      "metadata": {
        "colab": {
          "base_uri": "https://localhost:8080/",
          "height": 331
        },
        "id": "or5lxZUAjs1x",
        "outputId": "b6609cd6-6cfc-4251-ac8a-4c7940dc927a"
      },
      "execution_count": null,
      "outputs": [
        {
          "output_type": "execute_result",
          "data": {
            "text/plain": [
              "    MSSubClass MSZoning  LotFrontage  LotArea Street Alley LotShape  \\\n",
              "Id                                                                    \n",
              "1           60       RL         65.0     8450   Pave   NaN      Reg   \n",
              "2           20       RL         80.0     9600   Pave   NaN      Reg   \n",
              "3           60       RL         68.0    11250   Pave   NaN      IR1   \n",
              "4           70       RL         60.0     9550   Pave   NaN      IR1   \n",
              "5           60       RL         84.0    14260   Pave   NaN      IR1   \n",
              "\n",
              "   LandContour Utilities LotConfig  ... PoolArea PoolQC Fence MiscFeature  \\\n",
              "Id                                  ...                                     \n",
              "1          Lvl    AllPub    Inside  ...        0    NaN   NaN         NaN   \n",
              "2          Lvl    AllPub       FR2  ...        0    NaN   NaN         NaN   \n",
              "3          Lvl    AllPub    Inside  ...        0    NaN   NaN         NaN   \n",
              "4          Lvl    AllPub    Corner  ...        0    NaN   NaN         NaN   \n",
              "5          Lvl    AllPub       FR2  ...        0    NaN   NaN         NaN   \n",
              "\n",
              "   MiscVal MoSold  YrSold  SaleType  SaleCondition  SalePrice  \n",
              "Id                                                             \n",
              "1        0      2    2008        WD         Normal     208500  \n",
              "2        0      5    2007        WD         Normal     181500  \n",
              "3        0      9    2008        WD         Normal     223500  \n",
              "4        0      2    2006        WD        Abnorml     140000  \n",
              "5        0     12    2008        WD         Normal     250000  \n",
              "\n",
              "[5 rows x 80 columns]"
            ],
            "text/html": [
              "\n",
              "  <div id=\"df-1e4d6f61-025d-49fa-aaa7-14a84f01b81e\">\n",
              "    <div class=\"colab-df-container\">\n",
              "      <div>\n",
              "<style scoped>\n",
              "    .dataframe tbody tr th:only-of-type {\n",
              "        vertical-align: middle;\n",
              "    }\n",
              "\n",
              "    .dataframe tbody tr th {\n",
              "        vertical-align: top;\n",
              "    }\n",
              "\n",
              "    .dataframe thead th {\n",
              "        text-align: right;\n",
              "    }\n",
              "</style>\n",
              "<table border=\"1\" class=\"dataframe\">\n",
              "  <thead>\n",
              "    <tr style=\"text-align: right;\">\n",
              "      <th></th>\n",
              "      <th>MSSubClass</th>\n",
              "      <th>MSZoning</th>\n",
              "      <th>LotFrontage</th>\n",
              "      <th>LotArea</th>\n",
              "      <th>Street</th>\n",
              "      <th>Alley</th>\n",
              "      <th>LotShape</th>\n",
              "      <th>LandContour</th>\n",
              "      <th>Utilities</th>\n",
              "      <th>LotConfig</th>\n",
              "      <th>...</th>\n",
              "      <th>PoolArea</th>\n",
              "      <th>PoolQC</th>\n",
              "      <th>Fence</th>\n",
              "      <th>MiscFeature</th>\n",
              "      <th>MiscVal</th>\n",
              "      <th>MoSold</th>\n",
              "      <th>YrSold</th>\n",
              "      <th>SaleType</th>\n",
              "      <th>SaleCondition</th>\n",
              "      <th>SalePrice</th>\n",
              "    </tr>\n",
              "    <tr>\n",
              "      <th>Id</th>\n",
              "      <th></th>\n",
              "      <th></th>\n",
              "      <th></th>\n",
              "      <th></th>\n",
              "      <th></th>\n",
              "      <th></th>\n",
              "      <th></th>\n",
              "      <th></th>\n",
              "      <th></th>\n",
              "      <th></th>\n",
              "      <th></th>\n",
              "      <th></th>\n",
              "      <th></th>\n",
              "      <th></th>\n",
              "      <th></th>\n",
              "      <th></th>\n",
              "      <th></th>\n",
              "      <th></th>\n",
              "      <th></th>\n",
              "      <th></th>\n",
              "      <th></th>\n",
              "    </tr>\n",
              "  </thead>\n",
              "  <tbody>\n",
              "    <tr>\n",
              "      <th>1</th>\n",
              "      <td>60</td>\n",
              "      <td>RL</td>\n",
              "      <td>65.0</td>\n",
              "      <td>8450</td>\n",
              "      <td>Pave</td>\n",
              "      <td>NaN</td>\n",
              "      <td>Reg</td>\n",
              "      <td>Lvl</td>\n",
              "      <td>AllPub</td>\n",
              "      <td>Inside</td>\n",
              "      <td>...</td>\n",
              "      <td>0</td>\n",
              "      <td>NaN</td>\n",
              "      <td>NaN</td>\n",
              "      <td>NaN</td>\n",
              "      <td>0</td>\n",
              "      <td>2</td>\n",
              "      <td>2008</td>\n",
              "      <td>WD</td>\n",
              "      <td>Normal</td>\n",
              "      <td>208500</td>\n",
              "    </tr>\n",
              "    <tr>\n",
              "      <th>2</th>\n",
              "      <td>20</td>\n",
              "      <td>RL</td>\n",
              "      <td>80.0</td>\n",
              "      <td>9600</td>\n",
              "      <td>Pave</td>\n",
              "      <td>NaN</td>\n",
              "      <td>Reg</td>\n",
              "      <td>Lvl</td>\n",
              "      <td>AllPub</td>\n",
              "      <td>FR2</td>\n",
              "      <td>...</td>\n",
              "      <td>0</td>\n",
              "      <td>NaN</td>\n",
              "      <td>NaN</td>\n",
              "      <td>NaN</td>\n",
              "      <td>0</td>\n",
              "      <td>5</td>\n",
              "      <td>2007</td>\n",
              "      <td>WD</td>\n",
              "      <td>Normal</td>\n",
              "      <td>181500</td>\n",
              "    </tr>\n",
              "    <tr>\n",
              "      <th>3</th>\n",
              "      <td>60</td>\n",
              "      <td>RL</td>\n",
              "      <td>68.0</td>\n",
              "      <td>11250</td>\n",
              "      <td>Pave</td>\n",
              "      <td>NaN</td>\n",
              "      <td>IR1</td>\n",
              "      <td>Lvl</td>\n",
              "      <td>AllPub</td>\n",
              "      <td>Inside</td>\n",
              "      <td>...</td>\n",
              "      <td>0</td>\n",
              "      <td>NaN</td>\n",
              "      <td>NaN</td>\n",
              "      <td>NaN</td>\n",
              "      <td>0</td>\n",
              "      <td>9</td>\n",
              "      <td>2008</td>\n",
              "      <td>WD</td>\n",
              "      <td>Normal</td>\n",
              "      <td>223500</td>\n",
              "    </tr>\n",
              "    <tr>\n",
              "      <th>4</th>\n",
              "      <td>70</td>\n",
              "      <td>RL</td>\n",
              "      <td>60.0</td>\n",
              "      <td>9550</td>\n",
              "      <td>Pave</td>\n",
              "      <td>NaN</td>\n",
              "      <td>IR1</td>\n",
              "      <td>Lvl</td>\n",
              "      <td>AllPub</td>\n",
              "      <td>Corner</td>\n",
              "      <td>...</td>\n",
              "      <td>0</td>\n",
              "      <td>NaN</td>\n",
              "      <td>NaN</td>\n",
              "      <td>NaN</td>\n",
              "      <td>0</td>\n",
              "      <td>2</td>\n",
              "      <td>2006</td>\n",
              "      <td>WD</td>\n",
              "      <td>Abnorml</td>\n",
              "      <td>140000</td>\n",
              "    </tr>\n",
              "    <tr>\n",
              "      <th>5</th>\n",
              "      <td>60</td>\n",
              "      <td>RL</td>\n",
              "      <td>84.0</td>\n",
              "      <td>14260</td>\n",
              "      <td>Pave</td>\n",
              "      <td>NaN</td>\n",
              "      <td>IR1</td>\n",
              "      <td>Lvl</td>\n",
              "      <td>AllPub</td>\n",
              "      <td>FR2</td>\n",
              "      <td>...</td>\n",
              "      <td>0</td>\n",
              "      <td>NaN</td>\n",
              "      <td>NaN</td>\n",
              "      <td>NaN</td>\n",
              "      <td>0</td>\n",
              "      <td>12</td>\n",
              "      <td>2008</td>\n",
              "      <td>WD</td>\n",
              "      <td>Normal</td>\n",
              "      <td>250000</td>\n",
              "    </tr>\n",
              "  </tbody>\n",
              "</table>\n",
              "<p>5 rows × 80 columns</p>\n",
              "</div>\n",
              "      <button class=\"colab-df-convert\" onclick=\"convertToInteractive('df-1e4d6f61-025d-49fa-aaa7-14a84f01b81e')\"\n",
              "              title=\"Convert this dataframe to an interactive table.\"\n",
              "              style=\"display:none;\">\n",
              "        \n",
              "  <svg xmlns=\"http://www.w3.org/2000/svg\" height=\"24px\"viewBox=\"0 0 24 24\"\n",
              "       width=\"24px\">\n",
              "    <path d=\"M0 0h24v24H0V0z\" fill=\"none\"/>\n",
              "    <path d=\"M18.56 5.44l.94 2.06.94-2.06 2.06-.94-2.06-.94-.94-2.06-.94 2.06-2.06.94zm-11 1L8.5 8.5l.94-2.06 2.06-.94-2.06-.94L8.5 2.5l-.94 2.06-2.06.94zm10 10l.94 2.06.94-2.06 2.06-.94-2.06-.94-.94-2.06-.94 2.06-2.06.94z\"/><path d=\"M17.41 7.96l-1.37-1.37c-.4-.4-.92-.59-1.43-.59-.52 0-1.04.2-1.43.59L10.3 9.45l-7.72 7.72c-.78.78-.78 2.05 0 2.83L4 21.41c.39.39.9.59 1.41.59.51 0 1.02-.2 1.41-.59l7.78-7.78 2.81-2.81c.8-.78.8-2.07 0-2.86zM5.41 20L4 18.59l7.72-7.72 1.47 1.35L5.41 20z\"/>\n",
              "  </svg>\n",
              "      </button>\n",
              "      \n",
              "  <style>\n",
              "    .colab-df-container {\n",
              "      display:flex;\n",
              "      flex-wrap:wrap;\n",
              "      gap: 12px;\n",
              "    }\n",
              "\n",
              "    .colab-df-convert {\n",
              "      background-color: #E8F0FE;\n",
              "      border: none;\n",
              "      border-radius: 50%;\n",
              "      cursor: pointer;\n",
              "      display: none;\n",
              "      fill: #1967D2;\n",
              "      height: 32px;\n",
              "      padding: 0 0 0 0;\n",
              "      width: 32px;\n",
              "    }\n",
              "\n",
              "    .colab-df-convert:hover {\n",
              "      background-color: #E2EBFA;\n",
              "      box-shadow: 0px 1px 2px rgba(60, 64, 67, 0.3), 0px 1px 3px 1px rgba(60, 64, 67, 0.15);\n",
              "      fill: #174EA6;\n",
              "    }\n",
              "\n",
              "    [theme=dark] .colab-df-convert {\n",
              "      background-color: #3B4455;\n",
              "      fill: #D2E3FC;\n",
              "    }\n",
              "\n",
              "    [theme=dark] .colab-df-convert:hover {\n",
              "      background-color: #434B5C;\n",
              "      box-shadow: 0px 1px 3px 1px rgba(0, 0, 0, 0.15);\n",
              "      filter: drop-shadow(0px 1px 2px rgba(0, 0, 0, 0.3));\n",
              "      fill: #FFFFFF;\n",
              "    }\n",
              "  </style>\n",
              "\n",
              "      <script>\n",
              "        const buttonEl =\n",
              "          document.querySelector('#df-1e4d6f61-025d-49fa-aaa7-14a84f01b81e button.colab-df-convert');\n",
              "        buttonEl.style.display =\n",
              "          google.colab.kernel.accessAllowed ? 'block' : 'none';\n",
              "\n",
              "        async function convertToInteractive(key) {\n",
              "          const element = document.querySelector('#df-1e4d6f61-025d-49fa-aaa7-14a84f01b81e');\n",
              "          const dataTable =\n",
              "            await google.colab.kernel.invokeFunction('convertToInteractive',\n",
              "                                                     [key], {});\n",
              "          if (!dataTable) return;\n",
              "\n",
              "          const docLinkHtml = 'Like what you see? Visit the ' +\n",
              "            '<a target=\"_blank\" href=https://colab.research.google.com/notebooks/data_table.ipynb>data table notebook</a>'\n",
              "            + ' to learn more about interactive tables.';\n",
              "          element.innerHTML = '';\n",
              "          dataTable['output_type'] = 'display_data';\n",
              "          await google.colab.output.renderOutput(dataTable, element);\n",
              "          const docLink = document.createElement('div');\n",
              "          docLink.innerHTML = docLinkHtml;\n",
              "          element.appendChild(docLink);\n",
              "        }\n",
              "      </script>\n",
              "    </div>\n",
              "  </div>\n",
              "  "
            ]
          },
          "metadata": {},
          "execution_count": 4
        }
      ]
    },
    {
      "cell_type": "code",
      "source": [
        "#Evaluate size of the dataframe\n",
        "print(f'The dataset contains {df.shape[0]} rows and {df.shape[1]} columns.')"
      ],
      "metadata": {
        "colab": {
          "base_uri": "https://localhost:8080/"
        },
        "id": "UEp_vvfokMEm",
        "outputId": "6042644e-4496-48db-e5e1-9c46f3f0b255"
      },
      "execution_count": null,
      "outputs": [
        {
          "output_type": "stream",
          "name": "stdout",
          "text": [
            "The dataset contains 1460 rows and 80 columns.\n"
          ]
        }
      ]
    },
    {
      "cell_type": "markdown",
      "source": [
        "###Functions"
      ],
      "metadata": {
        "id": "NtNhJePYpyR3"
      }
    },
    {
      "cell_type": "code",
      "source": [
        "def plot_history(history):\n",
        "  \"\"\"Takes a keras model learning history and plots each metric\"\"\"\n",
        "\n",
        "  metrics = history.history.keys()\n",
        "\n",
        "  for metric in metrics:\n",
        "      if not 'val' in metric:\n",
        "        plt.plot(history.history[f'{metric}'], label=f'{metric}')\n",
        "        if f'val_{metric}' in metrics:\n",
        "          plt.plot(history.history[f'val_{metric}'], label=f'val_{metric}')\n",
        "        plt.legend()\n",
        "        plt.title(f'{metric}')\n",
        "        plt.show()"
      ],
      "metadata": {
        "id": "oA4TCQuhp0Q9"
      },
      "execution_count": null,
      "outputs": []
    },
    {
      "cell_type": "markdown",
      "source": [
        "###Correlation for Feature Selection"
      ],
      "metadata": {
        "id": "al750gHWjsft"
      }
    },
    {
      "cell_type": "code",
      "source": [
        "#Create a features dataframe to encode categorical data for correlation\n",
        "feat_df = df.copy()\n",
        "objList = feat_df.select_dtypes(include = \"object\").columns\n",
        "feat_df[objList] = feat_df[objList].apply(LabelEncoder().fit_transform)"
      ],
      "metadata": {
        "id": "So8k1IRXoOs1"
      },
      "execution_count": null,
      "outputs": []
    },
    {
      "cell_type": "code",
      "source": [
        "#Sort the correlations of each column to SalePrice\n",
        "corr = feat_df.corr()[['SalePrice']].sort_values(by = 'SalePrice', ascending = False)\n",
        "plt.figure(figsize= (8,20))\n",
        "sns.heatmap(corr, annot = True);"
      ],
      "metadata": {
        "colab": {
          "base_uri": "https://localhost:8080/",
          "height": 1000
        },
        "id": "NCA1S31hoPEi",
        "outputId": "a3d1e047-71c3-481a-e0c3-96f910f7df4e"
      },
      "execution_count": null,
      "outputs": [
        {
          "output_type": "display_data",
          "data": {
            "text/plain": [
              "<Figure size 576x1440 with 2 Axes>"
            ],
            "image/png": "[encoded data removed]"
          },
          "metadata": {
            "needs_background": "light"
          }
        }
      ]
    },
    {
      "cell_type": "markdown",
      "source": [
        "###Feature Selection"
      ],
      "metadata": {
        "id": "0L4jWNOvoW87"
      }
    },
    {
      "cell_type": "code",
      "source": [
        "#Select features with a greater or lesser correlation than 0.25 to SalePrice\n",
        "train_df = df.copy()\n",
        "train_df.drop(columns = corr[(corr['SalePrice'] < 0.25) & (corr['SalePrice'] > -0.25)].index, inplace = True)"
      ],
      "metadata": {
        "id": "NTwq-CrXobH8"
      },
      "execution_count": null,
      "outputs": []
    },
    {
      "cell_type": "code",
      "source": [
        "#Evaluate size of the dataframe\n",
        "print(f'The dataset contains {train_df.shape[0]} rows and {train_df.shape[1]} columns.')"
      ],
      "metadata": {
        "colab": {
          "base_uri": "https://localhost:8080/"
        },
        "id": "JmintHW8obfX",
        "outputId": "0d8985f5-f97e-478c-88e9-36645c21da1c"
      },
      "execution_count": null,
      "outputs": [
        {
          "output_type": "stream",
          "name": "stdout",
          "text": [
            "The dataset contains 1460 rows and 32 columns.\n"
          ]
        }
      ]
    },
    {
      "cell_type": "markdown",
      "source": [
        "###Data Cleaning"
      ],
      "metadata": {
        "id": "Dn2L96Z4oa_M"
      }
    },
    {
      "cell_type": "code",
      "source": [
        "#check duplicates\n",
        "train_df.duplicated().sum()"
      ],
      "metadata": {
        "colab": {
          "base_uri": "https://localhost:8080/"
        },
        "id": "iTiEOtQxogaU",
        "outputId": "f8dc5dca-f68f-4b58-9b5e-9861c6d35e84"
      },
      "execution_count": null,
      "outputs": [
        {
          "output_type": "execute_result",
          "data": {
            "text/plain": [
              "0"
            ]
          },
          "metadata": {},
          "execution_count": 11
        }
      ]
    },
    {
      "cell_type": "code",
      "source": [
        "train_df.isna().sum()"
      ],
      "metadata": {
        "colab": {
          "base_uri": "https://localhost:8080/"
        },
        "id": "1qid0TUMohIu",
        "outputId": "c4bfaca1-0221-450a-c7b8-54cda2c642f5"
      },
      "execution_count": null,
      "outputs": [
        {
          "output_type": "execute_result",
          "data": {
            "text/plain": [
              "LotFrontage     259\n",
              "LotArea           0\n",
              "LotShape          0\n",
              "OverallQual       0\n",
              "YearBuilt         0\n",
              "YearRemodAdd      0\n",
              "MasVnrArea        8\n",
              "ExterQual         0\n",
              "Foundation        0\n",
              "BsmtQual         37\n",
              "BsmtExposure     38\n",
              "BsmtFinSF1        0\n",
              "TotalBsmtSF       0\n",
              "HeatingQC         0\n",
              "CentralAir        0\n",
              "1stFlrSF          0\n",
              "2ndFlrSF          0\n",
              "GrLivArea         0\n",
              "FullBath          0\n",
              "HalfBath          0\n",
              "KitchenQual       0\n",
              "TotRmsAbvGrd      0\n",
              "Fireplaces        0\n",
              "FireplaceQu     690\n",
              "GarageType       81\n",
              "GarageYrBlt      81\n",
              "GarageFinish     81\n",
              "GarageCars        0\n",
              "GarageArea        0\n",
              "WoodDeckSF        0\n",
              "OpenPorchSF       0\n",
              "SalePrice         0\n",
              "dtype: int64"
            ]
          },
          "metadata": {},
          "execution_count": 12
        }
      ]
    },
    {
      "cell_type": "code",
      "source": [
        "train_df['LotFrontage'].fillna(0, inplace = True)\n",
        "train_df['MasVnrArea'].fillna(0, inplace = True)\n",
        "train_df['BsmtQual'].fillna('None', inplace = True)\n",
        "train_df['BsmtExposure'].fillna('None', inplace = True)\n",
        "train_df['FireplaceQu'].fillna('None', inplace = True)\n",
        "train_df['GarageType'].fillna('None', inplace = True)\n",
        "train_df['GarageYrBlt'].fillna(0, inplace = True)\n",
        "train_df['GarageFinish'].fillna('None', inplace = True)"
      ],
      "metadata": {
        "id": "XkcXAsOJokvb"
      },
      "execution_count": null,
      "outputs": []
    },
    {
      "cell_type": "code",
      "source": [
        "train_df.isna().sum()"
      ],
      "metadata": {
        "colab": {
          "base_uri": "https://localhost:8080/"
        },
        "id": "HgOvVnD6ot-G",
        "outputId": "32cc6305-86cc-4eaf-bad6-546a9c8d298e"
      },
      "execution_count": null,
      "outputs": [
        {
          "output_type": "execute_result",
          "data": {
            "text/plain": [
              "LotFrontage     0\n",
              "LotArea         0\n",
              "LotShape        0\n",
              "OverallQual     0\n",
              "YearBuilt       0\n",
              "YearRemodAdd    0\n",
              "MasVnrArea      0\n",
              "ExterQual       0\n",
              "Foundation      0\n",
              "BsmtQual        0\n",
              "BsmtExposure    0\n",
              "BsmtFinSF1      0\n",
              "TotalBsmtSF     0\n",
              "HeatingQC       0\n",
              "CentralAir      0\n",
              "1stFlrSF        0\n",
              "2ndFlrSF        0\n",
              "GrLivArea       0\n",
              "FullBath        0\n",
              "HalfBath        0\n",
              "KitchenQual     0\n",
              "TotRmsAbvGrd    0\n",
              "Fireplaces      0\n",
              "FireplaceQu     0\n",
              "GarageType      0\n",
              "GarageYrBlt     0\n",
              "GarageFinish    0\n",
              "GarageCars      0\n",
              "GarageArea      0\n",
              "WoodDeckSF      0\n",
              "OpenPorchSF     0\n",
              "SalePrice       0\n",
              "dtype: int64"
            ]
          },
          "metadata": {},
          "execution_count": 14
        }
      ]
    },
    {
      "cell_type": "code",
      "source": [
        "train_df.info()"
      ],
      "metadata": {
        "colab": {
          "base_uri": "https://localhost:8080/"
        },
        "id": "PTfBzJTBovTQ",
        "outputId": "b2031b9e-0acf-43ae-c6c9-0f69f631ce41"
      },
      "execution_count": null,
      "outputs": [
        {
          "output_type": "stream",
          "name": "stdout",
          "text": [
            "<class 'pandas.core.frame.DataFrame'>\n",
            "Int64Index: 1460 entries, 1 to 1460\n",
            "Data columns (total 32 columns):\n",
            " #   Column        Non-Null Count  Dtype  \n",
            "---  ------        --------------  -----  \n",
            " 0   LotFrontage   1460 non-null   float64\n",
            " 1   LotArea       1460 non-null   int64  \n",
            " 2   LotShape      1460 non-null   object \n",
            " 3   OverallQual   1460 non-null   int64  \n",
            " 4   YearBuilt     1460 non-null   int64  \n",
            " 5   YearRemodAdd  1460 non-null   int64  \n",
            " 6   MasVnrArea    1460 non-null   float64\n",
            " 7   ExterQual     1460 non-null   object \n",
            " 8   Foundation    1460 non-null   object \n",
            " 9   BsmtQual      1460 non-null   object \n",
            " 10  BsmtExposure  1460 non-null   object \n",
            " 11  BsmtFinSF1    1460 non-null   int64  \n",
            " 12  TotalBsmtSF   1460 non-null   int64  \n",
            " 13  HeatingQC     1460 non-null   object \n",
            " 14  CentralAir    1460 non-null   object \n",
            " 15  1stFlrSF      1460 non-null   int64  \n",
            " 16  2ndFlrSF      1460 non-null   int64  \n",
            " 17  GrLivArea     1460 non-null   int64  \n",
            " 18  FullBath      1460 non-null   int64  \n",
            " 19  HalfBath      1460 non-null   int64  \n",
            " 20  KitchenQual   1460 non-null   object \n",
            " 21  TotRmsAbvGrd  1460 non-null   int64  \n",
            " 22  Fireplaces    1460 non-null   int64  \n",
            " 23  FireplaceQu   1460 non-null   object \n",
            " 24  GarageType    1460 non-null   object \n",
            " 25  GarageYrBlt   1460 non-null   float64\n",
            " 26  GarageFinish  1460 non-null   object \n",
            " 27  GarageCars    1460 non-null   int64  \n",
            " 28  GarageArea    1460 non-null   int64  \n",
            " 29  WoodDeckSF    1460 non-null   int64  \n",
            " 30  OpenPorchSF   1460 non-null   int64  \n",
            " 31  SalePrice     1460 non-null   int64  \n",
            "dtypes: float64(3), int64(18), object(11)\n",
            "memory usage: 376.4+ KB\n"
          ]
        }
      ]
    },
    {
      "cell_type": "markdown",
      "source": [
        "###Validation Split"
      ],
      "metadata": {
        "id": "JTGZlgINoyCd"
      }
    },
    {
      "cell_type": "code",
      "source": [
        "X = train_df.drop(columns = 'SalePrice')\n",
        "y = train_df['SalePrice']\n",
        "\n",
        "X_train, X_test, y_train, y_test = train_test_split(X, y, random_state = 42)"
      ],
      "metadata": {
        "id": "ZKWV8H2jozha"
      },
      "execution_count": null,
      "outputs": []
    },
    {
      "cell_type": "code",
      "source": [
        "# Preprocessing\n",
        "cat_selector = make_column_selector(dtype_include = 'object')\n",
        "ohe = OneHotEncoder(handle_unknown='ignore')\n",
        "\n",
        "num_selector = make_column_selector(dtype_include = 'number')\n",
        "scaler = StandardScaler()\n",
        "\n",
        "preprocessor = make_column_transformer((ohe, cat_selector), (scaler, num_selector), remainder='passthrough')\n",
        "preprocessor"
      ],
      "metadata": {
        "colab": {
          "base_uri": "https://localhost:8080/"
        },
        "id": "saHf-zgQo1o9",
        "outputId": "fc1c2747-057c-4abd-fce8-0844122cc029"
      },
      "execution_count": null,
      "outputs": [
        {
          "output_type": "execute_result",
          "data": {
            "text/plain": [
              "ColumnTransformer(remainder='passthrough',\n",
              "                  transformers=[('onehotencoder',\n",
              "                                 OneHotEncoder(handle_unknown='ignore'),\n",
              "                                 <sklearn.compose._column_transformer.make_column_selector object at 0x7f74e880be20>),\n",
              "                                ('standardscaler', StandardScaler(),\n",
              "                                 <sklearn.compose._column_transformer.make_column_selector object at 0x7f74e880bc70>)])"
            ]
          },
          "metadata": {},
          "execution_count": 17
        }
      ]
    },
    {
      "cell_type": "markdown",
      "source": [
        "###Preprocess the Data"
      ],
      "metadata": {
        "id": "uHJM3SxApKqS"
      }
    },
    {
      "cell_type": "code",
      "source": [
        "X_train = preprocessor.fit_transform(X_train)\n",
        "X_test = preprocessor.transform(X_test)"
      ],
      "metadata": {
        "id": "vmu5Odxno7qQ"
      },
      "execution_count": null,
      "outputs": []
    },
    {
      "cell_type": "markdown",
      "source": [
        "###Define the Network Structure (Function)"
      ],
      "metadata": {
        "id": "F71AISNhpNHn"
      }
    },
    {
      "cell_type": "code",
      "source": [
        "def model_builder(hidden, nodes):\n",
        "    model = keras.Sequential()\n",
        "\n",
        "    #Add input layer and 1 hidden layer\n",
        "    model.add(Dense(nodes, input_dim=X_train.shape[1], activation = 'relu'))\n",
        "    #Add additional hidden layers\n",
        "    for i in range(hidden):\n",
        "        model.add(Dense(nodes, activation = 'relu'))\n",
        "    # Add output layer with 1 node\n",
        "    model.add(Dense(1, activation = 'linear'))\n",
        "\n",
        "    model.compile(loss = 'mse', optimizer='adam',\n",
        "                metrics=['mae', 'mse'])\n",
        "\n",
        "    return model"
      ],
      "metadata": {
        "id": "IJMuMubW5a9p"
      },
      "execution_count": null,
      "outputs": []
    },
    {
      "cell_type": "markdown",
      "source": [
        "###Early Stopping"
      ],
      "metadata": {
        "id": "SyI-vJyw7yor"
      }
    },
    {
      "cell_type": "code",
      "source": [
        "early_stopping_cb = EarlyStopping(monitor='mse', patience=20, mode='min', restore_best_weights=False)"
      ],
      "metadata": {
        "id": "LgbJwhE261EL"
      },
      "execution_count": null,
      "outputs": []
    },
    {
      "cell_type": "markdown",
      "source": [
        "###Model 1"
      ],
      "metadata": {
        "id": "0R1tDlnm72kT"
      }
    },
    {
      "cell_type": "code",
      "source": [
        "model1 = model_builder(2, 10)\n",
        "model1.summary()"
      ],
      "metadata": {
        "colab": {
          "base_uri": "https://localhost:8080/"
        },
        "id": "OeqlZKhx6WC5",
        "outputId": "b657ddc5-4ac2-414c-c74b-2e208ba37ffb"
      },
      "execution_count": null,
      "outputs": [
        {
          "output_type": "stream",
          "name": "stdout",
          "text": [
            "Model: \"sequential\"\n",
            "_________________________________________________________________\n",
            " Layer (type)                Output Shape              Param #   \n",
            "=================================================================\n",
            " dense (Dense)               (None, 10)                730       \n",
            "                                                                 \n",
            " dense_1 (Dense)             (None, 10)                110       \n",
            "                                                                 \n",
            " dense_2 (Dense)             (None, 10)                110       \n",
            "                                                                 \n",
            " dense_3 (Dense)             (None, 1)                 11        \n",
            "                                                                 \n",
            "=================================================================\n",
            "Total params: 961\n",
            "Trainable params: 961\n",
            "Non-trainable params: 0\n",
            "_________________________________________________________________\n"
          ]
        }
      ]
    },
    {
      "cell_type": "code",
      "source": [
        "# Fit your model\n",
        "history1 = model1.fit(X_train, y_train,\n",
        "                                validation_data = (X_test, y_test),\n",
        "                                epochs = 250,\n",
        "                                verbose = 0,\n",
        "                                callbacks = [early_stopping_cb])"
      ],
      "metadata": {
        "id": "oKSb_o-c6iXm"
      },
      "execution_count": null,
      "outputs": []
    },
    {
      "cell_type": "code",
      "source": [
        "plot_history(history1)"
      ],
      "metadata": {
        "colab": {
          "base_uri": "https://localhost:8080/",
          "height": 809
        },
        "id": "KvcN2KRU7Nz8",
        "outputId": "e2b70ef8-16db-4c52-a37d-0460feb5566b"
      },
      "execution_count": null,
      "outputs": [
        {
          "output_type": "display_data",
          "data": {
            "text/plain": [
              "<Figure size 432x288 with 1 Axes>"
            ],
            "image/png": "[encoded data removed]"
          },
          "metadata": {
            "needs_background": "light"
          }
        },
        {
          "output_type": "display_data",
          "data": {
            "text/plain": [
              "<Figure size 432x288 with 1 Axes>"
            ],
            "image/png": "[encoded data removed]"
          },
          "metadata": {
            "needs_background": "light"
          }
        },
        {
          "output_type": "display_data",
          "data": {
            "text/plain": [
              "<Figure size 432x288 with 1 Axes>"
            ],
            "image/png": "[encoded data removed]"
          },
          "metadata": {
            "needs_background": "light"
          }
        }
      ]
    },
    {
      "cell_type": "code",
      "source": [
        "loss, mae, mse= model1.evaluate(X_test, y_test)\n",
        "\n",
        "print(\"Test Mean absolute error: {:5.2f}\".format(mae))"
      ],
      "metadata": {
        "colab": {
          "base_uri": "https://localhost:8080/"
        },
        "id": "i9eZjzAF7o8V",
        "outputId": "72103e6f-10a0-4d53-f8ad-51bb147172d5"
      },
      "execution_count": null,
      "outputs": [
        {
          "output_type": "stream",
          "name": "stdout",
          "text": [
            "12/12 [==============================] - 0s 2ms/step - loss: 998808768.0000 - mae: 20035.2227 - mse: 998808768.0000\n",
            "Test Mean absolute error: 20035.22\n"
          ]
        }
      ]
    },
    {
      "cell_type": "markdown",
      "source": [
        "###Model 2"
      ],
      "metadata": {
        "id": "daMY6o6X75pV"
      }
    },
    {
      "cell_type": "code",
      "source": [
        "model2 = model_builder(3, 25)\n",
        "model2.summary()"
      ],
      "metadata": {
        "colab": {
          "base_uri": "https://localhost:8080/"
        },
        "id": "JoMJ3MQw76vY",
        "outputId": "1132b6cc-bd5c-4c89-c93a-ea1286d47c87"
      },
      "execution_count": null,
      "outputs": [
        {
          "output_type": "stream",
          "name": "stdout",
          "text": [
            "Model: \"sequential_1\"\n",
            "_________________________________________________________________\n",
            " Layer (type)                Output Shape              Param #   \n",
            "=================================================================\n",
            " dense_4 (Dense)             (None, 25)                1825      \n",
            "                                                                 \n",
            " dense_5 (Dense)             (None, 25)                650       \n",
            "                                                                 \n",
            " dense_6 (Dense)             (None, 25)                650       \n",
            "                                                                 \n",
            " dense_7 (Dense)             (None, 25)                650       \n",
            "                                                                 \n",
            " dense_8 (Dense)             (None, 1)                 26        \n",
            "                                                                 \n",
            "=================================================================\n",
            "Total params: 3,801\n",
            "Trainable params: 3,801\n",
            "Non-trainable params: 0\n",
            "_________________________________________________________________\n"
          ]
        }
      ]
    },
    {
      "cell_type": "code",
      "source": [
        "# Fit your model\n",
        "history2 = model2.fit(X_train, y_train,\n",
        "                                validation_data = (X_test, y_test),\n",
        "                                epochs = 250,\n",
        "                                verbose = 0,\n",
        "                                callbacks = [early_stopping_cb])"
      ],
      "metadata": {
        "id": "HlDUl7bR8XlP"
      },
      "execution_count": null,
      "outputs": []
    },
    {
      "cell_type": "code",
      "source": [
        "plot_history(history2)"
      ],
      "metadata": {
        "colab": {
          "base_uri": "https://localhost:8080/",
          "height": 809
        },
        "id": "Qv2PsxRP8bqs",
        "outputId": "6f8eb706-1011-45d1-c5b6-820b49eb853b"
      },
      "execution_count": null,
      "outputs": [
        {
          "output_type": "display_data",
          "data": {
            "text/plain": [
              "<Figure size 432x288 with 1 Axes>"
            ],
            "image/png": "[encoded data removed]"
          },
          "metadata": {
            "needs_background": "light"
          }
        },
        {
          "output_type": "display_data",
          "data": {
            "text/plain": [
              "<Figure size 432x288 with 1 Axes>"
            ],
            "image/png": "[encoded data removed]"
          },
          "metadata": {
            "needs_background": "light"
          }
        },
        {
          "output_type": "display_data",
          "data": {
            "text/plain": [
              "<Figure size 432x288 with 1 Axes>"
            ],
            "image/png": "[encoded data removed]"
          },
          "metadata": {
            "needs_background": "light"
          }
        }
      ]
    },
    {
      "cell_type": "code",
      "source": [
        "loss, mae, mse= model2.evaluate(X_test, y_test)\n",
        "\n",
        "print(\"Test Mean absolute error: {:5.2f}\".format(mae))"
      ],
      "metadata": {
        "colab": {
          "base_uri": "https://localhost:8080/"
        },
        "id": "gLNuhBlr8eG1",
        "outputId": "aedb36f4-0482-4da0-8cf9-54b03f66cfe6"
      },
      "execution_count": null,
      "outputs": [
        {
          "output_type": "stream",
          "name": "stdout",
          "text": [
            "12/12 [==============================] - 0s 2ms/step - loss: 901376768.0000 - mae: 19040.2324 - mse: 901376768.0000\n",
            "Test Mean absolute error: 19040.23\n"
          ]
        }
      ]
    },
    {
      "cell_type": "markdown",
      "source": [
        "###Model 3"
      ],
      "metadata": {
        "id": "7RF48cS58ooc"
      }
    },
    {
      "cell_type": "code",
      "source": [
        "model3 = model_builder(3, 50)\n",
        "model3.summary()"
      ],
      "metadata": {
        "colab": {
          "base_uri": "https://localhost:8080/"
        },
        "id": "Vhmj3yq28pz3",
        "outputId": "6ab76194-0a51-4563-abbe-ac1346a28546"
      },
      "execution_count": null,
      "outputs": [
        {
          "output_type": "stream",
          "name": "stdout",
          "text": [
            "Model: \"sequential_2\"\n",
            "_________________________________________________________________\n",
            " Layer (type)                Output Shape              Param #   \n",
            "=================================================================\n",
            " dense_9 (Dense)             (None, 50)                3650      \n",
            "                                                                 \n",
            " dense_10 (Dense)            (None, 50)                2550      \n",
            "                                                                 \n",
            " dense_11 (Dense)            (None, 50)                2550      \n",
            "                                                                 \n",
            " dense_12 (Dense)            (None, 50)                2550      \n",
            "                                                                 \n",
            " dense_13 (Dense)            (None, 1)                 51        \n",
            "                                                                 \n",
            "=================================================================\n",
            "Total params: 11,351\n",
            "Trainable params: 11,351\n",
            "Non-trainable params: 0\n",
            "_________________________________________________________________\n"
          ]
        }
      ]
    },
    {
      "cell_type": "code",
      "source": [
        "# Fit your model\n",
        "history3 = model3.fit(X_train, y_train,\n",
        "                                validation_data = (X_test, y_test),\n",
        "                                epochs = 250,\n",
        "                                verbose = 0,\n",
        "                                callbacks = [early_stopping_cb])"
      ],
      "metadata": {
        "id": "0fJGqwu38upj"
      },
      "execution_count": null,
      "outputs": []
    },
    {
      "cell_type": "code",
      "source": [
        "plot_history(history3)"
      ],
      "metadata": {
        "colab": {
          "base_uri": "https://localhost:8080/",
          "height": 809
        },
        "id": "J8BwCA4R8xaQ",
        "outputId": "738b2993-b66e-4f7f-de77-16bbd57cabb7"
      },
      "execution_count": null,
      "outputs": [
        {
          "output_type": "display_data",
          "data": {
            "text/plain": [
              "<Figure size 432x288 with 1 Axes>"
            ],
            "image/png": "[encoded data removed]"
          },
          "metadata": {
            "needs_background": "light"
          }
        },
        {
          "output_type": "display_data",
          "data": {
            "text/plain": [
              "<Figure size 432x288 with 1 Axes>"
            ],
            "image/png": "[encoded data removed]"
          },
          "metadata": {
            "needs_background": "light"
          }
        },
        {
          "output_type": "display_data",
          "data": {
            "text/plain": [
              "<Figure size 432x288 with 1 Axes>"
            ],
            "image/png": "[encoded data removed]"
          },
          "metadata": {
            "needs_background": "light"
          }
        }
      ]
    },
    {
      "cell_type": "code",
      "source": [
        "loss, mae, mse= model3.evaluate(X_test, y_test)\n",
        "\n",
        "print(\"Test Mean absolute error: {:5.2f}\".format(mae))"
      ],
      "metadata": {
        "colab": {
          "base_uri": "https://localhost:8080/"
        },
        "id": "yIgcpNH080EB",
        "outputId": "8a054462-1df8-457b-864c-df3b62e082e4"
      },
      "execution_count": null,
      "outputs": [
        {
          "output_type": "stream",
          "name": "stdout",
          "text": [
            "12/12 [==============================] - 0s 2ms/step - loss: 876091264.0000 - mae: 19448.1914 - mse: 876091264.0000\n",
            "Test Mean absolute error: 19448.19\n"
          ]
        }
      ]
    },
    {
      "cell_type": "markdown",
      "source": [
        "###Final Prediction (Model 2)"
      ],
      "metadata": {
        "id": "FCDisGIL9FHu"
      }
    },
    {
      "cell_type": "code",
      "source": [
        "test_df = pd.read_csv('/content/drive/MyDrive/02. Life/Coding Dojo/00 Datasets/test.csv', index_col = 'Id')\n",
        "test_df.head()"
      ],
      "metadata": {
        "colab": {
          "base_uri": "https://localhost:8080/",
          "height": 331
        },
        "id": "8u-_bQSK9E7d",
        "outputId": "4061282a-3dad-4bd8-8eae-4b07a03ecfa4"
      },
      "execution_count": null,
      "outputs": [
        {
          "output_type": "execute_result",
          "data": {
            "text/plain": [
              "      MSSubClass MSZoning  LotFrontage  LotArea Street Alley LotShape  \\\n",
              "Id                                                                      \n",
              "1461          20       RH         80.0    11622   Pave   NaN      Reg   \n",
              "1462          20       RL         81.0    14267   Pave   NaN      IR1   \n",
              "1463          60       RL         74.0    13830   Pave   NaN      IR1   \n",
              "1464          60       RL         78.0     9978   Pave   NaN      IR1   \n",
              "1465         120       RL         43.0     5005   Pave   NaN      IR1   \n",
              "\n",
              "     LandContour Utilities LotConfig  ... ScreenPorch PoolArea PoolQC  Fence  \\\n",
              "Id                                    ...                                      \n",
              "1461         Lvl    AllPub    Inside  ...         120        0    NaN  MnPrv   \n",
              "1462         Lvl    AllPub    Corner  ...           0        0    NaN    NaN   \n",
              "1463         Lvl    AllPub    Inside  ...           0        0    NaN  MnPrv   \n",
              "1464         Lvl    AllPub    Inside  ...           0        0    NaN    NaN   \n",
              "1465         HLS    AllPub    Inside  ...         144        0    NaN    NaN   \n",
              "\n",
              "     MiscFeature MiscVal  MoSold  YrSold  SaleType  SaleCondition  \n",
              "Id                                                                 \n",
              "1461         NaN       0       6    2010        WD         Normal  \n",
              "1462        Gar2   12500       6    2010        WD         Normal  \n",
              "1463         NaN       0       3    2010        WD         Normal  \n",
              "1464         NaN       0       6    2010        WD         Normal  \n",
              "1465         NaN       0       1    2010        WD         Normal  \n",
              "\n",
              "[5 rows x 79 columns]"
            ],
            "text/html": [
              "\n",
              "  <div id=\"df-fdf02c02-08fc-4bd3-9ae2-d760d37cfacf\">\n",
              "    <div class=\"colab-df-container\">\n",
              "      <div>\n",
              "<style scoped>\n",
              "    .dataframe tbody tr th:only-of-type {\n",
              "        vertical-align: middle;\n",
              "    }\n",
              "\n",
              "    .dataframe tbody tr th {\n",
              "        vertical-align: top;\n",
              "    }\n",
              "\n",
              "    .dataframe thead th {\n",
              "        text-align: right;\n",
              "    }\n",
              "</style>\n",
              "<table border=\"1\" class=\"dataframe\">\n",
              "  <thead>\n",
              "    <tr style=\"text-align: right;\">\n",
              "      <th></th>\n",
              "      <th>MSSubClass</th>\n",
              "      <th>MSZoning</th>\n",
              "      <th>LotFrontage</th>\n",
              "      <th>LotArea</th>\n",
              "      <th>Street</th>\n",
              "      <th>Alley</th>\n",
              "      <th>LotShape</th>\n",
              "      <th>LandContour</th>\n",
              "      <th>Utilities</th>\n",
              "      <th>LotConfig</th>\n",
              "      <th>...</th>\n",
              "      <th>ScreenPorch</th>\n",
              "      <th>PoolArea</th>\n",
              "      <th>PoolQC</th>\n",
              "      <th>Fence</th>\n",
              "      <th>MiscFeature</th>\n",
              "      <th>MiscVal</th>\n",
              "      <th>MoSold</th>\n",
              "      <th>YrSold</th>\n",
              "      <th>SaleType</th>\n",
              "      <th>SaleCondition</th>\n",
              "    </tr>\n",
              "    <tr>\n",
              "      <th>Id</th>\n",
              "      <th></th>\n",
              "      <th></th>\n",
              "      <th></th>\n",
              "      <th></th>\n",
              "      <th></th>\n",
              "      <th></th>\n",
              "      <th></th>\n",
              "      <th></th>\n",
              "      <th></th>\n",
              "      <th></th>\n",
              "      <th></th>\n",
              "      <th></th>\n",
              "      <th></th>\n",
              "      <th></th>\n",
              "      <th></th>\n",
              "      <th></th>\n",
              "      <th></th>\n",
              "      <th></th>\n",
              "      <th></th>\n",
              "      <th></th>\n",
              "      <th></th>\n",
              "    </tr>\n",
              "  </thead>\n",
              "  <tbody>\n",
              "    <tr>\n",
              "      <th>1461</th>\n",
              "      <td>20</td>\n",
              "      <td>RH</td>\n",
              "      <td>80.0</td>\n",
              "      <td>11622</td>\n",
              "      <td>Pave</td>\n",
              "      <td>NaN</td>\n",
              "      <td>Reg</td>\n",
              "      <td>Lvl</td>\n",
              "      <td>AllPub</td>\n",
              "      <td>Inside</td>\n",
              "      <td>...</td>\n",
              "      <td>120</td>\n",
              "      <td>0</td>\n",
              "      <td>NaN</td>\n",
              "      <td>MnPrv</td>\n",
              "      <td>NaN</td>\n",
              "      <td>0</td>\n",
              "      <td>6</td>\n",
              "      <td>2010</td>\n",
              "      <td>WD</td>\n",
              "      <td>Normal</td>\n",
              "    </tr>\n",
              "    <tr>\n",
              "      <th>1462</th>\n",
              "      <td>20</td>\n",
              "      <td>RL</td>\n",
              "      <td>81.0</td>\n",
              "      <td>14267</td>\n",
              "      <td>Pave</td>\n",
              "      <td>NaN</td>\n",
              "      <td>IR1</td>\n",
              "      <td>Lvl</td>\n",
              "      <td>AllPub</td>\n",
              "      <td>Corner</td>\n",
              "      <td>...</td>\n",
              "      <td>0</td>\n",
              "      <td>0</td>\n",
              "      <td>NaN</td>\n",
              "      <td>NaN</td>\n",
              "      <td>Gar2</td>\n",
              "      <td>12500</td>\n",
              "      <td>6</td>\n",
              "      <td>2010</td>\n",
              "      <td>WD</td>\n",
              "      <td>Normal</td>\n",
              "    </tr>\n",
              "    <tr>\n",
              "      <th>1463</th>\n",
              "      <td>60</td>\n",
              "      <td>RL</td>\n",
              "      <td>74.0</td>\n",
              "      <td>13830</td>\n",
              "      <td>Pave</td>\n",
              "      <td>NaN</td>\n",
              "      <td>IR1</td>\n",
              "      <td>Lvl</td>\n",
              "      <td>AllPub</td>\n",
              "      <td>Inside</td>\n",
              "      <td>...</td>\n",
              "      <td>0</td>\n",
              "      <td>0</td>\n",
              "      <td>NaN</td>\n",
              "      <td>MnPrv</td>\n",
              "      <td>NaN</td>\n",
              "      <td>0</td>\n",
              "      <td>3</td>\n",
              "      <td>2010</td>\n",
              "      <td>WD</td>\n",
              "      <td>Normal</td>\n",
              "    </tr>\n",
              "    <tr>\n",
              "      <th>1464</th>\n",
              "      <td>60</td>\n",
              "      <td>RL</td>\n",
              "      <td>78.0</td>\n",
              "      <td>9978</td>\n",
              "      <td>Pave</td>\n",
              "      <td>NaN</td>\n",
              "      <td>IR1</td>\n",
              "      <td>Lvl</td>\n",
              "      <td>AllPub</td>\n",
              "      <td>Inside</td>\n",
              "      <td>...</td>\n",
              "      <td>0</td>\n",
              "      <td>0</td>\n",
              "      <td>NaN</td>\n",
              "      <td>NaN</td>\n",
              "      <td>NaN</td>\n",
              "      <td>0</td>\n",
              "      <td>6</td>\n",
              "      <td>2010</td>\n",
              "      <td>WD</td>\n",
              "      <td>Normal</td>\n",
              "    </tr>\n",
              "    <tr>\n",
              "      <th>1465</th>\n",
              "      <td>120</td>\n",
              "      <td>RL</td>\n",
              "      <td>43.0</td>\n",
              "      <td>5005</td>\n",
              "      <td>Pave</td>\n",
              "      <td>NaN</td>\n",
              "      <td>IR1</td>\n",
              "      <td>HLS</td>\n",
              "      <td>AllPub</td>\n",
              "      <td>Inside</td>\n",
              "      <td>...</td>\n",
              "      <td>144</td>\n",
              "      <td>0</td>\n",
              "      <td>NaN</td>\n",
              "      <td>NaN</td>\n",
              "      <td>NaN</td>\n",
              "      <td>0</td>\n",
              "      <td>1</td>\n",
              "      <td>2010</td>\n",
              "      <td>WD</td>\n",
              "      <td>Normal</td>\n",
              "    </tr>\n",
              "  </tbody>\n",
              "</table>\n",
              "<p>5 rows × 79 columns</p>\n",
              "</div>\n",
              "      <button class=\"colab-df-convert\" onclick=\"convertToInteractive('df-fdf02c02-08fc-4bd3-9ae2-d760d37cfacf')\"\n",
              "              title=\"Convert this dataframe to an interactive table.\"\n",
              "              style=\"display:none;\">\n",
              "        \n",
              "  <svg xmlns=\"http://www.w3.org/2000/svg\" height=\"24px\"viewBox=\"0 0 24 24\"\n",
              "       width=\"24px\">\n",
              "    <path d=\"M0 0h24v24H0V0z\" fill=\"none\"/>\n",
              "    <path d=\"M18.56 5.44l.94 2.06.94-2.06 2.06-.94-2.06-.94-.94-2.06-.94 2.06-2.06.94zm-11 1L8.5 8.5l.94-2.06 2.06-.94-2.06-.94L8.5 2.5l-.94 2.06-2.06.94zm10 10l.94 2.06.94-2.06 2.06-.94-2.06-.94-.94-2.06-.94 2.06-2.06.94z\"/><path d=\"M17.41 7.96l-1.37-1.37c-.4-.4-.92-.59-1.43-.59-.52 0-1.04.2-1.43.59L10.3 9.45l-7.72 7.72c-.78.78-.78 2.05 0 2.83L4 21.41c.39.39.9.59 1.41.59.51 0 1.02-.2 1.41-.59l7.78-7.78 2.81-2.81c.8-.78.8-2.07 0-2.86zM5.41 20L4 18.59l7.72-7.72 1.47 1.35L5.41 20z\"/>\n",
              "  </svg>\n",
              "      </button>\n",
              "      \n",
              "  <style>\n",
              "    .colab-df-container {\n",
              "      display:flex;\n",
              "      flex-wrap:wrap;\n",
              "      gap: 12px;\n",
              "    }\n",
              "\n",
              "    .colab-df-convert {\n",
              "      background-color: #E8F0FE;\n",
              "      border: none;\n",
              "      border-radius: 50%;\n",
              "      cursor: pointer;\n",
              "      display: none;\n",
              "      fill: #1967D2;\n",
              "      height: 32px;\n",
              "      padding: 0 0 0 0;\n",
              "      width: 32px;\n",
              "    }\n",
              "\n",
              "    .colab-df-convert:hover {\n",
              "      background-color: #E2EBFA;\n",
              "      box-shadow: 0px 1px 2px rgba(60, 64, 67, 0.3), 0px 1px 3px 1px rgba(60, 64, 67, 0.15);\n",
              "      fill: #174EA6;\n",
              "    }\n",
              "\n",
              "    [theme=dark] .colab-df-convert {\n",
              "      background-color: #3B4455;\n",
              "      fill: #D2E3FC;\n",
              "    }\n",
              "\n",
              "    [theme=dark] .colab-df-convert:hover {\n",
              "      background-color: #434B5C;\n",
              "      box-shadow: 0px 1px 3px 1px rgba(0, 0, 0, 0.15);\n",
              "      filter: drop-shadow(0px 1px 2px rgba(0, 0, 0, 0.3));\n",
              "      fill: #FFFFFF;\n",
              "    }\n",
              "  </style>\n",
              "\n",
              "      <script>\n",
              "        const buttonEl =\n",
              "          document.querySelector('#df-fdf02c02-08fc-4bd3-9ae2-d760d37cfacf button.colab-df-convert');\n",
              "        buttonEl.style.display =\n",
              "          google.colab.kernel.accessAllowed ? 'block' : 'none';\n",
              "\n",
              "        async function convertToInteractive(key) {\n",
              "          const element = document.querySelector('#df-fdf02c02-08fc-4bd3-9ae2-d760d37cfacf');\n",
              "          const dataTable =\n",
              "            await google.colab.kernel.invokeFunction('convertToInteractive',\n",
              "                                                     [key], {});\n",
              "          if (!dataTable) return;\n",
              "\n",
              "          const docLinkHtml = 'Like what you see? Visit the ' +\n",
              "            '<a target=\"_blank\" href=https://colab.research.google.com/notebooks/data_table.ipynb>data table notebook</a>'\n",
              "            + ' to learn more about interactive tables.';\n",
              "          element.innerHTML = '';\n",
              "          dataTable['output_type'] = 'display_data';\n",
              "          await google.colab.output.renderOutput(dataTable, element);\n",
              "          const docLink = document.createElement('div');\n",
              "          docLink.innerHTML = docLinkHtml;\n",
              "          element.appendChild(docLink);\n",
              "        }\n",
              "      </script>\n",
              "    </div>\n",
              "  </div>\n",
              "  "
            ]
          },
          "metadata": {},
          "execution_count": 96
        }
      ]
    },
    {
      "cell_type": "code",
      "source": [
        "test_df.drop(columns = corr[(corr['SalePrice'] < 0.25) & (corr['SalePrice'] > -0.25)].index, inplace = True)"
      ],
      "metadata": {
        "id": "Zu7Q68km9Prp"
      },
      "execution_count": null,
      "outputs": []
    },
    {
      "cell_type": "code",
      "source": [
        "for col in test_df.select_dtypes(include='object').columns:\n",
        "    test_df[col].fillna('None', inplace = True)"
      ],
      "metadata": {
        "id": "q6uNAIoo9bsf"
      },
      "execution_count": null,
      "outputs": []
    },
    {
      "cell_type": "code",
      "source": [
        "for col in test_df.select_dtypes(include='number').columns:\n",
        "    test_df[col].fillna(0, inplace = True)"
      ],
      "metadata": {
        "id": "w0oFlQ609d6C"
      },
      "execution_count": null,
      "outputs": []
    },
    {
      "cell_type": "code",
      "source": [
        "test_df = preprocessor.transform(test_df)"
      ],
      "metadata": {
        "id": "uJQre5T-9fWA"
      },
      "execution_count": null,
      "outputs": []
    },
    {
      "cell_type": "code",
      "source": [
        "test_pred = model2.predict(test_df).flatten()\n",
        "test_pred"
      ],
      "metadata": {
        "colab": {
          "base_uri": "https://localhost:8080/"
        },
        "id": "7ruTaAAd9grg",
        "outputId": "23e53849-fcf2-4278-e418-72e2e0c8f3a7"
      },
      "execution_count": null,
      "outputs": [
        {
          "output_type": "stream",
          "name": "stdout",
          "text": [
            "46/46 [==============================] - 0s 1ms/step\n"
          ]
        },
        {
          "output_type": "execute_result",
          "data": {
            "text/plain": [
              "array([110092.086, 154182.45 , 170854.05 , ..., 162839.64 , 107624.65 ,\n",
              "       251104.36 ], dtype=float32)"
            ]
          },
          "metadata": {},
          "execution_count": 100
        }
      ]
    },
    {
      "cell_type": "code",
      "source": [
        "id_col = pd.read_csv('/content/drive/MyDrive/02. Life/Coding Dojo/00 Datasets/test.csv')"
      ],
      "metadata": {
        "id": "G5VUUjFd9iTG"
      },
      "execution_count": null,
      "outputs": []
    },
    {
      "cell_type": "code",
      "source": [
        "submission = pd.DataFrame({'Id': id_col['Id'], 'SalePrice': test_pred})\n",
        "submission.head()"
      ],
      "metadata": {
        "colab": {
          "base_uri": "https://localhost:8080/",
          "height": 206
        },
        "id": "uOJiRkn69jup",
        "outputId": "a74dcde8-440b-4f3c-bc00-cd7773048e87"
      },
      "execution_count": null,
      "outputs": [
        {
          "output_type": "execute_result",
          "data": {
            "text/plain": [
              "     Id      SalePrice\n",
              "0  1461  110092.085938\n",
              "1  1462  154182.453125\n",
              "2  1463  170854.046875\n",
              "3  1464  189804.750000\n",
              "4  1465  195924.015625"
            ],
            "text/html": [
              "\n",
              "  <div id=\"df-6ba596ea-f463-4fc9-8adb-520eb822ab79\">\n",
              "    <div class=\"colab-df-container\">\n",
              "      <div>\n",
              "<style scoped>\n",
              "    .dataframe tbody tr th:only-of-type {\n",
              "        vertical-align: middle;\n",
              "    }\n",
              "\n",
              "    .dataframe tbody tr th {\n",
              "        vertical-align: top;\n",
              "    }\n",
              "\n",
              "    .dataframe thead th {\n",
              "        text-align: right;\n",
              "    }\n",
              "</style>\n",
              "<table border=\"1\" class=\"dataframe\">\n",
              "  <thead>\n",
              "    <tr style=\"text-align: right;\">\n",
              "      <th></th>\n",
              "      <th>Id</th>\n",
              "      <th>SalePrice</th>\n",
              "    </tr>\n",
              "  </thead>\n",
              "  <tbody>\n",
              "    <tr>\n",
              "      <th>0</th>\n",
              "      <td>1461</td>\n",
              "      <td>110092.085938</td>\n",
              "    </tr>\n",
              "    <tr>\n",
              "      <th>1</th>\n",
              "      <td>1462</td>\n",
              "      <td>154182.453125</td>\n",
              "    </tr>\n",
              "    <tr>\n",
              "      <th>2</th>\n",
              "      <td>1463</td>\n",
              "      <td>170854.046875</td>\n",
              "    </tr>\n",
              "    <tr>\n",
              "      <th>3</th>\n",
              "      <td>1464</td>\n",
              "      <td>189804.750000</td>\n",
              "    </tr>\n",
              "    <tr>\n",
              "      <th>4</th>\n",
              "      <td>1465</td>\n",
              "      <td>195924.015625</td>\n",
              "    </tr>\n",
              "  </tbody>\n",
              "</table>\n",
              "</div>\n",
              "      <button class=\"colab-df-convert\" onclick=\"convertToInteractive('df-6ba596ea-f463-4fc9-8adb-520eb822ab79')\"\n",
              "              title=\"Convert this dataframe to an interactive table.\"\n",
              "              style=\"display:none;\">\n",
              "        \n",
              "  <svg xmlns=\"http://www.w3.org/2000/svg\" height=\"24px\"viewBox=\"0 0 24 24\"\n",
              "       width=\"24px\">\n",
              "    <path d=\"M0 0h24v24H0V0z\" fill=\"none\"/>\n",
              "    <path d=\"M18.56 5.44l.94 2.06.94-2.06 2.06-.94-2.06-.94-.94-2.06-.94 2.06-2.06.94zm-11 1L8.5 8.5l.94-2.06 2.06-.94-2.06-.94L8.5 2.5l-.94 2.06-2.06.94zm10 10l.94 2.06.94-2.06 2.06-.94-2.06-.94-.94-2.06-.94 2.06-2.06.94z\"/><path d=\"M17.41 7.96l-1.37-1.37c-.4-.4-.92-.59-1.43-.59-.52 0-1.04.2-1.43.59L10.3 9.45l-7.72 7.72c-.78.78-.78 2.05 0 2.83L4 21.41c.39.39.9.59 1.41.59.51 0 1.02-.2 1.41-.59l7.78-7.78 2.81-2.81c.8-.78.8-2.07 0-2.86zM5.41 20L4 18.59l7.72-7.72 1.47 1.35L5.41 20z\"/>\n",
              "  </svg>\n",
              "      </button>\n",
              "      \n",
              "  <style>\n",
              "    .colab-df-container {\n",
              "      display:flex;\n",
              "      flex-wrap:wrap;\n",
              "      gap: 12px;\n",
              "    }\n",
              "\n",
              "    .colab-df-convert {\n",
              "      background-color: #E8F0FE;\n",
              "      border: none;\n",
              "      border-radius: 50%;\n",
              "      cursor: pointer;\n",
              "      display: none;\n",
              "      fill: #1967D2;\n",
              "      height: 32px;\n",
              "      padding: 0 0 0 0;\n",
              "      width: 32px;\n",
              "    }\n",
              "\n",
              "    .colab-df-convert:hover {\n",
              "      background-color: #E2EBFA;\n",
              "      box-shadow: 0px 1px 2px rgba(60, 64, 67, 0.3), 0px 1px 3px 1px rgba(60, 64, 67, 0.15);\n",
              "      fill: #174EA6;\n",
              "    }\n",
              "\n",
              "    [theme=dark] .colab-df-convert {\n",
              "      background-color: #3B4455;\n",
              "      fill: #D2E3FC;\n",
              "    }\n",
              "\n",
              "    [theme=dark] .colab-df-convert:hover {\n",
              "      background-color: #434B5C;\n",
              "      box-shadow: 0px 1px 3px 1px rgba(0, 0, 0, 0.15);\n",
              "      filter: drop-shadow(0px 1px 2px rgba(0, 0, 0, 0.3));\n",
              "      fill: #FFFFFF;\n",
              "    }\n",
              "  </style>\n",
              "\n",
              "      <script>\n",
              "        const buttonEl =\n",
              "          document.querySelector('#df-6ba596ea-f463-4fc9-8adb-520eb822ab79 button.colab-df-convert');\n",
              "        buttonEl.style.display =\n",
              "          google.colab.kernel.accessAllowed ? 'block' : 'none';\n",
              "\n",
              "        async function convertToInteractive(key) {\n",
              "          const element = document.querySelector('#df-6ba596ea-f463-4fc9-8adb-520eb822ab79');\n",
              "          const dataTable =\n",
              "            await google.colab.kernel.invokeFunction('convertToInteractive',\n",
              "                                                     [key], {});\n",
              "          if (!dataTable) return;\n",
              "\n",
              "          const docLinkHtml = 'Like what you see? Visit the ' +\n",
              "            '<a target=\"_blank\" href=https://colab.research.google.com/notebooks/data_table.ipynb>data table notebook</a>'\n",
              "            + ' to learn more about interactive tables.';\n",
              "          element.innerHTML = '';\n",
              "          dataTable['output_type'] = 'display_data';\n",
              "          await google.colab.output.renderOutput(dataTable, element);\n",
              "          const docLink = document.createElement('div');\n",
              "          docLink.innerHTML = docLinkHtml;\n",
              "          element.appendChild(docLink);\n",
              "        }\n",
              "      </script>\n",
              "    </div>\n",
              "  </div>\n",
              "  "
            ]
          },
          "metadata": {},
          "execution_count": 102
        }
      ]
    },
    {
      "cell_type": "code",
      "source": [
        "submission.to_csv('/content/drive/MyDrive/02. Life/Coding Dojo/submission_neural_network_model2.csv', index = False)"
      ],
      "metadata": {
        "id": "R84Ww4wo9lUt"
      },
      "execution_count": null,
      "outputs": []
    },
    {
      "cell_type": "markdown",
      "source": [
        "###Kaggle Submission"
      ],
      "metadata": {
        "id": "UpGRq6Di-DyL"
      }
    },
    {
      "cell_type": "markdown",
      "source": [
        "Public Score: 0.15048"
      ],
      "metadata": {
        "id": "txUO0AQy-FaI"
      }
    },
    {
      "cell_type": "markdown",
      "source": [
        "![image.png](data:image/png;base64,iVBORw0KGgoAAAANSUhEUgAABMkAAAEJCAYAAACOgHCHAAAgAElEQVR4nOzdf1jV9eH38VeCHEU8hIo37kbJwPILlgOaBl9bMEupYWdlWBtE5Y+maeaP1pBV6CpiK6KVWYu0jWTT6MeYlGhz6PSGcglrCt9WsDLZLbcnJY+IniNH7z84wOH3D0HQ83xc17kuzzmf9/vz/rw/B6/r87rePy47d+7cOQEAAAAAAAAubFB/NwAAAAAAAADob4RkAAAAAAAAcHmEZAAAAAAAAHB5hGQAAAAAAABweYRkAAAAAAAAcHmEZAAAAAAAAHB5hGQAAAAAAABweYRkAAAAAAAAcHmEZAAAAAAAAHB5hGQAAAAAAABweYRkfcVSoeI9RSqttPZrM8z7i1T4SYUs9n5tBgAAAAAAwIDm3ie1VtcHRAXl5saPjGOvV/SNYQryNfTuuayVKv77IZ12vB1yRZjC/Hv5HN1VvV3Lblis3FpJCtSSd3K1MvTCt6n0lRjFPlshSTJMf167M2fJ94K3AgAAAAAAYODr3ZCstkKbn1qhlE1laj1+ap1SZVDI3Sl64bE4BXn20jmri7Q2MVkFjrfRvy7Uhjv7OQqqKHYEZJJUodIKixR6odtk1oG/VzS+s+4o1SERkgEAAAAAALSl96Zb1pYo1RSjpDYDsgZWlW5K1s2mDBX37yzEvnXNTK0Mdowc85kh07T+iKZ89YPbZ8goSTIoZPlMhfRDKwAAAAAAAC4GvTaSrHT9CmU2DVySIXiWFtx3myL8DLJWfaTc361XbpkjGatYp6ffjtM78f69dfqBxRCqJbn7lGixymA0yuDWP83wnfWyPp1ukaXOIKOxn6egAgAAAAAADGC9FJKVKP+3lU1v/ZfrndwHFdIYDkUo+vbbFDYnRikl9Z8Uv7VT5fEJCuqdBrTJWm2pH9VmMMrYzemdjWU9jWqVL1ktsjimU7YbgrkZZPTpJJiyW2WxOA2pa+tcbam1qKlYJ+fxNDpGk3Ws8XrVwTV1xOlaulre+Zw9uUcAAAAAAAC9pdemW1prnd7MCHUKyBzcAvWjVSla8tCD9a+o0WqMdqpyNPfKCRrveKV+0rJ2szbPbfp+/NwcmVse4uzgFiXFTtLE8HBNDg/X5EmTNGXBOhW2KlSi1BbntX6+Ucsincr+V7jiX3NMIbVXKvfxOZr8X47vwsM1cUqi1ha1qLiz67GUafPjczR5wqTGeurP5WhnVduXZd6zTnMjJ2n8JKcy4ZM0PnyOUt4ua7WDZXFaJ31mN6vwtRWaHT6h6XrDwzVxQrhmr1zfZjvMby9oXqfdouLXFmjK5KZrmTg5UnNfK2l7R027WYUvLdCUSc3POXnSBE2evUabyyxtXzwAAAAAAEAf6r01yZxt2qDNB1t/bLwuQSuXL3e8ZmhsX5zbsk0pP1yhzWXOi55ZZd6RofiYxcptJ4CSJB3erp/fsUa5Vc5lLSpMm6Off1CpgtUxWpZdomYxTnWR0uPv0dqyLravMkdzI01KalmPcztvMmltSfP2F6fFaEpihgqq2ljMrbpEWY+adMPDWzoOD53VVihrYbTi07aouLrllxYVv5em+JtMSv+k48XjDmycr9lpO2V2DklrzSpIm6PZL5Y0X5+utkSpMZGKz2hxfMNZSzYqKTZai7Z0+SoAAAAAAAB6RS+FZMGKutdpyl/tTiVFT9KUBWuUtaVE5W0FO32k8Pk0ZdUaFXb7PC2ZO0thPk5fVm/Xz5/Z3kY4VW/z6lXKla9CrglWiJ/zFEarch83aVm2VcbAYIVcEyzfZlMDK5T+x50dbFjQVE/h+jUqaAyIAnXXk5nKzspS9m+WK7KhrbVlSn8qR4caDjuYo6dfa1rwzXDdg3ohK0vZWZlac3dw44g8ywertHZPV/raqsLn5ytlR9OxxmkJ9SP84iOapmfWlmntfauU3ypEc9ibpmXPlkg+gW30mVT+0uvNyh567xmndesMCnvo+fprz0zRXcGNV6H8VetUeClv7AAAAAAAAAacXlqTzKDIn72pJX+/R2sbR3BZZd6xUSk7Nta/9fRV2Mx5WvJgnKIDu7JKVs9Ya4O1MvdNLbmmPnRZueIepZrmNIYz1i2v608rZigxoHVZizVMafmZusu/vv2FT8UofoNjrbVqi7znZunDxyLqQylLkVJjE5XZsBTbrjKVK6qTHSTLVJTjlP7MTVFafITjTYQiAw2KX/VnHZe3gkINMluksUbJXLxLxY2FIrTm+eUyOfY8iJwWptFu92jtPyV9J0y+VrOkTjZEOJij9A1Na8gZ4jO1e3WUjI4psktuTdPN8evrQ7raLUrdOF8xDwW3rqfWIu/4TP1ldZR83STZLSp8do7iGwO97Soossh0q1GSWcU7S5rKRqToheWzHKMJIxQZNlqG+17WPkljr/WVtUpSG/cIAAAAAACgL/TedEvPUK3MLVB2UovRWw1qzSp+L01zb47U7FfKujDqqofiH9SCa5xGNHmGauUvEpwOKFFxaTtjye6e6wjIJMmgyJiZTl/6a84dEU3rqBkjFDXD6etKSxeuySjfQKe3mzYoa79Z1oa1u4LnKTs3V3m5WXrhsTiFObJEo49z6FWk19fv1KHG0WhGxTyZq7zcXOW9kqIl0zvfMfRQ0Xan0C1Yyfc1BWSSZIiYp8VRTsfn7FRpmzUFa/59joBMktyMikyYp0inIyy1Db1ilNHP+TLW6/UdlU3X7jNDa3Lrr+OVJx9UNAEZAAAAAAC4gHp3TTI3X0U+8Lze2XtAez98Sy88maCYYF81n4RnVfGzJi3aVNlOJecnenKIWu71aJgYrGin9+Xmtte8ip7Y0V6bQfId0fyTId0ehxeo6DmhTW9rdyrFFKmJEyZpSmyilj21Xpv3VLRa8N4QMUOJTtM7y3+/QN+fNEHjw2MUu2iN0rO3qLSy67Gj+asip3cRmhTY8ghfTXAOGivLdajNXDFCQVe0+MhdrfrfcRWKnJng9F2FshZEa+KECZp8s0mLHs9Q1pYyHWKaJQAAAAAA6Ad9s3C/m0G+gaEyxafolbxCffY/hcr7dZycI6iCp9b3ybpTY/18Oz2m9HD/7aA49u6XtWFucKvg0FxWpNwNaUpKjNHkKYnKLHFqoyFCye+mKKblCL3qCpVu26i1j69Q7PfDFZu8RYfa2lGyJ+0cG+H07oSOt7HQviQNabmLaQcM05KU9+QMtZxsa6koU372OqU8bNL3w01K2tI3ASoAAAAAAEB7eiUks1aWqHBPkeNV0XphfIOvQu5M1SspTuta1RarvL0s5EzP23KoqvOdEUPG9N2aaJ1y81X0Y7n6bF++3vlNipbEz1BIyzXaqouUOnulNjvtxGm4KkGv7D2gv+VmKi1pnkzTWm4eYFXpphWKf7akV6ayHjrkPNpsuLw92z20GwwKin9Zn/5PgfIyU5U8d5YiW440rC3T5ofvUWonu2oCAAAAAAD0pl4JySx/X6f4xETHa76y9p9ffYWfVzT/wF6pir1dK1vwaWmrkMjy950qcHof5Nv5aLM+5xOosFkJWvnky8r7cJ++/J8CbbjXed7jTm0rahH4uRk09poo3fVAkl7IytXeA1/o09wURTsFWIc2trd+WBPfK5xHiRXpQEXLIyp1wHmXTP8gje3NXNHgr5DpcVrw2PPKzivUZ1/sU15KlFNYVqms3WW9eEIAAAAAAICO9UpI5ht2o8Ia31UqfcUaFbRYI8uyf6NSn3UKPjzDFNSwxrynd7MpeKXPpmnzQccbu1kFT61SZjvT/VrJTlO68ygkS5HWvrjd6YAoRYT100iyyi1aZjIp9uZwjb9yghZtcZ5S6a/ohIRmu2MaDQZJVhVnmBRrMmnKpAka//11KnWaUmm8Jk733O5UaIShnTXBmoyNmOF0v8qUmpbTbJqmZc9Gve60EeXYuM527ewCa4nSTSbFxkZq4pUT9P2XnH4LbkaF3B2vu5wOHz2ks6sAAAAAAADoPd1eer5NAXFaEp+mudmOcKpio+Z+f6PkE6gQf4OOVJTJ3CLkClocp8iGHMR4vaJvlXI/cLyv3amk6AlK8TFK1RZZFaigQKm81YintlQoc06kCqbdqEjfSm3dVtLs3Ib4eP3Ir/3Sfco/VGHuZcp1XEf+qnu07PB8zQkeJVWX6c0X05xGgc1QdER9mBfyvTCVv7SxfoRcbYZ+cr9FyffeqLEGqw7tXKeU7KZTdCnQCojTyrnrFb+hfr6rdUeybjYVKXH6WKmySJvfK2maMus5S8kJwe1W1WWGYEWEVWjt7+t/I4cy7lH8ySTNn+Yvg7VSO3+7RlmNB/trzrReOCcAAAAAAEAX9U5IJoOiV72llf+a03wUV3WFSqtbH2289XlteMA5BDHK9OByrf0gQ+VOn1qr66OaoAeeUbLmaG4XQrLox1I09vk1ytqzpVldkqTAefrDqqhOR1r1HX8l/iZVO2OSVVArqbZMuWkrlNvqOKNi0lfJ5Fio3zAtSX94oEizX6vvAMue9Uras75VKUPwg3phXlfCJYMiV7yuNQdNStlRf7+sZVuU2XKGo2ewlvzumdYbBvSIQZE/e1ML9sxRZoUkWVT4WrIKX2t9XMhDz2vBNb1xTgAAAAAAgK7pvd0tPYO15I+FyvvNPMW0XIjewRg6S8lZhfp07SyNbbkrYvCDystP1V3BThGWp6+il2fpDz8LlXdX22GcqTXvP6/EUOc2GBRyd6ry3klSWK8sQH8e/OO0oSBLybeHttrlUTLId/o8vZBXoFdu92/2eVhSrj78zTxF+7UR8fmEypSUpd25y7t+fZ6BSny1UHm/TlBYqxDMqLDbk5T9l1ytvK4XI0XPUCXn5uuFB6JabDrgOGvoLCVnFShveWg/BpkAAAAAAMAVXXbu3LlzfVKz3SqLpWlUmcFolKFlMNaeWoss1m6WaYPVYpHVLsnTKONATF162keO/pEkuRlk7IWLa+yr7rTjfM9ZbWnaZGGg3iMAAAAAAOAS+i4kAwAAAAAAAC4SvTfdEgAAAAAAALhIEZIBAAAAAADA5RGSAQAAAAAAwOURkgEAAAAAAMDlEZIBAAAAAADA5RGSAQAAAAAAwOURkgEAAAAAAMDlEZIBAAAAAADA5RGSAQAAAAAAwOURkgEAAAAAAMDlEZIBAAAAAADA5RGSAQAAAAAAwOURkgEAAAAAAMDlEZIBAAAAAADA5RGSAQAAAAAAwOURkgEAAAAAAMDlEZIBAAAAAADA5RGSAQAAAAAAwOURkgEAAAAAAMDlEZIBAAAAAADA5RGSAQAAAAAAwOURkgEAAAAAAMDlEZIBAAAAAADA5RGSAQAAAAAAwOURkgEAAAAAAMDlEZIBAAAAAADA5RGSAQAAAAAAwOURkgEAAAAAAMDlEZIBAAAAAADA5RGSAQAAAAAAwOURkgEAAAAAAMDlEZIBAAAAAADA5RGSAQAAAAAAwOURkgEAAAAAAMDlEZIBAAAAAADA5RGSAQAAAAAAwOURkgEAAAAAAMDlEZIBAAAAAADA5RGSAQAAAAAAwOURkgEAAAAAAMDlEZIBAAAAAADA5RGSAQAAAAAAwOW59+fJz507J6v1jGxnzqiuzi77WbvOnj3XrToGDbpMboPc5O7uJo/Bg2UwDNZll13WRy1u29mzZ3Xy5CnVnj4tq9Wmuro62e1nL2gbBjo3t0Fyd3eXweAhzyFDNGzYUA0adGEz2oF+nwZCHwEAAAAA4KouO3fuXPdSqV5QV2dX7anTOnXa2if1Dx1ikOfQIXJ3d+uT+hvYbGdUfdwii6VGXsM85Tl0iAxDPDTYfbDc3Ag3nNntZ3Wm7oysp22qPXVaNSdrZTR6ycfbKA+PwX167ovlPvVnHwEAAAAA4OoueEh24mStamtPX5BzeXoO0fBhnn1S9zdHq3XcUiOfy43yNg4fUGHLxcBuP6vjlhOq/tYib6OXRo306ZPzXMz36UL1EQAAAAAAuIAhWV2dXZYTJ3Wmru5CnK7RYHd3GYcP67VRZTbbGVUd+UYGDw+NGulzUYUuA5HdflbfHK2W1WaT3+hRvTZi6lK6T33VRwAAAAAAoMkFCcnOnKnTt5YT3V5vrLcMGnSZLjcO1+DB57cE26nTVh2uOqKRPpfL23t4L7UOknT8+Akdrf5WY/xGa+gQw3nVdanep97sIwAAAAAA0FyfD6+pq7P3a0AmSWfPntO3lhOqq7P3uA6b7YwOVx2R76gRl1TwMlB4ew+X76gROlx1RDbbmR7Xcynfp97qIwAAAAAA0Fqfh2SWEyf7NSBrcPbsOVlOnOxx+aoj32ikz+Ua7jWsF1sFZ8O9hmmkz+WqOvJNj+u41O9Tb/QRAAAAAABorU9DshMnay/4GmQdOVNXpxMna7td7puj1TJ4eFxyI5MGIm/v4TJ4eOibo9XdLusq9+l8+ggAAAAAALStz0Kyujr7BdvFsjtqa093a9qlzXZGxy017Cx4AY0a6aPjlppuTSl0tfvUkz4CAAAAAADt67OQrPbUwAvIGnSnbdXHLfK53HhR7454sXFzGySfy42qPm7pchlXu0896SMAAAAAANC+PkkUzp07p1OnrT2vwHZCJ07Y2v7q2xOyNQwEO3VCJ051v/pTp63qyqaeZ8+elcVSI29jD6bv2a0yV5SocH+lLOfRFQORpWyLMjMylL6lQl26tFqLLN2c5eptHC6LpUZnz57t9Nge3Se7VZZqS+vXRXSzutNHAAAAAACgY30Sklmt5zcFbP9vb9XNNz2hbd+2+kavzrxJrx5wvHv9Jt38+v4+a+PJk6fkNcyz26OTDn2QrNjJkfrJitVKfWy+bvivcC3K7mKgNNB9vl6z57wpS9D1CrvCKEMXihS/GK7JL5Z06zRuboPkNcxTJ092noL26D6VZGhyeHjr17I/y9ytlvaf7vQRAAAAAOAiYm05qOOSSBQGPPe+qNR25jxCMtsn2vbO1bou/P9o256jmhk7svca5nyaM2c0ZIhHh8fUnj4tz6FDulfxwY1a9qhZ97y/T3cFOD4z71TK7PnKvLZAS67pWXsHDItZ5VPilDgrQr59fCrPoUNUe/q0hg/veKfKHt0nSdI8vfPvJIX1rHkDQlf7CAAAAABw8TBvWakpj+5s/qFPqBakv6zkqL5+Gu8qqw6VFMt6RYSCLpHlwftkJFl3FsZvyfaPAv05Mk7J992mT94r0P/txXY560obrVabDJ0Eaa3KfFmh4ikz9IMApw99o7Ty9VRF+tQnv5ZPNio9u0TOq0kd2pahrE+ary9l3rNRqSsTFb8yTVl7WoxvsptVmJ2mZYmJWvbURhVWtWiIpUy5r63RItNipby2RaUtlq6yVOxU1uOLFZu4QqnZRTLbm32pguw1WmRy1G1uamP6H4ul8u1am9HU3kPbMpS+rdK5AhVnZyj/YFd6rH2GIR6yWtueduusJ/epc5XKz9io4soK5WasUHzydpnVcJ8qVb4lQ8sSk5XfcFs66G/LJxuVvq1C5qKNSllkUmbDoLp2+rk7utpHAAAAAICLTFSq9v77C33peH365kyVz03W5pbP//3GosKXEvVWRX+3o/f0SUhmP9vTkOyECre8rcioSH0nPEZ3VuSrsLLzUj3RlTbW1dVpsPvgbtVrGB+osJ052twi8DJeFaEw//rJidavdmntjvJm0y/NJeu086uGT6wqfsmkm9LK5H/rIi2+PVCVaTGKz3b88qwlWmuKUWqpv0wPLNKciZVK/WGishp+mFVbtCh6hYqG3ah7fpagMGuOfhK9RoUN64KVrdNs0zqZpyzWK0/eI/9P1+gnz5bUt8deprWzTVp7JExLXkxV4vgypfwkTcW1kvf46xUR4iv5BCrse9drkp+hse1rS5wTHqu+2LFOxec5b3Gw+2DV1dV1elxP7lPnzCp+KUdP/3yNSsfepsVxwTKq/lrfeiZZKZ/6y/RAnEKMatXfUcOKtCxygXId/3FZv9qlta+t0hNZVoXFJyn6CnXYz93R1T4CAAAAAFzcjMG3yTR9p7YVNT1sW8q2KPPxxYpdtEaZW8pkaRl1dDaApoPyDYN5GgZ8LHp8owoONuQWlcrPWKdt5dK+P2a0Ggh0seqT6ZZnz3a+KH6bvi1U/vaZinl0uOR2jWLuOaqkHf/Snfde3bsNVNfaaLef7f5uiQEJejXbomU/DddaQ7Cip8cpZs5Mma7pxnDI6u3KzPDXL/elyuQYshj5uq8ycw7pkALlvf11pV+xWp+mzpJRkhShN0at1+avKqVAf5XmPK8jS1/XK/GB9YWnRShI0XrivXmKjPeXuaxE5Xcv18pZwZKkxCffVLTFsb6YuVTFFQlauXSWQtwkBaToDzdaZDRIhqsiFGnZJe0JVOS0vp9u6eY2SHZ754vS9+g+SZKKlZWRoQKnT3xvmKfE64yOd2WaMPeAkqc3X3mtNHCuPnssqnE9tuLfrVLpfW/pb/H1/alpERpbN0exvy1STEpE/Wd1M7Vy7TwFuTkKVbXfz93R1T4CAAAAAFz8Ttslo8ExYGXLYt30ordWJiUo2fCNil+7RzcUr9XelIj659WqLVr0w9Wy3Ldai382StayjfpJdLFe2Z2iSM/Oy5tL1umtinIVB8doTnySzH/P0KIfFuuF3c8rxseooO+FKWjnRh0KuV4Rwb5dWrO8LeY965X19w4iNu/rlTi37zMIqY9Csp46uidfO2fH6ZeOTQqvirxNWlWozxOu1lVuHZcdSHwjHlT2vgdlPVim/D05yv1ptJ4IWq4/vDpPIZ6dl7d+Wqz8WSb9ynlOr1+UFjwkSVYV7N0u063PyOj0tW/UPC2RJFVo31+smjDniAr3HGn83nzcqOIj5bLKX77BoQp6dIni3ZM0/4cRCr/KX2Mbfm2+IQoLTNai+6Xke29T5PcCNdZ/oMx37m2+Cvne9Qpx+mSIX/M/a6N3G3/mI7yd/vgrdKBIMq0ObnZI0PeiNHp9icpTIjRakkYa5e38G3apfgYAAAAAnA+rxaxDu9bp9b2ztDLdKNnLtPlZs1a+8bISHeNjIiMCpejV2nxfhBIDpNKc51V635v620MNAzrC9AffdTrwL4t0bWWn5SWp1CdO7yx3DBKZFqTT+yOVX7RaMbcaFTTtegVukHRthCJDe35tvtPmaU7VAt386M5WGx4apqfqw1cvTEAm9VFINmjQZT0YTfZ/VfBeoXSgUN9/x/lzD+UfuF9XTe7FBqq+jZ1pGKXTs1FKkiEgWKaAFJnunqfNC6L1xHsz9U68f6flLNWVktGjnRTWIkuV5O3ZXkZrkbnCoCPlH6noiNPHw6K0ZLy3rJIMwQ/qw8Io5e74s3KfXa9le8yKTM/VK7f7S27BWpJfqOgPtin3gzS9/miRjkQ8r7zfzNLYCxxUdrXve36fxip8WsR5LtxvkbkiTK3yLaOvxlZ2sKNpL/Xz+fw+AQAAAAAD2M5kTbkyuel9YJzS3n1GMT6SKoqVbw3SnMNFKjzccMA3sviUyPylVQqo1L6/SHOecR7QYVDI7cvrB4p0Wt6ROTQbJOKrCVdJ22p7f6fNsXdm6kM1D8rqA7K4C5pF9ElI5jbITWfPdnOdpMpCbau4U2lbFircaQ32r/IWa/FfPtHCydepN5dmdxvUeS+7u7vrTN0Zubl1fdDgoW0ZyjckaIHzbhNu/pr0PX+lHDFL8pdxVOug7LRTd/leHaqxGWUqt0fVT8WTJLtVFotk9PFVUJi/0vdXaE2U04/dapHFbpTR019BEZWy3PigVkZ10G7fYJnig2WKT5I+X6/YmOeVP/15xRglyVchsxIUMitByfYKZd4Ro/RtN+qFW41tVmUcEywddv7EqvbToa47U3dG7u6d/0R7cp96T6BCphcp/58W3eXf1D/W8jIVTg/TCx2W7V4/t6WrfQQAAAAAuMhEpWrvhjj5SrJ8sEJTMvw1KdDx3Gsxq9xgVsXfP5LzcuCGqAfl72VV/YAOo3zbHV/TWfkL/3ztHJSpHwIyqY8W7nd37/5VfL4jW/+aFa3I0cM1/PKm1zVRt+nqLQX6Zy9v4NeVNhoMHrKe7t6JRw+zKH1JsrLKmubTWvZvVPrLUuIN9aFW/eL+2/WnMotkt+rQjjSlbnKq5OqZmu+7Tuk5DbsWWFX++yWa/Ph2WSSFzJgn399maHPD7pG1FcpcFK6f77BI8lVMfII2P52hwoYm2Cu1eUG45r5XKcmq4rRw3fxsUeOCfJYjZlk8R2v0MMn6SZomx6Q1lT15ROZqg0aPbj+4GRsYJsMHf1Z+lSS7RaW/f0apn3ar29pkPW2TwdB5NNqT+9R7jIq+PUH5Geua+sxSpPSnc2S6/cZ2h4T2pJ/brKeLfQQAAAAAuHgZZy5WsjFD6e85Ii3/IEVW+ivqweVaubz5q36d7UCFTC9TUVmLtb5qLbJYu1K+f4y9M1O783K1ux8CMqmPQjKPwd3cadD+LxW+943uvKmN0WL+kZoZ+Lbe3nmit5onqWtt9BwyRLWnTnerXsO0JOWt9lfuPeEaf+UEjb9ygibf92eNfeZNJV/nSGID4vTLJKvWxoZr/IRwLfrnTK1McKrELVCJr65VUI5J4yeFa/KkSZr9fqA2pDgW6g9M0KtrA/XWHRM0MTxcEyfNUf5VmfqlYwSSISpJeT+1KDVygiZHRmriBJPe8ntGa27zl2RQ2NI3NadsiSZPiVFs5CRNfrhM9/xxucLcJMN1y/WHuDIt+m64bo6N1MTvLlFpwltaeV0H1xwxTy9MK9ayyAkaPyFaa40JSp7SrW5rU+2p0/IcMqTT43pyn+qt12zHPWp6pam4m7U06+/wcI2PXKkj9+XqVx2MCOtJP7elq30EAAAAALiIuQXqrocSVLh6nQpqJfnO0D3xOUrNaBoAo4M5mhu+QLmVUsOAjoIXnQZ0mHcqJcakrM+7Ur7rLEd7d19L3+Bg+fbTuvSXnTt3rodbUbbv3LlzOvJNdW9X26tGj/LRZZd1vC7Z2bNnVfHlIV15xdUfLWgAACAASURBVNgerftkrbbI6maQsbtbFjqrtcgio4ztLPhvrbZIRqMMbf2A7FZZLFYZ2vu+1iJLXTvt66xsH7Pbz+rfXx1S4PixGjSo474/3/vUa3rSZ+fRz93pIwAAAADAxcP89gJN+WBG43RLx6faPDdSr38vVx8uCpZqK7T5qRVK2VQpo59VZmuwEp98XmtubVjiyary7FX6yTNbZDUYZbEaZFr1pn4VH1g/mbKT8sVpEzRbb+nLpKZV+YvTJmhtUKE23FnfKusnGZp93zqVjliuvL892GxjvItRn4RkkmQ5cVKnTvf+Ym69YegQg4zDh3Xp2P9nPqrB7u4a4ePdx62Cs2PVx3Wmrk7/y3dkl453xfvU3T4CAAAAAFyCrBZZag0y+rQzQKezwRmdlXchfTb8xHPowJ0C1p22+XgbVf2tRXb72T5sEZzZ7WdV/a1FPt5dnwftavepJ30EAAAAALgEGYwdB1xuBhl9Opi91Fl5F9JnIZm7u5s8PQdeUObpOaRbGwt4eAyWt9FL3xwd2NNHLyXfHK2Wt9FLHh5dX9vO1e5TT/oIAAAAAAC0r08XMho+zFOD3d378hTdMtjdXcOHtbO4VwdGjfSR1WbT8eO9u3kAWjt+/ISsNptGjfTpdllXuU/n00cAAAAAAKBtfb7at3H4MA0a1PEC+RfCoEGXdXkdsrb4jR6lo9Xf6kTNyV5sFZydqDmpo9Xfym/0qB7Xcanfp97oIwAAAAAA0Fqfh2Tu7m663Di8X4OyQYMu0+XG4d2aZtmSh8dgjfEbLfM3xy75kUr94fjxEzJ/c0xj/Eaf1xTCS/k+9VYfAQAAAACA1vpsd8uW6ursspw4qTN1dRfidI0Gu7vLOHzYeQVkzmy2M6o68o0MHh4aNdJHbm59njNe0uz2s/rmaLWsNpv8Ro/qtfDnUrpPfdVHAAAAAACgyQULyRqcOFmr2trTF+Rcnp5DerQGWVd8c7Raxy018rncKG/j8Is6hOkPdvtZHbecUPW3Fnkbvfpsfa2L+T5dqD4CAAAAAAD9EJJJ9aPKak+d1qnT1j6pf+gQgzyHdm8Xy56w2c6o+rhFFkuNvIZ5ynPoEBmGeGiw++CLKoy5EOz2szpTd0bW0zbVnjqtmpO1Mhq95ONt7PORURfLferPPgIAAAAAwNX1S0jW4Ny5c7Jaz8h25ozq6uyyn7Xr7NnuNWfQoMvkNshN7u5u8hg8WAbDYF122YVd/+zs2bM6efKUak+fltVqU11dnez2sxe0DQOdm9sgubu7y2DwkOeQIRo2bKgGDbqwAdVAv08DoY8AAAAAAHBV/RqSAQAAAAAAAAMBw1QAAAAAAADg8gjJAAAAAAAA4PIIyQAAAAAAAODyCMkAAAAAAADg8gjJAAAAAAAA4PIIyQAAAAAAAODyCMkAAAAAAADg8gjJAAAAAAAA4PIIyQAAAAAAAODyCMkAAAAAAADg8gjJAAAAAAAA4PIIyQAAAAAAAODyCMkAAAAAAADg8gjJAAAAAAAA4PIIyQAAAAAAAODyCMkAAAAAAADg8gjJAAAAAAAA4PIIyQAAAAAAAODyCMkAAAAAAADg8tx7o5IvKg72RjUAAAAAAABAn5gQGNDh95edO3fu3AVqCwAAAAAAADAgMd0SAAAAAAAALo+QDAAAAAAAAC6PkAwAAAAAAAAuj5AMAAAAAAAALo+QDAAAAAAAAC6PkAwAAAAAAAAuj5AMAAAAAAAALo+QDAAAAAAAAC6PkAwAAAAAAAAuj5AMAAAAAAAALo+QDAAAAAAAAC6PkAwAAAAAAAAuj5AMAAAAAAAALo+QDAAAAAAAAC6PkAwAAAAAAAAuj5AMAAAAAAAALo+QDAAAAAAAAC7Pvb8bAAAAAAAAgAHCalb5/nIdOe14P2S0JlwTKF9Dv7bqgiAkAwAAAAAAcHWWMm1OW6WUTWWytvF10J2peuGxOIUYL3jLLhimWwIAAAAAALgw6+cbtSjapKRNlQp/IFXvFOzTZ198oS///YU+K3hLaQ9E6MjbyYqNXKCsz9uK0C4NAyYkq/nXVr28IkFzExL08C/eUHFVV0qVaVPCGzpwvicvz9bcmau163hPCteoaM2tSnij/Hxb0fvMW/WrNVt1rI2vjm1drbkJCY7Xz5Txeq4OdKnPe0s3+s1uU02Nren9ed0vAAAAAMCl5MDrCc2fb7P/qsM1XSjYwTNzQ72b9qvnz6D2KhW/8Qs97GjXy1vLVWPvZh0XQmWOFt2xRvnWKK3JK1B2UpzCAowyuNV/bQgI1V1JWdqbn6Jo7VRKzBJtruzfJveVgTHdsuy3Wrj6qBY/96oW+Eo1X+Yqbe4vdGLj07pxREcFrTr6n6788jsx3qSUl2sU4N2Twl6K+OmL+s7QoPNvR2+z23T0SDvfnTqmL0LmauuDUyTV6Gjpbm1aOke7Ht2gxdd5XYDGdaPfzFv1yyelpJdNGiGd5/0CAAAAAFxSaqo0/JZX9XSsn6QaHd7xqn629LCezoxXgFsH5Tp6ZnbUe9QqKbgnz6DHtOsXc/V+8HNKyQySl61K+9Y9ooVfr9bGnwZ3p6I+ZlH+s2tUUBuoBdnpSgxumEtpVn7yfK3VYr2ROkO+kgxXJeiV31Uqds56JaVt0S1rZ+lSm3nptnr16tX93Yhju7P06aSlmnv9CLkN9tBQ32sVfp2XPIf56/Kh0uHtL6l40FRd4VN/fNP7Kv3991/rijtH6tOsbP21uEqG70zUaEfGU1OSo6KTATrzcbbezS/TZQHXaoy9XB9uzNZfi4/JGDhBI4dIGlSlT7P/JcPU8RouSVUlytv0tnb9n3LZxlypsd4e9RUe/1pF72Qpf1eZDnsE6KoxQ+vP88UO7akO0H+NqT+u5su/Km9jnvbs76g9/2hWRyvmcn34p2z9dVeZDruN0VXf8epaHVUf69033tOe8pP6zkibPvpYmvbDiWp5llP/s1WbaiO0MCpAHkO8dPnYEE2bPlL5D72j4XfcoDGDJdlrdLAgRznv79IX//HQd64ao6ENYw/b6Yv2r/9r7dr0bxkG/0Pv//Ef0sQQeR5q6rfD23N00GeMKt99XXm7ynTs8gkKHOUhHS/Ruxve1Z6yL3XUXC7b6Km6YkSL+2Wv0oE/5Sj3L3t0sGaMxgZ4y2NQ0zmNo77W1oY+uXK8hnt0/bcJAAAAABjYjnyUpdJRd+uHoSPkMcRLI/9rojy2/1qfXXm3JnuU6N0/VWnspDHykOqfMRve1/xLH/5N+t6U4/pwQ/0z46iA8bp8SFO9B8claop/y2fQDp6VG32m9582yJQRq4DBbnIb4q2xoVN11VAvXT7GS25SB8+yneUKY3Rs6+vKqxqj8EDvDuvp1MEc/Tx5h47F/1pZiVc7jaSqVfmOP2uvdbJ+NPNqDXN86v6d72nsN+uV++5XGhP7Y03ucGDTxWdATLf08vXT/q05Kv5P05S6EVdPVYCjs4+W5erA0abjm78vUeYLO+QVFafY79r0/vKlyvtP/Te2L3cr87nfar/vdMWGH1PmwoV6+IXdGjPDpAht1cKntqp+HNpRHXi3VEcl6dhf9cvluVJknH5sGqOPHlmqd7+WZC9T1sJUHRhv0o/jpsr2RoIydtsaz/PRl/U12T55SUtTSzXmlnba8/hzKvKdrtm3+OmLZ+bq5U+cphE2qMrVo/c+p6/8btHsuKnS20v1y+3HOq+j7LdKWLpVijApNvSE3s3I1lfduREjpunmyD3a95kk1ejASwuVVjZGM+JMmnT8D7p/eW79MNSO+qLZ9R9T1tyl+rDK0cebnlHaphoFhAdppEfzfjtalq2Xk1/UgatNmn1LgL56LkEZu2skjzG6KjhAXl4BmhQ+RVd4t7hf9irlLX9E79u+q9i4WzSmLFVLXyqRTU3nXJN1TOFxJkWc+pMSfp7b7lBaAAAAAMClwEvDhzv+eeprfbT7azU+ebd8/5+tysz6WleZ4jTDr1RpC1/SgVYT1pyeQVs+Kx97Q/HL23rOHKkx43fr/XfLmqZYeo3TpFC/+rCuxbPs8L2PaOG6+mfZznOFdO0bMUXhV3q1rmdfspauK1EbSUObzMW7VCzprplRar55pa9iUnOVlz5Lvs0+Nyj61gRJZdpZYu7iWS4eAyIk87ghWdnzvZT3+Bzd8qMEPZbenfWxbIqI+6kigvw05ro4Lf+pnzJyShq/HTk9XndcN05jIuP0w/9doxsT79ekceM0af79uuOT8tYh0sFS7ZrwfUVd7SevcT/Q8j9u0B3jJB37Qgfcpipq6jh5+QXrjowPtPyGlkOSvlbeuhLFPv5QU3se9NPLWXsaf6Aj71ioxOvGaUTQLVowP0S79rWxJpefSU/96VUtmB6kEX7Bir19qj4sO9h0TW3WYVPRu7mKeHR1/fUGm7R48fSudqKDh4Z72WSzS/p6q17+T7yefegHCvAbp0n3pyjp8jeUV9ZRX7S8/vv11Kv3a4zdcfXHp+rex+IUERmq1gPoajTStNRxXT/Qgsfj9fkbW3V4qJ8mXRekUd5BCo9sCk4b2Ao36OUxC7X87lCN8QtSxEPJiv3nS8r7Wk3nXHlL/TXMX6h7/7NX+1nLDAAAAAAuKdZTNao5Xv86vONFZf77FkVc3YWCx/1080/jNGmcnwKmP6SkWz5W1vYOAomvt+rlf5r0RMOz8vxUbbh/nKynWh44Tne8mKqwL9/Qwlm3KmHhL7Rpx9eNgVnLZ9mbH31VKeHDZetSrvCQFtwyVWFBI2Qr3KBNE5P184Z6Vq7WjI/fVlEXn3sP/WunpAgFX9HyG7Pyk02KTd6uVlHY+EBFSyr4bACuzX6eBsaaZJJGTL1fT0y9X7Id08Hd2Uqbu1R3bHhRN/t1VjJUVzkta+UxMUThOV/rmEIlqXGhOcdZ5NHO7MZG18bpiT8/orjZGxR+3XRd/0OTYkNHSL7TtWD6I1o6a6uuCp2qG38Qp9jp49Q8Jjuqw1+G6sZxTu2ZEKJrNh1VQxDt3B6vEX46XNbWrhA1Oro7V+/+dbf2HayRao5JUT9o/LbtOo7p6OEgBfg7VePrp1a/807YGv7qjlTpQOluLU3IbvruWI0iblMHfdHG9Y8L1aSmd/Jodz64n8ImOiVg44I06cs9OippTAftrTFX6Zqrg5zuwzhdde3X2nVE0riW5xyhEf/7hE6cksR6ZgAAAABwyTiQs1pLt9b/+zuh8UrJvEUTOlqPrEFQiK5wWpY7IHiqivYcltROGHGkSgeuneb0nOqlMaGhbR/rFaSbVz6rm1dKtq9LlPf6I1pYtkobHgpt/SzrNkITIkdIKulWrlBjrtLh7amaW9j02VHzCC3ohefe41VlKrUe1+nzq+aiMiBCMltNjTTUqz7M8BihgOkP6YljC5Xx8THdbOpsgusxnahR080/VaNvhtfPNe7q8MJm3Px0Y8pG3Wi36diXe/THJxOUMf9PWn6Dlybc/6q2JtpU859SbV+3VA+bX9Qrd49rUYFjJFbDj9Zuk9Wte4tg1ex4Tj8r+r6eXfWiFnt5SJ+8pBv2dKWkTXLeKcNuk1XdOPepEhUVTtWkn0r6QlLUSm14dGobB7bXF5KHR4vr77IqHT4qaXxDW07K1sWmW1vsDmKzdRTGAQAAAAAuNeGJz+nXd3Q6yqY18zE5z6601ZzQmKGGdg+Xm+Rh60LaYLep5pTk5VX/YOsxLlR3pKzU4Vv36POHQvUdN8nabjXdyxUmxT+n38T14Noljb06StJOlX0lyb+zox2+rFCBpOiJA3ADw/M0IKZbHsxK0MNZTsP07F+raGeVJl3pCMjcPHSw3DF/7vjH2rXTufTHer9xKGSNinNy9J0bv6ue7s9YU/KGMnK+ltw8NCLoB4qNGqHDx2qkr7fqV+v2yObmIa9xoYq9+bv63Hy0RekQRczYoU25Te05kJMjW2SourOWne34MY28OlhjHH9MX+zd3YVSfgq/waZNOU1zjw9u36rirp70WJnynnlGRbfE60ZvSSGhumPnjqYhmvYqfZj+koqr1EFfhCg8qvn1Fz11a+N6ZZ3Z9dePG9t+eOtb2h4Vqquk+v8Yjh/TiTa2yh1x3Q2y5eQ0zRn/T6427Zym8IldvXAAAAAAwCXLTdJ/yvWV49n28M4dKnL+/vhWbf/Y8UBpr9L2nL2Kjexg98mJoYrdmd24Rphq9ijj1lQVt5xueXyH0mY/12zaY83He7Tr2iBdIWlEaItn2S+ztWhujg53M1cYcd0Nsm3dqoMNz8s1Jdr0VI6+6OKoId+wGxUmKWvbTrU1z601qwo+2CgpVFGhvp0efbEZECPJJiQ+p5ufekS3/MhLY7yko8dqFJ74nJKuqf9+0h2PaOQjCzU9S/IK+akWREpNK3Tdou97vKS5Pz4o2Wqka5fq6Rk9317Ba8JUjfntUpne9dJI2WQLiNPTKSMkj1Bdb35EcbNf1cihNtncpurZjJZDKj0U9tBz+vyRhTLleGlkQ3seajnarGMjZtyvSQsWKiHXSx52D0VM7dr2sGPiUnXvLxYqbraXRspDVz9o0t2fdFAg92e6Iddx3SNCFTs/VRtucSTBQ6dp8a++0M/u/ZEyvbykmhoNN6XqWT9J9vb7otX1T03Wc5FdGxIW7rFXD//4JVlVo6PeJr343LT6cXC+N+j2a5dq4ezdujd1g+527o5xcXpi/mr9ImGO5OWhozVe+vGvnlNYZ9NqAQAAAACXPt/pWmDaqqU/ulXyHqE7Eqcrwvn7YJMC9i7V3JdsTc+913RQX8Oz8uIf6V0vL9lqpIhHX2z9DDriFq1YVaZf/PhWvTxihDxOHdNhr+l64rlb6gf1tHqWHaN7f5WiMfLQmO7kCuPi9MTdq/WL2fX12Gqkax58Tnd3dVJZwG1aMCtNi7LXKP3WCCVHNI2i8/YLVoh1iIY4HW79JEOp2VYZZt2jW7q7vtNF4LJz586d6+9GNLLVqOaU5OHl1f3pcrYa1chLXt2b2di+UzWqcWujPluNauxe8uoshGmvfDc0m4baHadqZPPoQbnutqOjvujm9R944SbtmvYXLQ61qcbm0Xn/tmS3qaZG8vLurR8AAAAAAMBl9OA52na8RupCfmE7Xl93m8+5HT3LdvO52nbcJo+ePBNX5mhuTLIKaqOUnL9WC65qe7qp9fONWnTHGhUoSmnvZ+qugO6faqAbWCEZXFZjSHZdf7cEAAAAAADXYv18o5b9eI3yqw0Km5uiX9xzm8IC6sMy68ES/emPGUp9rUgWnxla8+YzSgw29nOL+wYhGQaEmvKPdXTEVAX0fKYsAAAAAADoKUuZNqetUsqmsjbWJzMo5O4U/epncQrx6Ye2XSCEZAAAAAAAAKhnNat8f7mOnHa8HzJaE4ID5evZr626IAjJAAAAAAAA4PIG9XcDAAAAAAAAgP5GSAYAAAAAAACXR0gGAAAAAAAAl0dIBgAAAAAAAJdHSAYAAAAAAACXR0gGAAAAAAAAl0dIBgAAAAAAAJdHSAYAAAAAAACXR0gGAAAAAAAAl0dIBgAAAAAAAJdHSAYAAAAAAACXR0gGAAAAAAAAl0dIBgAAAAAAAJdHSAYAAAAAAACXR0gGAAAAAAAAl0dIBgAAAAAAAJdHSAYAAAAAAACX594blXxRcbA3qgEAAAAAAAD6xITAgA6/v+zcuXPnLlBbAAAAAAAAgAGJ6ZYAAAAAAABweYRkAAAAAAAAcHmEZAAAAAAAAHB5hGQAAAAAAABweYRkAAAAAAAAcHmEZAAAAAAAAHB5hGQAAAAAAABweYRkAAAAAAAAcHmEZAAAAAAAAHB5hGQAAAAAAABweYRkAAAAAAAAcHmEZAAAAAAAAHB5hGQAAAAAAABweYRkAAAAAAAAcHmEZAAAAAAAAHB5hGQAAAAAAABweYRkAAAAAAAAcHmEZAAAAAAAAHB5hGQAAAAAAABweYRkAAAAAAAAcHmEZGjFarHIau+DequtvV8pAAAAAABALyAku6hYVJydofSMjSq29M0ZzO8t0OTvhmvKM0XqvUjLquKMGE0MD1f8pspeq/VSZvlko9IzMpS+jf6SKpWf0be/+77T8DebofyD3SnXzjVbypSbsULxJpNiTYuVkr1T5RddnwAAAADAwOTe3w3oEethlX5arH3//khbvz2oQ6cO6pDjq7GDJ2js8Em6Zdz3FRkapqDL+7WlvcyqL3as09qdUfL/cYLCjL1/BoOnrwwyaOxobxl6r1YZhhnq6/Xpg0Zfgqxf7dLal3ZKD0Rp5Uz/fmiBWfnJ87W2NERLXk9VjG8/NMGpLcUvrVOm+u5333ca/malBTcsV0xAV8u1cc2VOZobk6yC2oZjylS6f7uyfpegDW+lKNqnTy4AAAAAAFzGRRWSWQ8Xa/OO1/WaubQxFGvp0JkvdOjYFyo89p70D2nssJv00H8v110hXhe0rRcr48xUffrv1F6vN+SBXH32QK9Xiz50vKpMpftH63gfTL1Fd1mUm5asglqDolPzteFuf8luUeGzcxT/2kalbIxT9EPB/d1IAAAAALioXRzTLc8cVv4f5uu/Ny3X4x0EZG05dPIvenT7D3Xdq+tU+E2ftbBzVUXKenyxYk0mxZoStSxji0qdpkkVv2ZSrMmkpA/MToVKlGkyKda0XsUt66szq/A1x7SrxBXK3NNOudoK5abVnzf+8RyV16p+ylbDZyvXq9CpqPmD5Po2vlbS9KHdrMLsNVpkMjnKZCi3rMUcr55cX4t6Fz2+UYVVzpU6XYe9UgWONscuSmt9/g51rx5L2Ralr0ysPyZxhTJ3VMjiFBR17V45vbeUKGtlYvP7WFWizWnt91dPNLQrs0Q6tCPN0a+LlbqlrFn768/vfL8WK/XtEpkbjjFvV5JpvtL3SlKR0uc3XJdVxRn150gvapqMe+jtxa1/MyXr6j97aqcaLqtlv6a3aFfDby/pg8rG9jfvYyf2SuWuNCnWNEdJb1d0aWpwU/9YVb7F0T+Ja7T5c6tkt6i08bMVyixqcV67RaVbMrQssYO/gfqLbPzbil20ToXmdlrWqr71Kqjo6AdQoSOHghVyzXItudsxstDNqMiEeYqUdKikVO30lFPTOu7/lm2KXbRGWY3/r1hV/MocxZpMStnWvJ0N939udkUnLQAAAACAgW3gjyQ7/Dc9/t7jymr2rOmlsBE36+6gmxV+VYDGjvSSwRH3WWuO6dDBYhWWvKvfHy1V+dn6z82nNuvHb36kBTeu02NhF3hUWeM0KaOCZt6okKMfKf+lFcr9oFzv5C1XmEHSsTKV7pdG1zYvat5fplJFtKjQqqJn71HSHilkhFml+8tUume7in6drw13+juV81fWqgzl7zFI1RZZ9ycr1lKpxMp1yjrsK0NVfdnCf1qVl/+gQtwk1dZ/1nhKe6U2L4xR0g6rjIEzFH2tWYXb1mnZe9tU/k6uVoYaenZ91hKtnX2P0susMvgFK2iEWQXZa5SfvVEL3spV8nWG5texIkO5e4zytZpl3l+mZdt26lBevpZ0cfBMV+sxb1msmx7eLounr0ICfaXy7UpdsEVvPfCW8pJC66egdvFeNZ7z8QzlbrFKCm79e7jGXwZ7eX1/bSxW9u4URXp27ZpacbRr7O9WKH3LLhn9rDJXlan04e0qqMzVh4uCHV2/TrPvyVBpw/lrP1Lmo9uVtS1VH74ap7HtnsCgoKsDVfrSFln+UaGVEcGSzCretl2l+yWpVOUPhCpIUvk/t6l0f5mi7wmR0blfVX9OlW7R2j1blPlnxzmdfnve257X3C1bVC4puratdlhV/Ox8LXuvQkEPvKU1dwZ2bWpwY/+sUvqOXTLIIkttmZLuOK7KhEqt3VgpX0P976J0T5msjb8Ls3IfjtGyDyyST6BC/KUD761T4Xvrlev0N6faIqVEJyqrWvXH1a5X/E9KFN3qfjbVZ/ALVpCv9MW2NM19L6fZb7+5UC3IzdWClj3xVZn2STIE+KujWahN/W+Qb3CgvB39n7X7Ze3+9QwZZVXxs3M0+7UKGfxCFRPhq9KdG5WyLUc70wu04XZfhVwTovJnN6r0g4+0cuYMx/kqVPDmdpXu91fMM4FduQsAAAAAMGAN7JFkh9/X0recAzIPRY56UH+8+z29d+8y3fXfIQrybQrIJMngNUJBITcpMWGddizcpD9eGeb00H9Qmbtu1+OFNRf0MswfbVdBrRSZmqsPX3leL7xVqLzUGYq5XjpU0ZPl8YuUXztPf9ubr7wP9+nT7HkKklUFq9ersFl122WZkq/P9u3TZ//IVKKnZN2yTuV3FOizwkJ9eiBLC/wlVaxT/j/ba3yRtu2wShGpyvvwZb2Q/pb25qYqZmaEVFk/gqcn13fo7WeUXmbV2LlZ2rs7V3l5hfr0/7d393FRl/n+x19n2Zh0aTrhoZWzIG3Ctj/QLUbXgixh2RBLJW1BW4nNG05laZFpxuoaa4fUvCvvtlArgk1ls50gRY0F0wVzBX6uzpwtoDvwAT/niMeJpR32UL8/ZriVu0FNjPfz8fDRzHy/c32v6/p+4bF89nN9rl2zCaSS9Ce3YWmX+bQf+81m/lZSxNHjJWTN8gMq2bivrNO2u9ZDO45iNj6zH/vgSawvKCLXbCb3UB4rogxUvPIk6SfcvJzrmhbvjRwtL+eTjxdjAqo+rMZoCmPBriIOmJ1jfyvZD85msqvwwquw530RQu7JEo4WneR4xmz8gYpN+1xZbNXsfG4dloZQFphd1z9QxFv/MRxHfgppe+zgE80K81YWjAEIY8FWM7nm2ZgAoymMSKAqr5QKAIeF0nzXhU8cpKQWwIblsBUIJiLUp3VeiSC1oIQDZjMHjhawIsrQes02ivK/4IHcEj75uJztv+hYDM1B6bp4fvlKJYaoNLYvDHW7dl7eFyYOHC/h+PESts8wQEMOGz+azPvHizhacvK858JxeDNP77FDxDLnz5w5j+PvpxE5PUPwLwAAH8pJREFU2EHBoucxn3W2a9mWQsZZMESltf5sLhtORYfnprk9w5S1HDpkJtds5mheGpGDO3v2u9FQxprUTBwM57G4sK7noWX+Q1lgLuFornP+UyPA/ofnybACWMl7pRKYzfZDu1i/ZhMHDmWQNDaawLMV2ABD2GQSBwM5eRQ137LPijGfAEbOJkarPUVERERE5ArXf4Nkde+zdNcqzK5MML4TwrwxW3ntgWmE+3r2rg2DL+Gx68iPXURiy1+QjWR8MJcNlsZL0OkueDj/U7I7G/OJauwNEDh9E1uWJxMb3Jfy+AYSH3Jl3wDGsATmhAEN2RRb254XwfgoV5aLMYTgMR0+GxxGRDSAA0dXf5h7XO387/FsduVYqTrrgOFxbNmyjAWTgp1/mLs9vmqK9pQBwcy5Pwyj6/uG0a5xVGdT8GGHcdztyhbyMBIeNR4Ah9vxxR7aKT1IRgP4/CqOyO/asZ+1Y7cb+dkv4oBqii192WkyjDmzI/DxaP3EPyqZ9RkZPDbagMNux15bScVp5zF7w4XvKRp592QCXdlLxrBxxAA0t1tdzL4yYHwcMX4O5xjPOgi8Jw4TkHfc0n3jQ8OICAVOlDp3VTxxhJ3AtFmz8acQ698crYEzv/GMGk7LvDJjBtOaC9d7+DFtVgIAee8doV2YbPosEoM7y4tyUPnaY/xygxWi2mSguSny7vHO73kYGXFzWPvPMJz3XJQUZuIAEhPbXM8vjjnTAfZTUGwHqjl5pBrw47HkNj+bY+OYM7L99Z3t+ZA0ZRwGu+s5+14E8VOA6iOcrOnFIBoqyXj8AdIrDUSu2tp9RmXL/M8laaTr59HDj8QtJRwvMZPoSgAzDAYo5J0dxVTU2nEYwkjJWEvKrDB8ADxCiUkwADkUlzonx/aXg5QCpvgIAnvRbRERERERkf6sfwbJvqrBbF5ORpsA2ZLoVTx1e0Cfdlw03HgPyxPW8VTLlz9j9XsrKai7ON3tic/kZayf5APHNvNEbCQ3jwjix+HxLOtlLaXzhTG83YaHfgSNhG6DXV24uqcFtz6TSF0zCR/K2Ph4LHeOGsEPR4RzX3N9M/oyPhuVxQDXY/heZ+NwBtq6dFUvB9eTDu3YTjlrKtm2JHLzqFEt/8Y8kglA0ac9VX3qjOH8Rc12KzuXxjNmRBA/vmUUN4fH8PTbfWm7F5qDnM1qKykC2JfCXW3GeHPsCmem2cfVPdS28iN8cjDNgZIKSzEOJhHx6HhiBsPOI1awlrETMNwdRgit88r3OuyY+sPhRAJ8ca79c/LdDn1uUUz6K4XOc4f6cH0fAmS90u65sFH1sfOVwav9b5+gH0cAzYHN5mc6EB/vtmf54X9TZ+3Z2JjYZv5HhfNIFkAxle3q8nWiwcrGB2NZlg+Ry8xs+UX3u592Of8GI8brjBgNAKE89loypusq2bk0kbvCR/HjoFHc9cjmdjULTffMxR/YebAUB3aKCguBUGLHXo4dWEVERERERC6uflmTzH5kK8v/pznTK4DEny4l6f9cYB0xo4l5UxZR3pyd9tV7LHzvLv4cf1ufAm9u8fAj9sUiYp+vxlJaRklhAbt25JCxKJZzg4tYf3cX1YSa/tFFg6dx/L3tezune5N90kf+U9ZydPLzVFlLKf3rQQrezMSclcJE+7UcfTEao9vjM2D0A6od8L9tP7dRdRlrfxsGXwNA4MJdvDW9k/pKhm6qPnV5rzqyY06JZfEeA6Z5a3l16jj8fYw49iQxZlGh+51212Aj/kDVlLW8v2Qc13Y87mHotrYVQOBPx+OPlYL/OkjwX6wQkcCo64IxTIH0PcXs9HUGshJvc6Y3Nc8r/9thjmqqnQE7NwT+Kpnww+vIyHqMR25uUw/skjFwrav7/LP9kaqq4nbndf5M2zndbsOQ5vaGs2DXrpYsrnZndHcDGqxsfDCeNcdcAbJf9VyPrcv573je6Lm8dXQ2tk+tnCwrpfCdzWTsW8eMClprFgZHEO+3jjXZB7HM/4KCPUBEHBMCum1aRERERETkitD/Msm+Kmdn6Xst2SymgKdZEu57Ae3VUfpni3M5l+89vHD7FJqrHNlObeWPn15Yd3ujqqwYc9Y2Cux+hIydROKStWxZEgY4MP/VGRUy+joDChV/q2jJqnEcPUhepy1aMR9uE02q3seuHIBJmH50cfvuqC6jKCeT9EN2/EeGETtjMet/t4xwwJFTSgWOXo2vveGYogxAMfsOt1nCePYIefmXZhy9YQwxYQIq3rNw2ujKsrnOiKH6IHtLLVTUOe+Me/eqo0osewAS+HXyJEICjBgHOyi3FPf0xYtjeKizkPy+UioMrWM0/r2UvYctnKztmPvXMegD3BRGzGCoevN5NhVCyDgTPhgYFTYJqreR9pIVmESYyRm+aZ5X9h+kqE2GoOXwOzgA/5+G0LHyWOcimPPQXFJfTHbV4EtlZ19WwLrFSMiYUADy8otbM96arBS97QD8MAX70PaZ3pXf9mezkH2FnbVXSYHF1jr/1xmoOryPEkslpzvOd7OGMtbEOwNkpoW7ug6QOaqxnGhN/2qZ/x3O2oGukyhYOoIf3hhEWjFwtpKi/GzS36nEODyUyF/MJvXVjc6NAirLONncnEcwkff7QUMmGc+aMQMxU8b38v6JiIiIiIj0b/0uk8x+ZAfPNWdsXPVz5t8e0vdMr6/qKPrDE9x/6jN8Pl7Onx64E+PoRJYef5v5doByFh09wr03XOJsMus6nlhahsFsI/Whcfg3WHljWzFgIHGsM+AS+NPxBGKlYnsSd/w1mvAhVgpOGwkEqs5r0A97Zjz3fZhAuI+d0sxMioDAeQ8Q2VMakJsMTRbWPJ5K6eB3sD07l4ihX2DJ2kYRYPjVOEIwcLoX4+vQKuGzlxGZnUJBSiwzLMlMvtlG4cubyQMCF84h5iKPo1cC4vj1f2Ry3yup3DezmpRfjePqymzSX8rB0hBKasEuTLh7rzrywS8UKMvkP9eFsOCn/4atbAv/mX2pB+diCGPOsxHsXJTJI/HnWPBQHIGOg2x9fhtFZw0kZpQQ/iNozXgqJi0llerxk0maEerMMvMIJmwKpGdVU4UfC37qTIdyFvXPoeAscHck4c33sGVetzEr/jRJD4bhU5pN2o5qGDyJlOluVnwPnsv2tDLuTClk8eOZjNqVQOClWnoJ+E95hqTX4knfnsR9ttk8cIcPZbtWsLMaDJOeITEYwEB43FwCX19HaWo8MyoSMHnbKc0s5vRwoLKT9lLjmVGzmDljr6Yieytrcqw4Qpfx/luhnfSikvT4B9hodQBG7HnPcF+7qOxkfmuejQkbOx+JZHEhRK4pYvsUnzbz77zniVH+8GkhGTkOGD6XGBPAafY9nkJGw3BKbY/yQPA1VBVuJgMgdBzhQ1uvFBI9m5AXUjHn7AeiiRl7OX5YRURERERELr5+lklWT0nley3vTP5TCf9+H5tqEyADsP33Uh7KKceBNzGhrdlknDpCyT+7bOWi8J++iazkCIzWbSxOSmTG4yvIqwsl8cU8Use6wnPBs9myfBI+gx3YjuWQV2Vi5YvJjOq0xUDmbNpK+F+3sXFDJkVnDYRM38T2+e7v9NejgAR+l5VMpNFK+qIkZiQ+Sdo+G6YZazmwxLmjXq/G15FfHFt2pzEt2EFRViqLF20mr8aHyMVmch+5XNvkGTAtfIOs5DA47BzLEytyqLhhEqnmN0hsXlLm1r3qyI/EFzcxLRhKNzzJjMREfvOXcfz6ybBLN6wO/H+xkdxVcQR+mkPa44nMWrSNIsJISm97v4zELNzEtGAD9sOZbHy+0LmbJUBz1hjA4PGEN9fcGmoiwlWkPjLitjbLNlvn1WDNYeOiFJbtKMMQmsCWvLXEXNeHMcQtY0WUAcpSeeSFsj7W9uulwaGk/D6DBWMNWHI2s3hRKjuPGTDN2MSBtdGt4wyey++3z8Z0nZ2irM1s3FaK//KtpEZ11R4UvZLCrMQnScupJHDSMnLfSGizG29bdmxWR8vrihNWLO3+Nad6Gbh+qBEwEjjU2PJZ2/lP37CZ9BwrhrHJZP0+GZMBMISRsjuNxFAbeSueZEZiEou3WzFGLeatVzv0aXgE8c1xvEmxRPbh/omIiIiIiPRH//L1119/fbk70cJxhOc2P006AAEsuSeDpL4su+sQIAMwfX85L02/E//vAF9Z2LBhLqtdGwM89fODzBvZeVMXm+OsHYeHAaOx63CWwwGGXka7HHY7DkNz8e1LrMGO3QEGoxFDF5k7vRlf5+0aMF7Xh0HUZjMrPIWCLg4n7SonZbT7zdLkwO4cLMbBXZ/mzr0677t2O47vdt9+s9IVQdz3ShcHI9I4uj2uT0veenW/GpzPWFf33C3N8zr4Yj6zZaTdGO/6vXG+yFVFbP/FRVoQ6LBjb+j+ZwCc80oP57jTntvd7Oq57M38X6I+iYiIiIj0e7Vl7HzzDd4prOTctcOJnPwAiVNC8enufxc32bHsySavwg6EEJ8c3fp/Mp8tI+O1ws43R7s+onW1zoVcv7aQ9DfLnCWmOl4foMlG6duZZLxTSMU58P/JZGLi44gdqRUhnelfQbKP3uDud7diAbhqGm8nzcXk7h/SPQXIAGikaMdd3O8qdh85cgev/fwC6p7J5WMvI2NbF790gJCpycR8C4qKV+1bxy5rFwc7++U6oFSTty7b+XujEz53zCZx9MCdHRERERER6Znj2Aomxm9rs4LGZfhs3jIvxtRJcoPjo2yWPZnKzpZVH7N56+PFzprAAMdW8MP4bZ1fsEOyQ1+uD3byHg/nkZwurt9QRlpsPOnnlQo3EDLvDd5KvgSr0a5w/asm2ZdftP6hOygA/0sSIAPwxN87CGrKAaj6sv4COi2XlTGUxOTOajh9u/iPT2bB+Mvdi/7Kj5jkZGIudzdEREREROTK1FBI2oPOAJUhKpnfL0nAx5bJsgfXUVC5jV8+Y+Loi9HtExNsOTwSk0IBzlVR9rPnF4Fx1Ls+Gzmb9QvHtV/98z3/1vb6cn3AUbiOJ3K6Lj5T+tIDzgCZXwJbfr+YGF8HlswF3JdaiGXD8+ycuqu1rJAA/awmma2uNbiF5zXnRTSrjr6H5e9dfLnXATKnq68a0vK64n9qXKmJIiIiIiIiIjKQ2PZkkdEAEM3KVXMxBRjxHz2X9c9HA+DIyWZvbYcvNf0DguNYkVtE7jOd15i2/3e180XYeGLHhhHe9l+oX0vMo0/XbyhmzW8yceBH0qy4zkZFVaUrgHb3ZGL8DOBhJCRhFokAlFHd1ZKsAaxfBcm6U/Wnp5ny5+Xc/fpmSjsGytwMkImIiIiIiIiIgIOTxwudL6NiCG+zMZXxthgiASjE+rcOGVvXjWe9OY1pwUau7qLl0zbn4kn/a8F2OJM1S1NZtm4bO4+1jU715foOSl9KJb0aDDOWsSCms/IyPpgiXKuu/lJKRZPzpb34IHkAgydhGt5FxwewfrXc0sc7ADjifNP4RcuOdQ7LVh48fsRZd8qxkymvX8OepAcIuYo+B8j+8c8zLa9D/tV3ANdzEhERERERERmo7Jw+5Xo53K/9kkgfPwKBAqDqv+3Q9qjB2GMcwXHOmUl2etMDjGloE+TasI43WmqCuX99R9lmnn6lEgZPYv2TERgqj3R6ff/pm8iqS+GJl1dw183bCLkBKqw2DMOjSVn7PDHaqf48/SvPatA1hDS/tn9GleulIWQOr91yW+vD4tjK3elvYPlnXzPIGqmqK295d/0gr4s2BBEREREREREZ6BwYQuaSOD6YwPGLyS0q4XhJAVnzQjHgcNYE+6znVs7TZCV90WYqMBC5/JnuA11/r8byVwv2BqDBhsVqwwHY62xUf1hN19XMBq7+FSQLCCK85c37lHzUesg/ciVvdwyUbZzStyWWX5VT8v+a3/gy6vtDujtbRERERERERL6lrvZwvfj7ufaBo6Z/tL72wE0GQiYlk7rFTO6aBEKGGjFe50f4/Gd5zA+gjMK/2Ny+fkXms6ypBCKWsXJKu7yzDqrJmBlPWr4NotJ4v7ycTz4u53juYiLPlpGxKJan96g6e0f9K0hmGMHt/9b8poaX/8vS7vB5gbI23KlB5vi/B3j9K9ebq25jVIDnBXRaRERERERERK5MPgSa/JwvD1pbancB8GGZs34Xfphu6i4g1TnHWTv2s3Ycbdv0MOLj39fr2yg5WOY8VpjCmBuD+OGNQfwwfpvrC9u478YgZv3BBrXFFLpOTZwVh78ryGYMnsz4CAAH5n1HtIlhB/0rSIYXo4b/vOWd7ePdFHS4Y/6RK3n75vaBMveK9NeRV/Y2zWXyQq6/jREqSCYiIiIiIiIyIIWMjcMfoHoza9527UjZVM3OdZudZaD84oi8yfmxrSyb9KxibE2dt9Wqkp0PjuLmUaO46/ni1prrJ95hVzGAgcAbfNy+fq95tG4nUPJRZevnDRVUVrheGz1bdtgUp3/5+uuvv77cnWjHYWFD+lxW/9P51idgM8emhpx3WtWfnmbK8SP4u7mLpePYem4/1BwkC2HVlM1Mu+FidV5EREREREREriwOSlfEct8rlYABn+DhXF9XiaXWARhI3F5CaoQB7Pt54pZHMQPhaQVkTXdmgNn+kMSYRYXAbN76eDEmV6v2PU8y5rEcHIBhaDCBPg6qTlRiBwxRazmUPqm5FH/vrt+VYytc2WRtr9+hzag4pgWco+jtHErPAoODSdllJin4ok/mFa2fZZIBhhCmt8kUs332BEuL6s87zf9nK9lx+0q3AmTUvMvCP7dmkZm+P52fKUAmIiIiIiIiMoAZMC18g6zkMIw4sFmtzgDVdaEkbS9oDVB9z4+QYAMwvFfLL413r+VQVjKRQw04aq1YTlRiH+xDZHIGh343qc0KuV5e3+0x7SJ3VQKmoWDLz2Tj9hxKzxrwiZrN9ncVIOtM/8skA/iqBvPricz/n0bXBwEsuTuDJHfTC9uyl7IhM5nVzTmOhnt4bcoiIn0vsK8iIiIiIiIi8u3Q5MBudwYODEYjho4F+5scOP7XgMHduFWDHbvDgPG6Hr7Y0/X7qsGO3XGR2/wW6p9BMoC691n6xlIymgvsE0DirStZHu5+VMvx8bs8l7eKjOYA2XeCmHfHep4yeV2s3oqIiIiIiIiIyBWs/wbJAGreZf6uVZi/av3I3ziXl+6bhulfe/F9Rw1FeatY9HGps9gdcCHBNhERERERERER+XbqfzXJ2vK9h5fil5PYJhuxyr6ZKa/eRdQry8n4czlV9sZ2X3HU11FheY+MzLlE/W4697cNkH0nhHl3XKYAWVM95XvXsCQhgVkJD/PbVz+grsfdMC6uk1sT2HGiFyd+WU/jN9y3b4aVHQkJpBc1dnKskdINCczaau1Ty72d2+7Oq/vgVX77cAKzEhayaW8FnfVSRERERERERC6N717uDvTI906WJ+3g9uylLPl/5a6i+41U/P09lh59D472rhl/4zSWR88l0v8S9rUrTbXkJs/i3aCnWLz6IYYMquPT3RuYmWBldeZMgr6p9cD1tZxx9HzayZfv5eDY93h09KXv0jfLwZlTtex4O5/7wyfQbrFtXT67d9dSHtuLCepML+e2y/OsLzM/w5NladsJGFRLyfoUljSuZlXs0L71R0RERERERETc0v+DZABX+RLzy61E1pSyM38rr9gsbZZPdseTwH+9h/8Inca9P/HFcJny5hqLtrPp+hTM88biCYAXI2a+wOov7+XN/Dh+E+0M19R/8if251o4M2gYYRNjGeGKj9SXZVNyzQT+vTybwgpPRsXNwDSoggPZe/mUQCLiJhB0LXCujN0fDGFigIXd+yv4wnsM902/Fe/OgnBN9XxWaGa/tY5rfjCW6NhQvD2gZv8GdpdBjW0D6RVjuX96KF7d9K23avZncyb0Dhr3Z1NS582I2FjChrWGqTptv/YDduTDxBm3OgNaFXtJPza0pU+NVjM7akJJjBrmRk+CCWvIZv/nE5ja5ms1+7NpDO6wtUdTLSfNeyk+Vc+Q4FiiI4bh1TyXTfWU78+msAJ8x8by7x2u4u581X1Ww8iJ8wny9gSGETY1ik3ZFTTGDnU9MyIiIiIiIiJyKfXv5ZYdGHxNJCZs5vDcHey5fRHLfe8kfFAArclhngQagojxmcbyW1ayZ/q75M98gmm3XL4AGcBHJX9i4l1jzwt2BM39Y0uArPHYBuanWfCdEMfEWxp5N3k+uaec5zV+coj01S9zwieKiaPqSH/4YR5ffwjf6FjC2MvDz+2lHuDLzzmSlcYKM4TFxRLmsZenHs7ms/OWTtZzcsPDrLD6Eh0Xy4hzv2dmspk64Jobx/Cj62HITWMYdZMvnuf1rY4dD8/nQK17c3DGmsWKpVmcuTWOiWGNvJ2UQq6rjS7HPvQaGrPfoeSc87zy/JfJeHkvJ750zev+lznj6W6mVRBTpgeyO7fNssomKwd2BDIlLqjNZ7XkJj/Fu423MDFuAr7WNOZvKHMtgazj4K/jWVsRQHTsHfx7yUtsLGr9al/my3vCszw9wbvlff3HVviBAmQiIiIiIiIi35QrI5OsI4MvIWPuIWTMPSRe7r70wqflgQTEdXfG5+RuLmPis9sJGwYQR/LccmIzDhP9zFgAhkTNYOrooUAc9/zgAxoTZzJiGDBnJlMjD/MpMALgXCj3L5hAgAcwPYXHPrmX3UWxJN/RJtzy+V42nZrBCy/8zJmhNXMZiz9JINcaS2LwrYz4AZwJvhVTqLNvuzd/zv2rXyDMG2Amv5n3GQlmK3c91DHzqo7yD+oYcmtgJ9lr9YTNXMBdgc42kqaaefOv9UwcWtft2MOiLeSWNTIuopYTH0SRFHeIUguEjbZSWjiW2x7qJIxkq6C0zhvTTd7nHwOuCb+X6A1/pHRmMKZB0Fj0R9689U7MXmUt5zQWbWeT78OYp4fiCfjOS6Fm1rPkfr6dqU17ef2Lh1g972d4AwFz5nP/h4f5qOVe9nK+unLKzG8zhrE4PbB354uIiIiIiIjIBbsyg2RXmCG+FZTWAD/o6owz1HwSyrg2y/88g0IYueOMM0MMMLQLOnnjOaiLpkaHOANkzla44aZAdtjqgDYZV6drOWk5xPyErJaPGuvqCZvcVd8s7J6fwJvNH31ZR80dseefeiqftb/O557M3zGxs7G2GcMQn2HU19fT09iDxkSx/7CF5B9/zpEbQ3luDMwqsfLokDIKR9/J9E7moSY/jcfzJ7ArPY5Ot2jwCCYsIoXXC+swTYCD7xzl/sQUPB2tQbJ6Wy0jbwpsk8k1jB/95HMOngaoozwomNYQnDe+P8AVJHNjvjpzysySR/O5c9NLjPDq+XQRERERERERuTgUJPsG3BQczLqjVh4d3T6TqGb3QnZ4PUNyNECjc0fJlppXjTg8+rDYrsYZXGoO4HxRXwfXdtJOxAK2L7q1l41G8eTrCzD1tMHAsDi2FHSbMteFbsYeEkr0qqMUB3+O15hn8Az9HmGbyyj2+YAbxsR2uhzRd/p2Dk3v/opBE2dw5tl8akJg95kZ/GYkcKz9OY4Oy1QbGz3x9ACagMbGDsfavuvlfHVUX8amp/IxrUzrPMgoIiIiIiIiIpfMFVWT7ErlPWEmdxU+y7r81sJU9R9msW6rJ6bR3kAIYdH57DA3H6/nZHY2jeGhdL5gsBvWfIpONTdTRm6uJ7eFdmglJJSphfkUu2p90VTLgTUbKG2+vIcn9eeac9icfTtYWN/y9RrzGtKL3CxK1qUexj5oDLf9ZC/rNn+B6Sde4BGC6UYzm3YYCBt9AalWw6KYOiSL3y7NYkhc1HkZZ96j76AxO5uTzcM+ZWZH4VhG/RjX/GW11Izj3J84mN9+PG7PV72VjOQ1sCCNqTcphUxERERERETkm6ZMsm/CoFCSNi0gY+ks7ljjRZBnPTXXjuXRdc8wzhvAE9O81Xz01MPEZnsxpLEefjKf/5znzq6NLoEB1GxIYFY1NNbDyLmr2+3i6OzPWB5dWc7CX91LupcX1NdzTWwaL7hWZI6YMJP0+fHEFj9F1pKfufqWQOxWL4ZQz5lrY1m92t2C+V3paeyejBo7hpq/BTByqPP9yDFBfFYzhlFuRxDb8mbc5DGseA5eiOikoWFx/GbOs/w6IR68PDlT78X9K1djGgQwlkd/a+HxR+9lt5cXjV5RJM0I5mS78bg3XydffYr0ikZYeC87mj8Mnod5U6z7gVIRERERERERcdu/fP31119f7k4MKE2N1Dd54tXVSsov66n38Or6eHdqzSxaDos3xeL9ZT2Nnl7O5YHdaKyvh0E9n+c6mXr62LfeuJCxXypNjdTXg1dnS1abGqn/Ery66vClni8RERERERERuWiUSfZN8/DEq7uA1CAvLspiu0Fendbr6sjTy42reV6kvnXlYo39YvLwxOvabo511+FLPV8iIiIiIiIictEok+zb5MtaTv4NfhQ6tFcBMhERERERERERcVKQTEREREREREREBjztbikiIiIiIiIiIgOegmQiIiIiIiIiIjLgKUgmIiIiIiIiIiIDnoJkIiIiIiIiIiIy4ClIJiIiIiIiIiIiA56CZCIiIiIiIiIiMuApSCYiIiIiIiIiIgOegmQiIiIiIiIiIjLgKUgmIiIiIiIiIiIDnoJkIiIiIiIiIiIy4ClIJiIiIiIiIiIiA56CZCIiIiIiIiIiMuApSCYiIiIiIiIiIgOegmQiIiIiIiIiIjLgKUgmIiIiIiIiIiIDnoJkIiIiIiIiIiIy4ClIJiIiIiIiIiIiA56CZCIiIiIiIiIiMuApSCYiIiIiIiIiIgOegmQiIiIiIiIiIjLgKUgmIiIiIiIiIiIDnoJkIiIiIiIiIiIy4ClIJiIiIiIiIiIiA97/B4QJ+r66nOE3AAAAAElFTkSuQmCC)"
      ],
      "metadata": {
        "id": "k3HKbP2o-A8z"
      }
    },
    {
      "cell_type": "markdown",
      "source": [
        "---"
      ],
      "metadata": {
        "id": "sczcvZWE5bQw"
      }
    },
    {
      "cell_type": "markdown",
      "source": [
        "###Messing around with hyperparameter tuning (ignore)"
      ],
      "metadata": {
        "id": "s5hKwXL29QNA"
      }
    },
    {
      "cell_type": "code",
      "source": [
        "def model_builder(hp):\n",
        "    model = keras.Sequential()\n",
        "\n",
        "    model.add(Dense(36, input_dim=X_train.shape[1], activation = 'relu'))\n",
        "    model.add(Dense(72, activation = 'relu'))\n",
        "    model.add(Dense(144, activation = 'relu'))\n",
        "    model.add(Dense(288, activation = 'relu'))\n",
        "    model.add(Dense(36, activation = 'relu'))\n",
        "\n",
        "    # Add output layer with 1 node\n",
        "    model.add(Dense(1, activation = 'linear'))\n",
        "\n",
        "  # Tune the learning rate for the optimizer\n",
        "  # Choose an optimal value from 0.01, 0.001, or 0.0001\n",
        "    hp_learning_rate = hp.Choice('learning_rate', values=[1e-2, 1e-3, 1e-4])\n",
        "\n",
        "    model.compile(loss = 'mse', optimizer=keras.optimizers.Adam(learning_rate=hp_learning_rate),\n",
        "                metrics=['mae', 'mse'])\n",
        "\n",
        "    return model"
      ],
      "metadata": {
        "id": "80PHozNHy_8r"
      },
      "execution_count": null,
      "outputs": []
    },
    {
      "cell_type": "code",
      "source": [
        "tuner = kt.Hyperband(model_builder, objective = 'val_mse', max_epochs = 250, executions_per_trial = 2, directory = 'hyperband', project_name = 'houseprices', overwrite = True)"
      ],
      "metadata": {
        "id": "zp9oGO8ixZtS"
      },
      "execution_count": null,
      "outputs": []
    },
    {
      "cell_type": "code",
      "source": [
        "early_stopping_cb = keras.callbacks.EarlyStopping(monitor='val_loss', patience=20, verbose=1, mode='min', restore_best_weights=False)"
      ],
      "metadata": {
        "id": "pf0FAh62unL_"
      },
      "execution_count": null,
      "outputs": []
    },
    {
      "cell_type": "code",
      "source": [
        "tuner.search(x = X_train, y = y_train, epochs = 250, batch_size = 64, validation_data = (X_test, y_test), verbose = 0, callbacks = [early_stopping_cb])"
      ],
      "metadata": {
        "id": "DH-uFbEHyIHR"
      },
      "execution_count": null,
      "outputs": []
    },
    {
      "cell_type": "code",
      "source": [
        "best_hps = tuner.get_best_hyperparameters(num_trials = 1)[0]"
      ],
      "metadata": {
        "id": "oI1e-Qhp0JPC"
      },
      "execution_count": null,
      "outputs": []
    },
    {
      "cell_type": "code",
      "source": [
        "best_model = tuner.get_best_models(num_models = 1)[0]"
      ],
      "metadata": {
        "id": "5X8XSfeP0O7F"
      },
      "execution_count": null,
      "outputs": []
    },
    {
      "cell_type": "code",
      "source": [
        "tuned_model = tuner.hypermodel.build(best_hps)"
      ],
      "metadata": {
        "colab": {
          "base_uri": "https://localhost:8080/"
        },
        "id": "nm0_OWbp0dI9",
        "outputId": "87f3d3fc-755f-4924-ee81-4d4827597573"
      },
      "execution_count": null,
      "outputs": [
        {
          "output_type": "stream",
          "name": "stderr",
          "text": [
            "WARNING:tensorflow:Detecting that an object or model or tf.train.Checkpoint is being deleted with unrestored values. See the following logs for the specific values in question. To silence these warnings, use `status.expect_partial()`. See https://www.tensorflow.org/api_docs/python/tf/train/Checkpoint#restorefor details about the status object returned by the restore function.\n",
            "WARNING:tensorflow:Value in checkpoint could not be found in the restored object: (root).optimizer.iter\n",
            "WARNING:tensorflow:Value in checkpoint could not be found in the restored object: (root).optimizer.beta_1\n",
            "WARNING:tensorflow:Value in checkpoint could not be found in the restored object: (root).optimizer.beta_2\n",
            "WARNING:tensorflow:Value in checkpoint could not be found in the restored object: (root).optimizer.decay\n",
            "WARNING:tensorflow:Value in checkpoint could not be found in the restored object: (root).optimizer.learning_rate\n"
          ]
        }
      ]
    },
    {
      "cell_type": "code",
      "source": [
        "# Fit your model\n",
        "history = tuned_model.fit(X_train, y_train,\n",
        "                                validation_data = (X_test, y_test),\n",
        "                                epochs = 250,\n",
        "                                verbose = 0,\n",
        "                                callbacks = [early_stopping_cb])"
      ],
      "metadata": {
        "colab": {
          "base_uri": "https://localhost:8080/"
        },
        "id": "-99LHzneppoZ",
        "outputId": "69d43205-eae7-406b-eabe-106733f4b5b0"
      },
      "execution_count": null,
      "outputs": [
        {
          "output_type": "stream",
          "name": "stdout",
          "text": [
            "Epoch 30: early stopping\n"
          ]
        }
      ]
    },
    {
      "cell_type": "code",
      "source": [
        "loss, mae, mse= tuned_model.evaluate(X_test, y_test, verbose=2)\n",
        "\n",
        "print(\"Test Mean absolute error: {:5.2f}\".format(mae))"
      ],
      "metadata": {
        "colab": {
          "base_uri": "https://localhost:8080/"
        },
        "id": "paqCFiJTvIqN",
        "outputId": "49ada348-325e-43aa-8fb5-1f70af4e33eb"
      },
      "execution_count": null,
      "outputs": [
        {
          "output_type": "stream",
          "name": "stdout",
          "text": [
            "12/12 - 0s - loss: 1089129728.0000 - mae: 20654.2129 - mse: 1089129728.0000 - 32ms/epoch - 3ms/step\n",
            "Test Mean absolute error: 20654.21\n"
          ]
        }
      ]
    },
    {
      "cell_type": "code",
      "source": [
        "plot_history(history)"
      ],
      "metadata": {
        "colab": {
          "base_uri": "https://localhost:8080/",
          "height": 809
        },
        "id": "RNaxd9SOpuyc",
        "outputId": "4f13c665-1b1d-484a-99fd-ed7591bbdbf8"
      },
      "execution_count": null,
      "outputs": [
        {
          "output_type": "display_data",
          "data": {
            "text/plain": [
              "<Figure size 432x288 with 1 Axes>"
            ],
            "image/png": "[encoded data removed]"
          },
          "metadata": {
            "needs_background": "light"
          }
        },
        {
          "output_type": "display_data",
          "data": {
            "text/plain": [
              "<Figure size 432x288 with 1 Axes>"
            ],
            "image/png": "[encoded data removed]"
          },
          "metadata": {
            "needs_background": "light"
          }
        },
        {
          "output_type": "display_data",
          "data": {
            "text/plain": [
              "<Figure size 432x288 with 1 Axes>"
            ],
            "image/png": "[encoded data removed]"
          },
          "metadata": {
            "needs_background": "light"
          }
        }
      ]
    },
    {
      "cell_type": "markdown",
      "source": [
        "####Tuned Predictions"
      ],
      "metadata": {
        "id": "dB4VZVD19V-L"
      }
    },
    {
      "cell_type": "code",
      "source": [
        "test_df = pd.read_csv('/content/drive/MyDrive/02. Life/Coding Dojo/00 Datasets/test.csv', index_col = 'Id')\n",
        "test_df.head()"
      ],
      "metadata": {
        "colab": {
          "base_uri": "https://localhost:8080/",
          "height": 331
        },
        "id": "4tMqmNAC0_Fj",
        "outputId": "64840688-1ee4-4216-86a9-8143461edc05"
      },
      "execution_count": null,
      "outputs": [
        {
          "output_type": "execute_result",
          "data": {
            "text/plain": [
              "      MSSubClass MSZoning  LotFrontage  LotArea Street Alley LotShape  \\\n",
              "Id                                                                      \n",
              "1461          20       RH         80.0    11622   Pave   NaN      Reg   \n",
              "1462          20       RL         81.0    14267   Pave   NaN      IR1   \n",
              "1463          60       RL         74.0    13830   Pave   NaN      IR1   \n",
              "1464          60       RL         78.0     9978   Pave   NaN      IR1   \n",
              "1465         120       RL         43.0     5005   Pave   NaN      IR1   \n",
              "\n",
              "     LandContour Utilities LotConfig  ... ScreenPorch PoolArea PoolQC  Fence  \\\n",
              "Id                                    ...                                      \n",
              "1461         Lvl    AllPub    Inside  ...         120        0    NaN  MnPrv   \n",
              "1462         Lvl    AllPub    Corner  ...           0        0    NaN    NaN   \n",
              "1463         Lvl    AllPub    Inside  ...           0        0    NaN  MnPrv   \n",
              "1464         Lvl    AllPub    Inside  ...           0        0    NaN    NaN   \n",
              "1465         HLS    AllPub    Inside  ...         144        0    NaN    NaN   \n",
              "\n",
              "     MiscFeature MiscVal  MoSold  YrSold  SaleType  SaleCondition  \n",
              "Id                                                                 \n",
              "1461         NaN       0       6    2010        WD         Normal  \n",
              "1462        Gar2   12500       6    2010        WD         Normal  \n",
              "1463         NaN       0       3    2010        WD         Normal  \n",
              "1464         NaN       0       6    2010        WD         Normal  \n",
              "1465         NaN       0       1    2010        WD         Normal  \n",
              "\n",
              "[5 rows x 79 columns]"
            ],
            "text/html": [
              "\n",
              "  <div id=\"df-0ee2747e-0d0d-4939-acd1-dc24849fa404\">\n",
              "    <div class=\"colab-df-container\">\n",
              "      <div>\n",
              "<style scoped>\n",
              "    .dataframe tbody tr th:only-of-type {\n",
              "        vertical-align: middle;\n",
              "    }\n",
              "\n",
              "    .dataframe tbody tr th {\n",
              "        vertical-align: top;\n",
              "    }\n",
              "\n",
              "    .dataframe thead th {\n",
              "        text-align: right;\n",
              "    }\n",
              "</style>\n",
              "<table border=\"1\" class=\"dataframe\">\n",
              "  <thead>\n",
              "    <tr style=\"text-align: right;\">\n",
              "      <th></th>\n",
              "      <th>MSSubClass</th>\n",
              "      <th>MSZoning</th>\n",
              "      <th>LotFrontage</th>\n",
              "      <th>LotArea</th>\n",
              "      <th>Street</th>\n",
              "      <th>Alley</th>\n",
              "      <th>LotShape</th>\n",
              "      <th>LandContour</th>\n",
              "      <th>Utilities</th>\n",
              "      <th>LotConfig</th>\n",
              "      <th>...</th>\n",
              "      <th>ScreenPorch</th>\n",
              "      <th>PoolArea</th>\n",
              "      <th>PoolQC</th>\n",
              "      <th>Fence</th>\n",
              "      <th>MiscFeature</th>\n",
              "      <th>MiscVal</th>\n",
              "      <th>MoSold</th>\n",
              "      <th>YrSold</th>\n",
              "      <th>SaleType</th>\n",
              "      <th>SaleCondition</th>\n",
              "    </tr>\n",
              "    <tr>\n",
              "      <th>Id</th>\n",
              "      <th></th>\n",
              "      <th></th>\n",
              "      <th></th>\n",
              "      <th></th>\n",
              "      <th></th>\n",
              "      <th></th>\n",
              "      <th></th>\n",
              "      <th></th>\n",
              "      <th></th>\n",
              "      <th></th>\n",
              "      <th></th>\n",
              "      <th></th>\n",
              "      <th></th>\n",
              "      <th></th>\n",
              "      <th></th>\n",
              "      <th></th>\n",
              "      <th></th>\n",
              "      <th></th>\n",
              "      <th></th>\n",
              "      <th></th>\n",
              "      <th></th>\n",
              "    </tr>\n",
              "  </thead>\n",
              "  <tbody>\n",
              "    <tr>\n",
              "      <th>1461</th>\n",
              "      <td>20</td>\n",
              "      <td>RH</td>\n",
              "      <td>80.0</td>\n",
              "      <td>11622</td>\n",
              "      <td>Pave</td>\n",
              "      <td>NaN</td>\n",
              "      <td>Reg</td>\n",
              "      <td>Lvl</td>\n",
              "      <td>AllPub</td>\n",
              "      <td>Inside</td>\n",
              "      <td>...</td>\n",
              "      <td>120</td>\n",
              "      <td>0</td>\n",
              "      <td>NaN</td>\n",
              "      <td>MnPrv</td>\n",
              "      <td>NaN</td>\n",
              "      <td>0</td>\n",
              "      <td>6</td>\n",
              "      <td>2010</td>\n",
              "      <td>WD</td>\n",
              "      <td>Normal</td>\n",
              "    </tr>\n",
              "    <tr>\n",
              "      <th>1462</th>\n",
              "      <td>20</td>\n",
              "      <td>RL</td>\n",
              "      <td>81.0</td>\n",
              "      <td>14267</td>\n",
              "      <td>Pave</td>\n",
              "      <td>NaN</td>\n",
              "      <td>IR1</td>\n",
              "      <td>Lvl</td>\n",
              "      <td>AllPub</td>\n",
              "      <td>Corner</td>\n",
              "      <td>...</td>\n",
              "      <td>0</td>\n",
              "      <td>0</td>\n",
              "      <td>NaN</td>\n",
              "      <td>NaN</td>\n",
              "      <td>Gar2</td>\n",
              "      <td>12500</td>\n",
              "      <td>6</td>\n",
              "      <td>2010</td>\n",
              "      <td>WD</td>\n",
              "      <td>Normal</td>\n",
              "    </tr>\n",
              "    <tr>\n",
              "      <th>1463</th>\n",
              "      <td>60</td>\n",
              "      <td>RL</td>\n",
              "      <td>74.0</td>\n",
              "      <td>13830</td>\n",
              "      <td>Pave</td>\n",
              "      <td>NaN</td>\n",
              "      <td>IR1</td>\n",
              "      <td>Lvl</td>\n",
              "      <td>AllPub</td>\n",
              "      <td>Inside</td>\n",
              "      <td>...</td>\n",
              "      <td>0</td>\n",
              "      <td>0</td>\n",
              "      <td>NaN</td>\n",
              "      <td>MnPrv</td>\n",
              "      <td>NaN</td>\n",
              "      <td>0</td>\n",
              "      <td>3</td>\n",
              "      <td>2010</td>\n",
              "      <td>WD</td>\n",
              "      <td>Normal</td>\n",
              "    </tr>\n",
              "    <tr>\n",
              "      <th>1464</th>\n",
              "      <td>60</td>\n",
              "      <td>RL</td>\n",
              "      <td>78.0</td>\n",
              "      <td>9978</td>\n",
              "      <td>Pave</td>\n",
              "      <td>NaN</td>\n",
              "      <td>IR1</td>\n",
              "      <td>Lvl</td>\n",
              "      <td>AllPub</td>\n",
              "      <td>Inside</td>\n",
              "      <td>...</td>\n",
              "      <td>0</td>\n",
              "      <td>0</td>\n",
              "      <td>NaN</td>\n",
              "      <td>NaN</td>\n",
              "      <td>NaN</td>\n",
              "      <td>0</td>\n",
              "      <td>6</td>\n",
              "      <td>2010</td>\n",
              "      <td>WD</td>\n",
              "      <td>Normal</td>\n",
              "    </tr>\n",
              "    <tr>\n",
              "      <th>1465</th>\n",
              "      <td>120</td>\n",
              "      <td>RL</td>\n",
              "      <td>43.0</td>\n",
              "      <td>5005</td>\n",
              "      <td>Pave</td>\n",
              "      <td>NaN</td>\n",
              "      <td>IR1</td>\n",
              "      <td>HLS</td>\n",
              "      <td>AllPub</td>\n",
              "      <td>Inside</td>\n",
              "      <td>...</td>\n",
              "      <td>144</td>\n",
              "      <td>0</td>\n",
              "      <td>NaN</td>\n",
              "      <td>NaN</td>\n",
              "      <td>NaN</td>\n",
              "      <td>0</td>\n",
              "      <td>1</td>\n",
              "      <td>2010</td>\n",
              "      <td>WD</td>\n",
              "      <td>Normal</td>\n",
              "    </tr>\n",
              "  </tbody>\n",
              "</table>\n",
              "<p>5 rows × 79 columns</p>\n",
              "</div>\n",
              "      <button class=\"colab-df-convert\" onclick=\"convertToInteractive('df-0ee2747e-0d0d-4939-acd1-dc24849fa404')\"\n",
              "              title=\"Convert this dataframe to an interactive table.\"\n",
              "              style=\"display:none;\">\n",
              "        \n",
              "  <svg xmlns=\"http://www.w3.org/2000/svg\" height=\"24px\"viewBox=\"0 0 24 24\"\n",
              "       width=\"24px\">\n",
              "    <path d=\"M0 0h24v24H0V0z\" fill=\"none\"/>\n",
              "    <path d=\"M18.56 5.44l.94 2.06.94-2.06 2.06-.94-2.06-.94-.94-2.06-.94 2.06-2.06.94zm-11 1L8.5 8.5l.94-2.06 2.06-.94-2.06-.94L8.5 2.5l-.94 2.06-2.06.94zm10 10l.94 2.06.94-2.06 2.06-.94-2.06-.94-.94-2.06-.94 2.06-2.06.94z\"/><path d=\"M17.41 7.96l-1.37-1.37c-.4-.4-.92-.59-1.43-.59-.52 0-1.04.2-1.43.59L10.3 9.45l-7.72 7.72c-.78.78-.78 2.05 0 2.83L4 21.41c.39.39.9.59 1.41.59.51 0 1.02-.2 1.41-.59l7.78-7.78 2.81-2.81c.8-.78.8-2.07 0-2.86zM5.41 20L4 18.59l7.72-7.72 1.47 1.35L5.41 20z\"/>\n",
              "  </svg>\n",
              "      </button>\n",
              "      \n",
              "  <style>\n",
              "    .colab-df-container {\n",
              "      display:flex;\n",
              "      flex-wrap:wrap;\n",
              "      gap: 12px;\n",
              "    }\n",
              "\n",
              "    .colab-df-convert {\n",
              "      background-color: #E8F0FE;\n",
              "      border: none;\n",
              "      border-radius: 50%;\n",
              "      cursor: pointer;\n",
              "      display: none;\n",
              "      fill: #1967D2;\n",
              "      height: 32px;\n",
              "      padding: 0 0 0 0;\n",
              "      width: 32px;\n",
              "    }\n",
              "\n",
              "    .colab-df-convert:hover {\n",
              "      background-color: #E2EBFA;\n",
              "      box-shadow: 0px 1px 2px rgba(60, 64, 67, 0.3), 0px 1px 3px 1px rgba(60, 64, 67, 0.15);\n",
              "      fill: #174EA6;\n",
              "    }\n",
              "\n",
              "    [theme=dark] .colab-df-convert {\n",
              "      background-color: #3B4455;\n",
              "      fill: #D2E3FC;\n",
              "    }\n",
              "\n",
              "    [theme=dark] .colab-df-convert:hover {\n",
              "      background-color: #434B5C;\n",
              "      box-shadow: 0px 1px 3px 1px rgba(0, 0, 0, 0.15);\n",
              "      filter: drop-shadow(0px 1px 2px rgba(0, 0, 0, 0.3));\n",
              "      fill: #FFFFFF;\n",
              "    }\n",
              "  </style>\n",
              "\n",
              "      <script>\n",
              "        const buttonEl =\n",
              "          document.querySelector('#df-0ee2747e-0d0d-4939-acd1-dc24849fa404 button.colab-df-convert');\n",
              "        buttonEl.style.display =\n",
              "          google.colab.kernel.accessAllowed ? 'block' : 'none';\n",
              "\n",
              "        async function convertToInteractive(key) {\n",
              "          const element = document.querySelector('#df-0ee2747e-0d0d-4939-acd1-dc24849fa404');\n",
              "          const dataTable =\n",
              "            await google.colab.kernel.invokeFunction('convertToInteractive',\n",
              "                                                     [key], {});\n",
              "          if (!dataTable) return;\n",
              "\n",
              "          const docLinkHtml = 'Like what you see? Visit the ' +\n",
              "            '<a target=\"_blank\" href=https://colab.research.google.com/notebooks/data_table.ipynb>data table notebook</a>'\n",
              "            + ' to learn more about interactive tables.';\n",
              "          element.innerHTML = '';\n",
              "          dataTable['output_type'] = 'display_data';\n",
              "          await google.colab.output.renderOutput(dataTable, element);\n",
              "          const docLink = document.createElement('div');\n",
              "          docLink.innerHTML = docLinkHtml;\n",
              "          element.appendChild(docLink);\n",
              "        }\n",
              "      </script>\n",
              "    </div>\n",
              "  </div>\n",
              "  "
            ]
          },
          "metadata": {},
          "execution_count": 139
        }
      ]
    },
    {
      "cell_type": "code",
      "source": [
        "test_df.drop(columns = corr[(corr['SalePrice'] < 0.25) & (corr['SalePrice'] > -0.25)].index, inplace = True)"
      ],
      "metadata": {
        "id": "Ww9LIRXH1Ajm"
      },
      "execution_count": null,
      "outputs": []
    },
    {
      "cell_type": "code",
      "source": [
        "test_df.head()"
      ],
      "metadata": {
        "colab": {
          "base_uri": "https://localhost:8080/",
          "height": 331
        },
        "id": "zx6n-bMX1B2f",
        "outputId": "6e3b6b01-58ce-4320-8de0-f5e50087ce5f"
      },
      "execution_count": null,
      "outputs": [
        {
          "output_type": "execute_result",
          "data": {
            "text/plain": [
              "      LotFrontage  LotArea LotShape  OverallQual  YearBuilt  YearRemodAdd  \\\n",
              "Id                                                                          \n",
              "1461         80.0    11622      Reg            5       1961          1961   \n",
              "1462         81.0    14267      IR1            6       1958          1958   \n",
              "1463         74.0    13830      IR1            5       1997          1998   \n",
              "1464         78.0     9978      IR1            6       1998          1998   \n",
              "1465         43.0     5005      IR1            8       1992          1992   \n",
              "\n",
              "      MasVnrArea ExterQual Foundation BsmtQual  ... TotRmsAbvGrd  Fireplaces  \\\n",
              "Id                                              ...                            \n",
              "1461         0.0        TA     CBlock       TA  ...            5           0   \n",
              "1462       108.0        TA     CBlock       TA  ...            6           0   \n",
              "1463         0.0        TA      PConc       Gd  ...            6           1   \n",
              "1464        20.0        TA      PConc       TA  ...            7           1   \n",
              "1465         0.0        Gd      PConc       Gd  ...            5           0   \n",
              "\n",
              "      FireplaceQu GarageType GarageYrBlt  GarageFinish  GarageCars  \\\n",
              "Id                                                                   \n",
              "1461          NaN     Attchd      1961.0           Unf         1.0   \n",
              "1462          NaN     Attchd      1958.0           Unf         1.0   \n",
              "1463           TA     Attchd      1997.0           Fin         2.0   \n",
              "1464           Gd     Attchd      1998.0           Fin         2.0   \n",
              "1465          NaN     Attchd      1992.0           RFn         2.0   \n",
              "\n",
              "      GarageArea  WoodDeckSF  OpenPorchSF  \n",
              "Id                                         \n",
              "1461       730.0         140            0  \n",
              "1462       312.0         393           36  \n",
              "1463       482.0         212           34  \n",
              "1464       470.0         360           36  \n",
              "1465       506.0           0           82  \n",
              "\n",
              "[5 rows x 31 columns]"
            ],
            "text/html": [
              "\n",
              "  <div id=\"df-57e75480-b468-4153-806b-8c86d32012a5\">\n",
              "    <div class=\"colab-df-container\">\n",
              "      <div>\n",
              "<style scoped>\n",
              "    .dataframe tbody tr th:only-of-type {\n",
              "        vertical-align: middle;\n",
              "    }\n",
              "\n",
              "    .dataframe tbody tr th {\n",
              "        vertical-align: top;\n",
              "    }\n",
              "\n",
              "    .dataframe thead th {\n",
              "        text-align: right;\n",
              "    }\n",
              "</style>\n",
              "<table border=\"1\" class=\"dataframe\">\n",
              "  <thead>\n",
              "    <tr style=\"text-align: right;\">\n",
              "      <th></th>\n",
              "      <th>LotFrontage</th>\n",
              "      <th>LotArea</th>\n",
              "      <th>LotShape</th>\n",
              "      <th>OverallQual</th>\n",
              "      <th>YearBuilt</th>\n",
              "      <th>YearRemodAdd</th>\n",
              "      <th>MasVnrArea</th>\n",
              "      <th>ExterQual</th>\n",
              "      <th>Foundation</th>\n",
              "      <th>BsmtQual</th>\n",
              "      <th>...</th>\n",
              "      <th>TotRmsAbvGrd</th>\n",
              "      <th>Fireplaces</th>\n",
              "      <th>FireplaceQu</th>\n",
              "      <th>GarageType</th>\n",
              "      <th>GarageYrBlt</th>\n",
              "      <th>GarageFinish</th>\n",
              "      <th>GarageCars</th>\n",
              "      <th>GarageArea</th>\n",
              "      <th>WoodDeckSF</th>\n",
              "      <th>OpenPorchSF</th>\n",
              "    </tr>\n",
              "    <tr>\n",
              "      <th>Id</th>\n",
              "      <th></th>\n",
              "      <th></th>\n",
              "      <th></th>\n",
              "      <th></th>\n",
              "      <th></th>\n",
              "      <th></th>\n",
              "      <th></th>\n",
              "      <th></th>\n",
              "      <th></th>\n",
              "      <th></th>\n",
              "      <th></th>\n",
              "      <th></th>\n",
              "      <th></th>\n",
              "      <th></th>\n",
              "      <th></th>\n",
              "      <th></th>\n",
              "      <th></th>\n",
              "      <th></th>\n",
              "      <th></th>\n",
              "      <th></th>\n",
              "      <th></th>\n",
              "    </tr>\n",
              "  </thead>\n",
              "  <tbody>\n",
              "    <tr>\n",
              "      <th>1461</th>\n",
              "      <td>80.0</td>\n",
              "      <td>11622</td>\n",
              "      <td>Reg</td>\n",
              "      <td>5</td>\n",
              "      <td>1961</td>\n",
              "      <td>1961</td>\n",
              "      <td>0.0</td>\n",
              "      <td>TA</td>\n",
              "      <td>CBlock</td>\n",
              "      <td>TA</td>\n",
              "      <td>...</td>\n",
              "      <td>5</td>\n",
              "      <td>0</td>\n",
              "      <td>NaN</td>\n",
              "      <td>Attchd</td>\n",
              "      <td>1961.0</td>\n",
              "      <td>Unf</td>\n",
              "      <td>1.0</td>\n",
              "      <td>730.0</td>\n",
              "      <td>140</td>\n",
              "      <td>0</td>\n",
              "    </tr>\n",
              "    <tr>\n",
              "      <th>1462</th>\n",
              "      <td>81.0</td>\n",
              "      <td>14267</td>\n",
              "      <td>IR1</td>\n",
              "      <td>6</td>\n",
              "      <td>1958</td>\n",
              "      <td>1958</td>\n",
              "      <td>108.0</td>\n",
              "      <td>TA</td>\n",
              "      <td>CBlock</td>\n",
              "      <td>TA</td>\n",
              "      <td>...</td>\n",
              "      <td>6</td>\n",
              "      <td>0</td>\n",
              "      <td>NaN</td>\n",
              "      <td>Attchd</td>\n",
              "      <td>1958.0</td>\n",
              "      <td>Unf</td>\n",
              "      <td>1.0</td>\n",
              "      <td>312.0</td>\n",
              "      <td>393</td>\n",
              "      <td>36</td>\n",
              "    </tr>\n",
              "    <tr>\n",
              "      <th>1463</th>\n",
              "      <td>74.0</td>\n",
              "      <td>13830</td>\n",
              "      <td>IR1</td>\n",
              "      <td>5</td>\n",
              "      <td>1997</td>\n",
              "      <td>1998</td>\n",
              "      <td>0.0</td>\n",
              "      <td>TA</td>\n",
              "      <td>PConc</td>\n",
              "      <td>Gd</td>\n",
              "      <td>...</td>\n",
              "      <td>6</td>\n",
              "      <td>1</td>\n",
              "      <td>TA</td>\n",
              "      <td>Attchd</td>\n",
              "      <td>1997.0</td>\n",
              "      <td>Fin</td>\n",
              "      <td>2.0</td>\n",
              "      <td>482.0</td>\n",
              "      <td>212</td>\n",
              "      <td>34</td>\n",
              "    </tr>\n",
              "    <tr>\n",
              "      <th>1464</th>\n",
              "      <td>78.0</td>\n",
              "      <td>9978</td>\n",
              "      <td>IR1</td>\n",
              "      <td>6</td>\n",
              "      <td>1998</td>\n",
              "      <td>1998</td>\n",
              "      <td>20.0</td>\n",
              "      <td>TA</td>\n",
              "      <td>PConc</td>\n",
              "      <td>TA</td>\n",
              "      <td>...</td>\n",
              "      <td>7</td>\n",
              "      <td>1</td>\n",
              "      <td>Gd</td>\n",
              "      <td>Attchd</td>\n",
              "      <td>1998.0</td>\n",
              "      <td>Fin</td>\n",
              "      <td>2.0</td>\n",
              "      <td>470.0</td>\n",
              "      <td>360</td>\n",
              "      <td>36</td>\n",
              "    </tr>\n",
              "    <tr>\n",
              "      <th>1465</th>\n",
              "      <td>43.0</td>\n",
              "      <td>5005</td>\n",
              "      <td>IR1</td>\n",
              "      <td>8</td>\n",
              "      <td>1992</td>\n",
              "      <td>1992</td>\n",
              "      <td>0.0</td>\n",
              "      <td>Gd</td>\n",
              "      <td>PConc</td>\n",
              "      <td>Gd</td>\n",
              "      <td>...</td>\n",
              "      <td>5</td>\n",
              "      <td>0</td>\n",
              "      <td>NaN</td>\n",
              "      <td>Attchd</td>\n",
              "      <td>1992.0</td>\n",
              "      <td>RFn</td>\n",
              "      <td>2.0</td>\n",
              "      <td>506.0</td>\n",
              "      <td>0</td>\n",
              "      <td>82</td>\n",
              "    </tr>\n",
              "  </tbody>\n",
              "</table>\n",
              "<p>5 rows × 31 columns</p>\n",
              "</div>\n",
              "      <button class=\"colab-df-convert\" onclick=\"convertToInteractive('df-57e75480-b468-4153-806b-8c86d32012a5')\"\n",
              "              title=\"Convert this dataframe to an interactive table.\"\n",
              "              style=\"display:none;\">\n",
              "        \n",
              "  <svg xmlns=\"http://www.w3.org/2000/svg\" height=\"24px\"viewBox=\"0 0 24 24\"\n",
              "       width=\"24px\">\n",
              "    <path d=\"M0 0h24v24H0V0z\" fill=\"none\"/>\n",
              "    <path d=\"M18.56 5.44l.94 2.06.94-2.06 2.06-.94-2.06-.94-.94-2.06-.94 2.06-2.06.94zm-11 1L8.5 8.5l.94-2.06 2.06-.94-2.06-.94L8.5 2.5l-.94 2.06-2.06.94zm10 10l.94 2.06.94-2.06 2.06-.94-2.06-.94-.94-2.06-.94 2.06-2.06.94z\"/><path d=\"M17.41 7.96l-1.37-1.37c-.4-.4-.92-.59-1.43-.59-.52 0-1.04.2-1.43.59L10.3 9.45l-7.72 7.72c-.78.78-.78 2.05 0 2.83L4 21.41c.39.39.9.59 1.41.59.51 0 1.02-.2 1.41-.59l7.78-7.78 2.81-2.81c.8-.78.8-2.07 0-2.86zM5.41 20L4 18.59l7.72-7.72 1.47 1.35L5.41 20z\"/>\n",
              "  </svg>\n",
              "      </button>\n",
              "      \n",
              "  <style>\n",
              "    .colab-df-container {\n",
              "      display:flex;\n",
              "      flex-wrap:wrap;\n",
              "      gap: 12px;\n",
              "    }\n",
              "\n",
              "    .colab-df-convert {\n",
              "      background-color: #E8F0FE;\n",
              "      border: none;\n",
              "      border-radius: 50%;\n",
              "      cursor: pointer;\n",
              "      display: none;\n",
              "      fill: #1967D2;\n",
              "      height: 32px;\n",
              "      padding: 0 0 0 0;\n",
              "      width: 32px;\n",
              "    }\n",
              "\n",
              "    .colab-df-convert:hover {\n",
              "      background-color: #E2EBFA;\n",
              "      box-shadow: 0px 1px 2px rgba(60, 64, 67, 0.3), 0px 1px 3px 1px rgba(60, 64, 67, 0.15);\n",
              "      fill: #174EA6;\n",
              "    }\n",
              "\n",
              "    [theme=dark] .colab-df-convert {\n",
              "      background-color: #3B4455;\n",
              "      fill: #D2E3FC;\n",
              "    }\n",
              "\n",
              "    [theme=dark] .colab-df-convert:hover {\n",
              "      background-color: #434B5C;\n",
              "      box-shadow: 0px 1px 3px 1px rgba(0, 0, 0, 0.15);\n",
              "      filter: drop-shadow(0px 1px 2px rgba(0, 0, 0, 0.3));\n",
              "      fill: #FFFFFF;\n",
              "    }\n",
              "  </style>\n",
              "\n",
              "      <script>\n",
              "        const buttonEl =\n",
              "          document.querySelector('#df-57e75480-b468-4153-806b-8c86d32012a5 button.colab-df-convert');\n",
              "        buttonEl.style.display =\n",
              "          google.colab.kernel.accessAllowed ? 'block' : 'none';\n",
              "\n",
              "        async function convertToInteractive(key) {\n",
              "          const element = document.querySelector('#df-57e75480-b468-4153-806b-8c86d32012a5');\n",
              "          const dataTable =\n",
              "            await google.colab.kernel.invokeFunction('convertToInteractive',\n",
              "                                                     [key], {});\n",
              "          if (!dataTable) return;\n",
              "\n",
              "          const docLinkHtml = 'Like what you see? Visit the ' +\n",
              "            '<a target=\"_blank\" href=https://colab.research.google.com/notebooks/data_table.ipynb>data table notebook</a>'\n",
              "            + ' to learn more about interactive tables.';\n",
              "          element.innerHTML = '';\n",
              "          dataTable['output_type'] = 'display_data';\n",
              "          await google.colab.output.renderOutput(dataTable, element);\n",
              "          const docLink = document.createElement('div');\n",
              "          docLink.innerHTML = docLinkHtml;\n",
              "          element.appendChild(docLink);\n",
              "        }\n",
              "      </script>\n",
              "    </div>\n",
              "  </div>\n",
              "  "
            ]
          },
          "metadata": {},
          "execution_count": 141
        }
      ]
    },
    {
      "cell_type": "code",
      "source": [
        "for col in test_df.select_dtypes(include='object').columns:\n",
        "    test_df[col].fillna('None', inplace = True)"
      ],
      "metadata": {
        "id": "pW03kt9w1Jdp"
      },
      "execution_count": null,
      "outputs": []
    },
    {
      "cell_type": "code",
      "source": [
        "for col in test_df.select_dtypes(include='number').columns:\n",
        "    test_df[col].fillna(0, inplace = True)"
      ],
      "metadata": {
        "id": "MNnebaF61LJo"
      },
      "execution_count": null,
      "outputs": []
    },
    {
      "cell_type": "code",
      "source": [
        "test_df = preprocessor.transform(test_df)"
      ],
      "metadata": {
        "id": "HH2tWdWc1cGC"
      },
      "execution_count": null,
      "outputs": []
    },
    {
      "cell_type": "code",
      "source": [
        "test_pred = tuned_model.predict(test_df).flatten()\n",
        "test_pred"
      ],
      "metadata": {
        "colab": {
          "base_uri": "https://localhost:8080/"
        },
        "id": "qoeGPOUU1MPP",
        "outputId": "9e70f055-2619-4f92-f98f-32b822fbe7c6"
      },
      "execution_count": null,
      "outputs": [
        {
          "output_type": "stream",
          "name": "stdout",
          "text": [
            "46/46 [==============================] - 0s 2ms/step\n"
          ]
        },
        {
          "output_type": "execute_result",
          "data": {
            "text/plain": [
              "array([113273.57, 151266.05, 162552.11, ..., 158797.34, 111940.15,\n",
              "       229894.48], dtype=float32)"
            ]
          },
          "metadata": {},
          "execution_count": 145
        }
      ]
    },
    {
      "cell_type": "code",
      "source": [
        "id_col = pd.read_csv('/content/drive/MyDrive/02. Life/Coding Dojo/00 Datasets/test.csv')"
      ],
      "metadata": {
        "id": "heNgBA881lqH"
      },
      "execution_count": null,
      "outputs": []
    },
    {
      "cell_type": "code",
      "source": [
        "submission = pd.DataFrame({'Id': id_col['Id'], 'SalePrice': test_pred})\n",
        "submission.head()"
      ],
      "metadata": {
        "colab": {
          "base_uri": "https://localhost:8080/",
          "height": 206
        },
        "id": "fgzDeCZu1zVA",
        "outputId": "8f151d34-3a30-4e17-acfb-da8fbc9c3a52"
      },
      "execution_count": null,
      "outputs": [
        {
          "output_type": "execute_result",
          "data": {
            "text/plain": [
              "     Id      SalePrice\n",
              "0  1461  113273.570312\n",
              "1  1462  151266.046875\n",
              "2  1463  162552.109375\n",
              "3  1464  174920.953125\n",
              "4  1465  204973.515625"
            ],
            "text/html": [
              "\n",
              "  <div id=\"df-f99d1820-0c07-4823-b19a-a6e896be9704\">\n",
              "    <div class=\"colab-df-container\">\n",
              "      <div>\n",
              "<style scoped>\n",
              "    .dataframe tbody tr th:only-of-type {\n",
              "        vertical-align: middle;\n",
              "    }\n",
              "\n",
              "    .dataframe tbody tr th {\n",
              "        vertical-align: top;\n",
              "    }\n",
              "\n",
              "    .dataframe thead th {\n",
              "        text-align: right;\n",
              "    }\n",
              "</style>\n",
              "<table border=\"1\" class=\"dataframe\">\n",
              "  <thead>\n",
              "    <tr style=\"text-align: right;\">\n",
              "      <th></th>\n",
              "      <th>Id</th>\n",
              "      <th>SalePrice</th>\n",
              "    </tr>\n",
              "  </thead>\n",
              "  <tbody>\n",
              "    <tr>\n",
              "      <th>0</th>\n",
              "      <td>1461</td>\n",
              "      <td>113273.570312</td>\n",
              "    </tr>\n",
              "    <tr>\n",
              "      <th>1</th>\n",
              "      <td>1462</td>\n",
              "      <td>151266.046875</td>\n",
              "    </tr>\n",
              "    <tr>\n",
              "      <th>2</th>\n",
              "      <td>1463</td>\n",
              "      <td>162552.109375</td>\n",
              "    </tr>\n",
              "    <tr>\n",
              "      <th>3</th>\n",
              "      <td>1464</td>\n",
              "      <td>174920.953125</td>\n",
              "    </tr>\n",
              "    <tr>\n",
              "      <th>4</th>\n",
              "      <td>1465</td>\n",
              "      <td>204973.515625</td>\n",
              "    </tr>\n",
              "  </tbody>\n",
              "</table>\n",
              "</div>\n",
              "      <button class=\"colab-df-convert\" onclick=\"convertToInteractive('df-f99d1820-0c07-4823-b19a-a6e896be9704')\"\n",
              "              title=\"Convert this dataframe to an interactive table.\"\n",
              "              style=\"display:none;\">\n",
              "        \n",
              "  <svg xmlns=\"http://www.w3.org/2000/svg\" height=\"24px\"viewBox=\"0 0 24 24\"\n",
              "       width=\"24px\">\n",
              "    <path d=\"M0 0h24v24H0V0z\" fill=\"none\"/>\n",
              "    <path d=\"M18.56 5.44l.94 2.06.94-2.06 2.06-.94-2.06-.94-.94-2.06-.94 2.06-2.06.94zm-11 1L8.5 8.5l.94-2.06 2.06-.94-2.06-.94L8.5 2.5l-.94 2.06-2.06.94zm10 10l.94 2.06.94-2.06 2.06-.94-2.06-.94-.94-2.06-.94 2.06-2.06.94z\"/><path d=\"M17.41 7.96l-1.37-1.37c-.4-.4-.92-.59-1.43-.59-.52 0-1.04.2-1.43.59L10.3 9.45l-7.72 7.72c-.78.78-.78 2.05 0 2.83L4 21.41c.39.39.9.59 1.41.59.51 0 1.02-.2 1.41-.59l7.78-7.78 2.81-2.81c.8-.78.8-2.07 0-2.86zM5.41 20L4 18.59l7.72-7.72 1.47 1.35L5.41 20z\"/>\n",
              "  </svg>\n",
              "      </button>\n",
              "      \n",
              "  <style>\n",
              "    .colab-df-container {\n",
              "      display:flex;\n",
              "      flex-wrap:wrap;\n",
              "      gap: 12px;\n",
              "    }\n",
              "\n",
              "    .colab-df-convert {\n",
              "      background-color: #E8F0FE;\n",
              "      border: none;\n",
              "      border-radius: 50%;\n",
              "      cursor: pointer;\n",
              "      display: none;\n",
              "      fill: #1967D2;\n",
              "      height: 32px;\n",
              "      padding: 0 0 0 0;\n",
              "      width: 32px;\n",
              "    }\n",
              "\n",
              "    .colab-df-convert:hover {\n",
              "      background-color: #E2EBFA;\n",
              "      box-shadow: 0px 1px 2px rgba(60, 64, 67, 0.3), 0px 1px 3px 1px rgba(60, 64, 67, 0.15);\n",
              "      fill: #174EA6;\n",
              "    }\n",
              "\n",
              "    [theme=dark] .colab-df-convert {\n",
              "      background-color: #3B4455;\n",
              "      fill: #D2E3FC;\n",
              "    }\n",
              "\n",
              "    [theme=dark] .colab-df-convert:hover {\n",
              "      background-color: #434B5C;\n",
              "      box-shadow: 0px 1px 3px 1px rgba(0, 0, 0, 0.15);\n",
              "      filter: drop-shadow(0px 1px 2px rgba(0, 0, 0, 0.3));\n",
              "      fill: #FFFFFF;\n",
              "    }\n",
              "  </style>\n",
              "\n",
              "      <script>\n",
              "        const buttonEl =\n",
              "          document.querySelector('#df-f99d1820-0c07-4823-b19a-a6e896be9704 button.colab-df-convert');\n",
              "        buttonEl.style.display =\n",
              "          google.colab.kernel.accessAllowed ? 'block' : 'none';\n",
              "\n",
              "        async function convertToInteractive(key) {\n",
              "          const element = document.querySelector('#df-f99d1820-0c07-4823-b19a-a6e896be9704');\n",
              "          const dataTable =\n",
              "            await google.colab.kernel.invokeFunction('convertToInteractive',\n",
              "                                                     [key], {});\n",
              "          if (!dataTable) return;\n",
              "\n",
              "          const docLinkHtml = 'Like what you see? Visit the ' +\n",
              "            '<a target=\"_blank\" href=https://colab.research.google.com/notebooks/data_table.ipynb>data table notebook</a>'\n",
              "            + ' to learn more about interactive tables.';\n",
              "          element.innerHTML = '';\n",
              "          dataTable['output_type'] = 'display_data';\n",
              "          await google.colab.output.renderOutput(dataTable, element);\n",
              "          const docLink = document.createElement('div');\n",
              "          docLink.innerHTML = docLinkHtml;\n",
              "          element.appendChild(docLink);\n",
              "        }\n",
              "      </script>\n",
              "    </div>\n",
              "  </div>\n",
              "  "
            ]
          },
          "metadata": {},
          "execution_count": 147
        }
      ]
    },
    {
      "cell_type": "code",
      "source": [
        "submission.to_csv('/content/drive/MyDrive/02. Life/Coding Dojo/submission_neural.csv', index = False)"
      ],
      "metadata": {
        "id": "plN3fmbO148q"
      },
      "execution_count": null,
      "outputs": []
    }
  ]
}