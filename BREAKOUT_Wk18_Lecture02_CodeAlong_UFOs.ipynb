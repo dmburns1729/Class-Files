{
  "cells": [
    {
      "cell_type": "markdown",
      "metadata": {
        "id": "view-in-github",
        "colab_type": "text"
      },
      "source": [
        "<a href=\"https://colab.research.google.com/github/dmburns1729/Class-Files/blob/main/BREAKOUT_Wk18_Lecture02_CodeAlong_UFOs.ipynb\" target=\"_parent\"><img src=\"https://colab.research.google.com/assets/colab-badge.svg\" alt=\"Open In Colab\"/></a>"
      ]
    },
    {
      "cell_type": "markdown",
      "id": "bc021ffa",
      "metadata": {
        "id": "bc021ffa"
      },
      "source": [
        "# Wk18 Lecture02 CodeAlong: UFOs"
      ]
    },
    {
      "cell_type": "code",
      "source": [
        "## Update packages\n",
        "# !pip install scikit-learn==1.1.3\n",
        "!pip install pandas==1.5.2\n",
        "# !pip install matplotlib==3.6.2\n",
        "!pip install seaborn==0.12.1\n",
        "!pip install statsmodels==0.13.2\n",
        "!pip install scipy==1.9.3\n",
        "\n",
        "## Clear Display\n",
        "from IPython.display import clear_output\n",
        "clear_output()"
      ],
      "metadata": {
        "id": "YTm240pmqBCK"
      },
      "id": "YTm240pmqBCK",
      "execution_count": null,
      "outputs": []
    },
    {
      "cell_type": "code",
      "source": [
        "## Confirm package versions\n",
        "# import sklearn\n",
        "# print(f\"Sklearn version: {sklearn.__version__}\")\n",
        "\n",
        "import pandas as pd\n",
        "print(f\"Pandas version: {pd.__version__}\")\n",
        "\n",
        "import matplotlib as mpl\n",
        "print(f\"Matplotlib version: {mpl.__version__}\")\n",
        "\n",
        "import seaborn as sns\n",
        "print(f\"Seaborn version: {sns.__version__}\")\n",
        "\n",
        "import scipy\n",
        "print(f\"Scipy version: {scipy.__version__}\")"
      ],
      "metadata": {
        "id": "Z37ezOBOqBCK"
      },
      "id": "Z37ezOBOqBCK",
      "execution_count": null,
      "outputs": []
    },
    {
      "cell_type": "markdown",
      "id": "f20b0a55",
      "metadata": {
        "id": "f20b0a55"
      },
      "source": [
        "## Learning Objectives"
      ]
    },
    {
      "cell_type": "markdown",
      "id": "df5eb627",
      "metadata": {
        "id": "df5eb627"
      },
      "source": [
        "- By the end of this CodeAlong, students will be able to:\n",
        "   - Calculate time series statistics (rolling mean/std/diff/pct_change\n",
        "   - Perform feature engineering for time series EDA\n",
        "   - Aggregate time series using date parts to answer stakeholder questions.\n",
        "\n",
        "    "
      ]
    },
    {
      "cell_type": "markdown",
      "id": "f3202236",
      "metadata": {
        "id": "f3202236"
      },
      "source": [
        "# 🕹️Part 1) Preparing Irregular-Interval Time Series"
      ]
    },
    {
      "cell_type": "markdown",
      "id": "60721cfc",
      "metadata": {
        "id": "60721cfc"
      },
      "source": [
        "### Overview from Last Lecture"
      ]
    },
    {
      "cell_type": "markdown",
      "id": "29c7c4cf",
      "metadata": {
        "id": "29c7c4cf"
      },
      "source": [
        "- 1) [ ] Convert the dates & times to a single column (if needed).\n",
        "- 2) [ ] Convert the datetime column  (most likely a string) to a datetime data type.\n",
        "- 3) [ ] Set the datetime column as the Series/DataFrame index\n",
        "- 4) [ ] Resample the time series to the desired/correct frequency using the desired/correct aggregation method.\n",
        "- 5) [ ] Impute null values (if required)\n"
      ]
    },
    {
      "cell_type": "markdown",
      "id": "aa1faf78",
      "metadata": {
        "id": "aa1faf78"
      },
      "source": [
        "### UFO Sightings"
      ]
    },
    {
      "cell_type": "markdown",
      "id": "8336237c",
      "metadata": {
        "id": "8336237c"
      },
      "source": [
        "- UFO Sightings: https://www.kaggle.com/datasets/NUFORC/ufo-sightings"
      ]
    },
    {
      "cell_type": "code",
      "execution_count": null,
      "id": "7dd25599",
      "metadata": {
        "id": "7dd25599"
      },
      "outputs": [],
      "source": [
        "import pandas as pd\n",
        "import numpy as np\n",
        "import matplotlib.pyplot as plt\n",
        "import matplotlib.dates as mdates\n",
        "import matplotlib.ticker as mticks\n",
        "import seaborn as sns\n",
        "\n",
        "\n",
        "import missingno as miss\n",
        "import datetime as dt\n",
        "import statsmodels.tsa.api as tsa"
      ]
    },
    {
      "cell_type": "code",
      "execution_count": null,
      "id": "264ae028",
      "metadata": {
        "scrolled": false,
        "id": "264ae028"
      },
      "outputs": [],
      "source": [
        "url = \"https://raw.githubusercontent.com/coding-dojo-data-science/data-viz-wk18-time-series-codealongs/main/Data/ufos-kaggle/scrubbed.csv\"\n",
        "ufo  = pd.read_csv(url, low_memory=False)\n",
        "ufo"
      ]
    },
    {
      "cell_type": "code",
      "execution_count": null,
      "id": "12924d81",
      "metadata": {
        "id": "12924d81"
      },
      "outputs": [],
      "source": [
        "ufo.info()"
      ]
    },
    {
      "cell_type": "markdown",
      "id": "b742c5c1",
      "metadata": {
        "id": "b742c5c1"
      },
      "source": [
        ">- 1) [x] Convert the dates & times to a single column (if needed)."
      ]
    },
    {
      "cell_type": "markdown",
      "id": "d28fa993",
      "metadata": {
        "id": "d28fa993"
      },
      "source": [
        "## Preparing the Datetime Index"
      ]
    },
    {
      "cell_type": "markdown",
      "id": "a00469c1",
      "metadata": {
        "id": "a00469c1"
      },
      "source": [
        "### Converting Date Cols to Datetime"
      ]
    },
    {
      "cell_type": "code",
      "execution_count": null,
      "id": "dd1c07ac",
      "metadata": {
        "id": "dd1c07ac"
      },
      "outputs": [],
      "source": [
        "try:\n",
        "    ufo['datetime'] = pd.to_datetime(ufo[\"datetime\"])\n",
        "    display(ufo.head())\n",
        "except Exception as e:\n",
        "    display(e)"
      ]
    },
    {
      "cell_type": "markdown",
      "id": "67538565",
      "metadata": {
        "id": "67538565"
      },
      "source": [
        "### Handling Errors with pd.to_datetime"
      ]
    },
    {
      "cell_type": "markdown",
      "id": "d2e55b74",
      "metadata": {
        "id": "d2e55b74"
      },
      "source": [
        "- Can use the `errors` argument for pd.to_datetime:\n",
        "    - \"raise\" (default): raise an exception when errors happen\n",
        "    - 'ignore': ignores the errors and returns the original value for that row.\n",
        "        - NOT RECOMMENDED: the entire column will not be datetime.\n",
        "    - 'coerce': convert any bad datetime values to null values (NaT - NotATime)"
      ]
    },
    {
      "cell_type": "markdown",
      "id": "d5ea5b07",
      "metadata": {
        "id": "d5ea5b07"
      },
      "source": [
        ">- **Branch point: we have a choice on how we deal with the bad timestamps.**\n",
        "    -  Do we coerce them, make then null values, and drop them? Potentially losing a lot of data.\n",
        "    - Or do we investigate a bit more to see if we can fix the problem without losing data.\n",
        "    \n",
        "    \n",
        "- Let's see how much data we would lose if we chose to coerce the bad values:"
      ]
    },
    {
      "cell_type": "code",
      "execution_count": null,
      "id": "2348ccaa",
      "metadata": {
        "scrolled": true,
        "id": "2348ccaa"
      },
      "outputs": [],
      "source": [
        "##check nulls before coercing errors\n",
        "ufo.isna().sum()"
      ]
    },
    {
      "cell_type": "code",
      "execution_count": null,
      "id": "460a3785",
      "metadata": {
        "id": "460a3785"
      },
      "outputs": [],
      "source": [
        "## saving a copy of original datetime column\n",
        "ufo['datetime-original'] = ufo['datetime'].copy()\n",
        "ufo"
      ]
    },
    {
      "cell_type": "code",
      "execution_count": null,
      "id": "9a0fdfef",
      "metadata": {
        "id": "9a0fdfef"
      },
      "outputs": [],
      "source": [
        "## Using errors = \"coerce\"\n",
        "ufo[\"datetime-coerce\"] = pd.to_datetime(ufo[\"datetime\"], errors='coerce')\n",
        "ufo[\"datetime-coerce\"]"
      ]
    },
    {
      "cell_type": "code",
      "execution_count": null,
      "id": "5bd82444",
      "metadata": {
        "id": "5bd82444"
      },
      "outputs": [],
      "source": [
        "## How many null values did we create?\n",
        "ufo.isna().sum()"
      ]
    },
    {
      "cell_type": "code",
      "execution_count": null,
      "id": "69e8a7fe",
      "metadata": {
        "id": "69e8a7fe"
      },
      "outputs": [],
      "source": [
        "## What % of dates became null?\n",
        "ufo.isna().sum()/len(ufo)"
      ]
    },
    {
      "cell_type": "code",
      "execution_count": null,
      "id": "a6d13418",
      "metadata": {
        "id": "a6d13418"
      },
      "outputs": [],
      "source": [
        "## inspecting just the bad rows\n",
        "bad_rows = ufo[ufo['datetime-coerce'].isna()]\n",
        "bad_rows"
      ]
    },
    {
      "cell_type": "code",
      "execution_count": null,
      "id": "c3159cd4",
      "metadata": {
        "id": "c3159cd4"
      },
      "outputs": [],
      "source": [
        "## let's try to convert the bad rows again\n",
        "try:\n",
        "    pd.to_datetime(bad_rows['datetime-original'])\n",
        "except Exception as e:\n",
        "    display(e)"
      ]
    },
    {
      "cell_type": "markdown",
      "id": "3c2733cf",
      "metadata": {
        "id": "3c2733cf"
      },
      "source": [
        "> 🤔\"`ParserError: hour must be in 0..23: 10/11/2006 24:00 present at position 0`\""
      ]
    },
    {
      "cell_type": "code",
      "execution_count": null,
      "id": "9cd52710",
      "metadata": {
        "id": "9cd52710"
      },
      "outputs": [],
      "source": [
        "bad_rows['datetime-original']"
      ]
    },
    {
      "cell_type": "markdown",
      "id": "12633237",
      "metadata": {
        "id": "12633237"
      },
      "source": [
        "> Panda's is confused by 24:00. It doesn't know if we mean 0:00 of the NEXT day or if we mean the 11:59 pm (23:59) the same day"
      ]
    },
    {
      "cell_type": "code",
      "execution_count": null,
      "id": "71db3e8e",
      "metadata": {
        "id": "71db3e8e"
      },
      "outputs": [],
      "source": [
        "## replace 24:00 with 23:59\n",
        "ufo['datetime-fixed'] = ufo[\"datetime-original\"].str.replace(\" 24:00\",\" 23:59\")\n",
        "ufo"
      ]
    },
    {
      "cell_type": "code",
      "execution_count": null,
      "id": "aab75bda",
      "metadata": {
        "id": "aab75bda"
      },
      "outputs": [],
      "source": [
        "## use the fixed-datetime column to make the datetime col\n",
        "ufo['datetime'] = pd.to_datetime(ufo[\"datetime-fixed\"])\n",
        "ufo"
      ]
    },
    {
      "cell_type": "code",
      "execution_count": null,
      "id": "84fb0be0",
      "metadata": {
        "id": "84fb0be0"
      },
      "outputs": [],
      "source": [
        "ufo.info()"
      ]
    },
    {
      "cell_type": "markdown",
      "id": "b9c846e3",
      "metadata": {
        "id": "b9c846e3"
      },
      "source": [
        ">- 2) [x] Convert the datetime column  (most likely a string) to a datetime data type."
      ]
    },
    {
      "cell_type": "markdown",
      "id": "d5c58dfe",
      "metadata": {
        "id": "d5c58dfe"
      },
      "source": [
        "### Setting datetime index"
      ]
    },
    {
      "cell_type": "code",
      "execution_count": null,
      "id": "b461d84b",
      "metadata": {
        "id": "b461d84b"
      },
      "outputs": [],
      "source": [
        "ufo_ts = ufo.set_index('datetime')\n",
        "ufo_ts"
      ]
    },
    {
      "cell_type": "code",
      "execution_count": null,
      "id": "cade062a",
      "metadata": {
        "id": "cade062a"
      },
      "outputs": [],
      "source": [
        "dt_cols = [c for c in ufo_ts.columns if 'datetime' in c]\n",
        "ufo_ts = ufo_ts.drop(columns=dt_cols)\n",
        "ufo_ts"
      ]
    },
    {
      "cell_type": "code",
      "execution_count": null,
      "id": "a204d944",
      "metadata": {
        "id": "a204d944"
      },
      "outputs": [],
      "source": [
        "# check the index to confirm its datetime\n",
        "ufo_ts.index"
      ]
    },
    {
      "cell_type": "markdown",
      "id": "9c567112",
      "metadata": {
        "id": "9c567112"
      },
      "source": [
        "- 3) [x] Set the datetime column as the Series/DataFrame index"
      ]
    },
    {
      "cell_type": "markdown",
      "id": "0d1c2594",
      "metadata": {
        "id": "0d1c2594"
      },
      "source": [
        "## Let's visualize Our Data"
      ]
    },
    {
      "cell_type": "code",
      "execution_count": null,
      "id": "e2ed1c77",
      "metadata": {
        "id": "e2ed1c77"
      },
      "outputs": [],
      "source": [
        "ufo_ts"
      ]
    },
    {
      "cell_type": "code",
      "execution_count": null,
      "id": "e1e3e6b0",
      "metadata": {
        "id": "e1e3e6b0"
      },
      "outputs": [],
      "source": [
        "ufo_ts.plot()#y='duration (seconds)')"
      ]
    },
    {
      "cell_type": "markdown",
      "id": "a2ecaabe",
      "metadata": {
        "id": "a2ecaabe"
      },
      "source": [
        "> Hmmmm.... what are we *trying* to visualize?\n",
        "\n"
      ]
    },
    {
      "cell_type": "markdown",
      "id": "5b4a0b46",
      "metadata": {
        "id": "5b4a0b46"
      },
      "source": [
        "### What do we really want to know about UFO's?\n",
        "- Duration of sighting?\n",
        "- Location of sighting?\n",
        "- Number of sightings?"
      ]
    },
    {
      "cell_type": "markdown",
      "id": "f9a04cec",
      "metadata": {
        "id": "f9a04cec"
      },
      "source": [
        "## Getting Our Time Series of UFO Sightings"
      ]
    },
    {
      "cell_type": "markdown",
      "id": "a34f59b0",
      "metadata": {
        "id": "a34f59b0"
      },
      "source": [
        "- We want to quantify the number of events that occurred within each interval.\n",
        "\n",
        ">- Q: How could we do this? (there's several ways)\n"
      ]
    },
    {
      "cell_type": "code",
      "execution_count": null,
      "id": "3173a553",
      "metadata": {
        "id": "3173a553"
      },
      "outputs": [],
      "source": [
        "## A.1) Add a count column with a value of 1 for each row and then use reasmple().sum()\n",
        "demo_ts = ufo_ts.copy()\n",
        "demo_ts['Count'] = 1\n",
        "demo_ts"
      ]
    },
    {
      "cell_type": "code",
      "execution_count": null,
      "id": "462ae029",
      "metadata": {
        "id": "462ae029"
      },
      "outputs": [],
      "source": [
        "# A.2)\n",
        "demo_ts.resample('D').sum()#['Count']"
      ]
    },
    {
      "cell_type": "code",
      "execution_count": null,
      "id": "e57fa5a5",
      "metadata": {
        "id": "e57fa5a5"
      },
      "outputs": [],
      "source": [
        "## B) use .size\n",
        "ufo_ts.resample(\"D\").size()"
      ]
    },
    {
      "cell_type": "markdown",
      "id": "ad188a5a",
      "metadata": {
        "id": "ad188a5a"
      },
      "source": [
        "### Make `ts` from ufo_ts"
      ]
    },
    {
      "cell_type": "code",
      "execution_count": null,
      "id": "6d27a4eb",
      "metadata": {
        "id": "6d27a4eb"
      },
      "outputs": [],
      "source": [
        "ts = ufo_ts.resample('D').size()\n",
        "ts"
      ]
    },
    {
      "cell_type": "code",
      "execution_count": null,
      "id": "16ff4572",
      "metadata": {
        "id": "16ff4572"
      },
      "outputs": [],
      "source": [
        "plt.rcParams['figure.figsize'] = [10,5]"
      ]
    },
    {
      "cell_type": "code",
      "execution_count": null,
      "id": "03c0714d",
      "metadata": {
        "id": "03c0714d"
      },
      "outputs": [],
      "source": [
        "ts.plot();"
      ]
    },
    {
      "cell_type": "markdown",
      "id": "891a0c3c",
      "metadata": {
        "id": "891a0c3c"
      },
      "source": [
        "> Let's keep data from 1950 to present day"
      ]
    },
    {
      "cell_type": "code",
      "execution_count": null,
      "id": "642c0036",
      "metadata": {
        "id": "642c0036"
      },
      "outputs": [],
      "source": [
        "ts = ts.loc[\"1950\":]\n",
        "ts"
      ]
    },
    {
      "cell_type": "code",
      "execution_count": null,
      "id": "22ecfbcc",
      "metadata": {
        "scrolled": false,
        "id": "22ecfbcc"
      },
      "outputs": [],
      "source": [
        "ts.plot()"
      ]
    },
    {
      "cell_type": "code",
      "execution_count": null,
      "id": "9c948506",
      "metadata": {
        "id": "9c948506"
      },
      "outputs": [],
      "source": [
        "## save our new frequency ts and plot\n",
        "ts_m = ts.resample(\"M\").sum()\n",
        "ts_m.plot();"
      ]
    },
    {
      "cell_type": "markdown",
      "id": "09867db1",
      "metadata": {
        "id": "09867db1"
      },
      "source": [
        "# 🕹️Part 2) Aggregating Full Dataset Using Date Parts"
      ]
    },
    {
      "cell_type": "markdown",
      "id": "5853100d",
      "metadata": {
        "id": "5853100d"
      },
      "source": [
        "## 📝 **Stakeholder Questions to Answer**"
      ]
    },
    {
      "cell_type": "markdown",
      "id": "518dd63d",
      "metadata": {
        "id": "518dd63d"
      },
      "source": [
        "**ANSWER TOGETHER:**\n",
        "- 1) What Month/Year had the most sightings? (and how many sightings were there?)\n",
        "\n",
        "- 2) Which month of the year has the highest number of reported sightings?\n",
        "- 3) Is there a seasonal pattern to UFO sightings? If so, how long is the season?\n",
        "\n",
        "- 4) Which US holiday has the largest number of sightings?\n",
        "___\n",
        "**ANSWER SELECTED Q's IN BREAKOUT ROOMS**\n",
        "\n",
        "- 5) Which year had the highest % increase in sightings compared to previous years? (since 1950)\n",
        "\n",
        "- 6) What day of the week has the highest reported sightings?\n",
        "\n",
        "- 7) At what time of day (hour) do most sightings occur?\n",
        "\n",
        "- 8) Which US state has the most sightings?\n",
        "\n",
        "- 9) Which country had the largest proportion of sightings for the year 2000?\n",
        "\n",
        "- 10) Have the types/shapes of UFO's witness changed over time?\n",
        "    - Tip: use only the 4 most common shapes"
      ]
    },
    {
      "cell_type": "markdown",
      "id": "255a69bf",
      "metadata": {
        "id": "255a69bf"
      },
      "source": [
        "### Making `eda_df` for answering questions"
      ]
    },
    {
      "cell_type": "code",
      "execution_count": null,
      "id": "08d52077",
      "metadata": {
        "id": "08d52077"
      },
      "outputs": [],
      "source": [
        "## making eda_df with date as a column instead of index\n",
        "eda_df = ufo_ts.reset_index()\n",
        "eda_df"
      ]
    },
    {
      "cell_type": "markdown",
      "id": "612232e9",
      "metadata": {
        "id": "612232e9"
      },
      "source": [
        "### Feature Engineering: Date Parts"
      ]
    },
    {
      "cell_type": "markdown",
      "id": "0b44dcb6",
      "metadata": {
        "id": "0b44dcb6"
      },
      "source": [
        "- Datetime objects have:\n",
        "    - year\n",
        "    - month\n",
        "    - month_name()\n",
        "    - day\n",
        "    - day_name()\n",
        "    - hour\n",
        "    - seconds\n",
        "    \n",
        "- Pandas has a `.dt.` accessor to use datetime methods on an entire column at once."
      ]
    },
    {
      "cell_type": "code",
      "execution_count": null,
      "id": "e47525f5",
      "metadata": {
        "id": "e47525f5"
      },
      "outputs": [],
      "source": [
        "## feature engineering for dates\n",
        "eda_df['year'] = eda_df['datetime'].dt.year\n",
        "eda_df['month'] = eda_df['datetime'].dt.month_name()\n",
        "eda_df['day of month'] = eda_df['datetime'].dt.day\n",
        "eda_df['day of week'] = eda_df['datetime'].dt.day_name()\n",
        "eda_df['hour'] = eda_df['datetime'].dt.hour\n",
        "eda_df"
      ]
    },
    {
      "cell_type": "markdown",
      "id": "72e66a9b",
      "metadata": {
        "id": "72e66a9b"
      },
      "source": [
        "> Let's add a \"weekend\" feature that will be True if the day was a Saturday or Sunday."
      ]
    },
    {
      "cell_type": "code",
      "execution_count": null,
      "id": "a35d69b2",
      "metadata": {
        "id": "a35d69b2"
      },
      "outputs": [],
      "source": [
        "## let's add a weekend feature\n",
        "eda_df['weekend'] = eda_df['day of week'].isin(['Saturday','Sunday'])\n",
        "eda_df"
      ]
    },
    {
      "cell_type": "markdown",
      "id": "32330fca",
      "metadata": {
        "id": "32330fca"
      },
      "source": [
        "#### Let's add a column for the decade"
      ]
    },
    {
      "cell_type": "code",
      "execution_count": null,
      "id": "0628e5c9",
      "metadata": {
        "id": "0628e5c9"
      },
      "outputs": [],
      "source": [
        "## Calculate decade by subtracting the remainder and div by 10\n",
        "eda_df['decade'] = eda_df['year'] - eda_df['year']%10\n",
        "eda_df"
      ]
    },
    {
      "cell_type": "code",
      "execution_count": null,
      "id": "086fa347",
      "metadata": {
        "id": "086fa347"
      },
      "outputs": [],
      "source": [
        "# ## Original year\n",
        "# year = eda_df['year']\n",
        "# year"
      ]
    },
    {
      "cell_type": "code",
      "execution_count": null,
      "id": "f37682bf",
      "metadata": {
        "id": "f37682bf"
      },
      "outputs": [],
      "source": [
        "# ## remainder / by 10 years\n",
        "# remainder = year%10\n",
        "# remainder"
      ]
    },
    {
      "cell_type": "code",
      "execution_count": null,
      "id": "46901d17",
      "metadata": {
        "id": "46901d17"
      },
      "outputs": [],
      "source": [
        "# ## Subtract to get decade\n",
        "# year-remainder"
      ]
    },
    {
      "cell_type": "markdown",
      "id": "0009a017",
      "metadata": {
        "id": "0009a017"
      },
      "source": [
        "### Making `eda_ts` & `ts`"
      ]
    },
    {
      "cell_type": "code",
      "execution_count": null,
      "id": "ca57c24a",
      "metadata": {
        "id": "ca57c24a"
      },
      "outputs": [],
      "source": [
        "## Making eda_ts with dt index\n",
        "eda_ts = eda_df.set_index('datetime')\n",
        "\n",
        "## Resampling to Monthly data\n",
        "ts = eda_ts.resample(\"M\").size().loc['1950':]\n",
        "ts"
      ]
    },
    {
      "cell_type": "markdown",
      "id": "ab10b437",
      "metadata": {
        "id": "ab10b437"
      },
      "source": [
        "## Answering Stakeholder Questions (Together)"
      ]
    },
    {
      "cell_type": "markdown",
      "id": "423fc596",
      "metadata": {
        "id": "423fc596"
      },
      "source": [
        "### 1) What Month/Year had the most sightings? (and how many sightings were there?)\n"
      ]
    },
    {
      "cell_type": "code",
      "execution_count": null,
      "id": "2a642dcd",
      "metadata": {
        "id": "2a642dcd"
      },
      "outputs": [],
      "source": [
        "date_most_ufos = ts.idxmax()\n",
        "date_most_ufos"
      ]
    },
    {
      "cell_type": "code",
      "execution_count": null,
      "id": "b5542912",
      "metadata": {
        "id": "b5542912"
      },
      "outputs": [],
      "source": [
        "ts.loc[date_most_ufos]"
      ]
    },
    {
      "cell_type": "code",
      "execution_count": null,
      "id": "ed1efb1e",
      "metadata": {
        "id": "ed1efb1e"
      },
      "outputs": [],
      "source": [
        "ax = ts.plot();\n",
        "fmt = \"%m/%Y\"\n",
        "ax.axvline(date_most_ufos, ls='--',color='k',\n",
        "           label=f\"{date_most_ufos.strftime(fmt)} had {ts.loc[date_most_ufos]}\")\n",
        "ax.legend()"
      ]
    },
    {
      "cell_type": "markdown",
      "id": "5ac0a6ac",
      "metadata": {
        "id": "5ac0a6ac"
      },
      "source": [
        "### 2) Which month of the year has the highest number of reported sightings?"
      ]
    },
    {
      "cell_type": "code",
      "execution_count": null,
      "id": "e7bd4974",
      "metadata": {
        "id": "e7bd4974"
      },
      "outputs": [],
      "source": [
        "eda_ts['month'].value_counts()"
      ]
    },
    {
      "cell_type": "markdown",
      "id": "a2b353b2",
      "metadata": {
        "id": "a2b353b2"
      },
      "source": [
        "\n",
        "### 3) Is there a seasonal pattern to UFO sightings? If so, how long is the season?"
      ]
    },
    {
      "cell_type": "markdown",
      "id": "934fe4a1",
      "metadata": {
        "id": "934fe4a1"
      },
      "source": [
        "### Seasonality"
      ]
    },
    {
      "cell_type": "code",
      "execution_count": null,
      "id": "283ae884",
      "metadata": {
        "id": "283ae884"
      },
      "outputs": [],
      "source": [
        "import statsmodels.tsa.api as tsa"
      ]
    },
    {
      "cell_type": "code",
      "execution_count": null,
      "id": "551c16ad",
      "metadata": {
        "scrolled": true,
        "id": "551c16ad"
      },
      "outputs": [],
      "source": [
        "# ts_m.loc[date_slice]\n",
        "ts_check_season = ts_m.loc[\"2000\":]\n",
        "ts_check_season"
      ]
    },
    {
      "cell_type": "code",
      "execution_count": null,
      "id": "33fa6725",
      "metadata": {
        "id": "33fa6725"
      },
      "outputs": [],
      "source": [
        "ts_check_season.plot();"
      ]
    },
    {
      "cell_type": "code",
      "execution_count": null,
      "id": "c76c6785",
      "metadata": {
        "scrolled": true,
        "id": "c76c6785"
      },
      "outputs": [],
      "source": [
        "decomp = tsa.seasonal_decompose(ts_check_season)\n",
        "decomp.plot();"
      ]
    },
    {
      "cell_type": "code",
      "execution_count": null,
      "id": "9c972b91",
      "metadata": {
        "scrolled": true,
        "id": "9c972b91"
      },
      "outputs": [],
      "source": [
        "seasonal = decomp.seasonal\n",
        "ax = seasonal.plot(figsize=(12,3))\n",
        "ax.set(ylabel='Change in # of Sightings',\n",
        "      title='Seasonal Component of Sightings');"
      ]
    },
    {
      "cell_type": "markdown",
      "id": "ffa454fd",
      "metadata": {
        "id": "ffa454fd"
      },
      "source": [
        "#### Using scipy's find_peaks"
      ]
    },
    {
      "cell_type": "code",
      "execution_count": null,
      "id": "4aa15f34",
      "metadata": {
        "id": "4aa15f34"
      },
      "outputs": [],
      "source": [
        "from scipy.signal import find_peaks\n",
        "peaks, props = find_peaks(seasonal, height=seasonal.max())"
      ]
    },
    {
      "cell_type": "code",
      "execution_count": null,
      "id": "e29a724c",
      "metadata": {
        "id": "e29a724c"
      },
      "outputs": [],
      "source": [
        "peaks"
      ]
    },
    {
      "cell_type": "code",
      "execution_count": null,
      "id": "cc51b927",
      "metadata": {
        "scrolled": true,
        "id": "cc51b927"
      },
      "outputs": [],
      "source": [
        "peak_dates = seasonal.index[peaks]\n",
        "peak_dates"
      ]
    },
    {
      "cell_type": "markdown",
      "id": "2b20b7f0",
      "metadata": {
        "id": "2b20b7f0"
      },
      "source": [
        "### 4) Which US holiday has the largest number of sightings?"
      ]
    },
    {
      "cell_type": "markdown",
      "id": "100422b2",
      "metadata": {
        "id": "100422b2"
      },
      "source": [
        "#### Feature Engineering: Holidays"
      ]
    },
    {
      "cell_type": "code",
      "execution_count": null,
      "id": "0e80106c",
      "metadata": {
        "id": "0e80106c"
      },
      "outputs": [],
      "source": [
        "# !pip install holidays\n",
        "import holidays\n",
        "import datetime as dt\n",
        "from holidays import country_holidays"
      ]
    },
    {
      "cell_type": "code",
      "execution_count": null,
      "id": "53a4ed3d",
      "metadata": {
        "id": "53a4ed3d"
      },
      "outputs": [],
      "source": [
        "## Create an instance of the US country holidays.\n",
        "us_holidays = country_holidays('US')\n",
        "us_holidays"
      ]
    },
    {
      "cell_type": "code",
      "execution_count": null,
      "id": "9217da70",
      "metadata": {
        "id": "9217da70"
      },
      "outputs": [],
      "source": [
        "## create a test holiday\n",
        "test = \"01/01/2015\"\n",
        "test"
      ]
    },
    {
      "cell_type": "code",
      "execution_count": null,
      "id": "0f90b9a8",
      "metadata": {
        "id": "0f90b9a8"
      },
      "outputs": [],
      "source": [
        "## test the api\n",
        "us_holidays.get(test)"
      ]
    },
    {
      "cell_type": "code",
      "execution_count": null,
      "id": "6788f0d6",
      "metadata": {
        "id": "6788f0d6"
      },
      "outputs": [],
      "source": [
        "## Saving both holiday types as columns\n",
        "eda_df[\"US Holiday\"] = eda_df['datetime'].map(us_holidays.get)\n",
        "eda_df"
      ]
    },
    {
      "cell_type": "code",
      "execution_count": null,
      "id": "fd53d3c3",
      "metadata": {
        "scrolled": true,
        "id": "fd53d3c3"
      },
      "outputs": [],
      "source": [
        "eda_df['US Holiday'].unique()"
      ]
    },
    {
      "cell_type": "markdown",
      "id": "ccd7bf19",
      "metadata": {
        "id": "ccd7bf19"
      },
      "source": [
        "#### Answer to which holiday has most sightings:"
      ]
    },
    {
      "cell_type": "code",
      "execution_count": null,
      "id": "4ed27cd6",
      "metadata": {
        "id": "4ed27cd6"
      },
      "outputs": [],
      "source": [
        "eda_df['US Holiday'].value_counts()"
      ]
    },
    {
      "cell_type": "code",
      "execution_count": null,
      "id": "453403a9",
      "metadata": {
        "id": "453403a9"
      },
      "outputs": [],
      "source": [
        "sns.countplot(data=eda_df, y='US Holiday');"
      ]
    },
    {
      "cell_type": "markdown",
      "id": "60af52b2",
      "metadata": {
        "id": "60af52b2"
      },
      "source": [
        "#### Wait...when did that movie come out?"
      ]
    },
    {
      "cell_type": "code",
      "execution_count": null,
      "id": "1acc0ea2",
      "metadata": {
        "id": "1acc0ea2"
      },
      "outputs": [],
      "source": [
        "release_date= '1997-07-03'"
      ]
    },
    {
      "cell_type": "code",
      "execution_count": null,
      "id": "eb00ce8c",
      "metadata": {
        "scrolled": false,
        "id": "eb00ce8c"
      },
      "outputs": [],
      "source": [
        "## Plot the # of sightings over time and annotate the release date\n",
        "ax = ts.plot()\n",
        "# rel_date = '1997-05-26'\n",
        "ax.axvline(release_date, label=f'Indepence Day Released {release_date}',\n",
        "          ls='--',color='k');\n",
        "ax.legend();"
      ]
    },
    {
      "cell_type": "markdown",
      "id": "b078cd56",
      "metadata": {
        "id": "b078cd56"
      },
      "source": [
        "## 🏓**Breakout Rooms: Answering Stakeholder Questions**"
      ]
    },
    {
      "cell_type": "markdown",
      "id": "708735ae",
      "metadata": {
        "id": "708735ae"
      },
      "source": [
        "**Choose 1-2 of the remaining questions and work in breakout rooms to answer them:**\n",
        "- 5) Which year had the highest % increase in sightings compared to previous years?\n",
        "- 6) What day of the week has the highest reported sightings?\n",
        "- 7) At what time of day (hour) do most sightings occur?\n",
        "- 8) Which US state has the most sightings?\n",
        "- 9) Which country had the largest proportion of sightings for the year 2000?\n",
        "- 10) Have the types/shapes of UFO's witness changed over time?\n",
        "    - Tip: use only the 4 most common shapes\n",
        "\n"
      ]
    },
    {
      "cell_type": "markdown",
      "id": "9a8c6725",
      "metadata": {
        "id": "9a8c6725"
      },
      "source": [
        "### 5) Which year had the highest % increase in sightings compared to previous years? (since 1950)"
      ]
    },
    {
      "cell_type": "code",
      "execution_count": null,
      "id": "5027a8b6",
      "metadata": {
        "id": "5027a8b6"
      },
      "outputs": [],
      "source": []
    },
    {
      "cell_type": "markdown",
      "id": "1c33f59e",
      "metadata": {
        "id": "1c33f59e"
      },
      "source": [
        "### 6) What day of the week has the highest reported sightings?"
      ]
    },
    {
      "cell_type": "code",
      "execution_count": null,
      "id": "1253d143",
      "metadata": {
        "id": "1253d143"
      },
      "outputs": [],
      "source": []
    },
    {
      "cell_type": "markdown",
      "id": "67e5c3e7",
      "metadata": {
        "id": "67e5c3e7"
      },
      "source": [
        "### 6) Which country had the largest proportion of sightings for the year 2000?"
      ]
    },
    {
      "cell_type": "code",
      "execution_count": null,
      "id": "273cd18d",
      "metadata": {
        "id": "273cd18d"
      },
      "outputs": [],
      "source": []
    },
    {
      "cell_type": "markdown",
      "id": "194202ac",
      "metadata": {
        "id": "194202ac"
      },
      "source": [
        "### 7) Have the types/shapes of UFO's witness changed over time?"
      ]
    },
    {
      "cell_type": "code",
      "execution_count": null,
      "id": "33c1c0aa",
      "metadata": {
        "id": "33c1c0aa"
      },
      "outputs": [],
      "source": []
    },
    {
      "cell_type": "markdown",
      "id": "2a91207f",
      "metadata": {
        "id": "2a91207f"
      },
      "source": [
        "___\n",
        "# Bonus: Plotly Express"
      ]
    },
    {
      "cell_type": "code",
      "execution_count": null,
      "id": "9be49b30",
      "metadata": {
        "id": "9be49b30"
      },
      "outputs": [],
      "source": [
        "import plotly.express as px\n",
        "import plotly.io as pio"
      ]
    },
    {
      "cell_type": "markdown",
      "id": "23f09ba1",
      "metadata": {
        "id": "23f09ba1"
      },
      "source": [
        "### Map Over Time"
      ]
    },
    {
      "cell_type": "code",
      "execution_count": null,
      "id": "8c2af13b",
      "metadata": {
        "id": "8c2af13b"
      },
      "outputs": [],
      "source": [
        "eda_df = eda_df.sort_values('decade')\n",
        "eda_df.columns = eda_df.columns.str.strip()\n",
        "eda_df['latitude'] = pd.to_numeric(eda_df['latitude'], errors='coerce')\n",
        "eda_df.head()"
      ]
    },
    {
      "cell_type": "code",
      "execution_count": null,
      "id": "114f1d98",
      "metadata": {
        "id": "114f1d98"
      },
      "outputs": [],
      "source": [
        "px.scatter_geo(data_frame=eda_df, lat='latitude',lon='longitude', animation_frame=\"decade\",\n",
        "              template='ggplot2')"
      ]
    },
    {
      "cell_type": "code",
      "execution_count": null,
      "id": "32aafc1d",
      "metadata": {
        "id": "32aafc1d"
      },
      "outputs": [],
      "source": []
    },
    {
      "cell_type": "code",
      "execution_count": null,
      "id": "cd76ed8f",
      "metadata": {
        "id": "cd76ed8f"
      },
      "outputs": [],
      "source": []
    }
  ],
  "metadata": {
    "kernelspec": {
      "display_name": "Python (dojo-env)",
      "language": "python",
      "name": "dojo-env"
    },
    "language_info": {
      "codemirror_mode": {
        "name": "ipython",
        "version": 3
      },
      "file_extension": ".py",
      "mimetype": "text/x-python",
      "name": "python",
      "nbconvert_exporter": "python",
      "pygments_lexer": "ipython3",
      "version": "3.9.15"
    },
    "toc": {
      "base_numbering": 1,
      "nav_menu": {},
      "number_sections": false,
      "sideBar": true,
      "skip_h1_title": false,
      "title_cell": "Table of Contents",
      "title_sidebar": "Contents",
      "toc_cell": false,
      "toc_position": {
        "height": "calc(100% - 180px)",
        "left": "10px",
        "top": "150px",
        "width": "409.586px"
      },
      "toc_section_display": true,
      "toc_window_display": true
    },
    "colab": {
      "provenance": [],
      "include_colab_link": true
    }
  },
  "nbformat": 4,
  "nbformat_minor": 5
}