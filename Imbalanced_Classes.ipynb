{
  "nbformat": 4,
  "nbformat_minor": 0,
  "metadata": {
    "colab": {
      "provenance": [],
      "mount_file_id": "1YSf7EJACPfJl61tm1D-Ic689-hVyisEv",
      "authorship_tag": "ABX9TyPfuFEFNrfAIvlJSZhFThry",
      "include_colab_link": true
    },
    "kernelspec": {
      "name": "python3",
      "display_name": "Python 3"
    },
    "language_info": {
      "name": "python"
    }
  },
  "cells": [
    {
      "cell_type": "markdown",
      "metadata": {
        "id": "view-in-github",
        "colab_type": "text"
      },
      "source": [
        "<a href=\"https://colab.research.google.com/github/dmburns1729/Class-Files/blob/main/Imbalanced_Classes.ipynb\" target=\"_parent\"><img src=\"https://colab.research.google.com/assets/colab-badge.svg\" alt=\"Open In Colab\"/></a>"
      ]
    },
    {
      "cell_type": "markdown",
      "source": [
        "1. Weighting the classes to make predicting some classes more important than others\n",
        "\n",
        "2. Randomly undersampling the data by removing samples in the larger class until there are the same number of each\n",
        "\n",
        "3. Randomly oversampling the data by duplicating samples in the smaller class until there is the same number of each, or creating new samples that are similar to the ones in the smaller class.\n",
        "\n",
        "4. Creating new synthetic data similar to the minority class using SMOTE"
      ],
      "metadata": {
        "id": "kH4Oaf03j2Qf"
      }
    },
    {
      "cell_type": "code",
      "source": [
        "#Imports\n",
        "import pandas as pd\n",
        "from sklearn.linear_model import LogisticRegression\n",
        "from sklearn.model_selection import train_test_split\n",
        "from sklearn.metrics import classification_report, ConfusionMatrixDisplay\n",
        "from sklearn.pipeline import make_pipeline\n",
        "from sklearn.preprocessing import StandardScaler\n",
        "from imblearn.over_sampling import SMOTE, RandomOverSampler\n",
        "from imblearn.under_sampling import RandomUnderSampler"
      ],
      "metadata": {
        "id": "-iWl0Qidj7Ef"
      },
      "execution_count": null,
      "outputs": []
    },
    {
      "cell_type": "code",
      "source": [
        "#Load the data\n",
        "df = pd.read_csv('https://docs.google.com/spreadsheets/d/e/2PACX-1vTFAKNYLfNuyIqnfUQDQbJ1UkFM_6FLHX14-M04ZQLc5Wg00yr5DMffrhbOPotC_aILgKtumtxzRBwh/pub?gid=1831091818&single=true&output=csv')\n",
        "df.head()"
      ],
      "metadata": {
        "colab": {
          "base_uri": "https://localhost:8080/",
          "height": 300
        },
        "id": "PrVK5Z4rkBLo",
        "outputId": "f279d29b-4da1-4e55-9963-baa0aadfb043"
      },
      "execution_count": null,
      "outputs": [
        {
          "output_type": "execute_result",
          "data": {
            "text/plain": [
              "     Time        V1        V2        V3        V4        V5        V6  \\\n",
              "0  154903  2.051787 -0.187022 -1.103035  0.426225 -0.269518 -1.170855   \n",
              "1  118132 -1.097036 -0.233782 -0.096022 -0.372325  2.434854 -1.393347   \n",
              "2    5997 -1.451863 -0.924715  1.712229 -1.802891  0.176939 -1.201854   \n",
              "3  138313 -0.748073 -1.209636  0.887484 -1.655591 -0.065690  0.957387   \n",
              "4   58067 -0.264869  3.386140 -3.454997  4.367629  3.336060 -2.053918   \n",
              "\n",
              "         V7        V8        V9  ...       V21       V22       V23       V24  \\\n",
              "0  0.051066 -0.209313  0.806213  ... -0.303489 -0.819563  0.367881 -0.061352   \n",
              "1  0.305382 -0.077793 -0.231507  ...  0.207111  0.249741 -0.434478 -1.140822   \n",
              "2  0.146044  0.055134  2.690959  ...  0.007895  0.017067  0.183088  0.355935   \n",
              "3  0.277554  0.327990 -0.835489  ...  0.077620 -0.161395  0.725481 -1.080008   \n",
              "4  0.256890 -2.957235 -2.855797  ... -1.394504 -0.166029 -1.452081 -0.251815   \n",
              "\n",
              "        V25       V26       V27       V28  Amount  Class  \n",
              "0 -0.373009  0.206934 -0.079089 -0.064241    1.98      0  \n",
              "1  1.381077  0.108243 -0.156596 -0.087092   21.23      0  \n",
              "2  0.284810 -0.131321 -0.017971  0.103671  115.59      0  \n",
              "3 -0.305991 -0.477772 -0.028670 -0.003467  229.54      0  \n",
              "4  1.243461  0.452787  0.132218  0.424599    1.00      1  \n",
              "\n",
              "[5 rows x 31 columns]"
            ],
            "text/html": [
              "\n",
              "  <div id=\"df-466932d6-f60e-4a1f-bf63-b246baf18ae3\">\n",
              "    <div class=\"colab-df-container\">\n",
              "      <div>\n",
              "<style scoped>\n",
              "    .dataframe tbody tr th:only-of-type {\n",
              "        vertical-align: middle;\n",
              "    }\n",
              "\n",
              "    .dataframe tbody tr th {\n",
              "        vertical-align: top;\n",
              "    }\n",
              "\n",
              "    .dataframe thead th {\n",
              "        text-align: right;\n",
              "    }\n",
              "</style>\n",
              "<table border=\"1\" class=\"dataframe\">\n",
              "  <thead>\n",
              "    <tr style=\"text-align: right;\">\n",
              "      <th></th>\n",
              "      <th>Time</th>\n",
              "      <th>V1</th>\n",
              "      <th>V2</th>\n",
              "      <th>V3</th>\n",
              "      <th>V4</th>\n",
              "      <th>V5</th>\n",
              "      <th>V6</th>\n",
              "      <th>V7</th>\n",
              "      <th>V8</th>\n",
              "      <th>V9</th>\n",
              "      <th>...</th>\n",
              "      <th>V21</th>\n",
              "      <th>V22</th>\n",
              "      <th>V23</th>\n",
              "      <th>V24</th>\n",
              "      <th>V25</th>\n",
              "      <th>V26</th>\n",
              "      <th>V27</th>\n",
              "      <th>V28</th>\n",
              "      <th>Amount</th>\n",
              "      <th>Class</th>\n",
              "    </tr>\n",
              "  </thead>\n",
              "  <tbody>\n",
              "    <tr>\n",
              "      <th>0</th>\n",
              "      <td>154903</td>\n",
              "      <td>2.051787</td>\n",
              "      <td>-0.187022</td>\n",
              "      <td>-1.103035</td>\n",
              "      <td>0.426225</td>\n",
              "      <td>-0.269518</td>\n",
              "      <td>-1.170855</td>\n",
              "      <td>0.051066</td>\n",
              "      <td>-0.209313</td>\n",
              "      <td>0.806213</td>\n",
              "      <td>...</td>\n",
              "      <td>-0.303489</td>\n",
              "      <td>-0.819563</td>\n",
              "      <td>0.367881</td>\n",
              "      <td>-0.061352</td>\n",
              "      <td>-0.373009</td>\n",
              "      <td>0.206934</td>\n",
              "      <td>-0.079089</td>\n",
              "      <td>-0.064241</td>\n",
              "      <td>1.98</td>\n",
              "      <td>0</td>\n",
              "    </tr>\n",
              "    <tr>\n",
              "      <th>1</th>\n",
              "      <td>118132</td>\n",
              "      <td>-1.097036</td>\n",
              "      <td>-0.233782</td>\n",
              "      <td>-0.096022</td>\n",
              "      <td>-0.372325</td>\n",
              "      <td>2.434854</td>\n",
              "      <td>-1.393347</td>\n",
              "      <td>0.305382</td>\n",
              "      <td>-0.077793</td>\n",
              "      <td>-0.231507</td>\n",
              "      <td>...</td>\n",
              "      <td>0.207111</td>\n",
              "      <td>0.249741</td>\n",
              "      <td>-0.434478</td>\n",
              "      <td>-1.140822</td>\n",
              "      <td>1.381077</td>\n",
              "      <td>0.108243</td>\n",
              "      <td>-0.156596</td>\n",
              "      <td>-0.087092</td>\n",
              "      <td>21.23</td>\n",
              "      <td>0</td>\n",
              "    </tr>\n",
              "    <tr>\n",
              "      <th>2</th>\n",
              "      <td>5997</td>\n",
              "      <td>-1.451863</td>\n",
              "      <td>-0.924715</td>\n",
              "      <td>1.712229</td>\n",
              "      <td>-1.802891</td>\n",
              "      <td>0.176939</td>\n",
              "      <td>-1.201854</td>\n",
              "      <td>0.146044</td>\n",
              "      <td>0.055134</td>\n",
              "      <td>2.690959</td>\n",
              "      <td>...</td>\n",
              "      <td>0.007895</td>\n",
              "      <td>0.017067</td>\n",
              "      <td>0.183088</td>\n",
              "      <td>0.355935</td>\n",
              "      <td>0.284810</td>\n",
              "      <td>-0.131321</td>\n",
              "      <td>-0.017971</td>\n",
              "      <td>0.103671</td>\n",
              "      <td>115.59</td>\n",
              "      <td>0</td>\n",
              "    </tr>\n",
              "    <tr>\n",
              "      <th>3</th>\n",
              "      <td>138313</td>\n",
              "      <td>-0.748073</td>\n",
              "      <td>-1.209636</td>\n",
              "      <td>0.887484</td>\n",
              "      <td>-1.655591</td>\n",
              "      <td>-0.065690</td>\n",
              "      <td>0.957387</td>\n",
              "      <td>0.277554</td>\n",
              "      <td>0.327990</td>\n",
              "      <td>-0.835489</td>\n",
              "      <td>...</td>\n",
              "      <td>0.077620</td>\n",
              "      <td>-0.161395</td>\n",
              "      <td>0.725481</td>\n",
              "      <td>-1.080008</td>\n",
              "      <td>-0.305991</td>\n",
              "      <td>-0.477772</td>\n",
              "      <td>-0.028670</td>\n",
              "      <td>-0.003467</td>\n",
              "      <td>229.54</td>\n",
              "      <td>0</td>\n",
              "    </tr>\n",
              "    <tr>\n",
              "      <th>4</th>\n",
              "      <td>58067</td>\n",
              "      <td>-0.264869</td>\n",
              "      <td>3.386140</td>\n",
              "      <td>-3.454997</td>\n",
              "      <td>4.367629</td>\n",
              "      <td>3.336060</td>\n",
              "      <td>-2.053918</td>\n",
              "      <td>0.256890</td>\n",
              "      <td>-2.957235</td>\n",
              "      <td>-2.855797</td>\n",
              "      <td>...</td>\n",
              "      <td>-1.394504</td>\n",
              "      <td>-0.166029</td>\n",
              "      <td>-1.452081</td>\n",
              "      <td>-0.251815</td>\n",
              "      <td>1.243461</td>\n",
              "      <td>0.452787</td>\n",
              "      <td>0.132218</td>\n",
              "      <td>0.424599</td>\n",
              "      <td>1.00</td>\n",
              "      <td>1</td>\n",
              "    </tr>\n",
              "  </tbody>\n",
              "</table>\n",
              "<p>5 rows × 31 columns</p>\n",
              "</div>\n",
              "      <button class=\"colab-df-convert\" onclick=\"convertToInteractive('df-466932d6-f60e-4a1f-bf63-b246baf18ae3')\"\n",
              "              title=\"Convert this dataframe to an interactive table.\"\n",
              "              style=\"display:none;\">\n",
              "        \n",
              "  <svg xmlns=\"http://www.w3.org/2000/svg\" height=\"24px\"viewBox=\"0 0 24 24\"\n",
              "       width=\"24px\">\n",
              "    <path d=\"M0 0h24v24H0V0z\" fill=\"none\"/>\n",
              "    <path d=\"M18.56 5.44l.94 2.06.94-2.06 2.06-.94-2.06-.94-.94-2.06-.94 2.06-2.06.94zm-11 1L8.5 8.5l.94-2.06 2.06-.94-2.06-.94L8.5 2.5l-.94 2.06-2.06.94zm10 10l.94 2.06.94-2.06 2.06-.94-2.06-.94-.94-2.06-.94 2.06-2.06.94z\"/><path d=\"M17.41 7.96l-1.37-1.37c-.4-.4-.92-.59-1.43-.59-.52 0-1.04.2-1.43.59L10.3 9.45l-7.72 7.72c-.78.78-.78 2.05 0 2.83L4 21.41c.39.39.9.59 1.41.59.51 0 1.02-.2 1.41-.59l7.78-7.78 2.81-2.81c.8-.78.8-2.07 0-2.86zM5.41 20L4 18.59l7.72-7.72 1.47 1.35L5.41 20z\"/>\n",
              "  </svg>\n",
              "      </button>\n",
              "      \n",
              "  <style>\n",
              "    .colab-df-container {\n",
              "      display:flex;\n",
              "      flex-wrap:wrap;\n",
              "      gap: 12px;\n",
              "    }\n",
              "\n",
              "    .colab-df-convert {\n",
              "      background-color: #E8F0FE;\n",
              "      border: none;\n",
              "      border-radius: 50%;\n",
              "      cursor: pointer;\n",
              "      display: none;\n",
              "      fill: #1967D2;\n",
              "      height: 32px;\n",
              "      padding: 0 0 0 0;\n",
              "      width: 32px;\n",
              "    }\n",
              "\n",
              "    .colab-df-convert:hover {\n",
              "      background-color: #E2EBFA;\n",
              "      box-shadow: 0px 1px 2px rgba(60, 64, 67, 0.3), 0px 1px 3px 1px rgba(60, 64, 67, 0.15);\n",
              "      fill: #174EA6;\n",
              "    }\n",
              "\n",
              "    [theme=dark] .colab-df-convert {\n",
              "      background-color: #3B4455;\n",
              "      fill: #D2E3FC;\n",
              "    }\n",
              "\n",
              "    [theme=dark] .colab-df-convert:hover {\n",
              "      background-color: #434B5C;\n",
              "      box-shadow: 0px 1px 3px 1px rgba(0, 0, 0, 0.15);\n",
              "      filter: drop-shadow(0px 1px 2px rgba(0, 0, 0, 0.3));\n",
              "      fill: #FFFFFF;\n",
              "    }\n",
              "  </style>\n",
              "\n",
              "      <script>\n",
              "        const buttonEl =\n",
              "          document.querySelector('#df-466932d6-f60e-4a1f-bf63-b246baf18ae3 button.colab-df-convert');\n",
              "        buttonEl.style.display =\n",
              "          google.colab.kernel.accessAllowed ? 'block' : 'none';\n",
              "\n",
              "        async function convertToInteractive(key) {\n",
              "          const element = document.querySelector('#df-466932d6-f60e-4a1f-bf63-b246baf18ae3');\n",
              "          const dataTable =\n",
              "            await google.colab.kernel.invokeFunction('convertToInteractive',\n",
              "                                                     [key], {});\n",
              "          if (!dataTable) return;\n",
              "\n",
              "          const docLinkHtml = 'Like what you see? Visit the ' +\n",
              "            '<a target=\"_blank\" href=https://colab.research.google.com/notebooks/data_table.ipynb>data table notebook</a>'\n",
              "            + ' to learn more about interactive tables.';\n",
              "          element.innerHTML = '';\n",
              "          dataTable['output_type'] = 'display_data';\n",
              "          await google.colab.output.renderOutput(dataTable, element);\n",
              "          const docLink = document.createElement('div');\n",
              "          docLink.innerHTML = docLinkHtml;\n",
              "          element.appendChild(docLink);\n",
              "        }\n",
              "      </script>\n",
              "    </div>\n",
              "  </div>\n",
              "  "
            ]
          },
          "metadata": {},
          "execution_count": 2
        }
      ]
    },
    {
      "cell_type": "code",
      "source": [
        "#Check class balance\n",
        "df['Class'].value_counts(normalize=True)"
      ],
      "metadata": {
        "colab": {
          "base_uri": "https://localhost:8080/"
        },
        "id": "pY2pRJoHkPZ9",
        "outputId": "f8e973b2-a504-43be-8553-91fdc549850b"
      },
      "execution_count": null,
      "outputs": [
        {
          "output_type": "execute_result",
          "data": {
            "text/plain": [
              "0    0.99814\n",
              "1    0.00186\n",
              "Name: Class, dtype: float64"
            ]
          },
          "metadata": {},
          "execution_count": 3
        }
      ]
    },
    {
      "cell_type": "code",
      "source": [
        "#Train test split\n",
        "X = df.drop(columns=['Class'])\n",
        "y = df['Class']\n",
        "X_train, X_test, y_train, y_test = train_test_split(X, y, random_state=42)"
      ],
      "metadata": {
        "id": "NR9vVNMykQh1"
      },
      "execution_count": null,
      "outputs": []
    },
    {
      "cell_type": "code",
      "source": [
        "#Create a baseline model pipeline\n",
        "log_reg = LogisticRegression(max_iter=1000)\n",
        "scaler = StandardScaler()\n",
        "log_reg_pipe = make_pipeline(scaler, log_reg)\n",
        "#Fit and evaluate the baseline model pipeline\n",
        "log_reg_pipe.fit(X_train, y_train)\n",
        "test_preds = log_reg_pipe.predict(X_test)\n",
        "print(classification_report(y_test, test_preds))\n",
        "ConfusionMatrixDisplay.from_predictions(y_test, test_preds, normalize='true', cmap='Greens');"
      ],
      "metadata": {
        "colab": {
          "base_uri": "https://localhost:8080/",
          "height": 435
        },
        "id": "VMhwO1gvkYya",
        "outputId": "c56ad9e9-a608-4ffc-f41b-fca89ba32215"
      },
      "execution_count": null,
      "outputs": [
        {
          "output_type": "stream",
          "name": "stdout",
          "text": [
            "              precision    recall  f1-score   support\n",
            "\n",
            "           0       1.00      1.00      1.00     24955\n",
            "           1       0.91      0.69      0.78        45\n",
            "\n",
            "    accuracy                           1.00     25000\n",
            "   macro avg       0.96      0.84      0.89     25000\n",
            "weighted avg       1.00      1.00      1.00     25000\n",
            "\n"
          ]
        },
        {
          "output_type": "display_data",
          "data": {
            "text/plain": [
              "<Figure size 432x288 with 2 Axes>"
            ],
            "image/png": "[encoded data removed]"
          },
          "metadata": {
            "needs_background": "light"
          }
        }
      ]
    },
    {
      "cell_type": "markdown",
      "source": [
        "Above was the tradtional modeling.  Notice that 31% of false negatives got through.  "
      ],
      "metadata": {
        "id": "UXLq5yrQlD-a"
      }
    },
    {
      "cell_type": "code",
      "source": [
        "# Class Weights\n",
        "\n",
        "#Instantiate the pipeline with the scaler and weighted model\n",
        "log_reg_weighted = LogisticRegression(max_iter=1000, class_weight='balanced')\n",
        "scaler = StandardScaler()\n",
        "log_reg_weighted_pipe = make_pipeline(scaler, log_reg_weighted)\n",
        "#Fit and evaluate the model\n",
        "log_reg_weighted_pipe.fit(X_train, y_train)\n",
        "test_preds = log_reg_weighted_pipe.predict(X_test)\n",
        "print(classification_report(y_test, test_preds))\n",
        "ConfusionMatrixDisplay.from_predictions(y_test, test_preds, normalize='true', cmap='Greens');"
      ],
      "metadata": {
        "colab": {
          "base_uri": "https://localhost:8080/",
          "height": 435
        },
        "id": "-UiW9xzDkbbj",
        "outputId": "199020d5-398c-4550-d86c-fed07949c473"
      },
      "execution_count": null,
      "outputs": [
        {
          "output_type": "stream",
          "name": "stdout",
          "text": [
            "              precision    recall  f1-score   support\n",
            "\n",
            "           0       1.00      0.98      0.99     24955\n",
            "           1       0.07      0.96      0.13        45\n",
            "\n",
            "    accuracy                           0.98     25000\n",
            "   macro avg       0.53      0.97      0.56     25000\n",
            "weighted avg       1.00      0.98      0.99     25000\n",
            "\n"
          ]
        },
        {
          "output_type": "display_data",
          "data": {
            "text/plain": [
              "<Figure size 432x288 with 2 Axes>"
            ],
            "image/png": "[encoded data removed]"
          },
          "metadata": {
            "needs_background": "light"
          }
        }
      ]
    },
    {
      "cell_type": "markdown",
      "source": [
        "# Undersampling\n",
        "\n",
        "We can undersample our data by hand by separating the data into the classes by hand, using df.sample() to get a random sample of the majority class, then concatenating that back together with the samples from the majority class. OR, we can use the Imbalanced-Learn RandomUnderSampler class.<br>\n",
        "<br>\n",
        "The Scikit-Learn pipelines do not support the Imbalanced-Learn sampler objects. HOWEVER, Imbalanced-Learn has a pipeline that works with both Imbalanced-Learn objects AND Scikit-Learn ones. We are going to switch over to using the Imbalanced-Learn pipeline.<br>\n",
        "\n",
        "The order of objects in the sampler pipeline will be:<br>\n",
        "\n",
        "1. Transformer, preprocessing pipeline, or column transformer\n",
        "2. Sampler\n",
        "3. Model\n",
        "\n",
        "We can also combine the fit and resample methods with .fit_resample(). Since this is a pipeline, keep in mind that the scaler will fit on the data, then send a transformed copy of the data to the resampler, which will then fit on the scaled data and the pipeline will return both resampled features and target."
      ],
      "metadata": {
        "id": "EPvH6MtvmaNV"
      }
    },
    {
      "cell_type": "code",
      "source": [
        "#import imblearn pipeline\n",
        "from imblearn.pipeline import make_pipeline as make_sampler_pipeline\n",
        "from imblearn.under_sampling import RandomUnderSampler\n",
        "\n",
        "#create scaler and under sampler pipeline\n",
        "under_sampler = RandomUnderSampler()\n",
        "scaler = StandardScaler()\n",
        "under_sample_pipe = make_sampler_pipeline(scaler, under_sampler)\n",
        "\n",
        "#Compare the shape and value counts of the remaining data.\n",
        "X_train_under, y_train_under = under_sample_pipe.fit_resample(X_train, y_train)\n",
        "print('Original X_train class balance')\n",
        "print(y_train.value_counts())\n",
        "print('\\nUndersampled X_train_under class balance')\n",
        "y_train_under = pd.Series(y_train_under)\n",
        "print(y_train_under.value_counts())"
      ],
      "metadata": {
        "colab": {
          "base_uri": "https://localhost:8080/"
        },
        "id": "aAAb_dE9m4bB",
        "outputId": "c7460688-34c5-49c8-8911-d10a360dbea7"
      },
      "execution_count": null,
      "outputs": [
        {
          "output_type": "stream",
          "name": "stdout",
          "text": [
            "Original X_train class balance\n",
            "0    74859\n",
            "1      141\n",
            "Name: Class, dtype: int64\n",
            "\n",
            "Undersampled X_train_under class balance\n",
            "0    141\n",
            "1    141\n",
            "Name: Class, dtype: int64\n"
          ]
        }
      ]
    },
    {
      "cell_type": "code",
      "source": [
        "#create the pipeline\n",
        "log_reg_under = LogisticRegression(max_iter=1000)\n",
        "under_sample_log_reg_pipe = make_sampler_pipeline(scaler, under_sampler, log_reg_under)\n",
        "\n",
        "#Fit and evaluate the model\n",
        "under_sample_log_reg_pipe.fit(X_train, y_train)\n",
        "test_preds = under_sample_log_reg_pipe.predict(X_test)\n",
        "print(classification_report(y_test, test_preds))\n",
        "ConfusionMatrixDisplay.from_predictions(y_test, test_preds,normalize='true', cmap='Greens');"
      ],
      "metadata": {
        "colab": {
          "base_uri": "https://localhost:8080/",
          "height": 435
        },
        "id": "TGPWuCIRndzV",
        "outputId": "409f35a3-c25f-407b-f409-375011683333"
      },
      "execution_count": null,
      "outputs": [
        {
          "output_type": "stream",
          "name": "stdout",
          "text": [
            "              precision    recall  f1-score   support\n",
            "\n",
            "           0       1.00      0.96      0.98     24955\n",
            "           1       0.04      0.98      0.07        45\n",
            "\n",
            "    accuracy                           0.96     25000\n",
            "   macro avg       0.52      0.97      0.53     25000\n",
            "weighted avg       1.00      0.96      0.98     25000\n",
            "\n"
          ]
        },
        {
          "output_type": "display_data",
          "data": {
            "text/plain": [
              "<Figure size 432x288 with 2 Axes>"
            ],
            "image/png": "[encoded data removed]"
          },
          "metadata": {
            "needs_background": "light"
          }
        }
      ]
    },
    {
      "cell_type": "markdown",
      "source": [
        "# Oversampling\n",
        "\n",
        "When implementing oversampling we will introduce duplicates of the data in the minority class. You've been told to avoid duplicates in the past, and there are downsides to his approach. However, remember that we only resample training data, not testing data, so our model validation will not be compromised."
      ],
      "metadata": {
        "id": "vOBXp0SOn99Z"
      }
    },
    {
      "cell_type": "code",
      "source": [
        "\n",
        "\n",
        "#Import RandomOverSampling\n",
        "from imblearn.over_sampling import RandomOverSampler\n",
        "#Create an oversampling pipeline\n",
        "over_sampler = RandomOverSampler()\n",
        "over_sample_pipe = make_sampler_pipeline(scaler, over_sampler)\n",
        "#Scale and oversample the data.\n",
        "X_train_over, y_train_over = over_sample_pipe.fit_resample(X_train, y_train)\n",
        "#Explore the sresampled data\n",
        "print('Original X_train class balance')\n",
        "print(y_train.value_counts())\n",
        "print('\\nOversampled X_train_over class balance')\n",
        "y_train_over = pd.Series(y_train_over)\n",
        "print(y_train_over.value_counts())"
      ],
      "metadata": {
        "colab": {
          "base_uri": "https://localhost:8080/"
        },
        "id": "NdZput3vn1YF",
        "outputId": "c6458960-1aa3-4b41-af5d-a2f08d282120"
      },
      "execution_count": null,
      "outputs": [
        {
          "output_type": "stream",
          "name": "stdout",
          "text": [
            "Original X_train class balance\n",
            "0    74859\n",
            "1      141\n",
            "Name: Class, dtype: int64\n",
            "\n",
            "Oversampled X_train_over class balance\n",
            "0    74859\n",
            "1    74859\n",
            "Name: Class, dtype: int64\n"
          ]
        }
      ]
    },
    {
      "cell_type": "code",
      "source": [
        "#Create the oversampling modeling pipeline\n",
        "log_reg_over = LogisticRegression(max_iter=1000)\n",
        "over_sample_log_reg_pipe = make_sampler_pipeline(scaler, over_sampler, log_reg_over)\n",
        "#Fit and evaluate the model\n",
        "over_sample_log_reg_pipe.fit(X_train, y_train)\n",
        "test_preds = over_sample_log_reg_pipe.predict(X_test)\n",
        "print(classification_report(y_test, test_preds))\n",
        "ConfusionMatrixDisplay.from_predictions(y_test, test_preds, normalize='true', cmap='Greens');"
      ],
      "metadata": {
        "colab": {
          "base_uri": "https://localhost:8080/",
          "height": 435
        },
        "id": "j8LbXFM2pTML",
        "outputId": "9aeb43e2-37eb-4181-ad5b-3f43b61d9f07"
      },
      "execution_count": null,
      "outputs": [
        {
          "output_type": "stream",
          "name": "stdout",
          "text": [
            "              precision    recall  f1-score   support\n",
            "\n",
            "           0       1.00      0.98      0.99     24955\n",
            "           1       0.07      0.96      0.13        45\n",
            "\n",
            "    accuracy                           0.98     25000\n",
            "   macro avg       0.53      0.97      0.56     25000\n",
            "weighted avg       1.00      0.98      0.99     25000\n",
            "\n"
          ]
        },
        {
          "output_type": "display_data",
          "data": {
            "text/plain": [
              "<Figure size 432x288 with 2 Axes>"
            ],
            "image/png": "[encoded data removed]"
          },
          "metadata": {
            "needs_background": "light"
          }
        }
      ]
    },
    {
      "cell_type": "markdown",
      "source": [
        "# Smote\n",
        "\n",
        "SMOTE stands for Synthetic Minority Oversampling Technique. It's a powerful tool that creates new, synthetic data that is very similar to the data in the minority class. It does this by fitting a KNN model on the data and creating new data points that are near the center of the minority data cluster. In this way, the new, synthetic data is 'similar' to the original, real data."
      ],
      "metadata": {
        "id": "sDO1-YA-py01"
      }
    },
    {
      "cell_type": "code",
      "source": [
        "#Create model pipeline with scaler, SMOTE, and model\n",
        "from imblearn.over_sampling import SMOTE\n",
        "smote = SMOTE()\n",
        "log_reg_smote = LogisticRegression(max_iter=1000)\n",
        "log_reg_smote_pipe = make_sampler_pipeline(scaler, smote, log_reg_smote)\n",
        "#Fit and evaluate the model pipeline\n",
        "log_reg_smote_pipe.fit(X_train, y_train)\n",
        "test_preds = log_reg_smote_pipe.predict(X_test)\n",
        "print(classification_report(y_test, test_preds))\n",
        "ConfusionMatrixDisplay.from_predictions(y_test, test_preds,normalize='true',cmap='Greens');"
      ],
      "metadata": {
        "colab": {
          "base_uri": "https://localhost:8080/",
          "height": 435
        },
        "id": "LyPVCNzYp_ro",
        "outputId": "dfecf6ea-9121-4f6b-9602-d646c4c816a0"
      },
      "execution_count": null,
      "outputs": [
        {
          "output_type": "stream",
          "name": "stdout",
          "text": [
            "              precision    recall  f1-score   support\n",
            "\n",
            "           0       1.00      0.97      0.99     24955\n",
            "           1       0.06      0.96      0.11        45\n",
            "\n",
            "    accuracy                           0.97     25000\n",
            "   macro avg       0.53      0.96      0.55     25000\n",
            "weighted avg       1.00      0.97      0.98     25000\n",
            "\n"
          ]
        },
        {
          "output_type": "display_data",
          "data": {
            "text/plain": [
              "<Figure size 432x288 with 2 Axes>"
            ],
            "image/png": "[encoded data removed]"
          },
          "metadata": {
            "needs_background": "light"
          }
        }
      ]
    }
  ]
}