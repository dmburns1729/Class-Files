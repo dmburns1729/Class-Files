{
  "nbformat": 4,
  "nbformat_minor": 0,
  "metadata": {
    "colab": {
      "provenance": [],
      "collapsed_sections": [
        "RJrCmXfFThv-",
        "oGR1spzxYHSd",
        "qxG0kgxYYaBM",
        "HPLCotvqHqvf",
        "XbztU6mWHz3C"
      ],
      "toc_visible": true,
      "include_colab_link": true
    },
    "kernelspec": {
      "name": "python3",
      "display_name": "Python 3"
    },
    "language_info": {
      "name": "python"
    }
  },
  "cells": [
    {
      "cell_type": "markdown",
      "metadata": {
        "id": "view-in-github",
        "colab_type": "text"
      },
      "source": [
        "<a href=\"https://colab.research.google.com/github/dmburns1729/Class-Files/blob/main/Copy_of_09_12_Example_Student_Notes_Stack_1.ipynb\" target=\"_parent\"><img src=\"https://colab.research.google.com/assets/colab-badge.svg\" alt=\"Open In Colab\"/></a>"
      ]
    },
    {
      "cell_type": "markdown",
      "source": [
        "# Example Student\n",
        " Notes - Stack 1: Fundamentals\n"
      ],
      "metadata": {
        "id": "k8ohulrgSulQ"
      }
    },
    {
      "cell_type": "markdown",
      "source": [
        "- Student Name:\n",
        "- Boot camp start date:\n",
        "\n",
        "- Link to Stack Schedule: https://login.codingdojo.com/m/212/7136/51507"
      ],
      "metadata": {
        "id": "HpKIqPhibDj5"
      }
    },
    {
      "cell_type": "markdown",
      "source": [
        "# Week 1: Python for Data Science\n"
      ],
      "metadata": {
        "id": "qSUwYLg3SxDj"
      }
    },
    {
      "cell_type": "markdown",
      "source": [
        "## Table Of Contents"
      ],
      "metadata": {
        "id": "2O7Nkg1buPxg"
      }
    },
    {
      "cell_type": "markdown",
      "source": [
        "- [Course Outline](#course-outline)\n",
        "- [Python Overview](#python-overview)\n",
        "- [Google Colaboratory](#google-colaboratory)\n",
        "- [Simple Math](#simple-math)\n",
        "- [Primitive Data Types](#primitive-data-types)\n",
        "- [Declaring Variables](#declaring-variables)\n",
        "- [Functional Programming & OOP](#functional-programming-oop)\n",
        "- [Lists & Tuples](#lists-tuples)\n",
        "- [Sets & Dictionaries](#sets-dictionaries)\n",
        "- [Conditionals](#conditionals)\n",
        "- [Loops](#loops)\n",
        "- [Intro to Custom Functions](#intro-custom-functions)\n",
        "- [Debugging](#debugging)\n",
        "- [Custom Functions A](#custom-functions-a)\n",
        "- [Custom Functions B](#custom-functions-b)\n",
        "- [NumPy Overview](#numpy-overview)\n",
        "- [Working with NumPy Arrays](#working-numpy-arrays)\n",
        "- [Intro to Pandas](#intro-pandas)\n",
        "- [Loading Data with Pandas](#loading-data-pandas)\n",
        "- [Using Markdown Effectively](#using-markdown)\n",
        "- [Interview Questions](#interview-questions)\n"
      ],
      "metadata": {
        "id": "UvXAoTC0uNpy"
      }
    },
    {
      "cell_type": "code",
      "source": [
        "from google.colab import drive\n",
        "drive.mount('/content/drive')"
      ],
      "metadata": {
        "colab": {
          "base_uri": "https://localhost:8080/"
        },
        "id": "lwomuu2GZK7Q",
        "outputId": "2b4b3fd3-6241-4b3b-cf25-1cd4b7ea49eb"
      },
      "execution_count": null,
      "outputs": [
        {
          "output_type": "stream",
          "name": "stdout",
          "text": [
            "Mounted at /content/drive\n"
          ]
        }
      ]
    },
    {
      "cell_type": "markdown",
      "source": [
        "## Course Outline <a name=\"course-outline\">"
      ],
      "metadata": {
        "id": "GFnH1PhFS7MA"
      }
    },
    {
      "cell_type": "markdown",
      "source": [],
      "metadata": {
        "id": "a0Kr9YmaYK11"
      }
    },
    {
      "cell_type": "markdown",
      "source": [
        "## Python Overview <a name=\"python-overview\">\n"
      ],
      "metadata": {
        "id": "RJrCmXfFThv-"
      }
    },
    {
      "cell_type": "markdown",
      "source": [],
      "metadata": {
        "id": "Le4flN9LavJ-"
      }
    },
    {
      "cell_type": "code",
      "source": [
        "import pandas as pd\n"
      ],
      "metadata": {
        "id": "qzFFsEXYavA3"
      },
      "execution_count": null,
      "outputs": []
    },
    {
      "cell_type": "markdown",
      "source": [],
      "metadata": {
        "id": "GcIDN_WNYG2Y"
      }
    },
    {
      "cell_type": "markdown",
      "source": [
        "## Google Colaboratory <a name=\"google-colaboratory\">"
      ],
      "metadata": {
        "id": "oGR1spzxYHSd"
      }
    },
    {
      "cell_type": "code",
      "source": [
        "import matplotlib.pyplot as plt"
      ],
      "metadata": {
        "id": "G61KsUUyYJ01"
      },
      "execution_count": null,
      "outputs": []
    },
    {
      "cell_type": "markdown",
      "source": [],
      "metadata": {
        "id": "SUy0eT78YYt4"
      }
    },
    {
      "cell_type": "markdown",
      "source": [
        "## Setup & Usage <a name=\"setup-and-usage\">"
      ],
      "metadata": {
        "id": "qxG0kgxYYaBM"
      }
    },
    {
      "cell_type": "markdown",
      "source": [],
      "metadata": {
        "id": "Lq73TpXPYZHI"
      }
    },
    {
      "cell_type": "markdown",
      "source": [
        "## Print, Strings, & Variables <a name=\"print-strings-and-variables\">"
      ],
      "metadata": {
        "id": "HPLCotvqHqvf"
      }
    },
    {
      "cell_type": "code",
      "source": [],
      "metadata": {
        "id": "a6rT781sHyuk"
      },
      "execution_count": null,
      "outputs": []
    },
    {
      "cell_type": "markdown",
      "source": [
        "## Simple Math <a name=\"simple-math\">"
      ],
      "metadata": {
        "id": "XbztU6mWHz3C"
      }
    },
    {
      "cell_type": "code",
      "source": [],
      "metadata": {
        "id": "hXTGr5GdH3Qz"
      },
      "execution_count": null,
      "outputs": []
    },
    {
      "cell_type": "markdown",
      "source": [
        "## Primitive Data Types <a name=\"primitive-data-types\">"
      ],
      "metadata": {
        "id": "smgb9x5CH5MN"
      }
    },
    {
      "cell_type": "code",
      "source": [],
      "metadata": {
        "id": "u_5EJEuFIANi"
      },
      "execution_count": null,
      "outputs": []
    },
    {
      "cell_type": "markdown",
      "source": [
        "## Declaring Variables <a name=\"declaring-variables\">"
      ],
      "metadata": {
        "id": "62f0k1-bIAr9"
      }
    },
    {
      "cell_type": "code",
      "source": [],
      "metadata": {
        "id": "gjLfCsQ_IEyr"
      },
      "execution_count": null,
      "outputs": []
    },
    {
      "cell_type": "markdown",
      "source": [
        "## Functional Programming & OOP <a name=\"functional-programming-oop\">"
      ],
      "metadata": {
        "id": "m4H6qYzOIFUN"
      }
    },
    {
      "cell_type": "code",
      "source": [],
      "metadata": {
        "id": "mS8oMQqHIKxL"
      },
      "execution_count": null,
      "outputs": []
    },
    {
      "cell_type": "markdown",
      "source": [
        "## Lists & Tuples <a name=\"lists-tuples\">"
      ],
      "metadata": {
        "id": "0UQfxWV8ILX6"
      }
    },
    {
      "cell_type": "code",
      "source": [],
      "metadata": {
        "id": "d2HZyLCJIQGM"
      },
      "execution_count": null,
      "outputs": []
    },
    {
      "cell_type": "markdown",
      "source": [
        "## Sets & Dictionaries <a name=\"sets-dictionaries\">"
      ],
      "metadata": {
        "id": "MD-6Gl4oIQhl"
      }
    },
    {
      "cell_type": "code",
      "source": [],
      "metadata": {
        "id": "5GlhIEiXITzE"
      },
      "execution_count": null,
      "outputs": []
    },
    {
      "cell_type": "markdown",
      "source": [
        "## Conditionals <a name=\"conditionals\">"
      ],
      "metadata": {
        "id": "gzRtI_CKIURH"
      }
    },
    {
      "cell_type": "code",
      "source": [],
      "metadata": {
        "id": "tNBY3ahCIYC5"
      },
      "execution_count": null,
      "outputs": []
    },
    {
      "cell_type": "markdown",
      "source": [
        "## Loops <a name=\"loops\">"
      ],
      "metadata": {
        "id": "t1OrdTNJ9xjx"
      }
    },
    {
      "cell_type": "code",
      "source": [],
      "metadata": {
        "id": "z_eUfwhVIcDt"
      },
      "execution_count": null,
      "outputs": []
    },
    {
      "cell_type": "markdown",
      "source": [
        "## Intro to Custom Functions <a name=\"intro-custom-functions\">"
      ],
      "metadata": {
        "id": "fK71goLiIYlj"
      }
    },
    {
      "cell_type": "code",
      "source": [],
      "metadata": {
        "id": "agAXw_Zf9yQc"
      },
      "execution_count": null,
      "outputs": []
    },
    {
      "cell_type": "markdown",
      "source": [
        "## Debugging <a name=\"debugging\">"
      ],
      "metadata": {
        "id": "ZSjNRhLN96Nm"
      }
    },
    {
      "cell_type": "code",
      "source": [],
      "metadata": {
        "id": "tMvULpWx96k3"
      },
      "execution_count": null,
      "outputs": []
    },
    {
      "cell_type": "markdown",
      "source": [
        "## Custom Functions A <a name=\"custom-functions-a\">"
      ],
      "metadata": {
        "id": "O1dWwQlu97A4"
      }
    },
    {
      "cell_type": "code",
      "source": [],
      "metadata": {
        "id": "ROGW19AY97Wr"
      },
      "execution_count": null,
      "outputs": []
    },
    {
      "cell_type": "markdown",
      "source": [
        "## Custom Functions B <a name=\"custom-functions-b\">"
      ],
      "metadata": {
        "id": "Ho8N4hYo98Ci"
      }
    },
    {
      "cell_type": "code",
      "source": [],
      "metadata": {
        "id": "yzx73shm98f8"
      },
      "execution_count": null,
      "outputs": []
    },
    {
      "cell_type": "markdown",
      "source": [
        "##  NumPy Overview <a name=\"numpy-overview\">"
      ],
      "metadata": {
        "id": "0hLhJQa499JW"
      }
    },
    {
      "cell_type": "code",
      "source": [],
      "metadata": {
        "id": "isZci3dz99gm"
      },
      "execution_count": null,
      "outputs": []
    },
    {
      "cell_type": "markdown",
      "source": [
        "## Working with NumPy Arrays <a name=\"working-numpy-arrays\">"
      ],
      "metadata": {
        "id": "eIfJHGpu99zs"
      }
    },
    {
      "cell_type": "code",
      "source": [],
      "metadata": {
        "id": "M3xFf3oI9-Iz"
      },
      "execution_count": null,
      "outputs": []
    },
    {
      "cell_type": "markdown",
      "source": [
        "## Intro to Pandas <a name=\"intro-pandas\">"
      ],
      "metadata": {
        "id": "gchvPIwz9-r5"
      }
    },
    {
      "cell_type": "code",
      "source": [],
      "metadata": {
        "id": "PB2mGbmC9_DR"
      },
      "execution_count": null,
      "outputs": []
    },
    {
      "cell_type": "markdown",
      "source": [
        "## Loading Data with Pandas <a name=\"loading-data-pandas\">"
      ],
      "metadata": {
        "id": "2jllvt7m9_if"
      }
    },
    {
      "cell_type": "code",
      "source": [],
      "metadata": {
        "id": "7H-8j6bq9_7R"
      },
      "execution_count": null,
      "outputs": []
    },
    {
      "cell_type": "markdown",
      "source": [
        "## Using Markdown Effectively <a name=\"using-markdown\">"
      ],
      "metadata": {
        "id": "EU5jBEvl-ArM"
      }
    },
    {
      "cell_type": "code",
      "source": [],
      "metadata": {
        "id": "cTZgZXSi-BDE"
      },
      "execution_count": null,
      "outputs": []
    },
    {
      "cell_type": "markdown",
      "source": [
        "## Interview Questions <a name=\"interview-questions\">"
      ],
      "metadata": {
        "id": "7Kejw6BR_a08"
      }
    },
    {
      "cell_type": "code",
      "source": [],
      "metadata": {
        "id": "z0aztyjc_cGW"
      },
      "execution_count": null,
      "outputs": []
    },
    {
      "cell_type": "markdown",
      "source": [
        "# Week 2: Pandas for Data Manipulation"
      ],
      "metadata": {
        "id": "dBeBFrOEKact"
      }
    },
    {
      "cell_type": "code",
      "source": [],
      "metadata": {
        "id": "hGMApwsOKfaN"
      },
      "execution_count": null,
      "outputs": []
    },
    {
      "cell_type": "markdown",
      "source": [
        "# Week 3: Exploratory Data Viz"
      ],
      "metadata": {
        "id": "8Yw2ZwXjKgSN"
      }
    },
    {
      "cell_type": "code",
      "source": [],
      "metadata": {
        "id": "sgz5UKX9KkGz"
      },
      "execution_count": null,
      "outputs": []
    },
    {
      "cell_type": "markdown",
      "source": [
        "# Week 4: Explanatory Data Viz"
      ],
      "metadata": {
        "id": "5oz0B55aKkm6"
      }
    },
    {
      "cell_type": "code",
      "source": [],
      "metadata": {
        "id": "g0zDzoehKoXU"
      },
      "execution_count": null,
      "outputs": []
    }
  ]
}