{
  "nbformat": 4,
  "nbformat_minor": 0,
  "metadata": {
    "colab": {
      "provenance": [],
      "include_colab_link": true
    },
    "kernelspec": {
      "name": "python3",
      "display_name": "Python 3"
    },
    "language_info": {
      "name": "python"
    }
  },
  "cells": [
    {
      "cell_type": "markdown",
      "metadata": {
        "id": "view-in-github",
        "colab_type": "text"
      },
      "source": [
        "<a href=\"https://colab.research.google.com/github/dmburns1729/Class-Files/blob/main/Copy_of_Variables_and_Primitive_Data_Types.ipynb\" target=\"_parent\"><img src=\"https://colab.research.google.com/assets/colab-badge.svg\" alt=\"Open In Colab\"/></a>"
      ]
    },
    {
      "cell_type": "markdown",
      "source": [
        "# Variables and Primitive Data Types Practice"
      ],
      "metadata": {
        "id": "zy9NuR2fuGeT"
      }
    },
    {
      "cell_type": "markdown",
      "source": [
        "# Task 0\n",
        "Print the string 'Hello World!'"
      ],
      "metadata": {
        "id": "uyujPC7qRJlm"
      }
    },
    {
      "cell_type": "code",
      "source": [
        "# your code here\n",
        "print('Hello World!')"
      ],
      "metadata": {
        "id": "dtKQsi98RbQf",
        "colab": {
          "base_uri": "https://localhost:8080/"
        },
        "outputId": "dd98c98e-b7dd-47f1-d18c-2c6c09e2f7b6"
      },
      "execution_count": null,
      "outputs": [
        {
          "output_type": "stream",
          "name": "stdout",
          "text": [
            "Hello World!\n"
          ]
        }
      ]
    },
    {
      "cell_type": "markdown",
      "source": [
        "## Task 1a\n",
        "\n",
        "Define a variable **distance** that points to 140.\n",
        "\n",
        "Define a variable **time** that points to 3.\n",
        "\n",
        "Define a variable **speed** that points to the calculation for the speed. Be sure to use the variables names in your calculation. (Speed = distance/time)  \n",
        "\n",
        "Print the speed using print(speed)"
      ],
      "metadata": {
        "id": "iHQFHZyXuM0k"
      }
    },
    {
      "cell_type": "code",
      "execution_count": null,
      "metadata": {
        "id": "LlQ8wB57t9n0",
        "colab": {
          "base_uri": "https://localhost:8080/"
        },
        "outputId": "54b828e1-9f39-4928-cfd1-acd4966417bd"
      },
      "outputs": [
        {
          "output_type": "stream",
          "name": "stdout",
          "text": [
            "46.666666666666664\n"
          ]
        }
      ],
      "source": [
        "# your code here\n",
        "distance = 140\n",
        "time = 3\n",
        "speed = distance/time\n",
        "print(speed)"
      ]
    },
    {
      "cell_type": "markdown",
      "source": [
        "#Task 1b\n",
        "Build on your previous code.\n",
        "\n",
        "Instead of just printing speed, print an f statement that says:\n",
        "\n",
        "If it takes -- hours to travel -- miles, the speed is -- miles per hour.  \n",
        "\n",
        "Fill in the blanks with the appropriate variables."
      ],
      "metadata": {
        "id": "h7juifK_vMXb"
      }
    },
    {
      "cell_type": "code",
      "source": [
        "# your code here\n",
        "distance = 140\n",
        "time = 3\n",
        "speed = distance/time\n",
        "speed = round(speed,1)\n",
        "statement = f'If it takes {time} hours to travel {distance} miles, the speed is {speed} miles per hour'\n",
        "print(statement)"
      ],
      "metadata": {
        "id": "dt_bJZCovkvP",
        "colab": {
          "base_uri": "https://localhost:8080/"
        },
        "outputId": "94d6554a-3f95-42dd-8165-601695805931"
      },
      "execution_count": null,
      "outputs": [
        {
          "output_type": "stream",
          "name": "stdout",
          "text": [
            "If it takes 3 hours to travel 140 miles, the speed is 46.7 miles per hour\n"
          ]
        }
      ]
    },
    {
      "cell_type": "markdown",
      "source": [
        "# Task 1c\n",
        "Check the data type of all three of your variables"
      ],
      "metadata": {
        "id": "KOy7i12dwjkE"
      }
    },
    {
      "cell_type": "code",
      "source": [
        "# your code here\n",
        "type(distance)"
      ],
      "metadata": {
        "id": "QdUNyzrAxHiD",
        "colab": {
          "base_uri": "https://localhost:8080/"
        },
        "outputId": "860abb17-726c-4e45-f439-45bde8398c15"
      },
      "execution_count": null,
      "outputs": [
        {
          "output_type": "execute_result",
          "data": {
            "text/plain": [
              "int"
            ]
          },
          "metadata": {},
          "execution_count": 9
        }
      ]
    },
    {
      "cell_type": "code",
      "source": [
        "# your code here\n",
        "type(time)"
      ],
      "metadata": {
        "id": "aAOB3_Q6xSYs",
        "colab": {
          "base_uri": "https://localhost:8080/"
        },
        "outputId": "91a20cc7-049e-4ef3-8e7d-26073b3217ac"
      },
      "execution_count": null,
      "outputs": [
        {
          "output_type": "execute_result",
          "data": {
            "text/plain": [
              "int"
            ]
          },
          "metadata": {},
          "execution_count": 10
        }
      ]
    },
    {
      "cell_type": "code",
      "source": [
        "# your code here\n",
        "type(speed)"
      ],
      "metadata": {
        "id": "_U8xxGQbxU19",
        "colab": {
          "base_uri": "https://localhost:8080/"
        },
        "outputId": "436ca325-b51d-4c67-c3d0-e2deb8cbc703"
      },
      "execution_count": null,
      "outputs": [
        {
          "output_type": "execute_result",
          "data": {
            "text/plain": [
              "float"
            ]
          },
          "metadata": {},
          "execution_count": 11
        }
      ]
    },
    {
      "cell_type": "markdown",
      "source": [
        "# Task 1d\n",
        "Change the data type of time from integer to float.\n",
        "\n",
        "Recheck the data type to confirm it is a float."
      ],
      "metadata": {
        "id": "OFz65OX-xcHa"
      }
    },
    {
      "cell_type": "code",
      "source": [
        "# your code here\n",
        "time = float(time)\n",
        "type(time)"
      ],
      "metadata": {
        "id": "RxodwaNpxaQm",
        "colab": {
          "base_uri": "https://localhost:8080/"
        },
        "outputId": "6e973689-6bc9-4784-923a-c68fa07bebbc"
      },
      "execution_count": null,
      "outputs": [
        {
          "output_type": "execute_result",
          "data": {
            "text/plain": [
              "float"
            ]
          },
          "metadata": {},
          "execution_count": 13
        }
      ]
    },
    {
      "cell_type": "markdown",
      "source": [
        "# Task 2a\n",
        "Define a variable **customer** that points to a string with the customer's name, Charlene.\n",
        "\n",
        "Print the customer's name using print(customer)"
      ],
      "metadata": {
        "id": "XHbK5vGrycvU"
      }
    },
    {
      "cell_type": "code",
      "source": [
        "# your code here\n",
        "customer = \"Charlene\"\n",
        "print(customer)"
      ],
      "metadata": {
        "id": "NW5j7WZ_y604",
        "colab": {
          "base_uri": "https://localhost:8080/"
        },
        "outputId": "e29ea4f4-bb9f-4be5-b9bf-7316d6315376"
      },
      "execution_count": null,
      "outputs": [
        {
          "output_type": "stream",
          "name": "stdout",
          "text": [
            "Charlene\n"
          ]
        }
      ]
    },
    {
      "cell_type": "markdown",
      "source": [
        "# Task 2b\n",
        "Check the data type of customer"
      ],
      "metadata": {
        "id": "rqi5fTVozocO"
      }
    },
    {
      "cell_type": "code",
      "source": [
        "# your code here\n",
        "type(customer)"
      ],
      "metadata": {
        "id": "rDhc3ttLzjCN",
        "colab": {
          "base_uri": "https://localhost:8080/"
        },
        "outputId": "593fdd25-8dc8-4c93-a4ab-98b9a8190295"
      },
      "execution_count": null,
      "outputs": [
        {
          "output_type": "execute_result",
          "data": {
            "text/plain": [
              "str"
            ]
          },
          "metadata": {},
          "execution_count": 15
        }
      ]
    },
    {
      "cell_type": "markdown",
      "source": [
        "# Task 2c\n",
        "Set up a comparison statement using == to test if the customer is Charlene.\n",
        "\n",
        "Your code should return True."
      ],
      "metadata": {
        "id": "XuM8gGRmzyz0"
      }
    },
    {
      "cell_type": "code",
      "source": [
        "# your code here\n",
        "customer == 'Charlene'\n"
      ],
      "metadata": {
        "id": "m-69lURK0NIp",
        "colab": {
          "base_uri": "https://localhost:8080/"
        },
        "outputId": "14d19c0a-a08d-4c4c-81f6-357e42003472"
      },
      "execution_count": null,
      "outputs": [
        {
          "output_type": "execute_result",
          "data": {
            "text/plain": [
              "True"
            ]
          },
          "metadata": {},
          "execution_count": 17
        }
      ]
    },
    {
      "cell_type": "markdown",
      "source": [
        "# Task 2d\n",
        "Set up a compararison statement using == to test if the customer is Bob.\n",
        "\n",
        "Your code should return False."
      ],
      "metadata": {
        "id": "Ox9QmPr-0NlO"
      }
    },
    {
      "cell_type": "code",
      "source": [
        "# your code here\n",
        "customer == \"Bob\""
      ],
      "metadata": {
        "id": "BvWaCs5R0SO-",
        "colab": {
          "base_uri": "https://localhost:8080/"
        },
        "outputId": "f542fbc4-527f-4a6e-bea1-50241fdf1592"
      },
      "execution_count": null,
      "outputs": [
        {
          "output_type": "execute_result",
          "data": {
            "text/plain": [
              "False"
            ]
          },
          "metadata": {},
          "execution_count": 18
        }
      ]
    }
  ]
}