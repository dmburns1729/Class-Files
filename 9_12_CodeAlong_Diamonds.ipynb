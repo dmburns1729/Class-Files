{
  "nbformat": 4,
  "nbformat_minor": 0,
  "metadata": {
    "colab": {
      "provenance": [],
      "include_colab_link": true
    },
    "kernelspec": {
      "name": "python3",
      "display_name": "Python 3"
    },
    "language_info": {
      "name": "python"
    }
  },
  "cells": [
    {
      "cell_type": "markdown",
      "metadata": {
        "id": "view-in-github",
        "colab_type": "text"
      },
      "source": [
        "<a href=\"https://colab.research.google.com/github/dmburns1729/Class-Files/blob/main/9_12_CodeAlong_Diamonds.ipynb\" target=\"_parent\"><img src=\"https://colab.research.google.com/assets/colab-badge.svg\" alt=\"Open In Colab\"/></a>"
      ]
    },
    {
      "cell_type": "markdown",
      "source": [
        "Steps\n",
        "1. import all libraries\n",
        "2. Load the dataset\n",
        "3. make copy of df\n",
        "5. check about dataset info\n",
        "6. df.isna().sum().sum()\n",
        "7. check for duplicates and drop the duplicates - df.duplicated().sum()\n",
        "8. check for incosistacneis\n",
        "9. Split the dataset-train/test\n",
        "10. column selection - separate the categorical and numerical one data\n",
        "11. handling missing values using imputer for categorical and numerical dataset\n",
        "12. justify the strategy used in code like why are you using mean, median or mode.\n",
        "13. Make pipleines\n",
        "14. use column transformers for scaling , ohe, for the categorical and numerical data.\n",
        "15.fit the data to train and transform train/test both  \n"
      ],
      "metadata": {
        "id": "0uExw6mPoDQp"
      }
    },
    {
      "cell_type": "code",
      "execution_count": null,
      "metadata": {
        "id": "6G4eBaneNqSG"
      },
      "outputs": [],
      "source": [
        "# Imports\n",
        "import pandas as pd\n",
        "import numpy as np\n",
        "from sklearn.model_selection import train_test_split\n",
        "from sklearn.compose import make_column_selector, make_column_transformer\n",
        "from sklearn.preprocessing import StandardScaler, MinMaxScaler, OneHotEncoder, \\\n",
        "OrdinalEncoder\n",
        "from sklearn.pipeline import make_pipeline\n",
        "from sklearn.impute import SimpleImputer\n",
        "from sklearn import set_config\n",
        "set_config(display='diagram')"
      ]
    },
    {
      "cell_type": "markdown",
      "source": [
        "# Task:\n",
        "Predict the sale price of a diamond based on measurements of the diamond\n",
        "\n",
        "carat\n",
        "weight of the diamond\n",
        "\n",
        "cut\n",
        "quality of the cut (Fair, Good, Very Good, Premium, Ideal)\n",
        "\n",
        "color\n",
        "diamond colour, from J (worst) to D (best)\n",
        "\n",
        "clarity\n",
        "a measurement of how clear the diamond is (I1 (worst), SI2, SI1, VS2, VS1, VVS2, VVS1, IF (best))\n",
        "\n",
        "x\n",
        "length in mm\n",
        "\n",
        "y\n",
        "width in mm\n",
        "\n",
        "z\n",
        "depth in mm\n",
        "\n",
        "table\n",
        "\n",
        "width of top of diamond relative to widest point"
      ],
      "metadata": {
        "id": "BbV__sfX5w4U"
      }
    },
    {
      "cell_type": "markdown",
      "source": [
        "# Steps:\n",
        "\n",
        "1. Load the Data\n",
        "2. Check for duplicates, missing values, errors\n",
        "3. Split the data (X, y and train, test)\n",
        "4. Instantiate the Transformers and column selectors\n",
        "5. Create numeric preprocessing pipeline and categorical preprocessing pipeline\n",
        "6. Combine pipelines using column transformer\n",
        "7. Fit preprocessor on X_train\n",
        "8. Transform both X_train and X_test\n",
        "9. (Optional) convert processed X_train back to a dataframe."
      ],
      "metadata": {
        "id": "7YWXYUr7_Sgv"
      }
    },
    {
      "cell_type": "markdown",
      "source": [
        "# Load the Data"
      ],
      "metadata": {
        "id": "nYr3ZlaS_Q5x"
      }
    },
    {
      "cell_type": "code",
      "source": [
        "# Load in the data\n",
        "\n",
        "df = pd.read_csv('https://docs.google.com/spreadsheets/d/e/2PACX-1vTpBcQrzjkPeQ4W_sZuOa45qqxLBgtr_wzistIB3a7gFUJ1AlBhloV5g9IxV5DFnd-GPktXDNprGOUh/pub?gid=88799590&single=true&output=csv')"
      ],
      "metadata": {
        "id": "eTRaEHFbN8sw"
      },
      "execution_count": null,
      "outputs": []
    },
    {
      "cell_type": "code",
      "source": [
        "# Take a look at the first five rows of the dataframe\n",
        "df.head()"
      ],
      "metadata": {
        "id": "YeyK1EuMODEU",
        "outputId": "85b3d882-6045-4fdc-b1e3-d97bd10bb1da",
        "colab": {
          "base_uri": "https://localhost:8080/",
          "height": 206
        }
      },
      "execution_count": null,
      "outputs": [
        {
          "output_type": "execute_result",
          "data": {
            "text/plain": [
              "   Unnamed: 0  carat      cut color clarity  depth  table  price     x     y  \\\n",
              "0           1   0.23    Ideal     E     SI2   61.5   55.0  326.0  3.95  3.98   \n",
              "1           2   0.21  Premium     E     SI1   59.8   61.0  326.0  3.89  3.84   \n",
              "2           3   0.23     Good     E     VS1   56.9   65.0  327.0  4.05  4.07   \n",
              "3           4   0.29  Premium     I     VS2   62.4   58.0  334.0  4.20  4.23   \n",
              "4           5    NaN     Good     J     SI2   63.3   58.0  335.0  4.34  4.35   \n",
              "\n",
              "      z  \n",
              "0  2.43  \n",
              "1  2.31  \n",
              "2  2.31  \n",
              "3  2.63  \n",
              "4  2.75  "
            ],
            "text/html": [
              "\n",
              "  <div id=\"df-1a273aa5-446a-4501-a181-2dbd607d5e84\">\n",
              "    <div class=\"colab-df-container\">\n",
              "      <div>\n",
              "<style scoped>\n",
              "    .dataframe tbody tr th:only-of-type {\n",
              "        vertical-align: middle;\n",
              "    }\n",
              "\n",
              "    .dataframe tbody tr th {\n",
              "        vertical-align: top;\n",
              "    }\n",
              "\n",
              "    .dataframe thead th {\n",
              "        text-align: right;\n",
              "    }\n",
              "</style>\n",
              "<table border=\"1\" class=\"dataframe\">\n",
              "  <thead>\n",
              "    <tr style=\"text-align: right;\">\n",
              "      <th></th>\n",
              "      <th>Unnamed: 0</th>\n",
              "      <th>carat</th>\n",
              "      <th>cut</th>\n",
              "      <th>color</th>\n",
              "      <th>clarity</th>\n",
              "      <th>depth</th>\n",
              "      <th>table</th>\n",
              "      <th>price</th>\n",
              "      <th>x</th>\n",
              "      <th>y</th>\n",
              "      <th>z</th>\n",
              "    </tr>\n",
              "  </thead>\n",
              "  <tbody>\n",
              "    <tr>\n",
              "      <th>0</th>\n",
              "      <td>1</td>\n",
              "      <td>0.23</td>\n",
              "      <td>Ideal</td>\n",
              "      <td>E</td>\n",
              "      <td>SI2</td>\n",
              "      <td>61.5</td>\n",
              "      <td>55.0</td>\n",
              "      <td>326.0</td>\n",
              "      <td>3.95</td>\n",
              "      <td>3.98</td>\n",
              "      <td>2.43</td>\n",
              "    </tr>\n",
              "    <tr>\n",
              "      <th>1</th>\n",
              "      <td>2</td>\n",
              "      <td>0.21</td>\n",
              "      <td>Premium</td>\n",
              "      <td>E</td>\n",
              "      <td>SI1</td>\n",
              "      <td>59.8</td>\n",
              "      <td>61.0</td>\n",
              "      <td>326.0</td>\n",
              "      <td>3.89</td>\n",
              "      <td>3.84</td>\n",
              "      <td>2.31</td>\n",
              "    </tr>\n",
              "    <tr>\n",
              "      <th>2</th>\n",
              "      <td>3</td>\n",
              "      <td>0.23</td>\n",
              "      <td>Good</td>\n",
              "      <td>E</td>\n",
              "      <td>VS1</td>\n",
              "      <td>56.9</td>\n",
              "      <td>65.0</td>\n",
              "      <td>327.0</td>\n",
              "      <td>4.05</td>\n",
              "      <td>4.07</td>\n",
              "      <td>2.31</td>\n",
              "    </tr>\n",
              "    <tr>\n",
              "      <th>3</th>\n",
              "      <td>4</td>\n",
              "      <td>0.29</td>\n",
              "      <td>Premium</td>\n",
              "      <td>I</td>\n",
              "      <td>VS2</td>\n",
              "      <td>62.4</td>\n",
              "      <td>58.0</td>\n",
              "      <td>334.0</td>\n",
              "      <td>4.20</td>\n",
              "      <td>4.23</td>\n",
              "      <td>2.63</td>\n",
              "    </tr>\n",
              "    <tr>\n",
              "      <th>4</th>\n",
              "      <td>5</td>\n",
              "      <td>NaN</td>\n",
              "      <td>Good</td>\n",
              "      <td>J</td>\n",
              "      <td>SI2</td>\n",
              "      <td>63.3</td>\n",
              "      <td>58.0</td>\n",
              "      <td>335.0</td>\n",
              "      <td>4.34</td>\n",
              "      <td>4.35</td>\n",
              "      <td>2.75</td>\n",
              "    </tr>\n",
              "  </tbody>\n",
              "</table>\n",
              "</div>\n",
              "      <button class=\"colab-df-convert\" onclick=\"convertToInteractive('df-1a273aa5-446a-4501-a181-2dbd607d5e84')\"\n",
              "              title=\"Convert this dataframe to an interactive table.\"\n",
              "              style=\"display:none;\">\n",
              "        \n",
              "  <svg xmlns=\"http://www.w3.org/2000/svg\" height=\"24px\"viewBox=\"0 0 24 24\"\n",
              "       width=\"24px\">\n",
              "    <path d=\"M0 0h24v24H0V0z\" fill=\"none\"/>\n",
              "    <path d=\"M18.56 5.44l.94 2.06.94-2.06 2.06-.94-2.06-.94-.94-2.06-.94 2.06-2.06.94zm-11 1L8.5 8.5l.94-2.06 2.06-.94-2.06-.94L8.5 2.5l-.94 2.06-2.06.94zm10 10l.94 2.06.94-2.06 2.06-.94-2.06-.94-.94-2.06-.94 2.06-2.06.94z\"/><path d=\"M17.41 7.96l-1.37-1.37c-.4-.4-.92-.59-1.43-.59-.52 0-1.04.2-1.43.59L10.3 9.45l-7.72 7.72c-.78.78-.78 2.05 0 2.83L4 21.41c.39.39.9.59 1.41.59.51 0 1.02-.2 1.41-.59l7.78-7.78 2.81-2.81c.8-.78.8-2.07 0-2.86zM5.41 20L4 18.59l7.72-7.72 1.47 1.35L5.41 20z\"/>\n",
              "  </svg>\n",
              "      </button>\n",
              "      \n",
              "  <style>\n",
              "    .colab-df-container {\n",
              "      display:flex;\n",
              "      flex-wrap:wrap;\n",
              "      gap: 12px;\n",
              "    }\n",
              "\n",
              "    .colab-df-convert {\n",
              "      background-color: #E8F0FE;\n",
              "      border: none;\n",
              "      border-radius: 50%;\n",
              "      cursor: pointer;\n",
              "      display: none;\n",
              "      fill: #1967D2;\n",
              "      height: 32px;\n",
              "      padding: 0 0 0 0;\n",
              "      width: 32px;\n",
              "    }\n",
              "\n",
              "    .colab-df-convert:hover {\n",
              "      background-color: #E2EBFA;\n",
              "      box-shadow: 0px 1px 2px rgba(60, 64, 67, 0.3), 0px 1px 3px 1px rgba(60, 64, 67, 0.15);\n",
              "      fill: #174EA6;\n",
              "    }\n",
              "\n",
              "    [theme=dark] .colab-df-convert {\n",
              "      background-color: #3B4455;\n",
              "      fill: #D2E3FC;\n",
              "    }\n",
              "\n",
              "    [theme=dark] .colab-df-convert:hover {\n",
              "      background-color: #434B5C;\n",
              "      box-shadow: 0px 1px 3px 1px rgba(0, 0, 0, 0.15);\n",
              "      filter: drop-shadow(0px 1px 2px rgba(0, 0, 0, 0.3));\n",
              "      fill: #FFFFFF;\n",
              "    }\n",
              "  </style>\n",
              "\n",
              "      <script>\n",
              "        const buttonEl =\n",
              "          document.querySelector('#df-1a273aa5-446a-4501-a181-2dbd607d5e84 button.colab-df-convert');\n",
              "        buttonEl.style.display =\n",
              "          google.colab.kernel.accessAllowed ? 'block' : 'none';\n",
              "\n",
              "        async function convertToInteractive(key) {\n",
              "          const element = document.querySelector('#df-1a273aa5-446a-4501-a181-2dbd607d5e84');\n",
              "          const dataTable =\n",
              "            await google.colab.kernel.invokeFunction('convertToInteractive',\n",
              "                                                     [key], {});\n",
              "          if (!dataTable) return;\n",
              "\n",
              "          const docLinkHtml = 'Like what you see? Visit the ' +\n",
              "            '<a target=\"_blank\" href=https://colab.research.google.com/notebooks/data_table.ipynb>data table notebook</a>'\n",
              "            + ' to learn more about interactive tables.';\n",
              "          element.innerHTML = '';\n",
              "          dataTable['output_type'] = 'display_data';\n",
              "          await google.colab.output.renderOutput(dataTable, element);\n",
              "          const docLink = document.createElement('div');\n",
              "          docLink.innerHTML = docLinkHtml;\n",
              "          element.appendChild(docLink);\n",
              "        }\n",
              "      </script>\n",
              "    </div>\n",
              "  </div>\n",
              "  "
            ]
          },
          "metadata": {},
          "execution_count": 3
        }
      ]
    },
    {
      "cell_type": "markdown",
      "source": [
        "We will make a copy of original df to avoid any manipulations"
      ],
      "metadata": {
        "id": "dqS1isRUDBac"
      }
    },
    {
      "cell_type": "code",
      "source": [
        "df_ml = df.copy()"
      ],
      "metadata": {
        "id": "qlAE3K35DAW8"
      },
      "execution_count": null,
      "outputs": []
    },
    {
      "cell_type": "code",
      "source": [
        "df_ml.drop('Unnamed: 0', axis=1, inplace=True)"
      ],
      "metadata": {
        "id": "zJx_eZ7aAvrF"
      },
      "execution_count": null,
      "outputs": []
    },
    {
      "cell_type": "markdown",
      "source": [
        "# Check for Duplicated, Missing, or Erroneous Data"
      ],
      "metadata": {
        "id": "T2ty6Pq5AXLf"
      }
    },
    {
      "cell_type": "code",
      "source": [
        "df_ml.isna().sum()"
      ],
      "metadata": {
        "colab": {
          "base_uri": "https://localhost:8080/"
        },
        "id": "VNdgEu-vA9yX",
        "outputId": "0df4faa8-122a-4cf9-bf8f-85215c8b8fbd"
      },
      "execution_count": null,
      "outputs": [
        {
          "output_type": "execute_result",
          "data": {
            "text/plain": [
              "carat      20\n",
              "cut        21\n",
              "color       8\n",
              "clarity     4\n",
              "depth       6\n",
              "table       5\n",
              "price       6\n",
              "x           5\n",
              "y           6\n",
              "z           6\n",
              "dtype: int64"
            ]
          },
          "metadata": {},
          "execution_count": 6
        }
      ]
    },
    {
      "cell_type": "code",
      "source": [
        "# Check to see if there are any duplicates\n",
        "df_ml.duplicated().sum()"
      ],
      "metadata": {
        "id": "lA8kag6aOFrX",
        "colab": {
          "base_uri": "https://localhost:8080/"
        },
        "outputId": "659cc98b-7a47-44ff-9c59-f61375df8380"
      },
      "execution_count": null,
      "outputs": [
        {
          "output_type": "execute_result",
          "data": {
            "text/plain": [
              "145"
            ]
          },
          "metadata": {},
          "execution_count": 7
        }
      ]
    },
    {
      "cell_type": "code",
      "source": [
        "df_ml.drop_duplicates(inplace=True)"
      ],
      "metadata": {
        "id": "bnQ_SW57Gc1P"
      },
      "execution_count": null,
      "outputs": []
    },
    {
      "cell_type": "code",
      "source": [
        "# Look at the info from the data\n",
        "df_ml.info()"
      ],
      "metadata": {
        "id": "CmbaDgZxOD8C",
        "outputId": "98974885-a55c-4e82-9c9d-fb1be07d429d",
        "colab": {
          "base_uri": "https://localhost:8080/"
        }
      },
      "execution_count": null,
      "outputs": [
        {
          "output_type": "stream",
          "name": "stdout",
          "text": [
            "<class 'pandas.core.frame.DataFrame'>\n",
            "Int64Index: 53795 entries, 0 to 53939\n",
            "Data columns (total 10 columns):\n",
            " #   Column   Non-Null Count  Dtype  \n",
            "---  ------   --------------  -----  \n",
            " 0   carat    53775 non-null  float64\n",
            " 1   cut      53774 non-null  object \n",
            " 2   color    53787 non-null  object \n",
            " 3   clarity  53791 non-null  object \n",
            " 4   depth    53789 non-null  float64\n",
            " 5   table    53790 non-null  float64\n",
            " 6   price    53789 non-null  float64\n",
            " 7   x        53790 non-null  float64\n",
            " 8   y        53789 non-null  float64\n",
            " 9   z        53789 non-null  float64\n",
            "dtypes: float64(7), object(3)\n",
            "memory usage: 4.5+ MB\n"
          ]
        }
      ]
    },
    {
      "cell_type": "code",
      "source": [
        "df_ml.describe(include='all')"
      ],
      "metadata": {
        "colab": {
          "base_uri": "https://localhost:8080/",
          "height": 394
        },
        "id": "KoeSLYMdHuiQ",
        "outputId": "12bd5497-7f07-4768-c4f7-135c8caf73cf"
      },
      "execution_count": null,
      "outputs": [
        {
          "output_type": "execute_result",
          "data": {
            "text/plain": [
              "               carat    cut  color clarity         depth         table  \\\n",
              "count   53775.000000  53774  53787   53791  53789.000000  53790.000000   \n",
              "unique           NaN      5      7       8           NaN           NaN   \n",
              "top              NaN  Ideal      G     SI1           NaN           NaN   \n",
              "freq             NaN  21482  11261   13031           NaN           NaN   \n",
              "mean        0.797843    NaN    NaN     NaN     61.748088     57.458130   \n",
              "std         0.473441    NaN    NaN     NaN      1.429968      2.233664   \n",
              "min         0.200000    NaN    NaN     NaN     43.000000     43.000000   \n",
              "25%         0.400000    NaN    NaN     NaN     61.000000     56.000000   \n",
              "50%         0.700000    NaN    NaN     NaN     61.800000     57.000000   \n",
              "75%         1.040000    NaN    NaN     NaN     62.500000     59.000000   \n",
              "max         5.010000    NaN    NaN     NaN     79.000000     95.000000   \n",
              "\n",
              "               price             x             y             z  \n",
              "count   53789.000000  53790.000000  53789.000000  53789.000000  \n",
              "unique           NaN           NaN           NaN           NaN  \n",
              "top              NaN           NaN           NaN           NaN  \n",
              "freq             NaN           NaN           NaN           NaN  \n",
              "mean     3933.306178      5.731268      5.734716      3.538758  \n",
              "std      3988.219384      1.120706      1.141239      0.705048  \n",
              "min       326.000000      0.000000      0.000000      0.000000  \n",
              "25%       951.000000      4.710000      4.720000      2.910000  \n",
              "50%      2401.000000      5.700000      5.710000      3.530000  \n",
              "75%      5327.000000      6.540000      6.540000      4.030000  \n",
              "max     18823.000000     10.740000     58.900000     31.800000  "
            ],
            "text/html": [
              "\n",
              "  <div id=\"df-875fd444-a515-48ff-8043-7d5e81066c50\">\n",
              "    <div class=\"colab-df-container\">\n",
              "      <div>\n",
              "<style scoped>\n",
              "    .dataframe tbody tr th:only-of-type {\n",
              "        vertical-align: middle;\n",
              "    }\n",
              "\n",
              "    .dataframe tbody tr th {\n",
              "        vertical-align: top;\n",
              "    }\n",
              "\n",
              "    .dataframe thead th {\n",
              "        text-align: right;\n",
              "    }\n",
              "</style>\n",
              "<table border=\"1\" class=\"dataframe\">\n",
              "  <thead>\n",
              "    <tr style=\"text-align: right;\">\n",
              "      <th></th>\n",
              "      <th>carat</th>\n",
              "      <th>cut</th>\n",
              "      <th>color</th>\n",
              "      <th>clarity</th>\n",
              "      <th>depth</th>\n",
              "      <th>table</th>\n",
              "      <th>price</th>\n",
              "      <th>x</th>\n",
              "      <th>y</th>\n",
              "      <th>z</th>\n",
              "    </tr>\n",
              "  </thead>\n",
              "  <tbody>\n",
              "    <tr>\n",
              "      <th>count</th>\n",
              "      <td>53775.000000</td>\n",
              "      <td>53774</td>\n",
              "      <td>53787</td>\n",
              "      <td>53791</td>\n",
              "      <td>53789.000000</td>\n",
              "      <td>53790.000000</td>\n",
              "      <td>53789.000000</td>\n",
              "      <td>53790.000000</td>\n",
              "      <td>53789.000000</td>\n",
              "      <td>53789.000000</td>\n",
              "    </tr>\n",
              "    <tr>\n",
              "      <th>unique</th>\n",
              "      <td>NaN</td>\n",
              "      <td>5</td>\n",
              "      <td>7</td>\n",
              "      <td>8</td>\n",
              "      <td>NaN</td>\n",
              "      <td>NaN</td>\n",
              "      <td>NaN</td>\n",
              "      <td>NaN</td>\n",
              "      <td>NaN</td>\n",
              "      <td>NaN</td>\n",
              "    </tr>\n",
              "    <tr>\n",
              "      <th>top</th>\n",
              "      <td>NaN</td>\n",
              "      <td>Ideal</td>\n",
              "      <td>G</td>\n",
              "      <td>SI1</td>\n",
              "      <td>NaN</td>\n",
              "      <td>NaN</td>\n",
              "      <td>NaN</td>\n",
              "      <td>NaN</td>\n",
              "      <td>NaN</td>\n",
              "      <td>NaN</td>\n",
              "    </tr>\n",
              "    <tr>\n",
              "      <th>freq</th>\n",
              "      <td>NaN</td>\n",
              "      <td>21482</td>\n",
              "      <td>11261</td>\n",
              "      <td>13031</td>\n",
              "      <td>NaN</td>\n",
              "      <td>NaN</td>\n",
              "      <td>NaN</td>\n",
              "      <td>NaN</td>\n",
              "      <td>NaN</td>\n",
              "      <td>NaN</td>\n",
              "    </tr>\n",
              "    <tr>\n",
              "      <th>mean</th>\n",
              "      <td>0.797843</td>\n",
              "      <td>NaN</td>\n",
              "      <td>NaN</td>\n",
              "      <td>NaN</td>\n",
              "      <td>61.748088</td>\n",
              "      <td>57.458130</td>\n",
              "      <td>3933.306178</td>\n",
              "      <td>5.731268</td>\n",
              "      <td>5.734716</td>\n",
              "      <td>3.538758</td>\n",
              "    </tr>\n",
              "    <tr>\n",
              "      <th>std</th>\n",
              "      <td>0.473441</td>\n",
              "      <td>NaN</td>\n",
              "      <td>NaN</td>\n",
              "      <td>NaN</td>\n",
              "      <td>1.429968</td>\n",
              "      <td>2.233664</td>\n",
              "      <td>3988.219384</td>\n",
              "      <td>1.120706</td>\n",
              "      <td>1.141239</td>\n",
              "      <td>0.705048</td>\n",
              "    </tr>\n",
              "    <tr>\n",
              "      <th>min</th>\n",
              "      <td>0.200000</td>\n",
              "      <td>NaN</td>\n",
              "      <td>NaN</td>\n",
              "      <td>NaN</td>\n",
              "      <td>43.000000</td>\n",
              "      <td>43.000000</td>\n",
              "      <td>326.000000</td>\n",
              "      <td>0.000000</td>\n",
              "      <td>0.000000</td>\n",
              "      <td>0.000000</td>\n",
              "    </tr>\n",
              "    <tr>\n",
              "      <th>25%</th>\n",
              "      <td>0.400000</td>\n",
              "      <td>NaN</td>\n",
              "      <td>NaN</td>\n",
              "      <td>NaN</td>\n",
              "      <td>61.000000</td>\n",
              "      <td>56.000000</td>\n",
              "      <td>951.000000</td>\n",
              "      <td>4.710000</td>\n",
              "      <td>4.720000</td>\n",
              "      <td>2.910000</td>\n",
              "    </tr>\n",
              "    <tr>\n",
              "      <th>50%</th>\n",
              "      <td>0.700000</td>\n",
              "      <td>NaN</td>\n",
              "      <td>NaN</td>\n",
              "      <td>NaN</td>\n",
              "      <td>61.800000</td>\n",
              "      <td>57.000000</td>\n",
              "      <td>2401.000000</td>\n",
              "      <td>5.700000</td>\n",
              "      <td>5.710000</td>\n",
              "      <td>3.530000</td>\n",
              "    </tr>\n",
              "    <tr>\n",
              "      <th>75%</th>\n",
              "      <td>1.040000</td>\n",
              "      <td>NaN</td>\n",
              "      <td>NaN</td>\n",
              "      <td>NaN</td>\n",
              "      <td>62.500000</td>\n",
              "      <td>59.000000</td>\n",
              "      <td>5327.000000</td>\n",
              "      <td>6.540000</td>\n",
              "      <td>6.540000</td>\n",
              "      <td>4.030000</td>\n",
              "    </tr>\n",
              "    <tr>\n",
              "      <th>max</th>\n",
              "      <td>5.010000</td>\n",
              "      <td>NaN</td>\n",
              "      <td>NaN</td>\n",
              "      <td>NaN</td>\n",
              "      <td>79.000000</td>\n",
              "      <td>95.000000</td>\n",
              "      <td>18823.000000</td>\n",
              "      <td>10.740000</td>\n",
              "      <td>58.900000</td>\n",
              "      <td>31.800000</td>\n",
              "    </tr>\n",
              "  </tbody>\n",
              "</table>\n",
              "</div>\n",
              "      <button class=\"colab-df-convert\" onclick=\"convertToInteractive('df-875fd444-a515-48ff-8043-7d5e81066c50')\"\n",
              "              title=\"Convert this dataframe to an interactive table.\"\n",
              "              style=\"display:none;\">\n",
              "        \n",
              "  <svg xmlns=\"http://www.w3.org/2000/svg\" height=\"24px\"viewBox=\"0 0 24 24\"\n",
              "       width=\"24px\">\n",
              "    <path d=\"M0 0h24v24H0V0z\" fill=\"none\"/>\n",
              "    <path d=\"M18.56 5.44l.94 2.06.94-2.06 2.06-.94-2.06-.94-.94-2.06-.94 2.06-2.06.94zm-11 1L8.5 8.5l.94-2.06 2.06-.94-2.06-.94L8.5 2.5l-.94 2.06-2.06.94zm10 10l.94 2.06.94-2.06 2.06-.94-2.06-.94-.94-2.06-.94 2.06-2.06.94z\"/><path d=\"M17.41 7.96l-1.37-1.37c-.4-.4-.92-.59-1.43-.59-.52 0-1.04.2-1.43.59L10.3 9.45l-7.72 7.72c-.78.78-.78 2.05 0 2.83L4 21.41c.39.39.9.59 1.41.59.51 0 1.02-.2 1.41-.59l7.78-7.78 2.81-2.81c.8-.78.8-2.07 0-2.86zM5.41 20L4 18.59l7.72-7.72 1.47 1.35L5.41 20z\"/>\n",
              "  </svg>\n",
              "      </button>\n",
              "      \n",
              "  <style>\n",
              "    .colab-df-container {\n",
              "      display:flex;\n",
              "      flex-wrap:wrap;\n",
              "      gap: 12px;\n",
              "    }\n",
              "\n",
              "    .colab-df-convert {\n",
              "      background-color: #E8F0FE;\n",
              "      border: none;\n",
              "      border-radius: 50%;\n",
              "      cursor: pointer;\n",
              "      display: none;\n",
              "      fill: #1967D2;\n",
              "      height: 32px;\n",
              "      padding: 0 0 0 0;\n",
              "      width: 32px;\n",
              "    }\n",
              "\n",
              "    .colab-df-convert:hover {\n",
              "      background-color: #E2EBFA;\n",
              "      box-shadow: 0px 1px 2px rgba(60, 64, 67, 0.3), 0px 1px 3px 1px rgba(60, 64, 67, 0.15);\n",
              "      fill: #174EA6;\n",
              "    }\n",
              "\n",
              "    [theme=dark] .colab-df-convert {\n",
              "      background-color: #3B4455;\n",
              "      fill: #D2E3FC;\n",
              "    }\n",
              "\n",
              "    [theme=dark] .colab-df-convert:hover {\n",
              "      background-color: #434B5C;\n",
              "      box-shadow: 0px 1px 3px 1px rgba(0, 0, 0, 0.15);\n",
              "      filter: drop-shadow(0px 1px 2px rgba(0, 0, 0, 0.3));\n",
              "      fill: #FFFFFF;\n",
              "    }\n",
              "  </style>\n",
              "\n",
              "      <script>\n",
              "        const buttonEl =\n",
              "          document.querySelector('#df-875fd444-a515-48ff-8043-7d5e81066c50 button.colab-df-convert');\n",
              "        buttonEl.style.display =\n",
              "          google.colab.kernel.accessAllowed ? 'block' : 'none';\n",
              "\n",
              "        async function convertToInteractive(key) {\n",
              "          const element = document.querySelector('#df-875fd444-a515-48ff-8043-7d5e81066c50');\n",
              "          const dataTable =\n",
              "            await google.colab.kernel.invokeFunction('convertToInteractive',\n",
              "                                                     [key], {});\n",
              "          if (!dataTable) return;\n",
              "\n",
              "          const docLinkHtml = 'Like what you see? Visit the ' +\n",
              "            '<a target=\"_blank\" href=https://colab.research.google.com/notebooks/data_table.ipynb>data table notebook</a>'\n",
              "            + ' to learn more about interactive tables.';\n",
              "          element.innerHTML = '';\n",
              "          dataTable['output_type'] = 'display_data';\n",
              "          await google.colab.output.renderOutput(dataTable, element);\n",
              "          const docLink = document.createElement('div');\n",
              "          docLink.innerHTML = docLinkHtml;\n",
              "          element.appendChild(docLink);\n",
              "        }\n",
              "      </script>\n",
              "    </div>\n",
              "  </div>\n",
              "  "
            ]
          },
          "metadata": {},
          "execution_count": 10
        }
      ]
    },
    {
      "cell_type": "markdown",
      "source": [
        "# Drop Rows with No Price"
      ],
      "metadata": {
        "id": "ZcVD12J3GMrf"
      }
    },
    {
      "cell_type": "code",
      "source": [
        "df_ml.dropna(subset=['price'], inplace=True)"
      ],
      "metadata": {
        "id": "jmOk-yc9GQi8"
      },
      "execution_count": null,
      "outputs": []
    },
    {
      "cell_type": "markdown",
      "source": [
        "How many rows would we lose if we just dropped the rows with missing values?"
      ],
      "metadata": {
        "id": "J-jDZi7yITiX"
      }
    },
    {
      "cell_type": "code",
      "source": [
        "df_ml.dropna().shape[0] / df.shape[0]"
      ],
      "metadata": {
        "colab": {
          "base_uri": "https://localhost:8080/"
        },
        "id": "XZfkNpe0IJA4",
        "outputId": "89e418c9-8498-4ac6-8842-1e2beacb94f2"
      },
      "execution_count": null,
      "outputs": [
        {
          "output_type": "execute_result",
          "data": {
            "text/plain": [
              "0.9959213941416388"
            ]
          },
          "metadata": {},
          "execution_count": 12
        }
      ]
    },
    {
      "cell_type": "markdown",
      "source": [
        "# Split the Data (Validation Split)"
      ],
      "metadata": {
        "id": "G2eS-1HCBCSv"
      }
    },
    {
      "cell_type": "code",
      "source": [
        "# split X and y, you are predicting price\n",
        "X = df_ml.drop(columns=['price'])\n",
        "y = df_ml['price']\n",
        "\n",
        "# split training and test\n",
        "# set random_state to 42 for reproducibility\n",
        "X_train, X_test, y_train, y_test = train_test_split(X, y, test_size=.30 , random_state=42)"
      ],
      "metadata": {
        "id": "g5XFIN3tX6PB"
      },
      "execution_count": null,
      "outputs": []
    },
    {
      "cell_type": "code",
      "source": [
        "# select only object columns\n",
        "categoricals = X_train.select_dtypes(include='object')\n",
        "\n",
        "# check value counts for each object column\n",
        "for col in categoricals.columns:\n",
        "  print(col)\n",
        "  print(categoricals[col].value_counts(), '\\n')"
      ],
      "metadata": {
        "colab": {
          "base_uri": "https://localhost:8080/"
        },
        "id": "9cDr8wmgGQ43",
        "outputId": "b1de21a4-5706-426e-9915-ed2907e00269"
      },
      "execution_count": null,
      "outputs": [
        {
          "output_type": "stream",
          "name": "stdout",
          "text": [
            "cut\n",
            "Ideal        14977\n",
            "Premium       9595\n",
            "Very Good     8540\n",
            "Good          3402\n",
            "Fair          1128\n",
            "Name: cut, dtype: int64 \n",
            "\n",
            "color\n",
            "G    7943\n",
            "E    6791\n",
            "F    6672\n",
            "H    5775\n",
            "D    4696\n",
            "I    3784\n",
            "J    1986\n",
            "Name: color, dtype: int64 \n",
            "\n",
            "clarity\n",
            "SI1     9167\n",
            "VS2     8570\n",
            "SI2     6347\n",
            "VS1     5693\n",
            "VVS2    3551\n",
            "VVS1    2574\n",
            "IF      1238\n",
            "I1       511\n",
            "Name: clarity, dtype: int64 \n",
            "\n"
          ]
        }
      ]
    },
    {
      "cell_type": "markdown",
      "source": [
        "# Instantiate Transformers"
      ],
      "metadata": {
        "id": "zwjEXLMsBF9Z"
      }
    },
    {
      "cell_type": "code",
      "source": [
        "#instantiate the StandardScaler, OneHotEncoder, OrdinalEncoder and Imputers\n",
        "scaler1 = StandardScaler()\n",
        "ohe = OneHotEncoder(sparse=False, handle_unknown='ignore')\n",
        "\n",
        "mean_imputer = SimpleImputer(strategy='mean')\n",
        "freq_imputer = SimpleImputer(strategy='most_frequent')\n",
        "\n",
        "#this is showing for learning purpose but we are not using it here.\n",
        "missing_imputer = SimpleImputer(strategy='constant', fill_value='missing')"
      ],
      "metadata": {
        "id": "T0E4gGUAYG0M"
      },
      "execution_count": null,
      "outputs": []
    },
    {
      "cell_type": "code",
      "source": [],
      "metadata": {
        "id": "oeg5ygo_GVaw"
      },
      "execution_count": null,
      "outputs": []
    },
    {
      "cell_type": "markdown",
      "source": [
        "# Ordinal Encoder\n",
        "\n",
        "The `cut` column was pretty clear in how to order them, but the clarity column took some research.  [Selecting a Diamond](https://selectingadiamond.com/diamond-clarity/)\n",
        "\n",
        "![Diamond Clarity Chart](https://selectingadiamond.com/wp-content/uploads/2019/10/Diamond-Clarity.jpg)"
      ],
      "metadata": {
        "id": "UaSsvUD8KRDP"
      }
    },
    {
      "cell_type": "code",
      "source": [
        "#create a list of ordinal labels, in order of least to most\n",
        "\n",
        "cut_labels = ['Fair','Good','Very Good', 'Premium', 'Ideal']\n",
        "clarity_labels = ['I1', 'SI2','SI1','VS2','VS1','VVS2','VVS1','IF']\n",
        "\n",
        "#combine the ordered list in the order that the columns appear\n",
        "ordered_labels = [cut_labels, clarity_labels]\n",
        "\n",
        "#handle_unknown is 'error' by default.  That's a good place to start\n",
        "#but it may cause problems in a production model.\n",
        "ordinal = OrdinalEncoder(categories = ordered_labels)"
      ],
      "metadata": {
        "id": "lGXiKr15LVmu"
      },
      "execution_count": null,
      "outputs": []
    },
    {
      "cell_type": "markdown",
      "source": [
        "# Create a Pipeline Numeric Data and a Pipeline for Categorical Data"
      ],
      "metadata": {
        "id": "2kJgfMvgBPqY"
      }
    },
    {
      "cell_type": "code",
      "source": [
        "# Setup the pipelines for the numeric and categorical data\n",
        "\n",
        "num_pipeline = make_pipeline(mean_imputer, scaler1)\n",
        "ord_pipeline = make_pipeline(freq_imputer, ordinal)\n",
        "nom_pipeline = make_pipeline(missing_imputer, ohe)"
      ],
      "metadata": {
        "id": "sjNuRSe6YJDj"
      },
      "execution_count": null,
      "outputs": []
    },
    {
      "cell_type": "markdown",
      "source": [
        "# Create Tuples to Pair Pipelines with Columns"
      ],
      "metadata": {
        "id": "d6HWOKBbBaeP"
      }
    },
    {
      "cell_type": "code",
      "source": [
        "# Create column lists for objects and a number selector\n",
        "ordinal_cols = ['cut', 'clarity']\n",
        "nominal_cols = ['color']\n",
        "\n",
        "num_selector = make_column_selector(dtype_include='number')\n",
        "\n",
        "# Setup the tuples to pair the processors with the make column selectors\n",
        "\n",
        "numeric_tuple = (num_pipeline, num_selector)\n",
        "ordinal_tuple = (ord_pipeline, ordinal_cols)\n",
        "nominal_tuple = (nom_pipeline, nominal_cols)"
      ],
      "metadata": {
        "id": "8OmDflt7Y_nt"
      },
      "execution_count": null,
      "outputs": []
    },
    {
      "cell_type": "markdown",
      "source": [
        "# Create Column Transformer to Apply Different Preprocessing to Different Columns"
      ],
      "metadata": {
        "id": "PbHNwNUhBhQG"
      }
    },
    {
      "cell_type": "code",
      "source": [
        "# Instantiate the make column transformer\n",
        "\n",
        "preprocessor = make_column_transformer(ordinal_tuple,\n",
        "                                          numeric_tuple,\n",
        "                                          nominal_tuple,\n",
        "                                          remainder='drop')"
      ],
      "metadata": {
        "id": "JLOhEaiRZINc"
      },
      "execution_count": null,
      "outputs": []
    },
    {
      "cell_type": "markdown",
      "source": [
        "# Fit the Column Transformer on the Training Data"
      ],
      "metadata": {
        "id": "9qUwkuT9Bo9g"
      }
    },
    {
      "cell_type": "code",
      "source": [
        "# Fit the column transformer on the X_train\n",
        "\n",
        "preprocessor.fit(X_train)"
      ],
      "metadata": {
        "id": "XEhzAUVuZQtL",
        "colab": {
          "base_uri": "https://localhost:8080/",
          "height": 153
        },
        "outputId": "503139ca-f1fb-46d7-f81e-38eb849f5e49"
      },
      "execution_count": null,
      "outputs": [
        {
          "output_type": "execute_result",
          "data": {
            "text/plain": [
              "ColumnTransformer(transformers=[('pipeline-1',\n",
              "                                 Pipeline(steps=[('simpleimputer',\n",
              "                                                  SimpleImputer(strategy='most_frequent')),\n",
              "                                                 ('ordinalencoder',\n",
              "                                                  OrdinalEncoder(categories=[['Fair',\n",
              "                                                                              'Good',\n",
              "                                                                              'Very '\n",
              "                                                                              'Good',\n",
              "                                                                              'Premium',\n",
              "                                                                              'Ideal'],\n",
              "                                                                             ['I1',\n",
              "                                                                              'SI2',\n",
              "                                                                              'SI1',\n",
              "                                                                              'VS2',\n",
              "                                                                              'VS1',\n",
              "                                                                              'VVS2',\n",
              "                                                                              'VVS1',\n",
              "                                                                              'IF']]))]),\n",
              "                                 ['cut', 'clarity']),\n",
              "                                ('pipeline-2',\n",
              "                                 Pipeline(steps=[('simpleimputer',\n",
              "                                                  SimpleImputer()),\n",
              "                                                 ('minmaxscaler',\n",
              "                                                  MinMaxScaler())]),\n",
              "                                 <sklearn.compose._column_transformer.make_column_selector object at 0x7f6b11ec06d0>),\n",
              "                                ('pipeline-3',\n",
              "                                 Pipeline(steps=[('simpleimputer',\n",
              "                                                  SimpleImputer(fill_value='missing',\n",
              "                                                                strategy='constant')),\n",
              "                                                 ('onehotencoder',\n",
              "                                                  OneHotEncoder(handle_unknown='ignore',\n",
              "                                                                sparse=False))]),\n",
              "                                 ['color'])])"
            ],
            "text/html": [
              "<style>#sk-821b18bd-e9f5-4fe3-b2d0-2fec1b129ecd {color: black;background-color: white;}#sk-821b18bd-e9f5-4fe3-b2d0-2fec1b129ecd pre{padding: 0;}#sk-821b18bd-e9f5-4fe3-b2d0-2fec1b129ecd div.sk-toggleable {background-color: white;}#sk-821b18bd-e9f5-4fe3-b2d0-2fec1b129ecd label.sk-toggleable__label {cursor: pointer;display: block;width: 100%;margin-bottom: 0;padding: 0.3em;box-sizing: border-box;text-align: center;}#sk-821b18bd-e9f5-4fe3-b2d0-2fec1b129ecd label.sk-toggleable__label-arrow:before {content: \"▸\";float: left;margin-right: 0.25em;color: #696969;}#sk-821b18bd-e9f5-4fe3-b2d0-2fec1b129ecd label.sk-toggleable__label-arrow:hover:before {color: black;}#sk-821b18bd-e9f5-4fe3-b2d0-2fec1b129ecd div.sk-estimator:hover label.sk-toggleable__label-arrow:before {color: black;}#sk-821b18bd-e9f5-4fe3-b2d0-2fec1b129ecd div.sk-toggleable__content {max-height: 0;max-width: 0;overflow: hidden;text-align: left;background-color: #f0f8ff;}#sk-821b18bd-e9f5-4fe3-b2d0-2fec1b129ecd div.sk-toggleable__content pre {margin: 0.2em;color: black;border-radius: 0.25em;background-color: #f0f8ff;}#sk-821b18bd-e9f5-4fe3-b2d0-2fec1b129ecd input.sk-toggleable__control:checked~div.sk-toggleable__content {max-height: 200px;max-width: 100%;overflow: auto;}#sk-821b18bd-e9f5-4fe3-b2d0-2fec1b129ecd input.sk-toggleable__control:checked~label.sk-toggleable__label-arrow:before {content: \"▾\";}#sk-821b18bd-e9f5-4fe3-b2d0-2fec1b129ecd div.sk-estimator input.sk-toggleable__control:checked~label.sk-toggleable__label {background-color: #d4ebff;}#sk-821b18bd-e9f5-4fe3-b2d0-2fec1b129ecd div.sk-label input.sk-toggleable__control:checked~label.sk-toggleable__label {background-color: #d4ebff;}#sk-821b18bd-e9f5-4fe3-b2d0-2fec1b129ecd input.sk-hidden--visually {border: 0;clip: rect(1px 1px 1px 1px);clip: rect(1px, 1px, 1px, 1px);height: 1px;margin: -1px;overflow: hidden;padding: 0;position: absolute;width: 1px;}#sk-821b18bd-e9f5-4fe3-b2d0-2fec1b129ecd div.sk-estimator {font-family: monospace;background-color: #f0f8ff;border: 1px dotted black;border-radius: 0.25em;box-sizing: border-box;margin-bottom: 0.5em;}#sk-821b18bd-e9f5-4fe3-b2d0-2fec1b129ecd div.sk-estimator:hover {background-color: #d4ebff;}#sk-821b18bd-e9f5-4fe3-b2d0-2fec1b129ecd div.sk-parallel-item::after {content: \"\";width: 100%;border-bottom: 1px solid gray;flex-grow: 1;}#sk-821b18bd-e9f5-4fe3-b2d0-2fec1b129ecd div.sk-label:hover label.sk-toggleable__label {background-color: #d4ebff;}#sk-821b18bd-e9f5-4fe3-b2d0-2fec1b129ecd div.sk-serial::before {content: \"\";position: absolute;border-left: 1px solid gray;box-sizing: border-box;top: 2em;bottom: 0;left: 50%;}#sk-821b18bd-e9f5-4fe3-b2d0-2fec1b129ecd div.sk-serial {display: flex;flex-direction: column;align-items: center;background-color: white;padding-right: 0.2em;padding-left: 0.2em;}#sk-821b18bd-e9f5-4fe3-b2d0-2fec1b129ecd div.sk-item {z-index: 1;}#sk-821b18bd-e9f5-4fe3-b2d0-2fec1b129ecd div.sk-parallel {display: flex;align-items: stretch;justify-content: center;background-color: white;}#sk-821b18bd-e9f5-4fe3-b2d0-2fec1b129ecd div.sk-parallel::before {content: \"\";position: absolute;border-left: 1px solid gray;box-sizing: border-box;top: 2em;bottom: 0;left: 50%;}#sk-821b18bd-e9f5-4fe3-b2d0-2fec1b129ecd div.sk-parallel-item {display: flex;flex-direction: column;position: relative;background-color: white;}#sk-821b18bd-e9f5-4fe3-b2d0-2fec1b129ecd div.sk-parallel-item:first-child::after {align-self: flex-end;width: 50%;}#sk-821b18bd-e9f5-4fe3-b2d0-2fec1b129ecd div.sk-parallel-item:last-child::after {align-self: flex-start;width: 50%;}#sk-821b18bd-e9f5-4fe3-b2d0-2fec1b129ecd div.sk-parallel-item:only-child::after {width: 0;}#sk-821b18bd-e9f5-4fe3-b2d0-2fec1b129ecd div.sk-dashed-wrapped {border: 1px dashed gray;margin: 0 0.4em 0.5em 0.4em;box-sizing: border-box;padding-bottom: 0.4em;background-color: white;position: relative;}#sk-821b18bd-e9f5-4fe3-b2d0-2fec1b129ecd div.sk-label label {font-family: monospace;font-weight: bold;background-color: white;display: inline-block;line-height: 1.2em;}#sk-821b18bd-e9f5-4fe3-b2d0-2fec1b129ecd div.sk-label-container {position: relative;z-index: 2;text-align: center;}#sk-821b18bd-e9f5-4fe3-b2d0-2fec1b129ecd div.sk-container {/* jupyter's `normalize.less` sets `[hidden] { display: none; }` but bootstrap.min.css set `[hidden] { display: none !important; }` so we also need the `!important` here to be able to override the default hidden behavior on the sphinx rendered scikit-learn.org. See: https://github.com/scikit-learn/scikit-learn/issues/21755 */display: inline-block !important;position: relative;}#sk-821b18bd-e9f5-4fe3-b2d0-2fec1b129ecd div.sk-text-repr-fallback {display: none;}</style><div id=\"sk-821b18bd-e9f5-4fe3-b2d0-2fec1b129ecd\" class=\"sk-top-container\"><div class=\"sk-text-repr-fallback\"><pre>ColumnTransformer(transformers=[(&#x27;pipeline-1&#x27;,\n",
              "                                 Pipeline(steps=[(&#x27;simpleimputer&#x27;,\n",
              "                                                  SimpleImputer(strategy=&#x27;most_frequent&#x27;)),\n",
              "                                                 (&#x27;ordinalencoder&#x27;,\n",
              "                                                  OrdinalEncoder(categories=[[&#x27;Fair&#x27;,\n",
              "                                                                              &#x27;Good&#x27;,\n",
              "                                                                              &#x27;Very &#x27;\n",
              "                                                                              &#x27;Good&#x27;,\n",
              "                                                                              &#x27;Premium&#x27;,\n",
              "                                                                              &#x27;Ideal&#x27;],\n",
              "                                                                             [&#x27;I1&#x27;,\n",
              "                                                                              &#x27;SI2&#x27;,\n",
              "                                                                              &#x27;SI1&#x27;,\n",
              "                                                                              &#x27;VS2&#x27;,\n",
              "                                                                              &#x27;VS1&#x27;,\n",
              "                                                                              &#x27;VVS2&#x27;,\n",
              "                                                                              &#x27;VVS1&#x27;,\n",
              "                                                                              &#x27;IF&#x27;]]))]),\n",
              "                                 [&#x27;cut&#x27;, &#x27;clarity&#x27;]),\n",
              "                                (&#x27;pipeline-2&#x27;,\n",
              "                                 Pipeline(steps=[(&#x27;simpleimputer&#x27;,\n",
              "                                                  SimpleImputer()),\n",
              "                                                 (&#x27;minmaxscaler&#x27;,\n",
              "                                                  MinMaxScaler())]),\n",
              "                                 &lt;sklearn.compose._column_transformer.make_column_selector object at 0x7f6b11ec06d0&gt;),\n",
              "                                (&#x27;pipeline-3&#x27;,\n",
              "                                 Pipeline(steps=[(&#x27;simpleimputer&#x27;,\n",
              "                                                  SimpleImputer(fill_value=&#x27;missing&#x27;,\n",
              "                                                                strategy=&#x27;constant&#x27;)),\n",
              "                                                 (&#x27;onehotencoder&#x27;,\n",
              "                                                  OneHotEncoder(handle_unknown=&#x27;ignore&#x27;,\n",
              "                                                                sparse=False))]),\n",
              "                                 [&#x27;color&#x27;])])</pre><b>Please rerun this cell to show the HTML repr or trust the notebook.</b></div><div class=\"sk-container\" hidden><div class=\"sk-item sk-dashed-wrapped\"><div class=\"sk-label-container\"><div class=\"sk-label sk-toggleable\"><input class=\"sk-toggleable__control sk-hidden--visually\" id=\"9056277a-dad0-4290-a663-63847ee06168\" type=\"checkbox\" ><label for=\"9056277a-dad0-4290-a663-63847ee06168\" class=\"sk-toggleable__label sk-toggleable__label-arrow\">ColumnTransformer</label><div class=\"sk-toggleable__content\"><pre>ColumnTransformer(transformers=[(&#x27;pipeline-1&#x27;,\n",
              "                                 Pipeline(steps=[(&#x27;simpleimputer&#x27;,\n",
              "                                                  SimpleImputer(strategy=&#x27;most_frequent&#x27;)),\n",
              "                                                 (&#x27;ordinalencoder&#x27;,\n",
              "                                                  OrdinalEncoder(categories=[[&#x27;Fair&#x27;,\n",
              "                                                                              &#x27;Good&#x27;,\n",
              "                                                                              &#x27;Very &#x27;\n",
              "                                                                              &#x27;Good&#x27;,\n",
              "                                                                              &#x27;Premium&#x27;,\n",
              "                                                                              &#x27;Ideal&#x27;],\n",
              "                                                                             [&#x27;I1&#x27;,\n",
              "                                                                              &#x27;SI2&#x27;,\n",
              "                                                                              &#x27;SI1&#x27;,\n",
              "                                                                              &#x27;VS2&#x27;,\n",
              "                                                                              &#x27;VS1&#x27;,\n",
              "                                                                              &#x27;VVS2&#x27;,\n",
              "                                                                              &#x27;VVS1&#x27;,\n",
              "                                                                              &#x27;IF&#x27;]]))]),\n",
              "                                 [&#x27;cut&#x27;, &#x27;clarity&#x27;]),\n",
              "                                (&#x27;pipeline-2&#x27;,\n",
              "                                 Pipeline(steps=[(&#x27;simpleimputer&#x27;,\n",
              "                                                  SimpleImputer()),\n",
              "                                                 (&#x27;minmaxscaler&#x27;,\n",
              "                                                  MinMaxScaler())]),\n",
              "                                 &lt;sklearn.compose._column_transformer.make_column_selector object at 0x7f6b11ec06d0&gt;),\n",
              "                                (&#x27;pipeline-3&#x27;,\n",
              "                                 Pipeline(steps=[(&#x27;simpleimputer&#x27;,\n",
              "                                                  SimpleImputer(fill_value=&#x27;missing&#x27;,\n",
              "                                                                strategy=&#x27;constant&#x27;)),\n",
              "                                                 (&#x27;onehotencoder&#x27;,\n",
              "                                                  OneHotEncoder(handle_unknown=&#x27;ignore&#x27;,\n",
              "                                                                sparse=False))]),\n",
              "                                 [&#x27;color&#x27;])])</pre></div></div></div><div class=\"sk-parallel\"><div class=\"sk-parallel-item\"><div class=\"sk-item\"><div class=\"sk-label-container\"><div class=\"sk-label sk-toggleable\"><input class=\"sk-toggleable__control sk-hidden--visually\" id=\"b9842ef6-5a87-4ac3-8059-af7d6671a7bf\" type=\"checkbox\" ><label for=\"b9842ef6-5a87-4ac3-8059-af7d6671a7bf\" class=\"sk-toggleable__label sk-toggleable__label-arrow\">pipeline-1</label><div class=\"sk-toggleable__content\"><pre>[&#x27;cut&#x27;, &#x27;clarity&#x27;]</pre></div></div></div><div class=\"sk-serial\"><div class=\"sk-item\"><div class=\"sk-serial\"><div class=\"sk-item\"><div class=\"sk-estimator sk-toggleable\"><input class=\"sk-toggleable__control sk-hidden--visually\" id=\"020de342-3154-4538-aa9a-fee21ea978eb\" type=\"checkbox\" ><label for=\"020de342-3154-4538-aa9a-fee21ea978eb\" class=\"sk-toggleable__label sk-toggleable__label-arrow\">SimpleImputer</label><div class=\"sk-toggleable__content\"><pre>SimpleImputer(strategy=&#x27;most_frequent&#x27;)</pre></div></div></div><div class=\"sk-item\"><div class=\"sk-estimator sk-toggleable\"><input class=\"sk-toggleable__control sk-hidden--visually\" id=\"c54a472f-816d-4100-9bd5-f2b7eb5f2775\" type=\"checkbox\" ><label for=\"c54a472f-816d-4100-9bd5-f2b7eb5f2775\" class=\"sk-toggleable__label sk-toggleable__label-arrow\">OrdinalEncoder</label><div class=\"sk-toggleable__content\"><pre>OrdinalEncoder(categories=[[&#x27;Fair&#x27;, &#x27;Good&#x27;, &#x27;Very Good&#x27;, &#x27;Premium&#x27;, &#x27;Ideal&#x27;],\n",
              "                           [&#x27;I1&#x27;, &#x27;SI2&#x27;, &#x27;SI1&#x27;, &#x27;VS2&#x27;, &#x27;VS1&#x27;, &#x27;VVS2&#x27;, &#x27;VVS1&#x27;,\n",
              "                            &#x27;IF&#x27;]])</pre></div></div></div></div></div></div></div></div><div class=\"sk-parallel-item\"><div class=\"sk-item\"><div class=\"sk-label-container\"><div class=\"sk-label sk-toggleable\"><input class=\"sk-toggleable__control sk-hidden--visually\" id=\"ed224c85-27e9-475b-a059-fcc8184ad22c\" type=\"checkbox\" ><label for=\"ed224c85-27e9-475b-a059-fcc8184ad22c\" class=\"sk-toggleable__label sk-toggleable__label-arrow\">pipeline-2</label><div class=\"sk-toggleable__content\"><pre>&lt;sklearn.compose._column_transformer.make_column_selector object at 0x7f6b11ec06d0&gt;</pre></div></div></div><div class=\"sk-serial\"><div class=\"sk-item\"><div class=\"sk-serial\"><div class=\"sk-item\"><div class=\"sk-estimator sk-toggleable\"><input class=\"sk-toggleable__control sk-hidden--visually\" id=\"1cb8c995-9ffc-46fd-ad0b-9fbfe3e2f7f4\" type=\"checkbox\" ><label for=\"1cb8c995-9ffc-46fd-ad0b-9fbfe3e2f7f4\" class=\"sk-toggleable__label sk-toggleable__label-arrow\">SimpleImputer</label><div class=\"sk-toggleable__content\"><pre>SimpleImputer()</pre></div></div></div><div class=\"sk-item\"><div class=\"sk-estimator sk-toggleable\"><input class=\"sk-toggleable__control sk-hidden--visually\" id=\"2b7b4a38-79bc-4944-a247-ac07b11f616f\" type=\"checkbox\" ><label for=\"2b7b4a38-79bc-4944-a247-ac07b11f616f\" class=\"sk-toggleable__label sk-toggleable__label-arrow\">MinMaxScaler</label><div class=\"sk-toggleable__content\"><pre>MinMaxScaler()</pre></div></div></div></div></div></div></div></div><div class=\"sk-parallel-item\"><div class=\"sk-item\"><div class=\"sk-label-container\"><div class=\"sk-label sk-toggleable\"><input class=\"sk-toggleable__control sk-hidden--visually\" id=\"3029de3e-beab-4464-9204-871371e612b0\" type=\"checkbox\" ><label for=\"3029de3e-beab-4464-9204-871371e612b0\" class=\"sk-toggleable__label sk-toggleable__label-arrow\">pipeline-3</label><div class=\"sk-toggleable__content\"><pre>[&#x27;color&#x27;]</pre></div></div></div><div class=\"sk-serial\"><div class=\"sk-item\"><div class=\"sk-serial\"><div class=\"sk-item\"><div class=\"sk-estimator sk-toggleable\"><input class=\"sk-toggleable__control sk-hidden--visually\" id=\"599fef9a-d813-4d98-86e0-8ffd62408ebe\" type=\"checkbox\" ><label for=\"599fef9a-d813-4d98-86e0-8ffd62408ebe\" class=\"sk-toggleable__label sk-toggleable__label-arrow\">SimpleImputer</label><div class=\"sk-toggleable__content\"><pre>SimpleImputer(fill_value=&#x27;missing&#x27;, strategy=&#x27;constant&#x27;)</pre></div></div></div><div class=\"sk-item\"><div class=\"sk-estimator sk-toggleable\"><input class=\"sk-toggleable__control sk-hidden--visually\" id=\"c9216d72-de89-4836-82b4-19d22f4ddf92\" type=\"checkbox\" ><label for=\"c9216d72-de89-4836-82b4-19d22f4ddf92\" class=\"sk-toggleable__label sk-toggleable__label-arrow\">OneHotEncoder</label><div class=\"sk-toggleable__content\"><pre>OneHotEncoder(handle_unknown=&#x27;ignore&#x27;, sparse=False)</pre></div></div></div></div></div></div></div></div></div></div></div></div>"
            ]
          },
          "metadata": {},
          "execution_count": 20
        }
      ]
    },
    {
      "cell_type": "markdown",
      "source": [
        "# Transform Both Training and Testing Data"
      ],
      "metadata": {
        "id": "kJLeX9eUBvsB"
      }
    },
    {
      "cell_type": "code",
      "source": [
        "# Transform the X_train and the X_test\n",
        "\n",
        "X_train_transformed = preprocessor.transform(X_train)\n",
        "\n",
        "X_test_transformed = preprocessor.transform(X_test)"
      ],
      "metadata": {
        "id": "madd2FHLZ56_"
      },
      "execution_count": null,
      "outputs": []
    },
    {
      "cell_type": "code",
      "source": [
        "X_train_transformed.shape"
      ],
      "metadata": {
        "id": "XE8LIKXuLqY4",
        "colab": {
          "base_uri": "https://localhost:8080/"
        },
        "outputId": "71919f7b-1e4e-4102-b3cb-d1e8b0b321ee"
      },
      "execution_count": null,
      "outputs": [
        {
          "output_type": "execute_result",
          "data": {
            "text/plain": [
              "(37652, 16)"
            ]
          },
          "metadata": {},
          "execution_count": 22
        }
      ]
    },
    {
      "cell_type": "markdown",
      "source": [
        "# Check the Result"
      ],
      "metadata": {
        "id": "VAlAXVS7B0I4"
      }
    },
    {
      "cell_type": "code",
      "source": [
        "X_train_transformed[:5]"
      ],
      "metadata": {
        "colab": {
          "base_uri": "https://localhost:8080/"
        },
        "id": "V8EmgZFD6nsl",
        "outputId": "84199195-ae98-4bac-f94d-1d844f10f9c9"
      },
      "execution_count": null,
      "outputs": [
        {
          "output_type": "execute_result",
          "data": {
            "text/plain": [
              "array([[3.        , 2.        , 0.29313929, 0.55277778, 0.48484848,\n",
              "        0.69832402, 0.2336478 , 0.67191977, 0.        , 0.        ,\n",
              "        1.        , 0.        , 0.        , 0.        , 0.        ,\n",
              "        0.        ],\n",
              "       [2.        , 3.        , 0.07068607, 0.55833333, 0.45454545,\n",
              "        0.48510242, 0.16132075, 0.46704871, 0.        , 1.        ,\n",
              "        0.        , 0.        , 0.        , 0.        , 0.        ,\n",
              "        0.        ],\n",
              "       [4.        , 6.        , 0.05613306, 0.51666667, 0.39393939,\n",
              "        0.46554935, 0.15786164, 0.44269341, 0.        , 0.        ,\n",
              "        1.        , 0.        , 0.        , 0.        , 0.        ,\n",
              "        0.        ],\n",
              "       [3.        , 1.        , 0.17879418, 0.49722222, 0.51515152,\n",
              "        0.60986965, 0.20503145, 0.57020057, 1.        , 0.        ,\n",
              "        0.        , 0.        , 0.        , 0.        , 0.        ,\n",
              "        0.        ],\n",
              "       [1.        , 2.        , 0.04573805, 0.56388889, 0.39393939,\n",
              "        0.44227188, 0.15062893, 0.43266476, 0.        , 0.        ,\n",
              "        1.        , 0.        , 0.        , 0.        , 0.        ,\n",
              "        0.        ]])"
            ]
          },
          "metadata": {},
          "execution_count": 23
        }
      ]
    },
    {
      "cell_type": "code",
      "source": [
        "np.isnan(X_train_transformed).sum()"
      ],
      "metadata": {
        "colab": {
          "base_uri": "https://localhost:8080/"
        },
        "id": "uAF61IU57Q_v",
        "outputId": "b02573ac-4fb5-4917-dc6a-78c4af3f2cc8"
      },
      "execution_count": null,
      "outputs": [
        {
          "output_type": "execute_result",
          "data": {
            "text/plain": [
              "0"
            ]
          },
          "metadata": {},
          "execution_count": 24
        }
      ]
    },
    {
      "cell_type": "markdown",
      "source": [
        "# Problem to Solve:\n",
        "1. Should we scale ordinal data?\n",
        "\n"
      ],
      "metadata": {
        "id": "9DcWn6G1Hs4-"
      }
    },
    {
      "cell_type": "markdown",
      "source": [
        "# (Optional) Preview of Next Week!  Modeling!"
      ],
      "metadata": {
        "id": "xv2LxXUs6f7w"
      }
    },
    {
      "cell_type": "code",
      "source": [
        "from sklearn.linear_model import LinearRegression\n",
        "from sklearn.metrics import mean_absolute_error"
      ],
      "metadata": {
        "id": "VganKnvGFiIW"
      },
      "execution_count": null,
      "outputs": []
    },
    {
      "cell_type": "code",
      "source": [
        "lin_reg = LinearRegression()\n",
        "\n",
        "lin_reg_pipe = make_pipeline(preprocessor, lin_reg)\n",
        "\n",
        "lin_reg_pipe.fit(X_train, y_train)\n",
        "\n",
        "train_predictions = lin_reg_pipe.predict(X_train)\n",
        "test_predictions = lin_reg_pipe.predict(X_test)"
      ],
      "metadata": {
        "id": "2d6bfnVWFmum"
      },
      "execution_count": null,
      "outputs": []
    },
    {
      "cell_type": "code",
      "source": [
        "train_error = mean_absolute_error(y_train, train_predictions)\n",
        "test_error = mean_absolute_error(y_test, test_predictions)\n",
        "\n",
        "print(f'The models average error on the training set is {train_error}')\n",
        "print(f'the models average error on the testing set is {test_error}')"
      ],
      "metadata": {
        "colab": {
          "base_uri": "https://localhost:8080/"
        },
        "id": "IFqCsBX_F9hQ",
        "outputId": "180e8096-e70d-41f6-cc60-d86ccdb695e6"
      },
      "execution_count": null,
      "outputs": [
        {
          "output_type": "stream",
          "name": "stdout",
          "text": [
            "The models average error on the training set is 791.3396633768033\n",
            "the models average error on the testing set is 781.774189362006\n"
          ]
        }
      ]
    },
    {
      "cell_type": "code",
      "source": [],
      "metadata": {
        "id": "lJLtobOfHnvn"
      },
      "execution_count": null,
      "outputs": []
    }
  ]
}