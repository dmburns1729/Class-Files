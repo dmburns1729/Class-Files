{
  "nbformat": 4,
  "nbformat_minor": 0,
  "metadata": {
    "colab": {
      "provenance": [],
      "include_colab_link": true
    },
    "kernelspec": {
      "name": "python3",
      "display_name": "Python 3"
    },
    "language_info": {
      "name": "python"
    }
  },
  "cells": [
    {
      "cell_type": "markdown",
      "metadata": {
        "id": "view-in-github",
        "colab_type": "text"
      },
      "source": [
        "<a href=\"https://colab.research.google.com/github/dmburns1729/Class-Files/blob/main/Copy_of_9_12_CodeAlong_Bias_Variance.ipynb\" target=\"_parent\"><img src=\"https://colab.research.google.com/assets/colab-badge.svg\" alt=\"Open In Colab\"/></a>"
      ]
    },
    {
      "cell_type": "code",
      "execution_count": null,
      "metadata": {
        "id": "SnZM_Xhu9SNv"
      },
      "outputs": [],
      "source": [
        "# Imports\n",
        "import pandas as pd\n",
        "import numpy as np\n",
        "import matplotlib.pyplot as plt\n",
        "from sklearn.model_selection import train_test_split\n",
        "from sklearn.preprocessing import StandardScaler, OneHotEncoder\n",
        "from sklearn.compose import make_column_selector, make_column_transformer\n",
        "from sklearn.pipeline import make_pipeline\n",
        "from sklearn.dummy import DummyRegressor\n",
        "from sklearn.metrics import mean_squared_error, mean_absolute_error, r2_score\n",
        "from sklearn.tree import DecisionTreeRegressor\n",
        "from sklearn.ensemble import RandomForestRegressor\n",
        "from sklearn.tree import plot_tree\n",
        "from sklearn import set_config\n",
        "set_config(display='diagram')"
      ]
    },
    {
      "cell_type": "code",
      "source": [
        "from google.colab import drive\n",
        "drive.mount('/content/drive')"
      ],
      "metadata": {
        "id": "hjtVOM4JBu0k",
        "outputId": "76fa2e80-6182-4b8c-c779-78cd2e9105d6",
        "colab": {
          "base_uri": "https://localhost:8080/"
        }
      },
      "execution_count": null,
      "outputs": [
        {
          "output_type": "stream",
          "name": "stdout",
          "text": [
            "Mounted at /content/drive\n"
          ]
        }
      ]
    },
    {
      "cell_type": "markdown",
      "source": [
        "Create a function to take the true and predicted labels and print MAE, MSE, RMSE, and R2 metrics"
      ],
      "metadata": {
        "id": "5fJyQlC2-slW"
      }
    },
    {
      "cell_type": "code",
      "source": [
        "# Create a function to take the true and predicted labels and print MAE, MSE, RMSE, and R2 metrics\n",
        "def evaluate_regression(y_true, y_pred):\n",
        "  \"\"\"Takes true target and predicted target and prints MAE, MSE, RMSE and R2\"\"\"\n",
        "\n",
        "  mae = mean_absolute_error(y_true, y_pred)\n",
        "  mse = mean_squared_error(y_true, y_pred)\n",
        "  rmse = np.sqrt(mse)\n",
        "  r2 = r2_score(y_true, y_pred)\n",
        "\n",
        "  print(f'scores: \\nMAE: {mae:,.2f} \\nMSE: {mse:,.2f} \\nRMSE: {rmse:,.2f} \\nR2: {r2:.2f}')"
      ],
      "metadata": {
        "id": "pyfT8I0n-XJn"
      },
      "execution_count": null,
      "outputs": []
    },
    {
      "cell_type": "code",
      "source": [
        "# load the dataset, you can assume this data is already cleaned.\n",
        "path = 'https://docs.google.com/spreadsheets/d/e/2PACX-1vR33clYD7L7KarKwDrJr1GzW7GQRbTIzITBBHA7J-luNwIJylRrQR74p_k6AHJE-OfI5y3L2KmFIWo7/pub?output=csv'\n",
        "df = pd.read_csv(path)\n",
        "df.head()"
      ],
      "metadata": {
        "id": "-U-RdlWF9WBL",
        "colab": {
          "base_uri": "https://localhost:8080/",
          "height": 270
        },
        "outputId": "bfc92a9f-23db-45ab-e8c4-b3f10118c3e2"
      },
      "execution_count": null,
      "outputs": [
        {
          "output_type": "execute_result",
          "data": {
            "text/plain": [
              "    price  bedrooms  bathrooms  sqft_living  sqft_lot  floors  waterfront  \\\n",
              "0  221900         3       1.00         1180      5650     1.0           0   \n",
              "1  538000         3       2.25         2570      7242     2.0           0   \n",
              "2  180000         2       1.00          770     10000     1.0           0   \n",
              "3  604000         4       3.00         1960      5000     1.0           0   \n",
              "4  510000         3       2.00         1680      8080     1.0           0   \n",
              "\n",
              "   view  condition  grade  sqft_above  sqft_basement  yr_built  yr_renovated  \\\n",
              "0     0          3      7        1180              0      1955             0   \n",
              "1     0          3      7        2170            400      1951          1991   \n",
              "2     0          3      6         770              0      1933             0   \n",
              "3     0          5      7        1050            910      1965             0   \n",
              "4     0          3      8        1680              0      1987             0   \n",
              "\n",
              "   zipcode      lat     long  sqft_living15  sqft_lot15  \n",
              "0    98178  47.5112 -122.257           1340        5650  \n",
              "1    98125  47.7210 -122.319           1690        7639  \n",
              "2    98028  47.7379 -122.233           2720        8062  \n",
              "3    98136  47.5208 -122.393           1360        5000  \n",
              "4    98074  47.6168 -122.045           1800        7503  "
            ],
            "text/html": [
              "\n",
              "  <div id=\"df-ab361f5f-46b2-45de-af55-96e6f03fe4e5\">\n",
              "    <div class=\"colab-df-container\">\n",
              "      <div>\n",
              "<style scoped>\n",
              "    .dataframe tbody tr th:only-of-type {\n",
              "        vertical-align: middle;\n",
              "    }\n",
              "\n",
              "    .dataframe tbody tr th {\n",
              "        vertical-align: top;\n",
              "    }\n",
              "\n",
              "    .dataframe thead th {\n",
              "        text-align: right;\n",
              "    }\n",
              "</style>\n",
              "<table border=\"1\" class=\"dataframe\">\n",
              "  <thead>\n",
              "    <tr style=\"text-align: right;\">\n",
              "      <th></th>\n",
              "      <th>price</th>\n",
              "      <th>bedrooms</th>\n",
              "      <th>bathrooms</th>\n",
              "      <th>sqft_living</th>\n",
              "      <th>sqft_lot</th>\n",
              "      <th>floors</th>\n",
              "      <th>waterfront</th>\n",
              "      <th>view</th>\n",
              "      <th>condition</th>\n",
              "      <th>grade</th>\n",
              "      <th>sqft_above</th>\n",
              "      <th>sqft_basement</th>\n",
              "      <th>yr_built</th>\n",
              "      <th>yr_renovated</th>\n",
              "      <th>zipcode</th>\n",
              "      <th>lat</th>\n",
              "      <th>long</th>\n",
              "      <th>sqft_living15</th>\n",
              "      <th>sqft_lot15</th>\n",
              "    </tr>\n",
              "  </thead>\n",
              "  <tbody>\n",
              "    <tr>\n",
              "      <th>0</th>\n",
              "      <td>221900</td>\n",
              "      <td>3</td>\n",
              "      <td>1.00</td>\n",
              "      <td>1180</td>\n",
              "      <td>5650</td>\n",
              "      <td>1.0</td>\n",
              "      <td>0</td>\n",
              "      <td>0</td>\n",
              "      <td>3</td>\n",
              "      <td>7</td>\n",
              "      <td>1180</td>\n",
              "      <td>0</td>\n",
              "      <td>1955</td>\n",
              "      <td>0</td>\n",
              "      <td>98178</td>\n",
              "      <td>47.5112</td>\n",
              "      <td>-122.257</td>\n",
              "      <td>1340</td>\n",
              "      <td>5650</td>\n",
              "    </tr>\n",
              "    <tr>\n",
              "      <th>1</th>\n",
              "      <td>538000</td>\n",
              "      <td>3</td>\n",
              "      <td>2.25</td>\n",
              "      <td>2570</td>\n",
              "      <td>7242</td>\n",
              "      <td>2.0</td>\n",
              "      <td>0</td>\n",
              "      <td>0</td>\n",
              "      <td>3</td>\n",
              "      <td>7</td>\n",
              "      <td>2170</td>\n",
              "      <td>400</td>\n",
              "      <td>1951</td>\n",
              "      <td>1991</td>\n",
              "      <td>98125</td>\n",
              "      <td>47.7210</td>\n",
              "      <td>-122.319</td>\n",
              "      <td>1690</td>\n",
              "      <td>7639</td>\n",
              "    </tr>\n",
              "    <tr>\n",
              "      <th>2</th>\n",
              "      <td>180000</td>\n",
              "      <td>2</td>\n",
              "      <td>1.00</td>\n",
              "      <td>770</td>\n",
              "      <td>10000</td>\n",
              "      <td>1.0</td>\n",
              "      <td>0</td>\n",
              "      <td>0</td>\n",
              "      <td>3</td>\n",
              "      <td>6</td>\n",
              "      <td>770</td>\n",
              "      <td>0</td>\n",
              "      <td>1933</td>\n",
              "      <td>0</td>\n",
              "      <td>98028</td>\n",
              "      <td>47.7379</td>\n",
              "      <td>-122.233</td>\n",
              "      <td>2720</td>\n",
              "      <td>8062</td>\n",
              "    </tr>\n",
              "    <tr>\n",
              "      <th>3</th>\n",
              "      <td>604000</td>\n",
              "      <td>4</td>\n",
              "      <td>3.00</td>\n",
              "      <td>1960</td>\n",
              "      <td>5000</td>\n",
              "      <td>1.0</td>\n",
              "      <td>0</td>\n",
              "      <td>0</td>\n",
              "      <td>5</td>\n",
              "      <td>7</td>\n",
              "      <td>1050</td>\n",
              "      <td>910</td>\n",
              "      <td>1965</td>\n",
              "      <td>0</td>\n",
              "      <td>98136</td>\n",
              "      <td>47.5208</td>\n",
              "      <td>-122.393</td>\n",
              "      <td>1360</td>\n",
              "      <td>5000</td>\n",
              "    </tr>\n",
              "    <tr>\n",
              "      <th>4</th>\n",
              "      <td>510000</td>\n",
              "      <td>3</td>\n",
              "      <td>2.00</td>\n",
              "      <td>1680</td>\n",
              "      <td>8080</td>\n",
              "      <td>1.0</td>\n",
              "      <td>0</td>\n",
              "      <td>0</td>\n",
              "      <td>3</td>\n",
              "      <td>8</td>\n",
              "      <td>1680</td>\n",
              "      <td>0</td>\n",
              "      <td>1987</td>\n",
              "      <td>0</td>\n",
              "      <td>98074</td>\n",
              "      <td>47.6168</td>\n",
              "      <td>-122.045</td>\n",
              "      <td>1800</td>\n",
              "      <td>7503</td>\n",
              "    </tr>\n",
              "  </tbody>\n",
              "</table>\n",
              "</div>\n",
              "      <button class=\"colab-df-convert\" onclick=\"convertToInteractive('df-ab361f5f-46b2-45de-af55-96e6f03fe4e5')\"\n",
              "              title=\"Convert this dataframe to an interactive table.\"\n",
              "              style=\"display:none;\">\n",
              "        \n",
              "  <svg xmlns=\"http://www.w3.org/2000/svg\" height=\"24px\"viewBox=\"0 0 24 24\"\n",
              "       width=\"24px\">\n",
              "    <path d=\"M0 0h24v24H0V0z\" fill=\"none\"/>\n",
              "    <path d=\"M18.56 5.44l.94 2.06.94-2.06 2.06-.94-2.06-.94-.94-2.06-.94 2.06-2.06.94zm-11 1L8.5 8.5l.94-2.06 2.06-.94-2.06-.94L8.5 2.5l-.94 2.06-2.06.94zm10 10l.94 2.06.94-2.06 2.06-.94-2.06-.94-.94-2.06-.94 2.06-2.06.94z\"/><path d=\"M17.41 7.96l-1.37-1.37c-.4-.4-.92-.59-1.43-.59-.52 0-1.04.2-1.43.59L10.3 9.45l-7.72 7.72c-.78.78-.78 2.05 0 2.83L4 21.41c.39.39.9.59 1.41.59.51 0 1.02-.2 1.41-.59l7.78-7.78 2.81-2.81c.8-.78.8-2.07 0-2.86zM5.41 20L4 18.59l7.72-7.72 1.47 1.35L5.41 20z\"/>\n",
              "  </svg>\n",
              "      </button>\n",
              "      \n",
              "  <style>\n",
              "    .colab-df-container {\n",
              "      display:flex;\n",
              "      flex-wrap:wrap;\n",
              "      gap: 12px;\n",
              "    }\n",
              "\n",
              "    .colab-df-convert {\n",
              "      background-color: #E8F0FE;\n",
              "      border: none;\n",
              "      border-radius: 50%;\n",
              "      cursor: pointer;\n",
              "      display: none;\n",
              "      fill: #1967D2;\n",
              "      height: 32px;\n",
              "      padding: 0 0 0 0;\n",
              "      width: 32px;\n",
              "    }\n",
              "\n",
              "    .colab-df-convert:hover {\n",
              "      background-color: #E2EBFA;\n",
              "      box-shadow: 0px 1px 2px rgba(60, 64, 67, 0.3), 0px 1px 3px 1px rgba(60, 64, 67, 0.15);\n",
              "      fill: #174EA6;\n",
              "    }\n",
              "\n",
              "    [theme=dark] .colab-df-convert {\n",
              "      background-color: #3B4455;\n",
              "      fill: #D2E3FC;\n",
              "    }\n",
              "\n",
              "    [theme=dark] .colab-df-convert:hover {\n",
              "      background-color: #434B5C;\n",
              "      box-shadow: 0px 1px 3px 1px rgba(0, 0, 0, 0.15);\n",
              "      filter: drop-shadow(0px 1px 2px rgba(0, 0, 0, 0.3));\n",
              "      fill: #FFFFFF;\n",
              "    }\n",
              "  </style>\n",
              "\n",
              "      <script>\n",
              "        const buttonEl =\n",
              "          document.querySelector('#df-ab361f5f-46b2-45de-af55-96e6f03fe4e5 button.colab-df-convert');\n",
              "        buttonEl.style.display =\n",
              "          google.colab.kernel.accessAllowed ? 'block' : 'none';\n",
              "\n",
              "        async function convertToInteractive(key) {\n",
              "          const element = document.querySelector('#df-ab361f5f-46b2-45de-af55-96e6f03fe4e5');\n",
              "          const dataTable =\n",
              "            await google.colab.kernel.invokeFunction('convertToInteractive',\n",
              "                                                     [key], {});\n",
              "          if (!dataTable) return;\n",
              "\n",
              "          const docLinkHtml = 'Like what you see? Visit the ' +\n",
              "            '<a target=\"_blank\" href=https://colab.research.google.com/notebooks/data_table.ipynb>data table notebook</a>'\n",
              "            + ' to learn more about interactive tables.';\n",
              "          element.innerHTML = '';\n",
              "          dataTable['output_type'] = 'display_data';\n",
              "          await google.colab.output.renderOutput(dataTable, element);\n",
              "          const docLink = document.createElement('div');\n",
              "          docLink.innerHTML = docLinkHtml;\n",
              "          element.appendChild(docLink);\n",
              "        }\n",
              "      </script>\n",
              "    </div>\n",
              "  </div>\n",
              "  "
            ]
          },
          "metadata": {},
          "execution_count": 4
        }
      ]
    },
    {
      "cell_type": "code",
      "source": [
        "#making copy of df\n",
        "ml_df = df.copy()"
      ],
      "metadata": {
        "id": "ZCC6T_cmp_kU"
      },
      "execution_count": null,
      "outputs": []
    },
    {
      "cell_type": "code",
      "source": [
        "ml_df.info()"
      ],
      "metadata": {
        "id": "XEQeWOxV9k1C",
        "colab": {
          "base_uri": "https://localhost:8080/"
        },
        "outputId": "7a208ea3-449f-429c-89f5-8ddd1845c15a"
      },
      "execution_count": null,
      "outputs": [
        {
          "output_type": "stream",
          "name": "stdout",
          "text": [
            "<class 'pandas.core.frame.DataFrame'>\n",
            "RangeIndex: 21613 entries, 0 to 21612\n",
            "Data columns (total 19 columns):\n",
            " #   Column         Non-Null Count  Dtype  \n",
            "---  ------         --------------  -----  \n",
            " 0   price          21613 non-null  int64  \n",
            " 1   bedrooms       21613 non-null  int64  \n",
            " 2   bathrooms      21613 non-null  float64\n",
            " 3   sqft_living    21613 non-null  int64  \n",
            " 4   sqft_lot       21613 non-null  int64  \n",
            " 5   floors         21613 non-null  float64\n",
            " 6   waterfront     21613 non-null  int64  \n",
            " 7   view           21613 non-null  int64  \n",
            " 8   condition      21613 non-null  int64  \n",
            " 9   grade          21613 non-null  int64  \n",
            " 10  sqft_above     21613 non-null  int64  \n",
            " 11  sqft_basement  21613 non-null  int64  \n",
            " 12  yr_built       21613 non-null  int64  \n",
            " 13  yr_renovated   21613 non-null  int64  \n",
            " 14  zipcode        21613 non-null  int64  \n",
            " 15  lat            21613 non-null  float64\n",
            " 16  long           21613 non-null  float64\n",
            " 17  sqft_living15  21613 non-null  int64  \n",
            " 18  sqft_lot15     21613 non-null  int64  \n",
            "dtypes: float64(4), int64(15)\n",
            "memory usage: 3.1 MB\n"
          ]
        }
      ]
    },
    {
      "cell_type": "code",
      "source": [
        "ml_df.isna().sum()"
      ],
      "metadata": {
        "colab": {
          "base_uri": "https://localhost:8080/"
        },
        "id": "zG_isiKoqOqe",
        "outputId": "e79390ec-8e54-4cd4-9e18-332a0e93c99d"
      },
      "execution_count": null,
      "outputs": [
        {
          "output_type": "execute_result",
          "data": {
            "text/plain": [
              "price            0\n",
              "bedrooms         0\n",
              "bathrooms        0\n",
              "sqft_living      0\n",
              "sqft_lot         0\n",
              "floors           0\n",
              "waterfront       0\n",
              "view             0\n",
              "condition        0\n",
              "grade            0\n",
              "sqft_above       0\n",
              "sqft_basement    0\n",
              "yr_built         0\n",
              "yr_renovated     0\n",
              "zipcode          0\n",
              "lat              0\n",
              "long             0\n",
              "sqft_living15    0\n",
              "sqft_lot15       0\n",
              "dtype: int64"
            ]
          },
          "metadata": {},
          "execution_count": 7
        }
      ]
    },
    {
      "cell_type": "code",
      "source": [
        "ml_df.duplicated().sum()"
      ],
      "metadata": {
        "id": "bEpcOpKJ9pBY",
        "colab": {
          "base_uri": "https://localhost:8080/"
        },
        "outputId": "ea7ff03d-f005-4b90-94eb-8f35698e3d9a"
      },
      "execution_count": null,
      "outputs": [
        {
          "output_type": "execute_result",
          "data": {
            "text/plain": [
              "5"
            ]
          },
          "metadata": {},
          "execution_count": 8
        }
      ]
    },
    {
      "cell_type": "code",
      "source": [
        "ml_df.drop_duplicates(inplace=True)"
      ],
      "metadata": {
        "id": "J4mIDHu5925v"
      },
      "execution_count": null,
      "outputs": []
    },
    {
      "cell_type": "code",
      "source": [
        "ml_df.duplicated().sum()"
      ],
      "metadata": {
        "id": "syPhLnzh94mp",
        "colab": {
          "base_uri": "https://localhost:8080/"
        },
        "outputId": "080a5c98-3063-472e-b2f9-6cf31e261b3d"
      },
      "execution_count": null,
      "outputs": [
        {
          "output_type": "execute_result",
          "data": {
            "text/plain": [
              "0"
            ]
          },
          "metadata": {},
          "execution_count": 10
        }
      ]
    },
    {
      "cell_type": "code",
      "source": [
        "# the 'zipcode' column is a nominal categorical variable\n",
        "# convert the datatype of 'zipcode' to 'object'\n",
        "\n",
        "ml_df['zipcode'] = ml_df['zipcode'].astype('object')"
      ],
      "metadata": {
        "id": "v6bDTc8H9_OM"
      },
      "execution_count": null,
      "outputs": []
    },
    {
      "cell_type": "code",
      "source": [
        "ml_df.info()"
      ],
      "metadata": {
        "id": "F4t0yFhACKFp",
        "colab": {
          "base_uri": "https://localhost:8080/"
        },
        "outputId": "533fb349-ddc8-4693-aee4-821f17a551ef"
      },
      "execution_count": null,
      "outputs": [
        {
          "output_type": "stream",
          "name": "stdout",
          "text": [
            "<class 'pandas.core.frame.DataFrame'>\n",
            "Int64Index: 21608 entries, 0 to 21612\n",
            "Data columns (total 19 columns):\n",
            " #   Column         Non-Null Count  Dtype  \n",
            "---  ------         --------------  -----  \n",
            " 0   price          21608 non-null  int64  \n",
            " 1   bedrooms       21608 non-null  int64  \n",
            " 2   bathrooms      21608 non-null  float64\n",
            " 3   sqft_living    21608 non-null  int64  \n",
            " 4   sqft_lot       21608 non-null  int64  \n",
            " 5   floors         21608 non-null  float64\n",
            " 6   waterfront     21608 non-null  int64  \n",
            " 7   view           21608 non-null  int64  \n",
            " 8   condition      21608 non-null  int64  \n",
            " 9   grade          21608 non-null  int64  \n",
            " 10  sqft_above     21608 non-null  int64  \n",
            " 11  sqft_basement  21608 non-null  int64  \n",
            " 12  yr_built       21608 non-null  int64  \n",
            " 13  yr_renovated   21608 non-null  int64  \n",
            " 14  zipcode        21608 non-null  object \n",
            " 15  lat            21608 non-null  float64\n",
            " 16  long           21608 non-null  float64\n",
            " 17  sqft_living15  21608 non-null  int64  \n",
            " 18  sqft_lot15     21608 non-null  int64  \n",
            "dtypes: float64(4), int64(14), object(1)\n",
            "memory usage: 3.3+ MB\n"
          ]
        }
      ]
    },
    {
      "cell_type": "markdown",
      "source": [
        "Split data into target vector and features matrix."
      ],
      "metadata": {
        "id": "C7nZdHEt-0yv"
      }
    },
    {
      "cell_type": "code",
      "source": [
        "# assign X and y\n",
        "# price is the target\n",
        "\n",
        "X = ml_df.drop(columns='price')\n",
        "y = ml_df['price']"
      ],
      "metadata": {
        "id": "T_MWoz82-N99"
      },
      "execution_count": null,
      "outputs": []
    },
    {
      "cell_type": "markdown",
      "source": [
        "### Train-Test-Split\n",
        "\n",
        "This method allows us to validate how our model does on unseen data - which allows us to check for high variance."
      ],
      "metadata": {
        "id": "e5Pzcugc-yJ7"
      }
    },
    {
      "cell_type": "code",
      "source": [
        "# split into training and test sets\n",
        "X_train, X_test, y_train, y_test = train_test_split(X, y, random_state=42)"
      ],
      "metadata": {
        "id": "e6OWWoSw-TDd"
      },
      "execution_count": null,
      "outputs": []
    },
    {
      "cell_type": "markdown",
      "source": [
        "# ColumnTransformer\n",
        "\n",
        "Create:\n",
        "\n",
        "1. column selector\n",
        "2. one-hot encoding transformer\n",
        "3. and a ColumnTransformer object that will one-hot encode the categorical variables.\n",
        "4. Tree-based models do not required scaled data.  However, if we wanted to use this preprocessor with other kinds of models we may need to add a scaler."
      ],
      "metadata": {
        "id": "5XfOqM1G-vw_"
      }
    },
    {
      "cell_type": "code",
      "source": [
        "# Create your preprocessing steps\n",
        "# One-hot encode the categorical variables\n",
        "# remember to set sparse=False for the OneHotEncoder\n",
        "\n",
        "cat_selector = make_column_selector(dtype_include='object')\n",
        "\n",
        "ohe = OneHotEncoder(sparse=False, handle_unknown='ignore')\n",
        "\n",
        "ohe_tuple = (ohe, cat_selector)\n",
        "\n",
        "# let the numeric columns pass through unchanged\n",
        "preprocessor = make_column_transformer(ohe_tuple, remainder = 'passthrough')"
      ],
      "metadata": {
        "id": "o8zPIToO-VCX"
      },
      "execution_count": null,
      "outputs": []
    },
    {
      "cell_type": "markdown",
      "source": [
        "## High Bias\n",
        "Fit a Decision Tree Regressor model to predict price that has very high bias by adjusting max_depth."
      ],
      "metadata": {
        "id": "TlUTWAfW_A2t"
      }
    },
    {
      "cell_type": "code",
      "source": [
        "# instantiate a model.  What should the depth be to get the highest bias?\n",
        "# remember, a simpler model createst a higher bias.  What does a simple tree look like?\n",
        "dec_tree = DecisionTreeRegressor(max_depth=1)\n",
        "# put the model in a pipeline with the preprocessor\n",
        "dec_tree_pipe = make_pipeline(preprocessor, dec_tree)\n",
        "# fit the model on the training data\n",
        "dec_tree_pipe.fit(X_train, y_train)\n",
        "# evaluate the model on both the training and the testing data.\n",
        "print('Training')\n",
        "evaluate_regression(y_train, dec_tree_pipe.predict(X_train))\n",
        "print('Testing')\n",
        "evaluate_regression(y_test, dec_tree_pipe.predict(X_test))"
      ],
      "metadata": {
        "id": "EUTdo1ZC--GL",
        "colab": {
          "base_uri": "https://localhost:8080/"
        },
        "outputId": "9c9ac18e-1001-420e-85fc-91d98ea47963"
      },
      "execution_count": null,
      "outputs": [
        {
          "output_type": "stream",
          "name": "stdout",
          "text": [
            "Training\n",
            "scores: \n",
            "MAE: 187,918.15 \n",
            "MSE: 86,994,302,278.54 \n",
            "RMSE: 294,947.97 \n",
            "R2: 0.32\n",
            "Testing\n",
            "scores: \n",
            "MAE: 195,357.00 \n",
            "MSE: 105,852,430,665.14 \n",
            "RMSE: 325,349.71 \n",
            "R2: 0.31\n"
          ]
        }
      ]
    },
    {
      "cell_type": "code",
      "source": [],
      "metadata": {
        "id": "qROlP0mkmB52"
      },
      "execution_count": null,
      "outputs": []
    },
    {
      "cell_type": "markdown",
      "source": [
        "## High Variance\n",
        "Now, fit a Decision Tree Regressor pipeline to predict price that has very high variance by adjusting max_depth."
      ],
      "metadata": {
        "id": "0pCtPxF9_bAN"
      }
    },
    {
      "cell_type": "code",
      "source": [
        "# instantiate a model.  What should the depth be to get the highest variance?\n",
        "# remember, a more complex model createst a higher bias.\n",
        "# what does a complex tree look like?\n",
        "dec_tree_var = DecisionTreeRegressor(max_depth=None)\n",
        "# put the model in a pipeline with the preprocessor\n",
        "var_tree_pipe = make_pipeline(preprocessor, dec_tree_var)\n",
        "# fit the model on the training data\n",
        "var_tree_pipe.fit(X_train, y_train)\n",
        "# evaluate the model on both the training and the testing data.\n",
        "print('Train Data')\n",
        "evaluate_regression(y_train, var_tree_pipe.predict(X_train))\n",
        "print('\\nTest Data')\n",
        "evaluate_regression(y_test, var_tree_pipe.predict(X_test))"
      ],
      "metadata": {
        "id": "99SAW5kt_ImG",
        "colab": {
          "base_uri": "https://localhost:8080/"
        },
        "outputId": "f8041e3d-6d39-4b9d-9dfe-3cb77c6c813a"
      },
      "execution_count": null,
      "outputs": [
        {
          "output_type": "stream",
          "name": "stdout",
          "text": [
            "Train Data\n",
            "scores: \n",
            "MAE: 838.99 \n",
            "MSE: 81,504,264.16 \n",
            "RMSE: 9,027.97 \n",
            "R2: 1.00\n",
            "\n",
            "Test Data\n",
            "scores: \n",
            "MAE: 102,082.65 \n",
            "MSE: 37,161,034,492.66 \n",
            "RMSE: 192,771.98 \n",
            "R2: 0.76\n"
          ]
        }
      ]
    },
    {
      "cell_type": "code",
      "source": [
        "var_tree_pipe"
      ],
      "metadata": {
        "colab": {
          "base_uri": "https://localhost:8080/",
          "height": 192
        },
        "id": "c1OaGK3y0FQN",
        "outputId": "0453f902-50b8-4a0e-c27b-b1a4f7dd9e25"
      },
      "execution_count": null,
      "outputs": [
        {
          "output_type": "execute_result",
          "data": {
            "text/plain": [
              "Pipeline(steps=[('columntransformer',\n",
              "                 ColumnTransformer(remainder='passthrough',\n",
              "                                   transformers=[('onehotencoder',\n",
              "                                                  OneHotEncoder(handle_unknown='ignore',\n",
              "                                                                sparse=False),\n",
              "                                                  <sklearn.compose._column_transformer.make_column_selector object at 0x7fa0edbca510>)])),\n",
              "                ('decisiontreeregressor', DecisionTreeRegressor())])"
            ],
            "text/html": [
              "<style>#sk-6cbd179d-7898-4c24-92d9-a9f3a0dd6f23 {color: black;background-color: white;}#sk-6cbd179d-7898-4c24-92d9-a9f3a0dd6f23 pre{padding: 0;}#sk-6cbd179d-7898-4c24-92d9-a9f3a0dd6f23 div.sk-toggleable {background-color: white;}#sk-6cbd179d-7898-4c24-92d9-a9f3a0dd6f23 label.sk-toggleable__label {cursor: pointer;display: block;width: 100%;margin-bottom: 0;padding: 0.3em;box-sizing: border-box;text-align: center;}#sk-6cbd179d-7898-4c24-92d9-a9f3a0dd6f23 label.sk-toggleable__label-arrow:before {content: \"▸\";float: left;margin-right: 0.25em;color: #696969;}#sk-6cbd179d-7898-4c24-92d9-a9f3a0dd6f23 label.sk-toggleable__label-arrow:hover:before {color: black;}#sk-6cbd179d-7898-4c24-92d9-a9f3a0dd6f23 div.sk-estimator:hover label.sk-toggleable__label-arrow:before {color: black;}#sk-6cbd179d-7898-4c24-92d9-a9f3a0dd6f23 div.sk-toggleable__content {max-height: 0;max-width: 0;overflow: hidden;text-align: left;background-color: #f0f8ff;}#sk-6cbd179d-7898-4c24-92d9-a9f3a0dd6f23 div.sk-toggleable__content pre {margin: 0.2em;color: black;border-radius: 0.25em;background-color: #f0f8ff;}#sk-6cbd179d-7898-4c24-92d9-a9f3a0dd6f23 input.sk-toggleable__control:checked~div.sk-toggleable__content {max-height: 200px;max-width: 100%;overflow: auto;}#sk-6cbd179d-7898-4c24-92d9-a9f3a0dd6f23 input.sk-toggleable__control:checked~label.sk-toggleable__label-arrow:before {content: \"▾\";}#sk-6cbd179d-7898-4c24-92d9-a9f3a0dd6f23 div.sk-estimator input.sk-toggleable__control:checked~label.sk-toggleable__label {background-color: #d4ebff;}#sk-6cbd179d-7898-4c24-92d9-a9f3a0dd6f23 div.sk-label input.sk-toggleable__control:checked~label.sk-toggleable__label {background-color: #d4ebff;}#sk-6cbd179d-7898-4c24-92d9-a9f3a0dd6f23 input.sk-hidden--visually {border: 0;clip: rect(1px 1px 1px 1px);clip: rect(1px, 1px, 1px, 1px);height: 1px;margin: -1px;overflow: hidden;padding: 0;position: absolute;width: 1px;}#sk-6cbd179d-7898-4c24-92d9-a9f3a0dd6f23 div.sk-estimator {font-family: monospace;background-color: #f0f8ff;border: 1px dotted black;border-radius: 0.25em;box-sizing: border-box;margin-bottom: 0.5em;}#sk-6cbd179d-7898-4c24-92d9-a9f3a0dd6f23 div.sk-estimator:hover {background-color: #d4ebff;}#sk-6cbd179d-7898-4c24-92d9-a9f3a0dd6f23 div.sk-parallel-item::after {content: \"\";width: 100%;border-bottom: 1px solid gray;flex-grow: 1;}#sk-6cbd179d-7898-4c24-92d9-a9f3a0dd6f23 div.sk-label:hover label.sk-toggleable__label {background-color: #d4ebff;}#sk-6cbd179d-7898-4c24-92d9-a9f3a0dd6f23 div.sk-serial::before {content: \"\";position: absolute;border-left: 1px solid gray;box-sizing: border-box;top: 2em;bottom: 0;left: 50%;}#sk-6cbd179d-7898-4c24-92d9-a9f3a0dd6f23 div.sk-serial {display: flex;flex-direction: column;align-items: center;background-color: white;padding-right: 0.2em;padding-left: 0.2em;}#sk-6cbd179d-7898-4c24-92d9-a9f3a0dd6f23 div.sk-item {z-index: 1;}#sk-6cbd179d-7898-4c24-92d9-a9f3a0dd6f23 div.sk-parallel {display: flex;align-items: stretch;justify-content: center;background-color: white;}#sk-6cbd179d-7898-4c24-92d9-a9f3a0dd6f23 div.sk-parallel::before {content: \"\";position: absolute;border-left: 1px solid gray;box-sizing: border-box;top: 2em;bottom: 0;left: 50%;}#sk-6cbd179d-7898-4c24-92d9-a9f3a0dd6f23 div.sk-parallel-item {display: flex;flex-direction: column;position: relative;background-color: white;}#sk-6cbd179d-7898-4c24-92d9-a9f3a0dd6f23 div.sk-parallel-item:first-child::after {align-self: flex-end;width: 50%;}#sk-6cbd179d-7898-4c24-92d9-a9f3a0dd6f23 div.sk-parallel-item:last-child::after {align-self: flex-start;width: 50%;}#sk-6cbd179d-7898-4c24-92d9-a9f3a0dd6f23 div.sk-parallel-item:only-child::after {width: 0;}#sk-6cbd179d-7898-4c24-92d9-a9f3a0dd6f23 div.sk-dashed-wrapped {border: 1px dashed gray;margin: 0 0.4em 0.5em 0.4em;box-sizing: border-box;padding-bottom: 0.4em;background-color: white;position: relative;}#sk-6cbd179d-7898-4c24-92d9-a9f3a0dd6f23 div.sk-label label {font-family: monospace;font-weight: bold;background-color: white;display: inline-block;line-height: 1.2em;}#sk-6cbd179d-7898-4c24-92d9-a9f3a0dd6f23 div.sk-label-container {position: relative;z-index: 2;text-align: center;}#sk-6cbd179d-7898-4c24-92d9-a9f3a0dd6f23 div.sk-container {/* jupyter's `normalize.less` sets `[hidden] { display: none; }` but bootstrap.min.css set `[hidden] { display: none !important; }` so we also need the `!important` here to be able to override the default hidden behavior on the sphinx rendered scikit-learn.org. See: https://github.com/scikit-learn/scikit-learn/issues/21755 */display: inline-block !important;position: relative;}#sk-6cbd179d-7898-4c24-92d9-a9f3a0dd6f23 div.sk-text-repr-fallback {display: none;}</style><div id=\"sk-6cbd179d-7898-4c24-92d9-a9f3a0dd6f23\" class=\"sk-top-container\"><div class=\"sk-text-repr-fallback\"><pre>Pipeline(steps=[(&#x27;columntransformer&#x27;,\n",
              "                 ColumnTransformer(remainder=&#x27;passthrough&#x27;,\n",
              "                                   transformers=[(&#x27;onehotencoder&#x27;,\n",
              "                                                  OneHotEncoder(handle_unknown=&#x27;ignore&#x27;,\n",
              "                                                                sparse=False),\n",
              "                                                  &lt;sklearn.compose._column_transformer.make_column_selector object at 0x7fa0edbca510&gt;)])),\n",
              "                (&#x27;decisiontreeregressor&#x27;, DecisionTreeRegressor())])</pre><b>Please rerun this cell to show the HTML repr or trust the notebook.</b></div><div class=\"sk-container\" hidden><div class=\"sk-item sk-dashed-wrapped\"><div class=\"sk-label-container\"><div class=\"sk-label sk-toggleable\"><input class=\"sk-toggleable__control sk-hidden--visually\" id=\"8ab62743-b70a-4d6f-a6c6-96952fb46597\" type=\"checkbox\" ><label for=\"8ab62743-b70a-4d6f-a6c6-96952fb46597\" class=\"sk-toggleable__label sk-toggleable__label-arrow\">Pipeline</label><div class=\"sk-toggleable__content\"><pre>Pipeline(steps=[(&#x27;columntransformer&#x27;,\n",
              "                 ColumnTransformer(remainder=&#x27;passthrough&#x27;,\n",
              "                                   transformers=[(&#x27;onehotencoder&#x27;,\n",
              "                                                  OneHotEncoder(handle_unknown=&#x27;ignore&#x27;,\n",
              "                                                                sparse=False),\n",
              "                                                  &lt;sklearn.compose._column_transformer.make_column_selector object at 0x7fa0edbca510&gt;)])),\n",
              "                (&#x27;decisiontreeregressor&#x27;, DecisionTreeRegressor())])</pre></div></div></div><div class=\"sk-serial\"><div class=\"sk-item sk-dashed-wrapped\"><div class=\"sk-label-container\"><div class=\"sk-label sk-toggleable\"><input class=\"sk-toggleable__control sk-hidden--visually\" id=\"a4c4435d-2a9e-4106-8353-fe8bacdc4998\" type=\"checkbox\" ><label for=\"a4c4435d-2a9e-4106-8353-fe8bacdc4998\" class=\"sk-toggleable__label sk-toggleable__label-arrow\">columntransformer: ColumnTransformer</label><div class=\"sk-toggleable__content\"><pre>ColumnTransformer(remainder=&#x27;passthrough&#x27;,\n",
              "                  transformers=[(&#x27;onehotencoder&#x27;,\n",
              "                                 OneHotEncoder(handle_unknown=&#x27;ignore&#x27;,\n",
              "                                               sparse=False),\n",
              "                                 &lt;sklearn.compose._column_transformer.make_column_selector object at 0x7fa0edbca510&gt;)])</pre></div></div></div><div class=\"sk-parallel\"><div class=\"sk-parallel-item\"><div class=\"sk-item\"><div class=\"sk-label-container\"><div class=\"sk-label sk-toggleable\"><input class=\"sk-toggleable__control sk-hidden--visually\" id=\"2d061ebd-f7a0-4acd-aa22-ef79b48def49\" type=\"checkbox\" ><label for=\"2d061ebd-f7a0-4acd-aa22-ef79b48def49\" class=\"sk-toggleable__label sk-toggleable__label-arrow\">onehotencoder</label><div class=\"sk-toggleable__content\"><pre>&lt;sklearn.compose._column_transformer.make_column_selector object at 0x7fa0edbca510&gt;</pre></div></div></div><div class=\"sk-serial\"><div class=\"sk-item\"><div class=\"sk-estimator sk-toggleable\"><input class=\"sk-toggleable__control sk-hidden--visually\" id=\"fdfe0915-1bc3-4864-a770-e7731b54bcb0\" type=\"checkbox\" ><label for=\"fdfe0915-1bc3-4864-a770-e7731b54bcb0\" class=\"sk-toggleable__label sk-toggleable__label-arrow\">OneHotEncoder</label><div class=\"sk-toggleable__content\"><pre>OneHotEncoder(handle_unknown=&#x27;ignore&#x27;, sparse=False)</pre></div></div></div></div></div></div><div class=\"sk-parallel-item\"><div class=\"sk-item\"><div class=\"sk-label-container\"><div class=\"sk-label sk-toggleable\"><input class=\"sk-toggleable__control sk-hidden--visually\" id=\"4463d40c-5610-45d0-8adb-03dc06c8ecde\" type=\"checkbox\" ><label for=\"4463d40c-5610-45d0-8adb-03dc06c8ecde\" class=\"sk-toggleable__label sk-toggleable__label-arrow\">remainder</label><div class=\"sk-toggleable__content\"><pre>[&#x27;bedrooms&#x27;, &#x27;bathrooms&#x27;, &#x27;sqft_living&#x27;, &#x27;sqft_lot&#x27;, &#x27;floors&#x27;, &#x27;waterfront&#x27;, &#x27;view&#x27;, &#x27;condition&#x27;, &#x27;grade&#x27;, &#x27;sqft_above&#x27;, &#x27;sqft_basement&#x27;, &#x27;yr_built&#x27;, &#x27;yr_renovated&#x27;, &#x27;lat&#x27;, &#x27;long&#x27;, &#x27;sqft_living15&#x27;, &#x27;sqft_lot15&#x27;]</pre></div></div></div><div class=\"sk-serial\"><div class=\"sk-item\"><div class=\"sk-estimator sk-toggleable\"><input class=\"sk-toggleable__control sk-hidden--visually\" id=\"1e3bf9e6-a1d8-40a3-81e7-5d985394d690\" type=\"checkbox\" ><label for=\"1e3bf9e6-a1d8-40a3-81e7-5d985394d690\" class=\"sk-toggleable__label sk-toggleable__label-arrow\">passthrough</label><div class=\"sk-toggleable__content\"><pre>passthrough</pre></div></div></div></div></div></div></div></div><div class=\"sk-item\"><div class=\"sk-estimator sk-toggleable\"><input class=\"sk-toggleable__control sk-hidden--visually\" id=\"43e299ea-c066-49d5-ab41-4b0fa5e39deb\" type=\"checkbox\" ><label for=\"43e299ea-c066-49d5-ab41-4b0fa5e39deb\" class=\"sk-toggleable__label sk-toggleable__label-arrow\">DecisionTreeRegressor</label><div class=\"sk-toggleable__content\"><pre>DecisionTreeRegressor()</pre></div></div></div></div></div></div></div>"
            ]
          },
          "metadata": {},
          "execution_count": 19
        }
      ]
    },
    {
      "cell_type": "code",
      "source": [
        "# get depth of the tree from the pipeline\n",
        "var_tree_pipe['decisiontreeregressor'].get_depth()"
      ],
      "metadata": {
        "colab": {
          "base_uri": "https://localhost:8080/"
        },
        "id": "zC-jLbx3ydiR",
        "outputId": "56dfbb55-f43e-4584-d47f-ac1a33915e8c"
      },
      "execution_count": null,
      "outputs": [
        {
          "output_type": "execute_result",
          "data": {
            "text/plain": [
              "37"
            ]
          },
          "metadata": {},
          "execution_count": 20
        }
      ]
    },
    {
      "cell_type": "code",
      "source": [
        "# get the depth of the tree directly\n",
        "dec_tree_var.get_depth()"
      ],
      "metadata": {
        "colab": {
          "base_uri": "https://localhost:8080/"
        },
        "id": "rI4NU2lpg21J",
        "outputId": "e03c8f06-87cb-41e9-d919-64a4b317aefe"
      },
      "execution_count": null,
      "outputs": [
        {
          "output_type": "execute_result",
          "data": {
            "text/plain": [
              "37"
            ]
          },
          "metadata": {},
          "execution_count": 22
        }
      ]
    },
    {
      "cell_type": "markdown",
      "source": [
        "## Balance\n",
        "\n",
        "1. Choose a metric to optimize in order to decide which model is best.  In a comment, explain why you chose that metric.\n",
        "\n",
        "2. Adjust the max depth to get the best model possible.  \n",
        "\n",
        "Hint: You might try creating a loop over a reasonable number of max_depth values and storing lists of scores, then plotting those scores to visually determine the best value for the max_depth."
      ],
      "metadata": {
        "id": "eesxCn_z_ieI"
      }
    },
    {
      "cell_type": "code",
      "source": [
        "# create a range of max_depth values to loop over\n",
        "depths = range(1, 38)\n",
        "# create a dataframe to store train and test scores.\n",
        "scores = pd.DataFrame(columns=['Train','Test'], index=depths)\n",
        "# loop over the values in the depths range\n",
        "for depth in depths:\n",
        "  # fit a new model with the depth\n",
        "  dec = DecisionTreeRegressor(max_depth=depth)\n",
        "  # put model in a pipeline\n",
        "  dec_pipe = make_pipeline(preprocessor, dec)\n",
        "  # fit the model\n",
        "  dec_pipe.fit(X_train, y_train)\n",
        "  # create prediction arrays\n",
        "  train_pred = dec_pipe.predict(X_train)\n",
        "  test_pred = dec_pipe.predict(X_test)\n",
        "\n",
        "  # evaluate the model using R2 score\n",
        "  train_r2 = r2_score(y_train, train_pred)\n",
        "  test_r2 = r2_score(y_test, test_pred)\n",
        "  # store the scores in a dataframe\n",
        "  scores.loc[depth, 'Train'] = train_r2\n",
        "  scores.loc[depth, 'Test'] = test_r2\n"
      ],
      "metadata": {
        "id": "p3KCYnma_e0U"
      },
      "execution_count": null,
      "outputs": []
    },
    {
      "cell_type": "code",
      "source": [
        "test_pred"
      ],
      "metadata": {
        "id": "SWa0gor3VBjn",
        "outputId": "7eb1ce77-2059-487b-8c46-3e733fd595eb",
        "colab": {
          "base_uri": "https://localhost:8080/"
        }
      },
      "execution_count": null,
      "outputs": [
        {
          "output_type": "execute_result",
          "data": {
            "text/plain": [
              "array([765000., 560000., 147000., ..., 400000., 734000., 739900.])"
            ]
          },
          "metadata": {},
          "execution_count": 24
        }
      ]
    },
    {
      "cell_type": "code",
      "source": [
        "# print scores\n",
        "scores\n"
      ],
      "metadata": {
        "id": "1oH3ZrEV_n_y",
        "colab": {
          "base_uri": "https://localhost:8080/",
          "height": 1000
        },
        "outputId": "3e9365e9-21b9-4e02-8175-66ba99f774eb"
      },
      "execution_count": null,
      "outputs": [
        {
          "output_type": "execute_result",
          "data": {
            "text/plain": [
              "       Train      Test\n",
              "1   0.323987  0.311254\n",
              "2     0.4981  0.500666\n",
              "3   0.607943  0.601346\n",
              "4   0.680456  0.652236\n",
              "5    0.74521  0.701151\n",
              "6   0.792862  0.737958\n",
              "7   0.830139  0.752039\n",
              "8   0.863309  0.758874\n",
              "9   0.888744   0.77491\n",
              "10  0.911059  0.766319\n",
              "11  0.931621  0.772838\n",
              "12  0.948974  0.769682\n",
              "13  0.962302  0.781209\n",
              "14  0.972982  0.772079\n",
              "15  0.980499  0.765608\n",
              "16  0.986188  0.770715\n",
              "17  0.990332  0.774044\n",
              "18  0.993079  0.752496\n",
              "19  0.995079  0.753855\n",
              "20  0.996538  0.740326\n",
              "21  0.997549  0.728193\n",
              "22  0.998214    0.7499\n",
              "23  0.998665  0.738066\n",
              "24  0.998939  0.731504\n",
              "25  0.999108  0.760483\n",
              "26  0.999209  0.744785\n",
              "27  0.999268  0.765659\n",
              "28  0.999304  0.736012\n",
              "29  0.999331  0.754991\n",
              "30  0.999346  0.745516\n",
              "31  0.999354  0.743452\n",
              "32  0.999363  0.750608\n",
              "33  0.999366  0.760885\n",
              "34  0.999366  0.740513\n",
              "35  0.999367  0.763177\n",
              "36  0.999367  0.745016\n",
              "37  0.999367  0.760913"
            ],
            "text/html": [
              "\n",
              "  <div id=\"df-a53fcbe1-b81c-4345-b177-8867cc38c5f1\">\n",
              "    <div class=\"colab-df-container\">\n",
              "      <div>\n",
              "<style scoped>\n",
              "    .dataframe tbody tr th:only-of-type {\n",
              "        vertical-align: middle;\n",
              "    }\n",
              "\n",
              "    .dataframe tbody tr th {\n",
              "        vertical-align: top;\n",
              "    }\n",
              "\n",
              "    .dataframe thead th {\n",
              "        text-align: right;\n",
              "    }\n",
              "</style>\n",
              "<table border=\"1\" class=\"dataframe\">\n",
              "  <thead>\n",
              "    <tr style=\"text-align: right;\">\n",
              "      <th></th>\n",
              "      <th>Train</th>\n",
              "      <th>Test</th>\n",
              "    </tr>\n",
              "  </thead>\n",
              "  <tbody>\n",
              "    <tr>\n",
              "      <th>1</th>\n",
              "      <td>0.323987</td>\n",
              "      <td>0.311254</td>\n",
              "    </tr>\n",
              "    <tr>\n",
              "      <th>2</th>\n",
              "      <td>0.4981</td>\n",
              "      <td>0.500666</td>\n",
              "    </tr>\n",
              "    <tr>\n",
              "      <th>3</th>\n",
              "      <td>0.607943</td>\n",
              "      <td>0.601346</td>\n",
              "    </tr>\n",
              "    <tr>\n",
              "      <th>4</th>\n",
              "      <td>0.680456</td>\n",
              "      <td>0.652236</td>\n",
              "    </tr>\n",
              "    <tr>\n",
              "      <th>5</th>\n",
              "      <td>0.74521</td>\n",
              "      <td>0.701151</td>\n",
              "    </tr>\n",
              "    <tr>\n",
              "      <th>6</th>\n",
              "      <td>0.792862</td>\n",
              "      <td>0.737958</td>\n",
              "    </tr>\n",
              "    <tr>\n",
              "      <th>7</th>\n",
              "      <td>0.830139</td>\n",
              "      <td>0.752039</td>\n",
              "    </tr>\n",
              "    <tr>\n",
              "      <th>8</th>\n",
              "      <td>0.863309</td>\n",
              "      <td>0.758874</td>\n",
              "    </tr>\n",
              "    <tr>\n",
              "      <th>9</th>\n",
              "      <td>0.888744</td>\n",
              "      <td>0.77491</td>\n",
              "    </tr>\n",
              "    <tr>\n",
              "      <th>10</th>\n",
              "      <td>0.911059</td>\n",
              "      <td>0.766319</td>\n",
              "    </tr>\n",
              "    <tr>\n",
              "      <th>11</th>\n",
              "      <td>0.931621</td>\n",
              "      <td>0.772838</td>\n",
              "    </tr>\n",
              "    <tr>\n",
              "      <th>12</th>\n",
              "      <td>0.948974</td>\n",
              "      <td>0.769682</td>\n",
              "    </tr>\n",
              "    <tr>\n",
              "      <th>13</th>\n",
              "      <td>0.962302</td>\n",
              "      <td>0.781209</td>\n",
              "    </tr>\n",
              "    <tr>\n",
              "      <th>14</th>\n",
              "      <td>0.972982</td>\n",
              "      <td>0.772079</td>\n",
              "    </tr>\n",
              "    <tr>\n",
              "      <th>15</th>\n",
              "      <td>0.980499</td>\n",
              "      <td>0.765608</td>\n",
              "    </tr>\n",
              "    <tr>\n",
              "      <th>16</th>\n",
              "      <td>0.986188</td>\n",
              "      <td>0.770715</td>\n",
              "    </tr>\n",
              "    <tr>\n",
              "      <th>17</th>\n",
              "      <td>0.990332</td>\n",
              "      <td>0.774044</td>\n",
              "    </tr>\n",
              "    <tr>\n",
              "      <th>18</th>\n",
              "      <td>0.993079</td>\n",
              "      <td>0.752496</td>\n",
              "    </tr>\n",
              "    <tr>\n",
              "      <th>19</th>\n",
              "      <td>0.995079</td>\n",
              "      <td>0.753855</td>\n",
              "    </tr>\n",
              "    <tr>\n",
              "      <th>20</th>\n",
              "      <td>0.996538</td>\n",
              "      <td>0.740326</td>\n",
              "    </tr>\n",
              "    <tr>\n",
              "      <th>21</th>\n",
              "      <td>0.997549</td>\n",
              "      <td>0.728193</td>\n",
              "    </tr>\n",
              "    <tr>\n",
              "      <th>22</th>\n",
              "      <td>0.998214</td>\n",
              "      <td>0.7499</td>\n",
              "    </tr>\n",
              "    <tr>\n",
              "      <th>23</th>\n",
              "      <td>0.998665</td>\n",
              "      <td>0.738066</td>\n",
              "    </tr>\n",
              "    <tr>\n",
              "      <th>24</th>\n",
              "      <td>0.998939</td>\n",
              "      <td>0.731504</td>\n",
              "    </tr>\n",
              "    <tr>\n",
              "      <th>25</th>\n",
              "      <td>0.999108</td>\n",
              "      <td>0.760483</td>\n",
              "    </tr>\n",
              "    <tr>\n",
              "      <th>26</th>\n",
              "      <td>0.999209</td>\n",
              "      <td>0.744785</td>\n",
              "    </tr>\n",
              "    <tr>\n",
              "      <th>27</th>\n",
              "      <td>0.999268</td>\n",
              "      <td>0.765659</td>\n",
              "    </tr>\n",
              "    <tr>\n",
              "      <th>28</th>\n",
              "      <td>0.999304</td>\n",
              "      <td>0.736012</td>\n",
              "    </tr>\n",
              "    <tr>\n",
              "      <th>29</th>\n",
              "      <td>0.999331</td>\n",
              "      <td>0.754991</td>\n",
              "    </tr>\n",
              "    <tr>\n",
              "      <th>30</th>\n",
              "      <td>0.999346</td>\n",
              "      <td>0.745516</td>\n",
              "    </tr>\n",
              "    <tr>\n",
              "      <th>31</th>\n",
              "      <td>0.999354</td>\n",
              "      <td>0.743452</td>\n",
              "    </tr>\n",
              "    <tr>\n",
              "      <th>32</th>\n",
              "      <td>0.999363</td>\n",
              "      <td>0.750608</td>\n",
              "    </tr>\n",
              "    <tr>\n",
              "      <th>33</th>\n",
              "      <td>0.999366</td>\n",
              "      <td>0.760885</td>\n",
              "    </tr>\n",
              "    <tr>\n",
              "      <th>34</th>\n",
              "      <td>0.999366</td>\n",
              "      <td>0.740513</td>\n",
              "    </tr>\n",
              "    <tr>\n",
              "      <th>35</th>\n",
              "      <td>0.999367</td>\n",
              "      <td>0.763177</td>\n",
              "    </tr>\n",
              "    <tr>\n",
              "      <th>36</th>\n",
              "      <td>0.999367</td>\n",
              "      <td>0.745016</td>\n",
              "    </tr>\n",
              "    <tr>\n",
              "      <th>37</th>\n",
              "      <td>0.999367</td>\n",
              "      <td>0.760913</td>\n",
              "    </tr>\n",
              "  </tbody>\n",
              "</table>\n",
              "</div>\n",
              "      <button class=\"colab-df-convert\" onclick=\"convertToInteractive('df-a53fcbe1-b81c-4345-b177-8867cc38c5f1')\"\n",
              "              title=\"Convert this dataframe to an interactive table.\"\n",
              "              style=\"display:none;\">\n",
              "        \n",
              "  <svg xmlns=\"http://www.w3.org/2000/svg\" height=\"24px\"viewBox=\"0 0 24 24\"\n",
              "       width=\"24px\">\n",
              "    <path d=\"M0 0h24v24H0V0z\" fill=\"none\"/>\n",
              "    <path d=\"M18.56 5.44l.94 2.06.94-2.06 2.06-.94-2.06-.94-.94-2.06-.94 2.06-2.06.94zm-11 1L8.5 8.5l.94-2.06 2.06-.94-2.06-.94L8.5 2.5l-.94 2.06-2.06.94zm10 10l.94 2.06.94-2.06 2.06-.94-2.06-.94-.94-2.06-.94 2.06-2.06.94z\"/><path d=\"M17.41 7.96l-1.37-1.37c-.4-.4-.92-.59-1.43-.59-.52 0-1.04.2-1.43.59L10.3 9.45l-7.72 7.72c-.78.78-.78 2.05 0 2.83L4 21.41c.39.39.9.59 1.41.59.51 0 1.02-.2 1.41-.59l7.78-7.78 2.81-2.81c.8-.78.8-2.07 0-2.86zM5.41 20L4 18.59l7.72-7.72 1.47 1.35L5.41 20z\"/>\n",
              "  </svg>\n",
              "      </button>\n",
              "      \n",
              "  <style>\n",
              "    .colab-df-container {\n",
              "      display:flex;\n",
              "      flex-wrap:wrap;\n",
              "      gap: 12px;\n",
              "    }\n",
              "\n",
              "    .colab-df-convert {\n",
              "      background-color: #E8F0FE;\n",
              "      border: none;\n",
              "      border-radius: 50%;\n",
              "      cursor: pointer;\n",
              "      display: none;\n",
              "      fill: #1967D2;\n",
              "      height: 32px;\n",
              "      padding: 0 0 0 0;\n",
              "      width: 32px;\n",
              "    }\n",
              "\n",
              "    .colab-df-convert:hover {\n",
              "      background-color: #E2EBFA;\n",
              "      box-shadow: 0px 1px 2px rgba(60, 64, 67, 0.3), 0px 1px 3px 1px rgba(60, 64, 67, 0.15);\n",
              "      fill: #174EA6;\n",
              "    }\n",
              "\n",
              "    [theme=dark] .colab-df-convert {\n",
              "      background-color: #3B4455;\n",
              "      fill: #D2E3FC;\n",
              "    }\n",
              "\n",
              "    [theme=dark] .colab-df-convert:hover {\n",
              "      background-color: #434B5C;\n",
              "      box-shadow: 0px 1px 3px 1px rgba(0, 0, 0, 0.15);\n",
              "      filter: drop-shadow(0px 1px 2px rgba(0, 0, 0, 0.3));\n",
              "      fill: #FFFFFF;\n",
              "    }\n",
              "  </style>\n",
              "\n",
              "      <script>\n",
              "        const buttonEl =\n",
              "          document.querySelector('#df-a53fcbe1-b81c-4345-b177-8867cc38c5f1 button.colab-df-convert');\n",
              "        buttonEl.style.display =\n",
              "          google.colab.kernel.accessAllowed ? 'block' : 'none';\n",
              "\n",
              "        async function convertToInteractive(key) {\n",
              "          const element = document.querySelector('#df-a53fcbe1-b81c-4345-b177-8867cc38c5f1');\n",
              "          const dataTable =\n",
              "            await google.colab.kernel.invokeFunction('convertToInteractive',\n",
              "                                                     [key], {});\n",
              "          if (!dataTable) return;\n",
              "\n",
              "          const docLinkHtml = 'Like what you see? Visit the ' +\n",
              "            '<a target=\"_blank\" href=https://colab.research.google.com/notebooks/data_table.ipynb>data table notebook</a>'\n",
              "            + ' to learn more about interactive tables.';\n",
              "          element.innerHTML = '';\n",
              "          dataTable['output_type'] = 'display_data';\n",
              "          await google.colab.output.renderOutput(dataTable, element);\n",
              "          const docLink = document.createElement('div');\n",
              "          docLink.innerHTML = docLinkHtml;\n",
              "          element.appendChild(docLink);\n",
              "        }\n",
              "      </script>\n",
              "    </div>\n",
              "  </div>\n",
              "  "
            ]
          },
          "metadata": {},
          "execution_count": 25
        }
      ]
    },
    {
      "cell_type": "code",
      "source": [
        "#plot the scores to visually determine the best max_depth\n",
        "plt.plot(depths, scores['Train'], label = 'train')\n",
        "plt.plot(depths, scores['Test'], label = 'test')\n",
        "plt.ylabel('R2 Scores')\n",
        "plt.xlabel('Max Depths')\n",
        "plt.legend()\n",
        "plt.show()"
      ],
      "metadata": {
        "id": "idRukGA__qXT",
        "colab": {
          "base_uri": "https://localhost:8080/",
          "height": 279
        },
        "outputId": "c241b4e7-75d4-4acf-d515-ea172c8c9c60"
      },
      "execution_count": null,
      "outputs": [
        {
          "output_type": "display_data",
          "data": {
            "text/plain": [
              "<Figure size 432x288 with 1 Axes>"
            ],
            "image/png": "[encoded data removed]"
          },
          "metadata": {
            "needs_background": "light"
          }
        }
      ]
    },
    {
      "cell_type": "code",
      "source": [
        "# sort the dataframe by test scores and save the index (k) of the best score\n",
        "scores.sort_values(by='Test', ascending=False)\n"
      ],
      "metadata": {
        "id": "PO2Ka50N_tsG",
        "colab": {
          "base_uri": "https://localhost:8080/",
          "height": 1000
        },
        "outputId": "d97b7587-2256-4d8b-810a-8f055fea56f1"
      },
      "execution_count": null,
      "outputs": [
        {
          "output_type": "execute_result",
          "data": {
            "text/plain": [
              "       Train      Test\n",
              "10  0.911059   0.78657\n",
              "9   0.888744  0.786248\n",
              "8   0.863309  0.780949\n",
              "14  0.972982  0.776446\n",
              "13  0.962302  0.775258\n",
              "11  0.931621  0.775144\n",
              "15  0.980499  0.771586\n",
              "37  0.999367  0.771142\n",
              "32  0.999363   0.77017\n",
              "35  0.999367  0.764768\n",
              "33  0.999366  0.759773\n",
              "7   0.830139  0.758877\n",
              "12  0.948974  0.755157\n",
              "26  0.999209   0.75377\n",
              "18  0.993079  0.752687\n",
              "23  0.998663  0.752381\n",
              "31  0.999354  0.751504\n",
              "30  0.999346  0.750679\n",
              "6   0.792862  0.749102\n",
              "36  0.999367  0.746609\n",
              "17  0.990332  0.746597\n",
              "34  0.999366  0.746325\n",
              "24  0.998936  0.746185\n",
              "21   0.99755  0.745992\n",
              "27  0.999268  0.745501\n",
              "20  0.996534  0.744735\n",
              "19  0.995079  0.744008\n",
              "22  0.998214  0.743211\n",
              "16  0.986188   0.74285\n",
              "29  0.999331  0.732355\n",
              "25  0.999109  0.731854\n",
              "28  0.999304  0.727987\n",
              "5    0.74521  0.689977\n",
              "4   0.680456  0.637349\n",
              "3   0.607943  0.601346\n",
              "2     0.4981  0.500666\n",
              "1   0.323987  0.311254"
            ],
            "text/html": [
              "\n",
              "  <div id=\"df-f611a08c-8b28-4c0e-ad40-c2de16703fe9\">\n",
              "    <div class=\"colab-df-container\">\n",
              "      <div>\n",
              "<style scoped>\n",
              "    .dataframe tbody tr th:only-of-type {\n",
              "        vertical-align: middle;\n",
              "    }\n",
              "\n",
              "    .dataframe tbody tr th {\n",
              "        vertical-align: top;\n",
              "    }\n",
              "\n",
              "    .dataframe thead th {\n",
              "        text-align: right;\n",
              "    }\n",
              "</style>\n",
              "<table border=\"1\" class=\"dataframe\">\n",
              "  <thead>\n",
              "    <tr style=\"text-align: right;\">\n",
              "      <th></th>\n",
              "      <th>Train</th>\n",
              "      <th>Test</th>\n",
              "    </tr>\n",
              "  </thead>\n",
              "  <tbody>\n",
              "    <tr>\n",
              "      <th>10</th>\n",
              "      <td>0.911059</td>\n",
              "      <td>0.78657</td>\n",
              "    </tr>\n",
              "    <tr>\n",
              "      <th>9</th>\n",
              "      <td>0.888744</td>\n",
              "      <td>0.786248</td>\n",
              "    </tr>\n",
              "    <tr>\n",
              "      <th>8</th>\n",
              "      <td>0.863309</td>\n",
              "      <td>0.780949</td>\n",
              "    </tr>\n",
              "    <tr>\n",
              "      <th>14</th>\n",
              "      <td>0.972982</td>\n",
              "      <td>0.776446</td>\n",
              "    </tr>\n",
              "    <tr>\n",
              "      <th>13</th>\n",
              "      <td>0.962302</td>\n",
              "      <td>0.775258</td>\n",
              "    </tr>\n",
              "    <tr>\n",
              "      <th>11</th>\n",
              "      <td>0.931621</td>\n",
              "      <td>0.775144</td>\n",
              "    </tr>\n",
              "    <tr>\n",
              "      <th>15</th>\n",
              "      <td>0.980499</td>\n",
              "      <td>0.771586</td>\n",
              "    </tr>\n",
              "    <tr>\n",
              "      <th>37</th>\n",
              "      <td>0.999367</td>\n",
              "      <td>0.771142</td>\n",
              "    </tr>\n",
              "    <tr>\n",
              "      <th>32</th>\n",
              "      <td>0.999363</td>\n",
              "      <td>0.77017</td>\n",
              "    </tr>\n",
              "    <tr>\n",
              "      <th>35</th>\n",
              "      <td>0.999367</td>\n",
              "      <td>0.764768</td>\n",
              "    </tr>\n",
              "    <tr>\n",
              "      <th>33</th>\n",
              "      <td>0.999366</td>\n",
              "      <td>0.759773</td>\n",
              "    </tr>\n",
              "    <tr>\n",
              "      <th>7</th>\n",
              "      <td>0.830139</td>\n",
              "      <td>0.758877</td>\n",
              "    </tr>\n",
              "    <tr>\n",
              "      <th>12</th>\n",
              "      <td>0.948974</td>\n",
              "      <td>0.755157</td>\n",
              "    </tr>\n",
              "    <tr>\n",
              "      <th>26</th>\n",
              "      <td>0.999209</td>\n",
              "      <td>0.75377</td>\n",
              "    </tr>\n",
              "    <tr>\n",
              "      <th>18</th>\n",
              "      <td>0.993079</td>\n",
              "      <td>0.752687</td>\n",
              "    </tr>\n",
              "    <tr>\n",
              "      <th>23</th>\n",
              "      <td>0.998663</td>\n",
              "      <td>0.752381</td>\n",
              "    </tr>\n",
              "    <tr>\n",
              "      <th>31</th>\n",
              "      <td>0.999354</td>\n",
              "      <td>0.751504</td>\n",
              "    </tr>\n",
              "    <tr>\n",
              "      <th>30</th>\n",
              "      <td>0.999346</td>\n",
              "      <td>0.750679</td>\n",
              "    </tr>\n",
              "    <tr>\n",
              "      <th>6</th>\n",
              "      <td>0.792862</td>\n",
              "      <td>0.749102</td>\n",
              "    </tr>\n",
              "    <tr>\n",
              "      <th>36</th>\n",
              "      <td>0.999367</td>\n",
              "      <td>0.746609</td>\n",
              "    </tr>\n",
              "    <tr>\n",
              "      <th>17</th>\n",
              "      <td>0.990332</td>\n",
              "      <td>0.746597</td>\n",
              "    </tr>\n",
              "    <tr>\n",
              "      <th>34</th>\n",
              "      <td>0.999366</td>\n",
              "      <td>0.746325</td>\n",
              "    </tr>\n",
              "    <tr>\n",
              "      <th>24</th>\n",
              "      <td>0.998936</td>\n",
              "      <td>0.746185</td>\n",
              "    </tr>\n",
              "    <tr>\n",
              "      <th>21</th>\n",
              "      <td>0.99755</td>\n",
              "      <td>0.745992</td>\n",
              "    </tr>\n",
              "    <tr>\n",
              "      <th>27</th>\n",
              "      <td>0.999268</td>\n",
              "      <td>0.745501</td>\n",
              "    </tr>\n",
              "    <tr>\n",
              "      <th>20</th>\n",
              "      <td>0.996534</td>\n",
              "      <td>0.744735</td>\n",
              "    </tr>\n",
              "    <tr>\n",
              "      <th>19</th>\n",
              "      <td>0.995079</td>\n",
              "      <td>0.744008</td>\n",
              "    </tr>\n",
              "    <tr>\n",
              "      <th>22</th>\n",
              "      <td>0.998214</td>\n",
              "      <td>0.743211</td>\n",
              "    </tr>\n",
              "    <tr>\n",
              "      <th>16</th>\n",
              "      <td>0.986188</td>\n",
              "      <td>0.74285</td>\n",
              "    </tr>\n",
              "    <tr>\n",
              "      <th>29</th>\n",
              "      <td>0.999331</td>\n",
              "      <td>0.732355</td>\n",
              "    </tr>\n",
              "    <tr>\n",
              "      <th>25</th>\n",
              "      <td>0.999109</td>\n",
              "      <td>0.731854</td>\n",
              "    </tr>\n",
              "    <tr>\n",
              "      <th>28</th>\n",
              "      <td>0.999304</td>\n",
              "      <td>0.727987</td>\n",
              "    </tr>\n",
              "    <tr>\n",
              "      <th>5</th>\n",
              "      <td>0.74521</td>\n",
              "      <td>0.689977</td>\n",
              "    </tr>\n",
              "    <tr>\n",
              "      <th>4</th>\n",
              "      <td>0.680456</td>\n",
              "      <td>0.637349</td>\n",
              "    </tr>\n",
              "    <tr>\n",
              "      <th>3</th>\n",
              "      <td>0.607943</td>\n",
              "      <td>0.601346</td>\n",
              "    </tr>\n",
              "    <tr>\n",
              "      <th>2</th>\n",
              "      <td>0.4981</td>\n",
              "      <td>0.500666</td>\n",
              "    </tr>\n",
              "    <tr>\n",
              "      <th>1</th>\n",
              "      <td>0.323987</td>\n",
              "      <td>0.311254</td>\n",
              "    </tr>\n",
              "  </tbody>\n",
              "</table>\n",
              "</div>\n",
              "      <button class=\"colab-df-convert\" onclick=\"convertToInteractive('df-f611a08c-8b28-4c0e-ad40-c2de16703fe9')\"\n",
              "              title=\"Convert this dataframe to an interactive table.\"\n",
              "              style=\"display:none;\">\n",
              "        \n",
              "  <svg xmlns=\"http://www.w3.org/2000/svg\" height=\"24px\"viewBox=\"0 0 24 24\"\n",
              "       width=\"24px\">\n",
              "    <path d=\"M0 0h24v24H0V0z\" fill=\"none\"/>\n",
              "    <path d=\"M18.56 5.44l.94 2.06.94-2.06 2.06-.94-2.06-.94-.94-2.06-.94 2.06-2.06.94zm-11 1L8.5 8.5l.94-2.06 2.06-.94-2.06-.94L8.5 2.5l-.94 2.06-2.06.94zm10 10l.94 2.06.94-2.06 2.06-.94-2.06-.94-.94-2.06-.94 2.06-2.06.94z\"/><path d=\"M17.41 7.96l-1.37-1.37c-.4-.4-.92-.59-1.43-.59-.52 0-1.04.2-1.43.59L10.3 9.45l-7.72 7.72c-.78.78-.78 2.05 0 2.83L4 21.41c.39.39.9.59 1.41.59.51 0 1.02-.2 1.41-.59l7.78-7.78 2.81-2.81c.8-.78.8-2.07 0-2.86zM5.41 20L4 18.59l7.72-7.72 1.47 1.35L5.41 20z\"/>\n",
              "  </svg>\n",
              "      </button>\n",
              "      \n",
              "  <style>\n",
              "    .colab-df-container {\n",
              "      display:flex;\n",
              "      flex-wrap:wrap;\n",
              "      gap: 12px;\n",
              "    }\n",
              "\n",
              "    .colab-df-convert {\n",
              "      background-color: #E8F0FE;\n",
              "      border: none;\n",
              "      border-radius: 50%;\n",
              "      cursor: pointer;\n",
              "      display: none;\n",
              "      fill: #1967D2;\n",
              "      height: 32px;\n",
              "      padding: 0 0 0 0;\n",
              "      width: 32px;\n",
              "    }\n",
              "\n",
              "    .colab-df-convert:hover {\n",
              "      background-color: #E2EBFA;\n",
              "      box-shadow: 0px 1px 2px rgba(60, 64, 67, 0.3), 0px 1px 3px 1px rgba(60, 64, 67, 0.15);\n",
              "      fill: #174EA6;\n",
              "    }\n",
              "\n",
              "    [theme=dark] .colab-df-convert {\n",
              "      background-color: #3B4455;\n",
              "      fill: #D2E3FC;\n",
              "    }\n",
              "\n",
              "    [theme=dark] .colab-df-convert:hover {\n",
              "      background-color: #434B5C;\n",
              "      box-shadow: 0px 1px 3px 1px rgba(0, 0, 0, 0.15);\n",
              "      filter: drop-shadow(0px 1px 2px rgba(0, 0, 0, 0.3));\n",
              "      fill: #FFFFFF;\n",
              "    }\n",
              "  </style>\n",
              "\n",
              "      <script>\n",
              "        const buttonEl =\n",
              "          document.querySelector('#df-f611a08c-8b28-4c0e-ad40-c2de16703fe9 button.colab-df-convert');\n",
              "        buttonEl.style.display =\n",
              "          google.colab.kernel.accessAllowed ? 'block' : 'none';\n",
              "\n",
              "        async function convertToInteractive(key) {\n",
              "          const element = document.querySelector('#df-f611a08c-8b28-4c0e-ad40-c2de16703fe9');\n",
              "          const dataTable =\n",
              "            await google.colab.kernel.invokeFunction('convertToInteractive',\n",
              "                                                     [key], {});\n",
              "          if (!dataTable) return;\n",
              "\n",
              "          const docLinkHtml = 'Like what you see? Visit the ' +\n",
              "            '<a target=\"_blank\" href=https://colab.research.google.com/notebooks/data_table.ipynb>data table notebook</a>'\n",
              "            + ' to learn more about interactive tables.';\n",
              "          element.innerHTML = '';\n",
              "          dataTable['output_type'] = 'display_data';\n",
              "          await google.colab.output.renderOutput(dataTable, element);\n",
              "          const docLink = document.createElement('div');\n",
              "          docLink.innerHTML = docLinkHtml;\n",
              "          element.appendChild(docLink);\n",
              "        }\n",
              "      </script>\n",
              "    </div>\n",
              "  </div>\n",
              "  "
            ]
          },
          "metadata": {},
          "execution_count": 26
        }
      ]
    },
    {
      "cell_type": "code",
      "source": [
        "# print the best score\n",
        "best_depth = scores.sort_values(by='Test', ascending=False).index[0]\n",
        "best_depth"
      ],
      "metadata": {
        "id": "aaJ6v5Ew2ej5",
        "colab": {
          "base_uri": "https://localhost:8080/"
        },
        "outputId": "834bb0eb-382c-4216-e654-25e6f13eecd2"
      },
      "execution_count": null,
      "outputs": [
        {
          "output_type": "execute_result",
          "data": {
            "text/plain": [
              "10"
            ]
          },
          "metadata": {},
          "execution_count": 27
        }
      ]
    },
    {
      "cell_type": "markdown",
      "source": [
        "# Fit and Evaluate the best decision tree"
      ],
      "metadata": {
        "id": "Yw3ALw4rBcnK"
      }
    },
    {
      "cell_type": "code",
      "source": [
        "# Create and evaluate a new model with the best depth from the loop above\n",
        "best_dec = DecisionTreeRegressor(max_depth=best_depth)\n",
        "\n",
        "best_dec.fit(X_train, y_train)\n",
        "\n",
        "print('Train')\n",
        "evaluate_regression(y_train, best_dec.predict(X_train))\n",
        "print('\\nTest')\n",
        "evaluate_regression(y_test, best_dec.predict(X_test))"
      ],
      "metadata": {
        "id": "rk1lzXwjdrHv",
        "colab": {
          "base_uri": "https://localhost:8080/"
        },
        "outputId": "d997d4aa-0b95-4d26-f044-cb06714a2f4d"
      },
      "execution_count": null,
      "outputs": [
        {
          "output_type": "stream",
          "name": "stdout",
          "text": [
            "Train\n",
            "scores: \n",
            "MAE: 67,120.99 \n",
            "MSE: 11,353,332,407.44 \n",
            "RMSE: 106,552.02 \n",
            "R2: 0.91\n",
            "\n",
            "Test\n",
            "scores: \n",
            "MAE: 95,775.48 \n",
            "MSE: 34,398,030,771.37 \n",
            "RMSE: 185,467.06 \n",
            "R2: 0.78\n"
          ]
        }
      ]
    },
    {
      "cell_type": "code",
      "source": [
        "def evaluate_regression(y_true, y_pred):\n",
        "  \"\"\"Takes true target and predicted target and prints MAE, MSE, RMSE and R2\"\"\"\n",
        "\n",
        "  mae = mean_absolute_error(y_true, y_pred)\n",
        "  mse = mean_squared_error(y_true, y_pred)\n",
        "  rmse = np.sqrt(mse)\n",
        "  r2 = r2_score(y_true, y_pred)\n",
        "\n",
        "  print(f'scores: \\nMAE: {mae:,.2f} \\nMSE: {mse:,.2f} \\nRMSE: {rmse:,.2f} \\nR2: {r2:.2f}')"
      ],
      "metadata": {
        "id": "idCUdH5trF5i"
      },
      "execution_count": null,
      "outputs": []
    },
    {
      "cell_type": "code",
      "source": [
        "print('Train')\n",
        "evaluate_regression(y_train, best_dec.predict(X_train))"
      ],
      "metadata": {
        "colab": {
          "base_uri": "https://localhost:8080/"
        },
        "id": "gC51TaITq_pT",
        "outputId": "c605469c-b015-4238-e16c-4e2bfba84883"
      },
      "execution_count": null,
      "outputs": [
        {
          "output_type": "stream",
          "name": "stdout",
          "text": [
            "Train\n",
            "scores: \n",
            "MAE: 67,120.99 \n",
            "MSE: 11,353,332,407.44 \n",
            "RMSE: 106,552.02 \n",
            "R2: 0.91\n"
          ]
        }
      ]
    },
    {
      "cell_type": "markdown",
      "source": [
        "# Challenge: Tree Tuning a RandomForest"
      ],
      "metadata": {
        "id": "kxoAnZCyBka6"
      }
    },
    {
      "cell_type": "code",
      "source": [
        "# create a range of max_depth values\n",
        "\n",
        "\n",
        "\n",
        "# create a dataframe to store train and test scores.\n",
        "\n",
        "# loop over the values in depths\n",
        "\n",
        "  # Trying depth. Printing depth = n\n",
        "  # fit a new model with max_depth=n\n",
        "\n",
        "  # put the model into a pipeline\n",
        "\n",
        "  # fit the model\n",
        "\n",
        "  # create prediction arrays\n",
        "\n",
        "\n",
        "  # evaluate the model using R2 Score\n",
        "\n",
        "\n",
        "  # store the scores in the scores dataframe\n"
      ],
      "metadata": {
        "id": "1ikRybAzEMek"
      },
      "execution_count": null,
      "outputs": []
    },
    {
      "cell_type": "code",
      "source": [
        "#print scores\n"
      ],
      "metadata": {
        "id": "dqgt8kRNee6V"
      },
      "execution_count": null,
      "outputs": []
    },
    {
      "cell_type": "code",
      "source": [
        "#plot the scores to visually determine the best max_depth\n"
      ],
      "metadata": {
        "id": "MaelXc9Bq7ZV"
      },
      "execution_count": null,
      "outputs": []
    },
    {
      "cell_type": "code",
      "source": [
        "#sort the dataframe by test scores and save the index max_depth of the best score\n"
      ],
      "metadata": {
        "id": "2-Cq841wq1Pa"
      },
      "execution_count": null,
      "outputs": []
    },
    {
      "cell_type": "code",
      "source": [
        "#create and fit a final model using the best value for max_depth\n",
        "\n",
        "\n",
        "#evaluate the final model"
      ],
      "metadata": {
        "id": "sB-A03WdGLq1"
      },
      "execution_count": null,
      "outputs": []
    },
    {
      "cell_type": "code",
      "source": [],
      "metadata": {
        "id": "t1lLp0gJfg_U"
      },
      "execution_count": null,
      "outputs": []
    }
  ]
}