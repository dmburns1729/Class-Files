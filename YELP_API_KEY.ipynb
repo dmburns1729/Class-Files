{
  "nbformat": 4,
  "nbformat_minor": 0,
  "metadata": {
    "colab": {
      "provenance": [],
      "authorship_tag": "ABX9TyO4tuaebXLM+zcZJ5v3JLIN",
      "include_colab_link": true
    },
    "kernelspec": {
      "name": "python3",
      "display_name": "Python 3"
    },
    "language_info": {
      "name": "python"
    }
  },
  "cells": [
    {
      "cell_type": "markdown",
      "metadata": {
        "id": "view-in-github",
        "colab_type": "text"
      },
      "source": [
        "<a href=\"https://colab.research.google.com/github/dmburns1729/Class-Files/blob/main/YELP_API_KEY.ipynb\" target=\"_parent\"><img src=\"https://colab.research.google.com/assets/colab-badge.svg\" alt=\"Open In Colab\"/></a>"
      ]
    },
    {
      "cell_type": "code",
      "execution_count": null,
      "metadata": {
        "id": "VGtAxTMJFDR_"
      },
      "outputs": [],
      "source": [
        "Client ID\n",
        "UIDVV53y7mnV42hSyXAs8Q\n",
        "\n",
        "API Key\n",
        "7gMjn3DBR12Rbro_otJmG8fo2HVcbkMcK9r8qF8KGae0pmQUTUIiBHiOaz3TCSUe1SX6o6POFbTA50pYIC5zQqrrpmRrxe7P82VEb0jZWxfxlYMXh-ZtwIVEyFKiY3Yx\n",
        "\n",
        "\n"
      ]
    }
  ]
}